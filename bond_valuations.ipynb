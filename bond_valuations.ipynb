{
 "cells": [
  {
   "cell_type": "markdown",
   "metadata": {},
   "source": [
    "# Bond Valuations Explained\n",
    "<a href=\"https://www.kaggle.com/code/addarm/bond-valuations\" target=\"_blank\"><img align=\"left\" alt=\"Kaggle\" title=\"Open in Kaggle\" src=\"https://kaggle.com/static/images/open-in-kaggle.svg\"></a>"
   ]
  },
  {
   "cell_type": "markdown",
   "metadata": {},
   "source": [
    "<a href=\"https://colab.research.google.com/github/adamd1985/quant_research/blob/main/bond_valuations.ipynb\" target=\"_parent\"><img src=\"https://colab.research.google.com/assets/colab-badge.svg\" alt=\"Open In Colab\"/></a>"
   ]
  },
  {
   "cell_type": "markdown",
   "metadata": {},
   "source": [
    "![Bonds 2024.07.24](https://raw.githubusercontent.com/adamd1985/quant_research/main/images/bondbanner.png)\n",
    "\n",
    "<!-- @import \"[TOC]\" {cmd=\"toc\" depthFrom=1 depthTo=6 orderedList=false} -->"
   ]
  },
  {
   "cell_type": "markdown",
   "metadata": {},
   "source": [
    "\n",
    "Bond valuation and selection is a good exercise in rounding your portfolio, mainly determining the fair value of a bond based on its future cash flows and time value of money. \n",
    "This article explores the fundamental principles of bond valuation and the understanding of their intrinsic values through calculating the present value of future cash flows, and the annual rate of returns. \n",
    "\n",
    "After understanding these concepts, we ought to be able to make informed decisions about our bond investments and portfolio construction."
   ]
  },
  {
   "cell_type": "markdown",
   "metadata": {},
   "source": [
    "## Notebook Setup"
   ]
  },
  {
   "cell_type": "code",
   "execution_count": null,
   "metadata": {},
   "outputs": [],
   "source": [
    "import os\n",
    "import pandas as pd\n",
    "import numpy as np\n",
    "import warnings\n",
    "warnings.filterwarnings(\"ignore\")\n",
    "\n",
    "INSTALL_DEPS = False\n",
    "if INSTALL_DEPS:\n",
    "    # If Kaggle or Colab, you have to manage these. If local, install all\n",
    "    %pip install numpy==1.23.4\n",
    "    %pip install pandas==2.2.0\n",
    "\n",
    "    IN_KAGGLE = IN_COLAB = False\n",
    "try:\n",
    "    # https://www.tensorflow.org/install/pip#windows-wsl2\n",
    "    import google.colab\n",
    "    from google.colab import drive\n",
    "\n",
    "    drive.mount(\"/content/drive\")\n",
    "    DATA_PATH = \"/content/drive/MyDrive/fixedincome_dataset\"\n",
    "    IN_COLAB = True\n",
    "    print(\"Colab!\")\n",
    "except:\n",
    "    IN_COLAB = False\n",
    "if \"KAGGLE_KERNEL_RUN_TYPE\" in os.environ and not IN_COLAB:\n",
    "    print(\"Running in Kaggle...\")\n",
    "    for dirname, _, filenames in os.walk(\"/kaggle/input\"):\n",
    "        for filename in filenames:\n",
    "            print(os.path.join(dirname, filename))\n",
    "    DATA_PATH = \"/kaggle/input/fixedincome_dataset\"\n",
    "    IN_KAGGLE = True\n",
    "    print(\"Kaggle!\")\n",
    "elif not IN_COLAB:\n",
    "    IN_KAGGLE = False\n",
    "    DATA_PATH = \"./data/fixed\"\n",
    "    print(\"running localhost!\")"
   ]
  },
  {
   "cell_type": "markdown",
   "metadata": {},
   "source": [
    "# Treasuries and the Composition of a T-Bill\n",
    "\n",
    "US Treasuries (T-bill, T-Notes, T-Bonds) are the safest fixed income instrument available on the market, for one reason, the US cannot default and it can increase taxes to pay off its debts.\n",
    "\n",
    "The 3 month T-Bill is the benchmark for the risk free rate across all portfolios, at the time of writing it's between 4.5% to 5.2%. A T-bill is a 0 coupon fixed income instrument that does not pay any interest, and is just sold at a discount to its face value.\n",
    "\n",
    "T-Bills are simple, T-Notes are closer to what you would get if you get any type of bond from any issuer, with an interest paid at a certian period. \n",
    "\n",
    "From our dataset, let's look at the attributes of a T-Note:"
   ]
  },
  {
   "cell_type": "code",
   "execution_count": null,
   "metadata": {},
   "outputs": [],
   "source": [
    "treasuries_df = pd.read_csv(f'{DATA_PATH}/treas1.csv')\n",
    "treasuries_df.dropna(axis=1, how='all', inplace=True)\n",
    "treasuries_df.head(3)"
   ]
  },
  {
   "cell_type": "markdown",
   "metadata": {},
   "source": [
    "## Present Value of Money\n",
    "\n",
    "To understand the interinsic value of this T-Bill, we need to calculate its Present Value (PV) of money. The PV refers to the current worth of a sum of money that is to be received or paid out in the future, discounted at a specific rate to reflect the time value of money.\n",
    "\n",
    "$$ \n",
    "\\text{PV} = \\frac{\\text{FV}}{(1 + r)^n} \n",
    "$$\n",
    "\n",
    "Where:\n",
    "- $PV$ = Present Value\n",
    "- $FV$ = Future Value (usually $100 face value)\n",
    "- $r$ = Discount rate or interest rate per period\n",
    "- $n$ = Number of periods\n",
    "\n",
    "Discounting is the process of determining the present value of a future amount of money, considering a certain interest rate or discount rate. Its opposite is compounding, where you would use to find a bond's future value by rewriting the above equation:\n",
    "\n",
    "$$\n",
    "\\text{FV} = \\text{PV} \\times (1+R)%\\^N\n",
    "$$"
   ]
  },
  {
   "cell_type": "code",
   "execution_count": null,
   "metadata": {},
   "outputs": [],
   "source": [
    "FV = 100 # its the face value\n",
    "r = 4.165 / 100 / 2\n",
    "n = (2029 - 2023) * 2\n",
    "\n",
    "PV = FV / (1 + r)**n\n",
    "PV # Shoud be the price"
   ]
  },
  {
   "cell_type": "markdown",
   "metadata": {},
   "source": [
    "There is a bit of discrepency between the price (or the Ask) of the T-Bill and the PV. To properly evaluate the bond we have other formulas."
   ]
  },
  {
   "cell_type": "markdown",
   "metadata": {},
   "source": [
    "# Bond Valuations\n",
    "\n",
    "The value of a bond is calculated with the equation:\n",
    "\n",
    "$$ \n",
    "\\text{Bond Value} = \\sum_{t=1}^{T} \\frac{C_t}{(1 + r_{\\text{adjusted}, t})^t} + \\frac{F}{(1 + r_{\\text{adjusted}, T})^T} \n",
    "$$\n",
    "\n",
    "The coupon discounted cash flows (DCF) equation: $\\sum_{t=1}^{T} \\frac{C_t}{(1 + r_{\\text{adjusted}, t})^t}$, can be rewritten as for simplicity:\n",
    "\n",
    "$$\n",
    "\\text{DCF} = \\text{C} \\times (\\frac{1-\\frac{1}{(1+r)^N}}{r})\n",
    "$$\n",
    "\n",
    "Where:\n",
    "- $ C_t $ = Cash flow (coupon payment) at time $ t $\n",
    "- $ r_{\\text{adjusted}, t} $ = Adjusted discount rate at time $ t $, considering taxes and inflation\n",
    "- $ F $ = Face value of the bond (principal)\n",
    "- $ T $ = Total number of periods (maturity)\n",
    "\n",
    "The rate is usually the yield to maturity (YTM), or any other adjusted discount rate. \n",
    "\n",
    "Most financial calculators can breeze through the above formulas. We will do some python code instead to visualize this:\n"
   ]
  },
  {
   "cell_type": "code",
   "execution_count": null,
   "metadata": {},
   "outputs": [],
   "source": [
    "C = 3.875 / 2  #  Semi-annual coupon payment\n",
    "F = 100\n",
    "r = 4.165 / 100 / 2  # Semi-annual YTM or stated discount rate\n",
    "N = (2029 - 2023) * 2\n",
    "\n",
    "DCF = C * ((1 - (1 / (1 + r)**N)) / r)\n",
    "PV_face = F / (1 + r)**N\n",
    "\n",
    "PV = DCF + PV_face\n",
    "PV"
   ]
  },
  {
   "cell_type": "markdown",
   "metadata": {},
   "source": [
    "98.47 is closer to the Ask's 98.60. Obviously it's a market, therefore things are not always fairly priced. The YTM is what affects the price most, in the case of this T-Bill it is stated as 4.165% (the Ask Yield)."
   ]
  },
  {
   "cell_type": "markdown",
   "metadata": {},
   "source": [
    "### Yield to Maturity (YTM)\n",
    "\n",
    "The YTM is the discounting rate assumed for the bond. Using the Bond pricing equation above, we replace the discount rate with the YTM:\n",
    "\n",
    "$$\n",
    "\\text{P} = \\text{C} \\times (\\frac{1-\\frac{1}{(1+YTM)^N}}{YTM}) + \\frac{F}{(1 + YTM)^N}\n",
    "$$\n",
    "\n",
    "The bond valuation formlua is a nonlinear equation (has an exponent $N$) with no closed form (complex, YTM is both numerator and denominator with exponents). If we need to find the YTM ourselves, we need to approximate it. Again, financial calculators can do this fast, though for illustration purposes we'll use a Newton-Raphson form.\n",
    "\n",
    "Given the T-Note's information:\n",
    "\n",
    "- Coupon Rate (C): 3.875%\n",
    "- Face Value (F): 100 \n",
    "- Maturity Date: December 31, 2029\n",
    "- Settlement Date: January 3, 2023\n",
    "- Price (P): 98.60157\n",
    "- Payment Frequency: Semi-Annual\n",
    "- Number of Payments (N): $2 \\times 6 = 12$, 6yrs of semi-annual payments.\n",
    "\n",
    "We want to solve the equation:\n",
    "\n",
    "$$\n",
    "P = \\text{C} \\times \\left(\\frac{1 - \\frac{1}{(1 + YTM/2)^{12}}}{YTM/2}\\right) + \\frac{F}{(1 + YTM/2)^{12}}\n",
    "$$\n",
    "\n",
    "Where:\n",
    "\n",
    "- $P$ = 98.60157\n",
    "- $\\text{C}$ = 3.875/2 = 1.9375\n",
    "- $F$ = 100\n",
    "- $N$ = 12\n",
    "\n",
    "Using the Newton-Raphson method with the Initial guess of $YTM_0 = 0.04$ (4% devided by 2 for the semiannual compounding), we try to find the root of the function by its derivative:\n",
    "\n",
    "$$\n",
    "YTM_{i+1} = YTM_i - \\frac{f(YTM_i)}{f'(YTM_i)}\n",
    "$$\n",
    "\n",
    "$$\n",
    "f(YTM) = 98.60157 - 1.9375 \\times \\left(\\frac{1 - \\frac{1}{(1 + YTM/2)^{12}}}{YTM/2}\\right) - \\frac{100}{(1 + YTM/2)^{12}}\n",
    "$$\n",
    "\n",
    "$$\n",
    "f'(YTM) = - \\left( \\frac{\\partial}{\\partial YTM} \\left(1.9375 \\times \\frac{1 - \\frac{1}{(1 + YTM/2)^{12}}}{YTM/2} \\right) + \\frac{\\partial}{\\partial YTM} \\left( \\frac{100}{(1 + YTM/2)^{12}} \\right) \\right)\n",
    "$$\n",
    "\n",
    "This is iterated until convergence ($|YTM_{i+1} - YTM_i|$ is sufficiently small):\n",
    "\n",
    "Iteration 1:\n",
    "- $YTM_0 = 0.04$\n",
    "- Compute $f(YTM_0)$ and $f'(YTM_0)$\n",
    "- Update $YTM_1$\n",
    "\n",
    "Iteration 2:\n",
    "- $YTM_1$\n",
    "- Compute $f(YTM_1)$ and $f'(YTM_1)$\n",
    "- Update $YTM_2$\n",
    "\n",
    "The python below will illustrate this better:"
   ]
  },
  {
   "cell_type": "code",
   "execution_count": null,
   "metadata": {},
   "outputs": [],
   "source": [
    "P = 98.60157\n",
    "C = 3.875 / 2\n",
    "F = 100\n",
    "N = 12\n",
    "\n",
    "def price_function(ytm):\n",
    "    return P - (C * ((1 - 1 / (1 + ytm / 2)**N) / (ytm / 2)) + F / (1 + ytm / 2)**N)\n",
    "\n",
    "def function_derivative(ytm):\n",
    "    term1 = (C / 2) * (N / (1 + ytm / 2)**(N + 1))\n",
    "    term2 = C * ((1 - 1 / (1 + ytm / 2)**N) / (ytm / 2)**2)\n",
    "    term3 = (F * N) / (2 * (1 + ytm / 2)**(N + 1))\n",
    "    return - (term1 - term2 + term3)\n",
    "\n",
    "def newton_raphson_iter(initial_guess, tolerance=1e-5, max_iterations=20):\n",
    "    ytm = initial_guess\n",
    "    for _ in range(max_iterations):\n",
    "        next_ytm = ytm - price_function(ytm) / function_derivative(ytm)\n",
    "        if np.abs(next_ytm - ytm) < tolerance:\n",
    "            return next_ytm\n",
    "        ytm = next_ytm\n",
    "    return ytm\n",
    "\n",
    "ytm_0 = 0.04\n",
    "stated_ytm = 0.04165\n",
    "ytm_calculated = newton_raphson_iter(ytm_0)\n",
    "print(f\"Calculated: {ytm_calculated} vs stated: {stated_ytm}\")"
   ]
  },
  {
   "cell_type": "markdown",
   "metadata": {},
   "source": [
    "There are 2 other attributes that are looked at by sophisticated bond investors, these are the Bond's Duration and the Bond's Convexity.\n",
    "\n",
    "Duration is the bond's price sensitivity to changes in the interest rates. This means that the price decreases as the interest rates increase, because higher yielding instruments will be issued.\n",
    "\n",
    "Convexity is the bond's price sensitivity to it's yield. Yields go up as price goes down, if the interest rates are now higher than the bond's coupon, sellers need to up the yield by decreasing the bond's price.\n",
    "\n",
    "These concepts serve to insulate one's portfolio from interest rates risk. In our case, we are only shopping for bonds we would like to hold to maturity, we'll accept the rates risk. \n",
    "\n",
    "There is one risk we won't accept though, that is default risk - we said treasuries are risk free, but other bonds are not, especially ones issued by the private sector. When shopping for bonds, select investment grade ratings from Moody's or S&P (anything in the As ratings, with AAA being the highest). \n",
    "\n",
    "Bonds with high risk of default have high yields to offset this, though they are not called 'junk bonds' for nothing (read about Argentina's sovereign bonds in 2001). Another risk we have to avoid is recall risk, some bonds can be racalled and refinanced - this happens when the interest rates go down and the bond issuer pays up the face value and reissues the bonds at lower coupon rates, when this happens the original bond holders will have to reinvest in a less yielding instrument."
   ]
  },
  {
   "cell_type": "markdown",
   "metadata": {},
   "source": [
    "# Ranking our Fixed Income Dataset\n",
    "\n",
    "We load our dataset which is comprised of treasuries, municipals (Munies), corporate and certificates of deposits (CDs). These can easily be retrieved from a broker's bond scanner:"
   ]
  },
  {
   "cell_type": "code",
   "execution_count": null,
   "metadata": {},
   "outputs": [],
   "source": [
    "# Function to process data for each instrument type\n",
    "def process_instrument_data(data_path, instrument_type):\n",
    "    df = pd.read_csv(data_path)\n",
    "    df['Instrument Type'] = instrument_type\n",
    "    df['Ask'] = pd.to_numeric(df['Ask'], errors='coerce')\n",
    "    df['Coupon'] = pd.to_numeric(df['Coupon'], errors='coerce')\n",
    "    df.fillna(0, inplace=True)\n",
    "    return df\n",
    "\n",
    "def process_all_fixedinc_csvs():\n",
    "    FILE_PREFIX_CAT = {\n",
    "        'cds': 'Certificates of Deposit',\n",
    "        'corp': 'Corporate Bonds',\n",
    "        'munies': 'Municipal Bonds',\n",
    "        'treas': 'Treasuries'\n",
    "    }\n",
    "\n",
    "    fixedinc_data = pd.DataFrame()\n",
    "    for file_name in os.listdir(DATA_PATH):\n",
    "        if file_name.endswith('.csv'):\n",
    "            file_path = os.path.join(DATA_PATH, file_name)\n",
    "            for prefix, instrument_type in FILE_PREFIX_CAT.items():\n",
    "                if file_name.startswith(prefix):\n",
    "                    df = process_instrument_data(file_path, instrument_type)\n",
    "                    fixedinc_data = pd.concat([fixedinc_data, df], ignore_index=True)\n",
    "    return fixedinc_data\n",
    "\n",
    "fixedinc_data = process_all_fixedinc_csvs()\n",
    "fixedinc_data.dropna(axis=1, how='all', inplace=True)\n",
    "fixedinc_data.dropna(axis=0, inplace=True)\n",
    "\n",
    "fixedinc_data = fixedinc_data[fixedinc_data['Ask'] > 0]\n",
    "fixedinc_data['Ask Yield'] = pd.to_numeric(fixedinc_data['Ask Yield'], errors='coerce')\n",
    "fixedinc_data = fixedinc_data[fixedinc_data['Ask Yield'] > 0]\n",
    "\n",
    "fixedinc_data.to_csv(f'{DATA_PATH}/fixed_income.csv')\n",
    "fixedinc_data.tail(2)"
   ]
  },
  {
   "cell_type": "markdown",
   "metadata": {},
   "source": [
    "We set  constants for the market regime at the time of writing:"
   ]
  },
  {
   "cell_type": "code",
   "execution_count": null,
   "metadata": {},
   "outputs": [],
   "source": [
    "TRADE_COSTS = 1 # Average $1 commmissions\n",
    "TAX_RATE = 0.30 # The EU avarege for interest income\n",
    "RF_RATE = (0.0375 * (1 - TAX_RATE)) # A savings account, interest rate taxed\n",
    "INFLATION_RATE = 0.025\n",
    "FACE_VALUE = 100.\n",
    "\n",
    "DISCOUNT_RATE =  (1. + RF_RATE) / (1. + INFLATION_RATE) - 1.\n",
    "DISCOUNT_RATE"
   ]
  },
  {
   "cell_type": "markdown",
   "metadata": {},
   "source": [
    "We saw earlier that the YTM can be used as the discount rate, but this is stated in the secondary market - we might want to use our own rate.\n",
    "\n",
    "Assume the risk free rate is a DGS insured european savings account average of 3.75% with interest taxed at 30%. We wont use the 10yr T-Bill as a proxy as we would have to factor in the secondary market yields and commissions. The RF rate is our opportunity cost of investing in a more risky bond, with inflation around 2.5%. \n",
    "\n",
    "With this info we construct our own discount rate, or the real rate with inflation and taxation."
   ]
  },
  {
   "cell_type": "markdown",
   "metadata": {},
   "source": [
    "## The Fisher equation for Real Rates\n",
    "\n",
    "The Fisher formula calculates the real rates by compounding inflation:\n",
    "$$\n",
    "(1 + \\text{Nominal Rate}) = (1 + \\text{Real Rate})(1 + \\text{Inflation Rate})\n",
    "$$\n",
    "\n",
    "Rearranging to solve for the real rate, you get:\n",
    "\n",
    "$$\n",
    "\\text{Real Rate} = \\frac{(1 + \\text{Nominal Rate})}{(1 + \\text{Inflation Rate})} - 1\n",
    "$$\n",
    "\n",
    "When interest rates are stated, these are not real or effective rates, to be effective, the nominal interest rate needs to be adjusted by tax and inflation (ATRR: After-Tax Real Returns)."
   ]
  },
  {
   "cell_type": "markdown",
   "metadata": {},
   "source": [
    "## Stacking Bond Valuations\n",
    "\n",
    "Using Fisher's equation to calculate our discount rate with inflation, and taxing coupon payments as below:\n",
    "\n",
    "$$\n",
    "DR =  \\frac{1+(RF * (1-TR))}{(1+IR)} - 1\n",
    "$$\n",
    "\n",
    "Where:\n",
    "- $RF$ is the risk free rate, at the time $4.75\\%$\n",
    "- $TR$ is the tax rate at $30\\%$\n",
    "- $IR$ is the inflation rate at $2.5\\%$\n",
    "- $DR$ is our adjusted discount rate.\n",
    "\n",
    "\n",
    "The Bonds' PV can be calculated as follows:\n",
    "\n",
    "$$\n",
    "\\text{Bond PV} = (\\text{C} \\times (\\frac{1-\\frac{1}{(1+DR)^N}}{DR}) + \\frac{F}{(1 + DR)^N}) - \\text{Commissions} - \\text{Trade Costs}\n",
    "$$\n",
    "\n",
    "With this, we can rank the bonds by their PV:"
   ]
  },
  {
   "cell_type": "code",
   "execution_count": null,
   "metadata": {},
   "outputs": [],
   "source": [
    "def calculate_bondvalue(coupon, ttm, ask_price, frequency, face_value=FACE_VALUE, discount = DISCOUNT_RATE, commission_rate=0., Trade_costs = TRADE_COSTS, tax_rate = TAX_RATE):\n",
    "    if ask_price == 0:\n",
    "        # Instrument did not have a feed.\n",
    "        return 0.\n",
    "\n",
    "    if coupon == 0 or frequency == 0 or frequency == \"Principal at Maturity\":\n",
    "        frequency = 0  # For zero-coupon bonds or Tbills\n",
    "        coupon = 0\n",
    "    elif frequency == 'Annual':\n",
    "        frequency = 1\n",
    "    elif frequency == 'Semi-Annual':\n",
    "        frequency = 2\n",
    "    elif frequency == 'Quarterly':\n",
    "        frequency = 4\n",
    "    elif frequency == 'Monthly':\n",
    "        frequency = 12\n",
    "    else:\n",
    "        raise ValueError(f\"Unsupported frequency: {frequency}\")\n",
    "\n",
    "    if frequency == 0 or coupon == 0:\n",
    "        bond_value = face_value / ((1 + discount) ** ttm)\n",
    "    else:\n",
    "        coupon_tax = coupon * tax_rate # interest is taxed as income\n",
    "        coupon_effective = (coupon - coupon_tax) / frequency\n",
    "        assert coupon_effective >= 0.\n",
    "\n",
    "        # Need to return to the seller their share of coupon.\n",
    "        total_coupons = int(np.ceil(ttm * frequency))\n",
    "\n",
    "        accrued_interest = (coupon / frequency) * (total_coupons - ttm * frequency)\n",
    "        coupon_dcf = (1 - (1 / (1 + discount) ** total_coupons)) / discount\n",
    "        coupon_dcf = (face_value * coupon_effective) * coupon_dcf\n",
    "\n",
    "        # Bonds gains at maturity are not taxed, only interest.\n",
    "        face_dcf = face_value / (1 + discount) ** total_coupons\n",
    "        bond_value = (coupon_dcf + face_dcf) - ((commission_rate * ask_price) + Trade_costs  + accrued_interest)\n",
    "\n",
    "    return bond_value\n",
    "\n",
    "fixedinc_data['PV'] = fixedinc_data.apply(lambda x: calculate_bondvalue(x['Coupon'] / 100.,\n",
    "                                                              x['Time-To-Maturity (TTM)'],\n",
    "                                                              x['Ask'],\n",
    "                                                              x['Payment Frequency']), axis=1)\n"
   ]
  },
  {
   "cell_type": "markdown",
   "metadata": {},
   "source": [
    "Given that the bonds have different attributes, we need to calculate an ROI and an Annualized rate, or ARR.\n",
    "\n",
    "## Annnual Rate of Return (ARR)\n",
    "\n",
    "Calculating the ARR of the fixed income instruments involes the following equation:\n",
    "\n",
    "$$\n",
    "ARR = \\left( \\frac{P + G}{P} \\right)^{\\frac{1}{n}} - 1\n",
    "$$\n",
    "\n",
    "Where:\n",
    "- $P$ principal, or initial investment\n",
    "- $G$ capital gains or losses\n",
    "- $n$ number of years\n",
    "\n",
    "With this, we can stack rank our bonds according to our requirements, and select the top 5 that beat the risk free rate, therefore it will be worth the effort to remove our cash from the savings account and buy the instrument from the secondary markets:"
   ]
  },
  {
   "cell_type": "code",
   "execution_count": null,
   "metadata": {},
   "outputs": [],
   "source": [
    "\n",
    "fixedinc_data[\"ROI%\"] = ((fixedinc_data[\"PV\"] - fixedinc_data[\"Ask\"]) / fixedinc_data[\"Ask\"]) * 100\n",
    "fixedinc_data[\"ARR%\"] = (((fixedinc_data[\"PV\"] / fixedinc_data[\"Ask\"]) ** (1 / fixedinc_data['Time-To-Maturity (TTM)'])) - 1) * 100\n",
    "fixedinc_data[\"ARR% VS RF%\"] = fixedinc_data[\"ARR%\"] - (RF_RATE * 100.)\n",
    "\n",
    "df_ranked = fixedinc_data[[\"Financial Instrument\", 'Instrument Type', \"Time-To-Maturity (TTM)\", \"Coupon\", 'Payment Frequency', \"PV\", \"Ask\", \"Ask Yield\", \"ROI%\", \"ARR%\", \"ARR% VS RF%\"]].sort_values(by=\"ARR% VS RF%\", ascending=False)\n",
    "\n",
    "df_ranked.head(5)"
   ]
  },
  {
   "cell_type": "markdown",
   "metadata": {},
   "source": []
  },
  {
   "cell_type": "code",
   "execution_count": null,
   "metadata": {},
   "outputs": [],
   "source": [
    "df_ranked.tail(5)"
   ]
  },
  {
   "cell_type": "markdown",
   "metadata": {},
   "source": [
    "Note that fixed income close to maturity can have an inflated ARR due to exponentiating small numbers. If we want to ladder bonds, we should look at longer TTMs:"
   ]
  },
  {
   "cell_type": "code",
   "execution_count": null,
   "metadata": {},
   "outputs": [],
   "source": [
    "df_ranked = df_ranked[df_ranked[\"Time-To-Maturity (TTM)\"] >= 1]\n",
    "df_ranked.head(5)"
   ]
  },
  {
   "cell_type": "code",
   "execution_count": null,
   "metadata": {},
   "outputs": [],
   "source": [
    "df_ranked.tail(5)"
   ]
  },
  {
   "cell_type": "markdown",
   "metadata": {},
   "source": [
    "Looking at the distribution of the ARR vs RF, most good rating fixed income give a better yield than our savings account, with tax incentives (e.g. most capital gains at manturity are not taxed, expect the interest received unless its a Municipal Bond under certain conditions)."
   ]
  },
  {
   "cell_type": "code",
   "execution_count": null,
   "metadata": {},
   "outputs": [],
   "source": [
    "df_ranked[\"ARR% VS RF%\"].describe()"
   ]
  },
  {
   "cell_type": "markdown",
   "metadata": {},
   "source": [
    "# Conclusion\n",
    "\n",
    "In this article we explored the methodologies for bond valuation. By applying present value calculations and assessing the annual rate of return, we understand which fixed income security is fairly priced for us. \n",
    "\n",
    "Determining a bonds intrinsic values makes shaping and protecting our portfolios easier. ​"
   ]
  },
  {
   "cell_type": "markdown",
   "metadata": {},
   "source": [
    "# References\n",
    "\n",
    "- https://biz.libretexts.org/Bookshelves/Finance/Principles_of_Finance_(OpenStax)\n",
    "- https://www.investopedia.com/ask/answers/accrued-interest-why-do-i-pay-when-i-buy-bond\n",
    "- https://www.investopedia.com/terms/a/annual-return.asp\n",
    "- https://www.investopedia.com/articles/investing/073113/introduction-treasury-securities.asp\n",
    "- https://finance.ec.europa.eu/banking/banking-regulation/deposit-guarantee-schemes_en\n"
   ]
  },
  {
   "cell_type": "markdown",
   "metadata": {},
   "source": [
    "## Github\n",
    "\n",
    "Article and code available on [Github](https://github.com/adamd1985/quant_research/blob/main/bond_valuations.ipynb)\n",
    "\n",
    "Kaggle notebook available [here](https://www.kaggle.com/code/addarm/bond-valuations)\n",
    "\n",
    "Google Collab available [here](https://colab.research.google.com/github/adamd1985/quant_research/blob/main/bond_valuations.ipynb)\n",
    "\n",
    "## Media\n",
    "\n",
    "All media used (in the form of code or images) are either solely owned by me, acquired through licensing, or part of the Public Domain and granted use through Creative Commons License.\n",
    "\n",
    "## CC Licensing and Use\n",
    "\n",
    "<a rel=\"license\" href=\"http://creativecommons.org/licenses/by-nc/4.0/\"><img alt=\"Creative Commons License\" style=\"border-width:0\" src=\"https://i.creativecommons.org/l/by-nc/4.0/88x31.png\" /></a><br />This work is licensed under a <a rel=\"license\" href=\"http://creativecommons.org/licenses/by-nc/4.0/\">Creative Commons Attribution-NonCommercial 4.0 International License</a>."
   ]
  }
 ],
 "metadata": {
  "kernelspec": {
   "display_name": "quant",
   "language": "python",
   "name": "python3"
  },
  "language_info": {
   "codemirror_mode": {
    "name": "ipython",
    "version": 3
   },
   "file_extension": ".py",
   "mimetype": "text/x-python",
   "name": "python",
   "nbconvert_exporter": "python",
   "pygments_lexer": "ipython3",
   "version": "3.12.4"
  }
 },
 "nbformat": 4,
 "nbformat_minor": 2
}
