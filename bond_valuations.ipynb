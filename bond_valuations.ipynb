{
 "cells": [
  {
   "cell_type": "markdown",
   "id": "c64bbd5d",
   "metadata": {
    "papermill": {
     "duration": 0.007644,
     "end_time": "2024-07-24T16:54:10.265969",
     "exception": false,
     "start_time": "2024-07-24T16:54:10.258325",
     "status": "completed"
    },
    "tags": []
   },
   "source": [
    "# Bond Valuations Explained\n",
    "<a href=\"https://www.kaggle.com/code/addarm/bond-valuations\" target=\"_blank\"><img align=\"left\" alt=\"Kaggle\" title=\"Open in Kaggle\" src=\"https://kaggle.com/static/images/open-in-kaggle.svg\"></a>"
   ]
  },
  {
   "cell_type": "markdown",
   "id": "5ff281ca",
   "metadata": {
    "papermill": {
     "duration": 0.006833,
     "end_time": "2024-07-24T16:54:10.280073",
     "exception": false,
     "start_time": "2024-07-24T16:54:10.273240",
     "status": "completed"
    },
    "tags": []
   },
   "source": [
    "<a href=\"https://colab.research.google.com/github/adamd1985/quant_research/blob/main/bond_valuations.ipynb\" target=\"_parent\"><img src=\"https://colab.research.google.com/assets/colab-badge.svg\" alt=\"Open In Colab\"/></a>"
   ]
  },
  {
   "cell_type": "markdown",
   "id": "8d3e5e29",
   "metadata": {
    "papermill": {
     "duration": 0.006805,
     "end_time": "2024-07-24T16:54:10.293890",
     "exception": false,
     "start_time": "2024-07-24T16:54:10.287085",
     "status": "completed"
    },
    "tags": []
   },
   "source": [
    "![Bonds 2024.07.24](https://raw.githubusercontent.com/adamd1985/quant_research/main/images/bondbanner.png)\n",
    "\n",
    "<!-- @import \"[TOC]\" {cmd=\"toc\" depthFrom=1 depthTo=6 orderedList=false} -->"
   ]
  },
  {
   "cell_type": "markdown",
   "id": "67270ed4",
   "metadata": {
    "papermill": {
     "duration": 0.006843,
     "end_time": "2024-07-24T16:54:10.307721",
     "exception": false,
     "start_time": "2024-07-24T16:54:10.300878",
     "status": "completed"
    },
    "tags": []
   },
   "source": [
    "\n",
    "Bond valuation and selection is a good exercise in rounding your portfolio, mainly determining the fair value of a bond based on its future cash flows and time value of money. \n",
    "This article explores the fundamental principles of bond valuation and the understanding of their intrinsic values through calculating the present value of future cash flows, and the annual rate of returns. \n",
    "\n",
    "After understanding these concepts, we ought to be able to make informed decisions about our bond investments and portfolio construction."
   ]
  },
  {
   "cell_type": "markdown",
   "id": "b1b143e5",
   "metadata": {
    "papermill": {
     "duration": 0.006832,
     "end_time": "2024-07-24T16:54:10.321513",
     "exception": false,
     "start_time": "2024-07-24T16:54:10.314681",
     "status": "completed"
    },
    "tags": []
   },
   "source": [
    "## Notebook Setup"
   ]
  },
  {
   "cell_type": "code",
   "execution_count": 1,
   "id": "50bb3ba0",
   "metadata": {
    "execution": {
     "iopub.execute_input": "2024-07-24T16:54:10.337074Z",
     "iopub.status.busy": "2024-07-24T16:54:10.336729Z",
     "iopub.status.idle": "2024-07-24T16:54:11.130374Z",
     "shell.execute_reply": "2024-07-24T16:54:11.129352Z"
    },
    "papermill": {
     "duration": 0.80468,
     "end_time": "2024-07-24T16:54:11.133153",
     "exception": false,
     "start_time": "2024-07-24T16:54:10.328473",
     "status": "completed"
    },
    "tags": []
   },
   "outputs": [
    {
     "name": "stdout",
     "output_type": "stream",
     "text": [
      "Running in Kaggle...\n",
      "/kaggle/input/fixedincome-dataset/treas1.csv\n",
      "/kaggle/input/fixedincome-dataset/cds1.csv\n",
      "/kaggle/input/fixedincome-dataset/munies2.csv\n",
      "/kaggle/input/fixedincome-dataset/corp1.csv\n",
      "/kaggle/input/fixedincome-dataset/corp3.csv\n",
      "/kaggle/input/fixedincome-dataset/munies3.csv\n",
      "/kaggle/input/fixedincome-dataset/cds2.csv\n",
      "/kaggle/input/fixedincome-dataset/munies5.csv\n",
      "/kaggle/input/fixedincome-dataset/treas2.csv\n",
      "/kaggle/input/fixedincome-dataset/fixed_income.csv\n",
      "/kaggle/input/fixedincome-dataset/munies1.csv\n",
      "/kaggle/input/fixedincome-dataset/munies4.csv\n",
      "/kaggle/input/fixedincome-dataset/corp2.csv\n",
      "Kaggle!\n"
     ]
    }
   ],
   "source": [
    "import os\n",
    "import pandas as pd\n",
    "import numpy as np\n",
    "import warnings\n",
    "warnings.filterwarnings(\"ignore\")\n",
    "\n",
    "INSTALL_DEPS = False\n",
    "if INSTALL_DEPS:\n",
    "    # If Kaggle or Colab, you have to manage these. If local, install all\n",
    "    %pip install numpy==1.23.4\n",
    "    %pip install pandas==2.2.0\n",
    "\n",
    "    IN_KAGGLE = IN_COLAB = False\n",
    "try:\n",
    "    # https://www.tensorflow.org/install/pip#windows-wsl2\n",
    "    import google.colab\n",
    "    from google.colab import drive\n",
    "\n",
    "    drive.mount(\"/content/drive\")\n",
    "    DATA_PATH = \"/content/drive/MyDrive/fixedincome_dataset\"\n",
    "    IN_COLAB = True\n",
    "    print(\"Colab!\")\n",
    "except:\n",
    "    IN_COLAB = False\n",
    "if \"KAGGLE_KERNEL_RUN_TYPE\" in os.environ and not IN_COLAB:\n",
    "    print(\"Running in Kaggle...\")\n",
    "    for dirname, _, filenames in os.walk(\"/kaggle/input\"):\n",
    "        for filename in filenames:\n",
    "            print(os.path.join(dirname, filename))\n",
    "    DATA_PATH = \"/kaggle/input/fixedincome-dataset\"\n",
    "    IN_KAGGLE = True\n",
    "    print(\"Kaggle!\")\n",
    "elif not IN_COLAB:\n",
    "    IN_KAGGLE = False\n",
    "    DATA_PATH = \"./data/fixed\"\n",
    "    print(\"running localhost!\")"
   ]
  },
  {
   "cell_type": "markdown",
   "id": "966803a1",
   "metadata": {
    "papermill": {
     "duration": 0.007335,
     "end_time": "2024-07-24T16:54:11.148886",
     "exception": false,
     "start_time": "2024-07-24T16:54:11.141551",
     "status": "completed"
    },
    "tags": []
   },
   "source": [
    "# Treasuries and the Composition of a T-Bill\n",
    "\n",
    "US Treasuries (T-bill, T-Notes, T-Bonds) are the safest fixed income instrument available on the market, for one reason, the US cannot default and it can increase taxes to pay off its debts.\n",
    "\n",
    "The 3 month T-Bill is the benchmark for the risk free rate across all portfolios, at the time of writing it's between 4.5% to 5.2%. A T-bill is a 0 coupon fixed income instrument that does not pay any interest, and is just sold at a discount to its face value.\n",
    "\n",
    "T-Bills are simple, T-Notes are closer to what you would get if you get any type of bond from any issuer, with an interest paid at a certian period. \n",
    "\n",
    "From our dataset, let's look at the attributes of a T-Note:"
   ]
  },
  {
   "cell_type": "code",
   "execution_count": 2,
   "id": "4ebabe42",
   "metadata": {
    "execution": {
     "iopub.execute_input": "2024-07-24T16:54:11.166245Z",
     "iopub.status.busy": "2024-07-24T16:54:11.165473Z",
     "iopub.status.idle": "2024-07-24T16:54:11.210666Z",
     "shell.execute_reply": "2024-07-24T16:54:11.209855Z"
    },
    "papermill": {
     "duration": 0.056639,
     "end_time": "2024-07-24T16:54:11.212840",
     "exception": false,
     "start_time": "2024-07-24T16:54:11.156201",
     "status": "completed"
    },
    "tags": []
   },
   "outputs": [
    {
     "data": {
      "text/html": [
       "<div>\n",
       "<style scoped>\n",
       "    .dataframe tbody tr th:only-of-type {\n",
       "        vertical-align: middle;\n",
       "    }\n",
       "\n",
       "    .dataframe tbody tr th {\n",
       "        vertical-align: top;\n",
       "    }\n",
       "\n",
       "    .dataframe thead th {\n",
       "        text-align: right;\n",
       "    }\n",
       "</style>\n",
       "<table border=\"1\" class=\"dataframe\">\n",
       "  <thead>\n",
       "    <tr style=\"text-align: right;\">\n",
       "      <th></th>\n",
       "      <th>Financial Instrument</th>\n",
       "      <th>Coupon</th>\n",
       "      <th>Maturity</th>\n",
       "      <th>Ratings</th>\n",
       "      <th>Issue Date</th>\n",
       "      <th>Time-To-Maturity (TTM)</th>\n",
       "      <th>Payment Frequency</th>\n",
       "      <th>Ask</th>\n",
       "      <th>Ask Yield</th>\n",
       "      <th>Duration %</th>\n",
       "      <th>Convexity</th>\n",
       "      <th>Bid</th>\n",
       "    </tr>\n",
       "  </thead>\n",
       "  <tbody>\n",
       "    <tr>\n",
       "      <th>0</th>\n",
       "      <td>US-T GOVT Note 91282CGB1</td>\n",
       "      <td>3.875</td>\n",
       "      <td>Dec31'29</td>\n",
       "      <td>AAA (MOODY)</td>\n",
       "      <td>Jan 03 '23</td>\n",
       "      <td>5.44</td>\n",
       "      <td>Semi-Annual</td>\n",
       "      <td>98.60157</td>\n",
       "      <td>4.165</td>\n",
       "      <td>4.945320</td>\n",
       "      <td>0.259740</td>\n",
       "      <td>98.60100</td>\n",
       "    </tr>\n",
       "    <tr>\n",
       "      <th>1</th>\n",
       "      <td>US-T GOVT Note 91282CFY2</td>\n",
       "      <td>3.875</td>\n",
       "      <td>Nov30'29</td>\n",
       "      <td>AAA (MOODY)</td>\n",
       "      <td>Nov 30 '22</td>\n",
       "      <td>5.36</td>\n",
       "      <td>Semi-Annual</td>\n",
       "      <td>98.64532</td>\n",
       "      <td>4.160</td>\n",
       "      <td>4.860455</td>\n",
       "      <td>0.251419</td>\n",
       "      <td>98.64531</td>\n",
       "    </tr>\n",
       "    <tr>\n",
       "      <th>2</th>\n",
       "      <td>US-T GOVT Note 912828YS3</td>\n",
       "      <td>1.750</td>\n",
       "      <td>Nov15'29</td>\n",
       "      <td>AAA (MOODY)</td>\n",
       "      <td>Nov 15 '19</td>\n",
       "      <td>5.31</td>\n",
       "      <td>Semi-Annual</td>\n",
       "      <td>88.78907</td>\n",
       "      <td>4.122</td>\n",
       "      <td>5.065170</td>\n",
       "      <td>0.264822</td>\n",
       "      <td>88.76700</td>\n",
       "    </tr>\n",
       "  </tbody>\n",
       "</table>\n",
       "</div>"
      ],
      "text/plain": [
       "       Financial Instrument  Coupon  Maturity      Ratings  Issue Date  \\\n",
       "0  US-T GOVT Note 91282CGB1   3.875  Dec31'29  AAA (MOODY)  Jan 03 '23   \n",
       "1  US-T GOVT Note 91282CFY2   3.875  Nov30'29  AAA (MOODY)  Nov 30 '22   \n",
       "2  US-T GOVT Note 912828YS3   1.750  Nov15'29  AAA (MOODY)  Nov 15 '19   \n",
       "\n",
       "   Time-To-Maturity (TTM) Payment Frequency       Ask  Ask Yield  \\\n",
       "0                    5.44       Semi-Annual  98.60157      4.165   \n",
       "1                    5.36       Semi-Annual  98.64532      4.160   \n",
       "2                    5.31       Semi-Annual  88.78907      4.122   \n",
       "\n",
       "   Duration %    Convexity       Bid  \n",
       "0      4.945320   0.259740  98.60100  \n",
       "1      4.860455   0.251419  98.64531  \n",
       "2      5.065170   0.264822  88.76700  "
      ]
     },
     "execution_count": 2,
     "metadata": {},
     "output_type": "execute_result"
    }
   ],
   "source": [
    "treasuries_df = pd.read_csv(f'{DATA_PATH}/treas1.csv')\n",
    "treasuries_df.dropna(axis=1, how='all', inplace=True)\n",
    "treasuries_df.head(3)"
   ]
  },
  {
   "cell_type": "markdown",
   "id": "35791664",
   "metadata": {
    "papermill": {
     "duration": 0.007247,
     "end_time": "2024-07-24T16:54:11.227852",
     "exception": false,
     "start_time": "2024-07-24T16:54:11.220605",
     "status": "completed"
    },
    "tags": []
   },
   "source": [
    "## Present Value of Money\n",
    "\n",
    "To understand the interinsic value of this T-Bill, we need to calculate its Present Value (PV) of money. The PV refers to the current worth of a sum of money that is to be received or paid out in the future, discounted at a specific rate to reflect the time value of money.\n",
    "\n",
    "$$ \n",
    "\\text{PV} = \\frac{\\text{FV}}{(1 + r)^n} \n",
    "$$\n",
    "\n",
    "Where:\n",
    "- $PV$ = Present Value\n",
    "- $FV$ = Future Value (usually $100 face value)\n",
    "- $r$ = Discount rate or interest rate per period\n",
    "- $n$ = Number of periods\n",
    "\n",
    "Discounting is the process of determining the present value of a future amount of money, considering a certain interest rate or discount rate. Its opposite is compounding, where you would use to find a bond's future value by rewriting the above equation:\n",
    "\n",
    "$$\n",
    "\\text{FV} = \\text{PV} \\times (1+R)%\\^N\n",
    "$$"
   ]
  },
  {
   "cell_type": "code",
   "execution_count": 3,
   "id": "af032b9e",
   "metadata": {
    "execution": {
     "iopub.execute_input": "2024-07-24T16:54:11.244282Z",
     "iopub.status.busy": "2024-07-24T16:54:11.243911Z",
     "iopub.status.idle": "2024-07-24T16:54:11.250374Z",
     "shell.execute_reply": "2024-07-24T16:54:11.249461Z"
    },
    "papermill": {
     "duration": 0.017078,
     "end_time": "2024-07-24T16:54:11.252428",
     "exception": false,
     "start_time": "2024-07-24T16:54:11.235350",
     "status": "completed"
    },
    "tags": []
   },
   "outputs": [
    {
     "data": {
      "text/plain": [
       "78.08802368144737"
      ]
     },
     "execution_count": 3,
     "metadata": {},
     "output_type": "execute_result"
    }
   ],
   "source": [
    "FV = 100 # its the face value\n",
    "r = 4.165 / 100 / 2\n",
    "n = (2029 - 2023) * 2\n",
    "\n",
    "PV = FV / (1 + r)**n\n",
    "PV # Shoud be the price"
   ]
  },
  {
   "cell_type": "markdown",
   "id": "a965bd9a",
   "metadata": {
    "papermill": {
     "duration": 0.007398,
     "end_time": "2024-07-24T16:54:11.267346",
     "exception": false,
     "start_time": "2024-07-24T16:54:11.259948",
     "status": "completed"
    },
    "tags": []
   },
   "source": [
    "There is a bit of discrepency between the price (or the Ask) of the T-Bill and the PV. To properly evaluate the bond we have other formulas."
   ]
  },
  {
   "cell_type": "markdown",
   "id": "5d4ea319",
   "metadata": {
    "papermill": {
     "duration": 0.007196,
     "end_time": "2024-07-24T16:54:11.282016",
     "exception": false,
     "start_time": "2024-07-24T16:54:11.274820",
     "status": "completed"
    },
    "tags": []
   },
   "source": [
    "# Bond Valuations\n",
    "\n",
    "The value of a bond is calculated with the equation:\n",
    "\n",
    "$$ \n",
    "\\text{Bond Value} = \\sum_{t=1}^{T} \\frac{C_t}{(1 + r_{\\text{adjusted}, t})^t} + \\frac{F}{(1 + r_{\\text{adjusted}, T})^T} \n",
    "$$\n",
    "\n",
    "The coupon discounted cash flows (DCF) equation: $\\sum_{t=1}^{T} \\frac{C_t}{(1 + r_{\\text{adjusted}, t})^t}$, can be rewritten as for simplicity:\n",
    "\n",
    "$$\n",
    "\\text{DCF} = \\text{C} \\times (\\frac{1-\\frac{1}{(1+r)^N}}{r})\n",
    "$$\n",
    "\n",
    "Where:\n",
    "- $ C_t $ = Cash flow (coupon payment) at time $ t $\n",
    "- $ r_{\\text{adjusted}, t} $ = Adjusted discount rate at time $ t $, considering taxes and inflation\n",
    "- $ F $ = Face value of the bond (principal)\n",
    "- $ T $ = Total number of periods (maturity)\n",
    "\n",
    "The rate is usually the yield to maturity (YTM), or any other adjusted discount rate. \n",
    "\n",
    "Most financial calculators can breeze through the above formulas. We will do some python code instead to visualize this:\n"
   ]
  },
  {
   "cell_type": "code",
   "execution_count": 4,
   "id": "6e43fa55",
   "metadata": {
    "execution": {
     "iopub.execute_input": "2024-07-24T16:54:11.298455Z",
     "iopub.status.busy": "2024-07-24T16:54:11.298048Z",
     "iopub.status.idle": "2024-07-24T16:54:11.305608Z",
     "shell.execute_reply": "2024-07-24T16:54:11.304675Z"
    },
    "papermill": {
     "duration": 0.018144,
     "end_time": "2024-07-24T16:54:11.307630",
     "exception": false,
     "start_time": "2024-07-24T16:54:11.289486",
     "status": "completed"
    },
    "tags": []
   },
   "outputs": [
    {
     "data": {
      "text/plain": [
       "98.47431617469861"
      ]
     },
     "execution_count": 4,
     "metadata": {},
     "output_type": "execute_result"
    }
   ],
   "source": [
    "C = 3.875 / 2  #  Semi-annual coupon payment\n",
    "F = 100\n",
    "r = 4.165 / 100 / 2  # Semi-annual YTM or stated discount rate\n",
    "N = (2029 - 2023) * 2\n",
    "\n",
    "DCF = C * ((1 - (1 / (1 + r)**N)) / r)\n",
    "PV_face = F / (1 + r)**N\n",
    "\n",
    "PV = DCF + PV_face\n",
    "PV"
   ]
  },
  {
   "cell_type": "markdown",
   "id": "42f9ec4e",
   "metadata": {
    "papermill": {
     "duration": 0.007669,
     "end_time": "2024-07-24T16:54:11.323027",
     "exception": false,
     "start_time": "2024-07-24T16:54:11.315358",
     "status": "completed"
    },
    "tags": []
   },
   "source": [
    "98.47 is closer to the Ask's 98.60. Obviously it's a market, therefore things are not always fairly priced. The YTM is what affects the price most, in the case of this T-Bill it is stated as 4.165% (the Ask Yield)."
   ]
  },
  {
   "cell_type": "markdown",
   "id": "16c604b0",
   "metadata": {
    "papermill": {
     "duration": 0.007306,
     "end_time": "2024-07-24T16:54:11.337994",
     "exception": false,
     "start_time": "2024-07-24T16:54:11.330688",
     "status": "completed"
    },
    "tags": []
   },
   "source": [
    "### Yield to Maturity (YTM)\n",
    "\n",
    "The YTM is the discounting rate assumed for the bond. Using the Bond pricing equation above, we replace the discount rate with the YTM:\n",
    "\n",
    "$$\n",
    "\\text{P} = \\text{C} \\times (\\frac{1-\\frac{1}{(1+YTM)^N}}{YTM}) + \\frac{F}{(1 + YTM)^N}\n",
    "$$\n",
    "\n",
    "The bond valuation formlua is a nonlinear equation (has an exponent $N$) with no closed form (complex, YTM is both numerator and denominator with exponents). If we need to find the YTM ourselves, we need to approximate it. Again, financial calculators can do this fast, though for illustration purposes we'll use a Newton-Raphson form.\n",
    "\n",
    "Given the T-Note's information:\n",
    "\n",
    "- Coupon Rate (C): 3.875%\n",
    "- Face Value (F): 100 \n",
    "- Maturity Date: December 31, 2029\n",
    "- Settlement Date: January 3, 2023\n",
    "- Price (P): 98.60157\n",
    "- Payment Frequency: Semi-Annual\n",
    "- Number of Payments (N): $2 \\times 6 = 12$, 6yrs of semi-annual payments.\n",
    "\n",
    "We want to solve the equation:\n",
    "\n",
    "$$\n",
    "P = \\text{C} \\times \\left(\\frac{1 - \\frac{1}{(1 + YTM/2)^{12}}}{YTM/2}\\right) + \\frac{F}{(1 + YTM/2)^{12}}\n",
    "$$\n",
    "\n",
    "Where:\n",
    "\n",
    "- $P$ = 98.60157\n",
    "- $\\text{C}$ = 3.875/2 = 1.9375\n",
    "- $F$ = 100\n",
    "- $N$ = 12\n",
    "\n",
    "Using the Newton-Raphson method with the Initial guess of $YTM_0 = 0.04$ (4% devided by 2 for the semiannual compounding), we try to find the root of the function by its derivative:\n",
    "\n",
    "$$\n",
    "YTM_{i+1} = YTM_i - \\frac{f(YTM_i)}{f'(YTM_i)}\n",
    "$$\n",
    "\n",
    "$$\n",
    "f(YTM) = 98.60157 - 1.9375 \\times \\left(\\frac{1 - \\frac{1}{(1 + YTM/2)^{12}}}{YTM/2}\\right) - \\frac{100}{(1 + YTM/2)^{12}}\n",
    "$$\n",
    "\n",
    "$$\n",
    "f'(YTM) = - \\left( \\frac{\\partial}{\\partial YTM} \\left(1.9375 \\times \\frac{1 - \\frac{1}{(1 + YTM/2)^{12}}}{YTM/2} \\right) + \\frac{\\partial}{\\partial YTM} \\left( \\frac{100}{(1 + YTM/2)^{12}} \\right) \\right)\n",
    "$$\n",
    "\n",
    "This is iterated until convergence ($|YTM_{i+1} - YTM_i|$ is sufficiently small):\n",
    "\n",
    "Iteration 1:\n",
    "- $YTM_0 = 0.04$\n",
    "- Compute $f(YTM_0)$ and $f'(YTM_0)$\n",
    "- Update $YTM_1$\n",
    "\n",
    "Iteration 2:\n",
    "- $YTM_1$\n",
    "- Compute $f(YTM_1)$ and $f'(YTM_1)$\n",
    "- Update $YTM_2$\n",
    "\n",
    "The python below will illustrate this better:"
   ]
  },
  {
   "cell_type": "code",
   "execution_count": 5,
   "id": "a02e76c1",
   "metadata": {
    "execution": {
     "iopub.execute_input": "2024-07-24T16:54:11.354720Z",
     "iopub.status.busy": "2024-07-24T16:54:11.354388Z",
     "iopub.status.idle": "2024-07-24T16:54:11.364879Z",
     "shell.execute_reply": "2024-07-24T16:54:11.363796Z"
    },
    "papermill": {
     "duration": 0.021257,
     "end_time": "2024-07-24T16:54:11.366885",
     "exception": false,
     "start_time": "2024-07-24T16:54:11.345628",
     "status": "completed"
    },
    "tags": []
   },
   "outputs": [
    {
     "name": "stdout",
     "output_type": "stream",
     "text": [
      "Calculated: 0.0414061268117123 vs stated: 0.04165\n"
     ]
    }
   ],
   "source": [
    "P = 98.60157\n",
    "C = 3.875 / 2\n",
    "F = 100\n",
    "N = 12\n",
    "\n",
    "def price_function(ytm):\n",
    "    return P - (C * ((1 - 1 / (1 + ytm / 2)**N) / (ytm / 2)) + F / (1 + ytm / 2)**N)\n",
    "\n",
    "def function_derivative(ytm):\n",
    "    term1 = (C / 2) * (N / (1 + ytm / 2)**(N + 1))\n",
    "    term2 = C * ((1 - 1 / (1 + ytm / 2)**N) / (ytm / 2)**2)\n",
    "    term3 = (F * N) / (2 * (1 + ytm / 2)**(N + 1))\n",
    "    return - (term1 - term2 + term3)\n",
    "\n",
    "def newton_raphson_iter(initial_guess, tolerance=1e-5, max_iterations=20):\n",
    "    ytm = initial_guess\n",
    "    for _ in range(max_iterations):\n",
    "        next_ytm = ytm - price_function(ytm) / function_derivative(ytm)\n",
    "        if np.abs(next_ytm - ytm) < tolerance:\n",
    "            return next_ytm\n",
    "        ytm = next_ytm\n",
    "    return ytm\n",
    "\n",
    "ytm_0 = 0.04\n",
    "stated_ytm = 0.04165\n",
    "ytm_calculated = newton_raphson_iter(ytm_0)\n",
    "print(f\"Calculated: {ytm_calculated} vs stated: {stated_ytm}\")"
   ]
  },
  {
   "cell_type": "markdown",
   "id": "c57dcf48",
   "metadata": {
    "papermill": {
     "duration": 0.007523,
     "end_time": "2024-07-24T16:54:11.382024",
     "exception": false,
     "start_time": "2024-07-24T16:54:11.374501",
     "status": "completed"
    },
    "tags": []
   },
   "source": [
    "There are 2 other attributes that are looked at by sophisticated bond investors, these are the Bond's Duration and the Bond's Convexity.\n",
    "\n",
    "Duration is the bond's price sensitivity to changes in the interest rates. This means that the price decreases as the interest rates increase, because higher yielding instruments will be issued.\n",
    "\n",
    "Convexity is the bond's price sensitivity to it's yield. Yields go up as price goes down, if the interest rates are now higher than the bond's coupon, sellers need to up the yield by decreasing the bond's price.\n",
    "\n",
    "These concepts serve to insulate one's portfolio from interest rates risk. In our case, we are only shopping for bonds we would like to hold to maturity, we'll accept the rates risk. \n",
    "\n",
    "There is one risk we won't accept though, that is default risk - we said treasuries are risk free, but other bonds are not, especially ones issued by the private sector. When shopping for bonds, select investment grade ratings from Moody's or S&P (anything in the As ratings, with AAA being the highest). \n",
    "\n",
    "Bonds with high risk of default have high yields to offset this, though they are not called 'junk bonds' for nothing (read about Argentina's sovereign bonds in 2001). Another risk we have to avoid is recall risk, some bonds can be racalled and refinanced - this happens when the interest rates go down and the bond issuer pays up the face value and reissues the bonds at lower coupon rates, when this happens the original bond holders will have to reinvest in a less yielding instrument."
   ]
  },
  {
   "cell_type": "markdown",
   "id": "bc5504b1",
   "metadata": {
    "papermill": {
     "duration": 0.007294,
     "end_time": "2024-07-24T16:54:11.396984",
     "exception": false,
     "start_time": "2024-07-24T16:54:11.389690",
     "status": "completed"
    },
    "tags": []
   },
   "source": [
    "# Ranking our Fixed Income Dataset\n",
    "\n",
    "We load our dataset which is comprised of treasuries, municipals (Munies), corporate and certificates of deposits (CDs). These can easily be retrieved from a broker's bond scanner:"
   ]
  },
  {
   "cell_type": "code",
   "execution_count": 6,
   "id": "b00eb055",
   "metadata": {
    "execution": {
     "iopub.execute_input": "2024-07-24T16:54:11.414292Z",
     "iopub.status.busy": "2024-07-24T16:54:11.413223Z",
     "iopub.status.idle": "2024-07-24T16:54:11.591259Z",
     "shell.execute_reply": "2024-07-24T16:54:11.590241Z"
    },
    "papermill": {
     "duration": 0.188954,
     "end_time": "2024-07-24T16:54:11.593514",
     "exception": false,
     "start_time": "2024-07-24T16:54:11.404560",
     "status": "completed"
    },
    "tags": []
   },
   "outputs": [
    {
     "data": {
      "text/html": [
       "<div>\n",
       "<style scoped>\n",
       "    .dataframe tbody tr th:only-of-type {\n",
       "        vertical-align: middle;\n",
       "    }\n",
       "\n",
       "    .dataframe tbody tr th {\n",
       "        vertical-align: top;\n",
       "    }\n",
       "\n",
       "    .dataframe thead th {\n",
       "        text-align: right;\n",
       "    }\n",
       "</style>\n",
       "<table border=\"1\" class=\"dataframe\">\n",
       "  <thead>\n",
       "    <tr style=\"text-align: right;\">\n",
       "      <th></th>\n",
       "      <th>Financial Instrument</th>\n",
       "      <th>Coupon</th>\n",
       "      <th>Maturity</th>\n",
       "      <th>Ratings</th>\n",
       "      <th>Issuer Debt/Equity</th>\n",
       "      <th>Issue Date</th>\n",
       "      <th>Time-To-Maturity (TTM)</th>\n",
       "      <th>Payment Frequency</th>\n",
       "      <th>Ask</th>\n",
       "      <th>Ask Yield</th>\n",
       "      <th>Duration %</th>\n",
       "      <th>Convexity</th>\n",
       "      <th>Bid</th>\n",
       "      <th>Unnamed: 13</th>\n",
       "      <th>Instrument Type</th>\n",
       "    </tr>\n",
       "  </thead>\n",
       "  <tbody>\n",
       "    <tr>\n",
       "      <th>5268</th>\n",
       "      <td>RY CORP 78016EZZ3</td>\n",
       "      <td>1.40</td>\n",
       "      <td>Nov02'26</td>\n",
       "      <td>A1 (MOODY)</td>\n",
       "      <td>48.60738425926998</td>\n",
       "      <td>Oct 07 '21</td>\n",
       "      <td>2.28</td>\n",
       "      <td>Semi-Annual</td>\n",
       "      <td>92.453</td>\n",
       "      <td>4.9517</td>\n",
       "      <td>2.2388010025024414</td>\n",
       "      <td>0.05065663531422615</td>\n",
       "      <td>92.3940</td>\n",
       "      <td>0.0</td>\n",
       "      <td>Corporate Bonds</td>\n",
       "    </tr>\n",
       "    <tr>\n",
       "      <th>5270</th>\n",
       "      <td>PG CORP 742718ER6</td>\n",
       "      <td>2.45</td>\n",
       "      <td>Nov03'26</td>\n",
       "      <td>AA3 (MOODY)</td>\n",
       "      <td>39.621391215939916</td>\n",
       "      <td>Nov 03 '16</td>\n",
       "      <td>2.28</td>\n",
       "      <td>Semi-Annual</td>\n",
       "      <td>95.346</td>\n",
       "      <td>4.6270</td>\n",
       "      <td>2.216348648071289</td>\n",
       "      <td>0.05001278966665268</td>\n",
       "      <td>95.2780</td>\n",
       "      <td>0.0</td>\n",
       "      <td>Corporate Bonds</td>\n",
       "    </tr>\n",
       "  </tbody>\n",
       "</table>\n",
       "</div>"
      ],
      "text/plain": [
       "     Financial Instrument  Coupon  Maturity      Ratings  Issuer Debt/Equity  \\\n",
       "5268    RY CORP 78016EZZ3    1.40  Nov02'26   A1 (MOODY)   48.60738425926998   \n",
       "5270    PG CORP 742718ER6    2.45  Nov03'26  AA3 (MOODY)  39.621391215939916   \n",
       "\n",
       "      Issue Date  Time-To-Maturity (TTM) Payment Frequency     Ask  Ask Yield  \\\n",
       "5268  Oct 07 '21                    2.28       Semi-Annual  92.453     4.9517   \n",
       "5270  Nov 03 '16                    2.28       Semi-Annual  95.346     4.6270   \n",
       "\n",
       "            Duration %              Convexity      Bid  Unnamed: 13  \\\n",
       "5268  2.2388010025024414  0.05065663531422615  92.3940          0.0   \n",
       "5270   2.216348648071289  0.05001278966665268  95.2780          0.0   \n",
       "\n",
       "      Instrument Type  \n",
       "5268  Corporate Bonds  \n",
       "5270  Corporate Bonds  "
      ]
     },
     "execution_count": 6,
     "metadata": {},
     "output_type": "execute_result"
    }
   ],
   "source": [
    "# Function to process data for each instrument type\n",
    "def process_instrument_data(data_path, instrument_type):\n",
    "    df = pd.read_csv(data_path)\n",
    "    df['Instrument Type'] = instrument_type\n",
    "    df['Ask'] = pd.to_numeric(df['Ask'], errors='coerce')\n",
    "    df['Coupon'] = pd.to_numeric(df['Coupon'], errors='coerce')\n",
    "    df.fillna(0, inplace=True)\n",
    "    return df\n",
    "\n",
    "def process_all_fixedinc_csvs():\n",
    "    FILE_PREFIX_CAT = {\n",
    "        'cds': 'Certificates of Deposit',\n",
    "        'corp': 'Corporate Bonds',\n",
    "        'munies': 'Municipal Bonds',\n",
    "        'treas': 'Treasuries'\n",
    "    }\n",
    "\n",
    "    fixedinc_data = pd.DataFrame()\n",
    "    for file_name in os.listdir(DATA_PATH):\n",
    "        if file_name.endswith('.csv'):\n",
    "            file_path = os.path.join(DATA_PATH, file_name)\n",
    "            for prefix, instrument_type in FILE_PREFIX_CAT.items():\n",
    "                if file_name.startswith(prefix):\n",
    "                    df = process_instrument_data(file_path, instrument_type)\n",
    "                    fixedinc_data = pd.concat([fixedinc_data, df], ignore_index=True)\n",
    "    return fixedinc_data\n",
    "\n",
    "fixedinc_data = process_all_fixedinc_csvs()\n",
    "fixedinc_data.dropna(axis=1, how='all', inplace=True)\n",
    "fixedinc_data.dropna(axis=0, inplace=True)\n",
    "\n",
    "fixedinc_data = fixedinc_data[fixedinc_data['Ask'] > 0]\n",
    "fixedinc_data['Ask Yield'] = pd.to_numeric(fixedinc_data['Ask Yield'], errors='coerce')\n",
    "fixedinc_data = fixedinc_data[fixedinc_data['Ask Yield'] > 0]\n",
    "\n",
    "fixedinc_data.tail(2)"
   ]
  },
  {
   "cell_type": "markdown",
   "id": "729ed2e9",
   "metadata": {
    "papermill": {
     "duration": 0.008759,
     "end_time": "2024-07-24T16:54:11.611170",
     "exception": false,
     "start_time": "2024-07-24T16:54:11.602411",
     "status": "completed"
    },
    "tags": []
   },
   "source": [
    "We set  constants for the market regime at the time of writing:"
   ]
  },
  {
   "cell_type": "code",
   "execution_count": 7,
   "id": "7dadfa60",
   "metadata": {
    "execution": {
     "iopub.execute_input": "2024-07-24T16:54:11.629046Z",
     "iopub.status.busy": "2024-07-24T16:54:11.628688Z",
     "iopub.status.idle": "2024-07-24T16:54:11.636233Z",
     "shell.execute_reply": "2024-07-24T16:54:11.635006Z"
    },
    "papermill": {
     "duration": 0.018977,
     "end_time": "2024-07-24T16:54:11.638345",
     "exception": false,
     "start_time": "2024-07-24T16:54:11.619368",
     "status": "completed"
    },
    "tags": []
   },
   "outputs": [
    {
     "data": {
      "text/plain": [
       "0.0012195121951221743"
      ]
     },
     "execution_count": 7,
     "metadata": {},
     "output_type": "execute_result"
    }
   ],
   "source": [
    "TRADE_COSTS = 1 # Average $1 commmissions\n",
    "TAX_RATE = 0.30 # The EU avarege for interest income\n",
    "RF_RATE = (0.0375 * (1 - TAX_RATE)) # A savings account, interest rate taxed\n",
    "INFLATION_RATE = 0.025\n",
    "FACE_VALUE = 100.\n",
    "\n",
    "DISCOUNT_RATE =  (1. + RF_RATE) / (1. + INFLATION_RATE) - 1.\n",
    "DISCOUNT_RATE"
   ]
  },
  {
   "cell_type": "markdown",
   "id": "e46e9dc7",
   "metadata": {
    "papermill": {
     "duration": 0.008764,
     "end_time": "2024-07-24T16:54:11.655369",
     "exception": false,
     "start_time": "2024-07-24T16:54:11.646605",
     "status": "completed"
    },
    "tags": []
   },
   "source": [
    "We saw earlier that the YTM can be used as the discount rate, but this is stated in the secondary market - we might want to use our own rate.\n",
    "\n",
    "Assume the risk free rate is a DGS insured european savings account average of 3.75% with interest taxed at 30%. We wont use the 10yr T-Bill as a proxy as we would have to factor in the secondary market yields and commissions. The RF rate is our opportunity cost of investing in a more risky bond, with inflation around 2.5%. \n",
    "\n",
    "With this info we construct our own discount rate, or the real rate with inflation and taxation."
   ]
  },
  {
   "cell_type": "markdown",
   "id": "4543bd31",
   "metadata": {
    "papermill": {
     "duration": 0.007937,
     "end_time": "2024-07-24T16:54:11.671895",
     "exception": false,
     "start_time": "2024-07-24T16:54:11.663958",
     "status": "completed"
    },
    "tags": []
   },
   "source": [
    "## The Fisher equation for Real Rates\n",
    "\n",
    "The Fisher formula calculates the real rates by compounding inflation:\n",
    "$$\n",
    "(1 + \\text{Nominal Rate}) = (1 + \\text{Real Rate})(1 + \\text{Inflation Rate})\n",
    "$$\n",
    "\n",
    "Rearranging to solve for the real rate, you get:\n",
    "\n",
    "$$\n",
    "\\text{Real Rate} = \\frac{(1 + \\text{Nominal Rate})}{(1 + \\text{Inflation Rate})} - 1\n",
    "$$\n",
    "\n",
    "When interest rates are stated, these are not real or effective rates, to be effective, the nominal interest rate needs to be adjusted by tax and inflation (ATRR: After-Tax Real Returns)."
   ]
  },
  {
   "cell_type": "markdown",
   "id": "704f44cd",
   "metadata": {
    "papermill": {
     "duration": 0.007977,
     "end_time": "2024-07-24T16:54:11.687969",
     "exception": false,
     "start_time": "2024-07-24T16:54:11.679992",
     "status": "completed"
    },
    "tags": []
   },
   "source": [
    "## Stacking Bond Valuations\n",
    "\n",
    "Using Fisher's equation to calculate our discount rate with inflation, and taxing coupon payments as below:\n",
    "\n",
    "$$\n",
    "DR =  \\frac{1+(RF * (1-TR))}{(1+IR)} - 1\n",
    "$$\n",
    "\n",
    "Where:\n",
    "- $RF$ is the risk free rate, at the time $4.75\\%$\n",
    "- $TR$ is the tax rate at $30\\%$\n",
    "- $IR$ is the inflation rate at $2.5\\%$\n",
    "- $DR$ is our adjusted discount rate.\n",
    "\n",
    "\n",
    "The Bonds' PV can be calculated as follows:\n",
    "\n",
    "$$\n",
    "\\text{Bond PV} = (\\text{C} \\times (\\frac{1-\\frac{1}{(1+DR)^N}}{DR}) + \\frac{F}{(1 + DR)^N}) - \\text{Commissions} - \\text{Trade Costs}\n",
    "$$\n",
    "\n",
    "With this, we can rank the bonds by their PV:"
   ]
  },
  {
   "cell_type": "code",
   "execution_count": 8,
   "id": "3d360c61",
   "metadata": {
    "execution": {
     "iopub.execute_input": "2024-07-24T16:54:11.706153Z",
     "iopub.status.busy": "2024-07-24T16:54:11.705430Z",
     "iopub.status.idle": "2024-07-24T16:54:11.806343Z",
     "shell.execute_reply": "2024-07-24T16:54:11.805517Z"
    },
    "papermill": {
     "duration": 0.112588,
     "end_time": "2024-07-24T16:54:11.808770",
     "exception": false,
     "start_time": "2024-07-24T16:54:11.696182",
     "status": "completed"
    },
    "tags": []
   },
   "outputs": [],
   "source": [
    "def calculate_bondvalue(coupon, ttm, ask_price, frequency, face_value=FACE_VALUE, discount = DISCOUNT_RATE, commission_rate=0., Trade_costs = TRADE_COSTS, tax_rate = TAX_RATE):\n",
    "    if ask_price == 0:\n",
    "        # Instrument did not have a feed.\n",
    "        return 0.\n",
    "\n",
    "    if coupon == 0 or frequency == 0 or frequency == \"Principal at Maturity\":\n",
    "        frequency = 0  # For zero-coupon bonds or Tbills\n",
    "        coupon = 0\n",
    "    elif frequency == 'Annual':\n",
    "        frequency = 1\n",
    "    elif frequency == 'Semi-Annual':\n",
    "        frequency = 2\n",
    "    elif frequency == 'Quarterly':\n",
    "        frequency = 4\n",
    "    elif frequency == 'Monthly':\n",
    "        frequency = 12\n",
    "    else:\n",
    "        raise ValueError(f\"Unsupported frequency: {frequency}\")\n",
    "\n",
    "    if frequency == 0 or coupon == 0:\n",
    "        bond_value = face_value / ((1 + discount) ** ttm)\n",
    "    else:\n",
    "        coupon_tax = coupon * tax_rate # interest is taxed as income\n",
    "        coupon_effective = (coupon - coupon_tax) / frequency\n",
    "        assert coupon_effective >= 0.\n",
    "\n",
    "        # Need to return to the seller their share of coupon.\n",
    "        total_coupons = int(np.ceil(ttm * frequency))\n",
    "\n",
    "        accrued_interest = (coupon / frequency) * (total_coupons - ttm * frequency)\n",
    "        coupon_dcf = (1 - (1 / (1 + discount) ** total_coupons)) / discount\n",
    "        coupon_dcf = (face_value * coupon_effective) * coupon_dcf\n",
    "\n",
    "        # Bonds gains at maturity are not taxed, only interest.\n",
    "        face_dcf = face_value / (1 + discount) ** total_coupons\n",
    "        bond_value = (coupon_dcf + face_dcf) - ((commission_rate * ask_price) + Trade_costs  + accrued_interest)\n",
    "\n",
    "    return bond_value\n",
    "\n",
    "fixedinc_data['PV'] = fixedinc_data.apply(lambda x: calculate_bondvalue(x['Coupon'] / 100.,\n",
    "                                                              x['Time-To-Maturity (TTM)'],\n",
    "                                                              x['Ask'],\n",
    "                                                              x['Payment Frequency']), axis=1)\n"
   ]
  },
  {
   "cell_type": "markdown",
   "id": "7779ca3f",
   "metadata": {
    "papermill": {
     "duration": 0.008166,
     "end_time": "2024-07-24T16:54:11.825181",
     "exception": false,
     "start_time": "2024-07-24T16:54:11.817015",
     "status": "completed"
    },
    "tags": []
   },
   "source": [
    "Given that the bonds have different attributes, we need to calculate an ROI and an Annualized rate, or ARR.\n",
    "\n",
    "## Annnual Rate of Return (ARR)\n",
    "\n",
    "Calculating the ARR of the fixed income instruments involes the following equation:\n",
    "\n",
    "$$\n",
    "ARR = \\left( \\frac{P + G}{P} \\right)^{\\frac{1}{n}} - 1\n",
    "$$\n",
    "\n",
    "Where:\n",
    "- $P$ principal, or initial investment\n",
    "- $G$ capital gains or losses\n",
    "- $n$ number of years\n",
    "\n",
    "With this, we can stack rank our bonds according to our requirements, and select the top 5 that beat the risk free rate, therefore it will be worth the effort to remove our cash from the savings account and buy the instrument from the secondary markets:"
   ]
  },
  {
   "cell_type": "code",
   "execution_count": 9,
   "id": "7248508d",
   "metadata": {
    "execution": {
     "iopub.execute_input": "2024-07-24T16:54:11.843535Z",
     "iopub.status.busy": "2024-07-24T16:54:11.842700Z",
     "iopub.status.idle": "2024-07-24T16:54:11.866386Z",
     "shell.execute_reply": "2024-07-24T16:54:11.865293Z"
    },
    "papermill": {
     "duration": 0.035028,
     "end_time": "2024-07-24T16:54:11.868482",
     "exception": false,
     "start_time": "2024-07-24T16:54:11.833454",
     "status": "completed"
    },
    "tags": []
   },
   "outputs": [
    {
     "data": {
      "text/html": [
       "<div>\n",
       "<style scoped>\n",
       "    .dataframe tbody tr th:only-of-type {\n",
       "        vertical-align: middle;\n",
       "    }\n",
       "\n",
       "    .dataframe tbody tr th {\n",
       "        vertical-align: top;\n",
       "    }\n",
       "\n",
       "    .dataframe thead th {\n",
       "        text-align: right;\n",
       "    }\n",
       "</style>\n",
       "<table border=\"1\" class=\"dataframe\">\n",
       "  <thead>\n",
       "    <tr style=\"text-align: right;\">\n",
       "      <th></th>\n",
       "      <th>Financial Instrument</th>\n",
       "      <th>Instrument Type</th>\n",
       "      <th>Time-To-Maturity (TTM)</th>\n",
       "      <th>Coupon</th>\n",
       "      <th>Payment Frequency</th>\n",
       "      <th>PV</th>\n",
       "      <th>Ask</th>\n",
       "      <th>Ask Yield</th>\n",
       "      <th>ROI%</th>\n",
       "      <th>ARR%</th>\n",
       "      <th>ARR% VS RF%</th>\n",
       "    </tr>\n",
       "  </thead>\n",
       "  <tbody>\n",
       "    <tr>\n",
       "      <th>253</th>\n",
       "      <td>FBFCEN CORP CD 319267KV1</td>\n",
       "      <td>Certificates of Deposit</td>\n",
       "      <td>0.02</td>\n",
       "      <td>5.25</td>\n",
       "      <td>Semi-Annual</td>\n",
       "      <td>100.688259</td>\n",
       "      <td>99.995</td>\n",
       "      <td>5.596</td>\n",
       "      <td>0.693294</td>\n",
       "      <td>41.262661</td>\n",
       "      <td>38.637661</td>\n",
       "    </tr>\n",
       "    <tr>\n",
       "      <th>3800</th>\n",
       "      <td>MUNI 35569PDS9</td>\n",
       "      <td>Municipal Bonds</td>\n",
       "      <td>0.02</td>\n",
       "      <td>5.00</td>\n",
       "      <td>Semi-Annual</td>\n",
       "      <td>100.602066</td>\n",
       "      <td>100.010</td>\n",
       "      <td>4.380</td>\n",
       "      <td>0.592007</td>\n",
       "      <td>34.330171</td>\n",
       "      <td>31.705171</td>\n",
       "    </tr>\n",
       "    <tr>\n",
       "      <th>3785</th>\n",
       "      <td>MUNI 05914FXB1</td>\n",
       "      <td>Municipal Bonds</td>\n",
       "      <td>0.02</td>\n",
       "      <td>5.00</td>\n",
       "      <td>Semi-Annual</td>\n",
       "      <td>100.602066</td>\n",
       "      <td>100.010</td>\n",
       "      <td>4.380</td>\n",
       "      <td>0.592007</td>\n",
       "      <td>34.330171</td>\n",
       "      <td>31.705171</td>\n",
       "    </tr>\n",
       "    <tr>\n",
       "      <th>3817</th>\n",
       "      <td>MUNI 43232RBB5</td>\n",
       "      <td>Municipal Bonds</td>\n",
       "      <td>0.02</td>\n",
       "      <td>5.00</td>\n",
       "      <td>Semi-Annual</td>\n",
       "      <td>100.602066</td>\n",
       "      <td>100.010</td>\n",
       "      <td>4.380</td>\n",
       "      <td>0.592007</td>\n",
       "      <td>34.330171</td>\n",
       "      <td>31.705171</td>\n",
       "    </tr>\n",
       "    <tr>\n",
       "      <th>3783</th>\n",
       "      <td>MUNI 92884EHT7</td>\n",
       "      <td>Municipal Bonds</td>\n",
       "      <td>0.02</td>\n",
       "      <td>5.00</td>\n",
       "      <td>Semi-Annual</td>\n",
       "      <td>100.602066</td>\n",
       "      <td>100.010</td>\n",
       "      <td>4.380</td>\n",
       "      <td>0.592007</td>\n",
       "      <td>34.330171</td>\n",
       "      <td>31.705171</td>\n",
       "    </tr>\n",
       "  </tbody>\n",
       "</table>\n",
       "</div>"
      ],
      "text/plain": [
       "          Financial Instrument          Instrument Type  \\\n",
       "253   FBFCEN CORP CD 319267KV1  Certificates of Deposit   \n",
       "3800            MUNI 35569PDS9          Municipal Bonds   \n",
       "3785            MUNI 05914FXB1          Municipal Bonds   \n",
       "3817            MUNI 43232RBB5          Municipal Bonds   \n",
       "3783            MUNI 92884EHT7          Municipal Bonds   \n",
       "\n",
       "      Time-To-Maturity (TTM)  Coupon Payment Frequency          PV      Ask  \\\n",
       "253                     0.02    5.25       Semi-Annual  100.688259   99.995   \n",
       "3800                    0.02    5.00       Semi-Annual  100.602066  100.010   \n",
       "3785                    0.02    5.00       Semi-Annual  100.602066  100.010   \n",
       "3817                    0.02    5.00       Semi-Annual  100.602066  100.010   \n",
       "3783                    0.02    5.00       Semi-Annual  100.602066  100.010   \n",
       "\n",
       "      Ask Yield      ROI%       ARR%  ARR% VS RF%  \n",
       "253       5.596  0.693294  41.262661    38.637661  \n",
       "3800      4.380  0.592007  34.330171    31.705171  \n",
       "3785      4.380  0.592007  34.330171    31.705171  \n",
       "3817      4.380  0.592007  34.330171    31.705171  \n",
       "3783      4.380  0.592007  34.330171    31.705171  "
      ]
     },
     "execution_count": 9,
     "metadata": {},
     "output_type": "execute_result"
    }
   ],
   "source": [
    "\n",
    "fixedinc_data[\"ROI%\"] = ((fixedinc_data[\"PV\"] - fixedinc_data[\"Ask\"]) / fixedinc_data[\"Ask\"]) * 100\n",
    "fixedinc_data[\"ARR%\"] = (((fixedinc_data[\"PV\"] / fixedinc_data[\"Ask\"]) ** (1 / fixedinc_data['Time-To-Maturity (TTM)'])) - 1) * 100\n",
    "fixedinc_data[\"ARR% VS RF%\"] = fixedinc_data[\"ARR%\"] - (RF_RATE * 100.)\n",
    "\n",
    "df_ranked = fixedinc_data[[\"Financial Instrument\", 'Instrument Type', \"Time-To-Maturity (TTM)\", \"Coupon\", 'Payment Frequency', \"PV\", \"Ask\", \"Ask Yield\", \"ROI%\", \"ARR%\", \"ARR% VS RF%\"]].sort_values(by=\"ARR% VS RF%\", ascending=False)\n",
    "\n",
    "df_ranked.head(5)"
   ]
  },
  {
   "cell_type": "markdown",
   "id": "550c0582",
   "metadata": {
    "papermill": {
     "duration": 0.008148,
     "end_time": "2024-07-24T16:54:11.885171",
     "exception": false,
     "start_time": "2024-07-24T16:54:11.877023",
     "status": "completed"
    },
    "tags": []
   },
   "source": []
  },
  {
   "cell_type": "code",
   "execution_count": 10,
   "id": "96dd7418",
   "metadata": {
    "execution": {
     "iopub.execute_input": "2024-07-24T16:54:11.903623Z",
     "iopub.status.busy": "2024-07-24T16:54:11.902922Z",
     "iopub.status.idle": "2024-07-24T16:54:11.918290Z",
     "shell.execute_reply": "2024-07-24T16:54:11.917362Z"
    },
    "papermill": {
     "duration": 0.027149,
     "end_time": "2024-07-24T16:54:11.920542",
     "exception": false,
     "start_time": "2024-07-24T16:54:11.893393",
     "status": "completed"
    },
    "tags": []
   },
   "outputs": [
    {
     "data": {
      "text/html": [
       "<div>\n",
       "<style scoped>\n",
       "    .dataframe tbody tr th:only-of-type {\n",
       "        vertical-align: middle;\n",
       "    }\n",
       "\n",
       "    .dataframe tbody tr th {\n",
       "        vertical-align: top;\n",
       "    }\n",
       "\n",
       "    .dataframe thead th {\n",
       "        text-align: right;\n",
       "    }\n",
       "</style>\n",
       "<table border=\"1\" class=\"dataframe\">\n",
       "  <thead>\n",
       "    <tr style=\"text-align: right;\">\n",
       "      <th></th>\n",
       "      <th>Financial Instrument</th>\n",
       "      <th>Instrument Type</th>\n",
       "      <th>Time-To-Maturity (TTM)</th>\n",
       "      <th>Coupon</th>\n",
       "      <th>Payment Frequency</th>\n",
       "      <th>PV</th>\n",
       "      <th>Ask</th>\n",
       "      <th>Ask Yield</th>\n",
       "      <th>ROI%</th>\n",
       "      <th>ARR%</th>\n",
       "      <th>ARR% VS RF%</th>\n",
       "    </tr>\n",
       "  </thead>\n",
       "  <tbody>\n",
       "    <tr>\n",
       "      <th>1252</th>\n",
       "      <td>RY CORP 78016EZU4</td>\n",
       "      <td>Corporate Bonds</td>\n",
       "      <td>0.02</td>\n",
       "      <td>0.650</td>\n",
       "      <td>Semi-Annual</td>\n",
       "      <td>99.102300</td>\n",
       "      <td>99.941</td>\n",
       "      <td>4.8850</td>\n",
       "      <td>-0.839195</td>\n",
       "      <td>-34.385140</td>\n",
       "      <td>-37.010140</td>\n",
       "    </tr>\n",
       "    <tr>\n",
       "      <th>1253</th>\n",
       "      <td>AARB CORP DE000AAR0207</td>\n",
       "      <td>Corporate Bonds</td>\n",
       "      <td>0.02</td>\n",
       "      <td>0.375</td>\n",
       "      <td>Annual</td>\n",
       "      <td>99.136703</td>\n",
       "      <td>99.987</td>\n",
       "      <td>1.1608</td>\n",
       "      <td>-0.850408</td>\n",
       "      <td>-34.755099</td>\n",
       "      <td>-37.380099</td>\n",
       "    </tr>\n",
       "    <tr>\n",
       "      <th>250</th>\n",
       "      <td>SMMSBK CORP CD 82869ADY8</td>\n",
       "      <td>Certificates of Deposit</td>\n",
       "      <td>0.01</td>\n",
       "      <td>5.450</td>\n",
       "      <td>Monthly</td>\n",
       "      <td>99.191730</td>\n",
       "      <td>100.005</td>\n",
       "      <td>3.5110</td>\n",
       "      <td>-0.813229</td>\n",
       "      <td>-55.804800</td>\n",
       "      <td>-58.429800</td>\n",
       "    </tr>\n",
       "    <tr>\n",
       "      <th>251</th>\n",
       "      <td>BRISBK CORP CD 110001AS3</td>\n",
       "      <td>Certificates of Deposit</td>\n",
       "      <td>0.01</td>\n",
       "      <td>5.300</td>\n",
       "      <td>Monthly</td>\n",
       "      <td>99.183101</td>\n",
       "      <td>99.998</td>\n",
       "      <td>5.6450</td>\n",
       "      <td>-0.814916</td>\n",
       "      <td>-55.879874</td>\n",
       "      <td>-58.504874</td>\n",
       "    </tr>\n",
       "    <tr>\n",
       "      <th>1251</th>\n",
       "      <td>NACF CORP 65540KAF2</td>\n",
       "      <td>Corporate Bonds</td>\n",
       "      <td>0.01</td>\n",
       "      <td>0.875</td>\n",
       "      <td>Semi-Annual</td>\n",
       "      <td>99.179787</td>\n",
       "      <td>100.005</td>\n",
       "      <td>0.4635</td>\n",
       "      <td>-0.825172</td>\n",
       "      <td>-56.333778</td>\n",
       "      <td>-58.958778</td>\n",
       "    </tr>\n",
       "  </tbody>\n",
       "</table>\n",
       "</div>"
      ],
      "text/plain": [
       "          Financial Instrument          Instrument Type  \\\n",
       "1252         RY CORP 78016EZU4          Corporate Bonds   \n",
       "1253    AARB CORP DE000AAR0207          Corporate Bonds   \n",
       "250   SMMSBK CORP CD 82869ADY8  Certificates of Deposit   \n",
       "251   BRISBK CORP CD 110001AS3  Certificates of Deposit   \n",
       "1251       NACF CORP 65540KAF2          Corporate Bonds   \n",
       "\n",
       "      Time-To-Maturity (TTM)  Coupon Payment Frequency         PV      Ask  \\\n",
       "1252                    0.02   0.650       Semi-Annual  99.102300   99.941   \n",
       "1253                    0.02   0.375            Annual  99.136703   99.987   \n",
       "250                     0.01   5.450           Monthly  99.191730  100.005   \n",
       "251                     0.01   5.300           Monthly  99.183101   99.998   \n",
       "1251                    0.01   0.875       Semi-Annual  99.179787  100.005   \n",
       "\n",
       "      Ask Yield      ROI%       ARR%  ARR% VS RF%  \n",
       "1252     4.8850 -0.839195 -34.385140   -37.010140  \n",
       "1253     1.1608 -0.850408 -34.755099   -37.380099  \n",
       "250      3.5110 -0.813229 -55.804800   -58.429800  \n",
       "251      5.6450 -0.814916 -55.879874   -58.504874  \n",
       "1251     0.4635 -0.825172 -56.333778   -58.958778  "
      ]
     },
     "execution_count": 10,
     "metadata": {},
     "output_type": "execute_result"
    }
   ],
   "source": [
    "df_ranked.tail(5)"
   ]
  },
  {
   "cell_type": "markdown",
   "id": "bb064dc8",
   "metadata": {
    "papermill": {
     "duration": 0.008304,
     "end_time": "2024-07-24T16:54:11.937672",
     "exception": false,
     "start_time": "2024-07-24T16:54:11.929368",
     "status": "completed"
    },
    "tags": []
   },
   "source": [
    "Note that fixed income close to maturity can have an inflated ARR due to exponentiating small numbers. If we want to ladder bonds, we should look at longer TTMs:"
   ]
  },
  {
   "cell_type": "code",
   "execution_count": 11,
   "id": "efc70c98",
   "metadata": {
    "execution": {
     "iopub.execute_input": "2024-07-24T16:54:11.956576Z",
     "iopub.status.busy": "2024-07-24T16:54:11.955963Z",
     "iopub.status.idle": "2024-07-24T16:54:11.973153Z",
     "shell.execute_reply": "2024-07-24T16:54:11.972140Z"
    },
    "papermill": {
     "duration": 0.029072,
     "end_time": "2024-07-24T16:54:11.975414",
     "exception": false,
     "start_time": "2024-07-24T16:54:11.946342",
     "status": "completed"
    },
    "tags": []
   },
   "outputs": [
    {
     "data": {
      "text/html": [
       "<div>\n",
       "<style scoped>\n",
       "    .dataframe tbody tr th:only-of-type {\n",
       "        vertical-align: middle;\n",
       "    }\n",
       "\n",
       "    .dataframe tbody tr th {\n",
       "        vertical-align: top;\n",
       "    }\n",
       "\n",
       "    .dataframe thead th {\n",
       "        text-align: right;\n",
       "    }\n",
       "</style>\n",
       "<table border=\"1\" class=\"dataframe\">\n",
       "  <thead>\n",
       "    <tr style=\"text-align: right;\">\n",
       "      <th></th>\n",
       "      <th>Financial Instrument</th>\n",
       "      <th>Instrument Type</th>\n",
       "      <th>Time-To-Maturity (TTM)</th>\n",
       "      <th>Coupon</th>\n",
       "      <th>Payment Frequency</th>\n",
       "      <th>PV</th>\n",
       "      <th>Ask</th>\n",
       "      <th>Ask Yield</th>\n",
       "      <th>ROI%</th>\n",
       "      <th>ARR%</th>\n",
       "      <th>ARR% VS RF%</th>\n",
       "    </tr>\n",
       "  </thead>\n",
       "  <tbody>\n",
       "    <tr>\n",
       "      <th>226</th>\n",
       "      <td>US-T GOVT Note STRIPS Interest 912834TU2</td>\n",
       "      <td>Treasuries</td>\n",
       "      <td>1.02</td>\n",
       "      <td>0.00</td>\n",
       "      <td>0</td>\n",
       "      <td>99.875763</td>\n",
       "      <td>95.09401</td>\n",
       "      <td>4.9965</td>\n",
       "      <td>5.028448</td>\n",
       "      <td>4.927461</td>\n",
       "      <td>2.302461</td>\n",
       "    </tr>\n",
       "    <tr>\n",
       "      <th>189</th>\n",
       "      <td>US-T GOVT Note STRIPS Interest 912834UG1</td>\n",
       "      <td>Treasuries</td>\n",
       "      <td>1.53</td>\n",
       "      <td>0.00</td>\n",
       "      <td>0</td>\n",
       "      <td>99.813702</td>\n",
       "      <td>92.87900</td>\n",
       "      <td>4.9220</td>\n",
       "      <td>7.466383</td>\n",
       "      <td>4.818908</td>\n",
       "      <td>2.193908</td>\n",
       "    </tr>\n",
       "    <tr>\n",
       "      <th>227</th>\n",
       "      <td>US-T GOVT Note STRIPS Principal 912821AF2</td>\n",
       "      <td>Treasuries</td>\n",
       "      <td>1.02</td>\n",
       "      <td>0.00</td>\n",
       "      <td>0</td>\n",
       "      <td>99.875763</td>\n",
       "      <td>95.20100</td>\n",
       "      <td>4.8840</td>\n",
       "      <td>4.910414</td>\n",
       "      <td>4.811851</td>\n",
       "      <td>2.186851</td>\n",
       "    </tr>\n",
       "    <tr>\n",
       "      <th>217</th>\n",
       "      <td>US-T GOVT Note STRIPS Principal 912820W78</td>\n",
       "      <td>Treasuries</td>\n",
       "      <td>1.06</td>\n",
       "      <td>0.00</td>\n",
       "      <td>0</td>\n",
       "      <td>99.870894</td>\n",
       "      <td>95.15800</td>\n",
       "      <td>4.7355</td>\n",
       "      <td>4.952704</td>\n",
       "      <td>4.665924</td>\n",
       "      <td>2.040924</td>\n",
       "    </tr>\n",
       "    <tr>\n",
       "      <th>3323</th>\n",
       "      <td>MUNI 786091AG3</td>\n",
       "      <td>Municipal Bonds</td>\n",
       "      <td>1.02</td>\n",
       "      <td>7.25</td>\n",
       "      <td>Semi-Annual</td>\n",
       "      <td>106.194207</td>\n",
       "      <td>101.38400</td>\n",
       "      <td>5.8300</td>\n",
       "      <td>4.744543</td>\n",
       "      <td>4.649383</td>\n",
       "      <td>2.024383</td>\n",
       "    </tr>\n",
       "  </tbody>\n",
       "</table>\n",
       "</div>"
      ],
      "text/plain": [
       "                           Financial Instrument  Instrument Type  \\\n",
       "226    US-T GOVT Note STRIPS Interest 912834TU2       Treasuries   \n",
       "189    US-T GOVT Note STRIPS Interest 912834UG1       Treasuries   \n",
       "227   US-T GOVT Note STRIPS Principal 912821AF2       Treasuries   \n",
       "217   US-T GOVT Note STRIPS Principal 912820W78       Treasuries   \n",
       "3323                             MUNI 786091AG3  Municipal Bonds   \n",
       "\n",
       "      Time-To-Maturity (TTM)  Coupon Payment Frequency          PV        Ask  \\\n",
       "226                     1.02    0.00                 0   99.875763   95.09401   \n",
       "189                     1.53    0.00                 0   99.813702   92.87900   \n",
       "227                     1.02    0.00                 0   99.875763   95.20100   \n",
       "217                     1.06    0.00                 0   99.870894   95.15800   \n",
       "3323                    1.02    7.25       Semi-Annual  106.194207  101.38400   \n",
       "\n",
       "      Ask Yield      ROI%      ARR%  ARR% VS RF%  \n",
       "226      4.9965  5.028448  4.927461     2.302461  \n",
       "189      4.9220  7.466383  4.818908     2.193908  \n",
       "227      4.8840  4.910414  4.811851     2.186851  \n",
       "217      4.7355  4.952704  4.665924     2.040924  \n",
       "3323     5.8300  4.744543  4.649383     2.024383  "
      ]
     },
     "execution_count": 11,
     "metadata": {},
     "output_type": "execute_result"
    }
   ],
   "source": [
    "df_ranked = df_ranked[df_ranked[\"Time-To-Maturity (TTM)\"] >= 1]\n",
    "df_ranked.head(5)"
   ]
  },
  {
   "cell_type": "code",
   "execution_count": 12,
   "id": "08ffc3d6",
   "metadata": {
    "execution": {
     "iopub.execute_input": "2024-07-24T16:54:11.994786Z",
     "iopub.status.busy": "2024-07-24T16:54:11.994424Z",
     "iopub.status.idle": "2024-07-24T16:54:12.010297Z",
     "shell.execute_reply": "2024-07-24T16:54:12.009355Z"
    },
    "papermill": {
     "duration": 0.027826,
     "end_time": "2024-07-24T16:54:12.012263",
     "exception": false,
     "start_time": "2024-07-24T16:54:11.984437",
     "status": "completed"
    },
    "tags": []
   },
   "outputs": [
    {
     "data": {
      "text/html": [
       "<div>\n",
       "<style scoped>\n",
       "    .dataframe tbody tr th:only-of-type {\n",
       "        vertical-align: middle;\n",
       "    }\n",
       "\n",
       "    .dataframe tbody tr th {\n",
       "        vertical-align: top;\n",
       "    }\n",
       "\n",
       "    .dataframe thead th {\n",
       "        text-align: right;\n",
       "    }\n",
       "</style>\n",
       "<table border=\"1\" class=\"dataframe\">\n",
       "  <thead>\n",
       "    <tr style=\"text-align: right;\">\n",
       "      <th></th>\n",
       "      <th>Financial Instrument</th>\n",
       "      <th>Instrument Type</th>\n",
       "      <th>Time-To-Maturity (TTM)</th>\n",
       "      <th>Coupon</th>\n",
       "      <th>Payment Frequency</th>\n",
       "      <th>PV</th>\n",
       "      <th>Ask</th>\n",
       "      <th>Ask Yield</th>\n",
       "      <th>ROI%</th>\n",
       "      <th>ARR%</th>\n",
       "      <th>ARR% VS RF%</th>\n",
       "    </tr>\n",
       "  </thead>\n",
       "  <tbody>\n",
       "    <tr>\n",
       "      <th>3657</th>\n",
       "      <td>MUNI 345102PG6</td>\n",
       "      <td>Municipal Bonds</td>\n",
       "      <td>1.02</td>\n",
       "      <td>0.906</td>\n",
       "      <td>Semi-Annual</td>\n",
       "      <td>99.579673</td>\n",
       "      <td>99.257</td>\n",
       "      <td>1.6439</td>\n",
       "      <td>0.325088</td>\n",
       "      <td>0.318704</td>\n",
       "      <td>-2.306296</td>\n",
       "    </tr>\n",
       "    <tr>\n",
       "      <th>3522</th>\n",
       "      <td>MUNI 9826717W3</td>\n",
       "      <td>Municipal Bonds</td>\n",
       "      <td>1.02</td>\n",
       "      <td>5.000</td>\n",
       "      <td>Semi-Annual</td>\n",
       "      <td>103.848258</td>\n",
       "      <td>103.782</td>\n",
       "      <td>1.2545</td>\n",
       "      <td>0.063843</td>\n",
       "      <td>0.062591</td>\n",
       "      <td>-2.562409</td>\n",
       "    </tr>\n",
       "    <tr>\n",
       "      <th>3458</th>\n",
       "      <td>MUNI Unknown 79770GGF7</td>\n",
       "      <td>Municipal Bonds</td>\n",
       "      <td>1.02</td>\n",
       "      <td>3.533</td>\n",
       "      <td>Semi-Annual</td>\n",
       "      <td>102.318699</td>\n",
       "      <td>102.490</td>\n",
       "      <td>1.0704</td>\n",
       "      <td>-0.167139</td>\n",
       "      <td>-0.163865</td>\n",
       "      <td>-2.788865</td>\n",
       "    </tr>\n",
       "    <tr>\n",
       "      <th>3319</th>\n",
       "      <td>MUNI 5741926N5</td>\n",
       "      <td>Municipal Bonds</td>\n",
       "      <td>1.02</td>\n",
       "      <td>4.350</td>\n",
       "      <td>Semi-Annual</td>\n",
       "      <td>103.170539</td>\n",
       "      <td>103.500</td>\n",
       "      <td>0.8933</td>\n",
       "      <td>-0.318320</td>\n",
       "      <td>-0.312088</td>\n",
       "      <td>-2.937088</td>\n",
       "    </tr>\n",
       "    <tr>\n",
       "      <th>3604</th>\n",
       "      <td>MUNI Unknown 74440DCJ1</td>\n",
       "      <td>Municipal Bonds</td>\n",
       "      <td>1.02</td>\n",
       "      <td>4.000</td>\n",
       "      <td>Semi-Annual</td>\n",
       "      <td>102.805614</td>\n",
       "      <td>103.565</td>\n",
       "      <td>0.4900</td>\n",
       "      <td>-0.733246</td>\n",
       "      <td>-0.718920</td>\n",
       "      <td>-3.343920</td>\n",
       "    </tr>\n",
       "  </tbody>\n",
       "</table>\n",
       "</div>"
      ],
      "text/plain": [
       "        Financial Instrument  Instrument Type  Time-To-Maturity (TTM)  Coupon  \\\n",
       "3657          MUNI 345102PG6  Municipal Bonds                    1.02   0.906   \n",
       "3522          MUNI 9826717W3  Municipal Bonds                    1.02   5.000   \n",
       "3458  MUNI Unknown 79770GGF7  Municipal Bonds                    1.02   3.533   \n",
       "3319          MUNI 5741926N5  Municipal Bonds                    1.02   4.350   \n",
       "3604  MUNI Unknown 74440DCJ1  Municipal Bonds                    1.02   4.000   \n",
       "\n",
       "     Payment Frequency          PV      Ask  Ask Yield      ROI%      ARR%  \\\n",
       "3657       Semi-Annual   99.579673   99.257     1.6439  0.325088  0.318704   \n",
       "3522       Semi-Annual  103.848258  103.782     1.2545  0.063843  0.062591   \n",
       "3458       Semi-Annual  102.318699  102.490     1.0704 -0.167139 -0.163865   \n",
       "3319       Semi-Annual  103.170539  103.500     0.8933 -0.318320 -0.312088   \n",
       "3604       Semi-Annual  102.805614  103.565     0.4900 -0.733246 -0.718920   \n",
       "\n",
       "      ARR% VS RF%  \n",
       "3657    -2.306296  \n",
       "3522    -2.562409  \n",
       "3458    -2.788865  \n",
       "3319    -2.937088  \n",
       "3604    -3.343920  "
      ]
     },
     "execution_count": 12,
     "metadata": {},
     "output_type": "execute_result"
    }
   ],
   "source": [
    "df_ranked.tail(5)"
   ]
  },
  {
   "cell_type": "markdown",
   "id": "424fe60e",
   "metadata": {
    "papermill": {
     "duration": 0.009025,
     "end_time": "2024-07-24T16:54:12.030680",
     "exception": false,
     "start_time": "2024-07-24T16:54:12.021655",
     "status": "completed"
    },
    "tags": []
   },
   "source": [
    "Looking at the distribution of the ARR vs RF, most good rating fixed income give a better yield than our savings account, with tax incentives (e.g. most capital gains at manturity are not taxed, expect the interest received unless its a Municipal Bond under certain conditions)."
   ]
  },
  {
   "cell_type": "code",
   "execution_count": 13,
   "id": "122c498e",
   "metadata": {
    "execution": {
     "iopub.execute_input": "2024-07-24T16:54:12.050857Z",
     "iopub.status.busy": "2024-07-24T16:54:12.050496Z",
     "iopub.status.idle": "2024-07-24T16:54:12.064337Z",
     "shell.execute_reply": "2024-07-24T16:54:12.063332Z"
    },
    "papermill": {
     "duration": 0.026331,
     "end_time": "2024-07-24T16:54:12.066297",
     "exception": false,
     "start_time": "2024-07-24T16:54:12.039966",
     "status": "completed"
    },
    "tags": []
   },
   "outputs": [
    {
     "data": {
      "text/plain": [
       "count    1542.000000\n",
       "mean       -0.035017\n",
       "std         0.861477\n",
       "min        -3.343920\n",
       "25%        -0.790832\n",
       "50%         0.084323\n",
       "75%         0.584749\n",
       "max         2.302461\n",
       "Name: ARR% VS RF%, dtype: float64"
      ]
     },
     "execution_count": 13,
     "metadata": {},
     "output_type": "execute_result"
    }
   ],
   "source": [
    "df_ranked[\"ARR% VS RF%\"].describe()"
   ]
  },
  {
   "cell_type": "markdown",
   "id": "f73e14ac",
   "metadata": {
    "papermill": {
     "duration": 0.00905,
     "end_time": "2024-07-24T16:54:12.084695",
     "exception": false,
     "start_time": "2024-07-24T16:54:12.075645",
     "status": "completed"
    },
    "tags": []
   },
   "source": [
    "# Conclusion\n",
    "\n",
    "In this article we explored the methodologies for bond valuation. By applying present value calculations and assessing the annual rate of return, we understand which fixed income security is fairly priced for us. \n",
    "\n",
    "Determining a bonds intrinsic values makes shaping and protecting our portfolios easier. ​"
   ]
  },
  {
   "cell_type": "markdown",
   "id": "38159c22",
   "metadata": {
    "papermill": {
     "duration": 0.009003,
     "end_time": "2024-07-24T16:54:12.102993",
     "exception": false,
     "start_time": "2024-07-24T16:54:12.093990",
     "status": "completed"
    },
    "tags": []
   },
   "source": [
    "# References\n",
    "\n",
    "- https://biz.libretexts.org/Bookshelves/Finance/Principles_of_Finance_(OpenStax)\n",
    "- https://www.investopedia.com/ask/answers/accrued-interest-why-do-i-pay-when-i-buy-bond\n",
    "- https://www.investopedia.com/terms/a/annual-return.asp\n",
    "- https://www.investopedia.com/articles/investing/073113/introduction-treasury-securities.asp\n",
    "- https://finance.ec.europa.eu/banking/banking-regulation/deposit-guarantee-schemes_en\n"
   ]
  },
  {
   "cell_type": "markdown",
   "id": "bc8ad36e",
   "metadata": {
    "papermill": {
     "duration": 0.009092,
     "end_time": "2024-07-24T16:54:12.121624",
     "exception": false,
     "start_time": "2024-07-24T16:54:12.112532",
     "status": "completed"
    },
    "tags": []
   },
   "source": [
    "## Github\n",
    "\n",
    "Article and code available on [Github](https://github.com/adamd1985/quant_research/blob/main/bond_valuations.ipynb)\n",
    "\n",
    "Kaggle notebook available [here](https://www.kaggle.com/code/addarm/bond-valuations)\n",
    "\n",
    "Google Collab available [here](https://colab.research.google.com/github/adamd1985/quant_research/blob/main/bond_valuations.ipynb)\n",
    "\n",
    "## Media\n",
    "\n",
    "All media used (in the form of code or images) are either solely owned by me, acquired through licensing, or part of the Public Domain and granted use through Creative Commons License.\n",
    "\n",
    "## CC Licensing and Use\n",
    "\n",
    "<a rel=\"license\" href=\"http://creativecommons.org/licenses/by-nc/4.0/\"><img alt=\"Creative Commons License\" style=\"border-width:0\" src=\"https://i.creativecommons.org/l/by-nc/4.0/88x31.png\" /></a><br />This work is licensed under a <a rel=\"license\" href=\"http://creativecommons.org/licenses/by-nc/4.0/\">Creative Commons Attribution-NonCommercial 4.0 International License</a>."
   ]
  }
 ],
 "metadata": {
  "kaggle": {
   "accelerator": "none",
   "dataSources": [
    {
     "datasetId": 5440417,
     "sourceId": 9026873,
     "sourceType": "datasetVersion"
    }
   ],
   "dockerImageVersionId": 30746,
   "isGpuEnabled": false,
   "isInternetEnabled": true,
   "language": "python",
   "sourceType": "notebook"
  },
  "kernelspec": {
   "display_name": "Python 3",
   "language": "python",
   "name": "python3"
  },
  "language_info": {
   "codemirror_mode": {
    "name": "ipython",
    "version": 3
   },
   "file_extension": ".py",
   "mimetype": "text/x-python",
   "name": "python",
   "nbconvert_exporter": "python",
   "pygments_lexer": "ipython3",
   "version": "3.10.13"
  },
  "papermill": {
   "default_parameters": {},
   "duration": 4.816343,
   "end_time": "2024-07-24T16:54:12.550673",
   "environment_variables": {},
   "exception": null,
   "input_path": "__notebook__.ipynb",
   "output_path": "__notebook__.ipynb",
   "parameters": {},
   "start_time": "2024-07-24T16:54:07.734330",
   "version": "2.5.0"
  }
 },
 "nbformat": 4,
 "nbformat_minor": 5
}
