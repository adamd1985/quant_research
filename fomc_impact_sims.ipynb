{
 "cells": [
  {
   "cell_type": "markdown",
   "id": "eddeacc9",
   "metadata": {
    "papermill": {
     "duration": 0.014625,
     "end_time": "2024-07-29T14:15:43.511765",
     "exception": false,
     "start_time": "2024-07-29T14:15:43.497140",
     "status": "completed"
    },
    "tags": []
   },
   "source": [
    "# Machine Learning and Stochastic Models for Predicting FOMC Meetings Impact\n",
    "\n",
    "<a href=\"https://www.kaggle.com/code/addarm/predicting-fomc-impact-on-the-markets\" target=\"_blank\"><img align=\"left\" alt=\"Kaggle\" title=\"Open in Kaggle\" src=\"https://kaggle.com/static/images/open-in-kaggle.svg\"></a><a href=\"https://colab.research.google.com/github/adamd1985/quant_research/blob/main/bond_valuations.ipynb\" target=\"_parent\"><img src=\"https://colab.research.google.com/assets/colab-badge.svg\" alt=\"Open In Colab\"/></a>"
   ]
  },
  {
   "cell_type": "markdown",
   "id": "0e9b290c",
   "metadata": {
    "papermill": {
     "duration": 0.013815,
     "end_time": "2024-07-29T14:15:43.539823",
     "exception": false,
     "start_time": "2024-07-29T14:15:43.526008",
     "status": "completed"
    },
    "tags": []
   },
   "source": [
    "![DALL·E 2024-07-29 14.46.02 - A detailed graph of Monte Carlo simulations](https://raw.githubusercontent.com/adamd1985/quant_research/main/images/fomc_montecarlo.png)\n",
    "\n",
    "<!-- @import \"[TOC]\" {cmd=\"toc\" depthFrom=1 depthTo=6 orderedList=false} -->"
   ]
  },
  {
   "cell_type": "markdown",
   "id": "104c407f",
   "metadata": {
    "papermill": {
     "duration": 0.01396,
     "end_time": "2024-07-29T14:15:43.568609",
     "exception": false,
     "start_time": "2024-07-29T14:15:43.554649",
     "status": "completed"
    },
    "tags": []
   },
   "source": [
    "In this article, we will use stochastic financial modeling and machine learning to estimated the impact of the next (31st July 2024) Federal Open Market Committee (FOMC) announcements on the market. Specifically, we implement the Heston Stochastic Volatility Model and Ornstein-Uhlenbeck process to simulate market movements and analyze simulated outcomes.\n",
    "\n",
    "Additionally, we utilize machine learning techniques in the form of Random Forests and other ensembles to enhance prediction accuracy."
   ]
  },
  {
   "cell_type": "markdown",
   "id": "99968fb3",
   "metadata": {
    "papermill": {
     "duration": 0.014096,
     "end_time": "2024-07-29T14:15:43.596977",
     "exception": false,
     "start_time": "2024-07-29T14:15:43.582881",
     "status": "completed"
    },
    "tags": []
   },
   "source": [
    "## Notebook Setup"
   ]
  },
  {
   "cell_type": "code",
   "execution_count": 1,
   "id": "8625698d",
   "metadata": {
    "execution": {
     "iopub.execute_input": "2024-07-29T14:15:43.628091Z",
     "iopub.status.busy": "2024-07-29T14:15:43.627699Z",
     "iopub.status.idle": "2024-07-29T14:16:27.727183Z",
     "shell.execute_reply": "2024-07-29T14:16:27.725713Z"
    },
    "papermill": {
     "duration": 44.117845,
     "end_time": "2024-07-29T14:16:27.729854",
     "exception": false,
     "start_time": "2024-07-29T14:15:43.612009",
     "status": "completed"
    },
    "tags": []
   },
   "outputs": [
    {
     "name": "stdout",
     "output_type": "stream",
     "text": [
      "Collecting yfinance\r\n",
      "  Downloading yfinance-0.2.41-py2.py3-none-any.whl.metadata (11 kB)\r\n",
      "Requirement already satisfied: pandas>=1.3.0 in /opt/conda/lib/python3.10/site-packages (from yfinance) (2.2.2)\r\n",
      "Requirement already satisfied: numpy>=1.16.5 in /opt/conda/lib/python3.10/site-packages (from yfinance) (1.26.4)\r\n",
      "Requirement already satisfied: requests>=2.31 in /opt/conda/lib/python3.10/site-packages (from yfinance) (2.32.3)\r\n",
      "Collecting multitasking>=0.0.7 (from yfinance)\r\n",
      "  Downloading multitasking-0.0.11-py3-none-any.whl.metadata (5.5 kB)\r\n",
      "Requirement already satisfied: lxml>=4.9.1 in /opt/conda/lib/python3.10/site-packages (from yfinance) (5.2.2)\r\n",
      "Requirement already satisfied: platformdirs>=2.0.0 in /opt/conda/lib/python3.10/site-packages (from yfinance) (3.11.0)\r\n",
      "Requirement already satisfied: pytz>=2022.5 in /opt/conda/lib/python3.10/site-packages (from yfinance) (2023.3.post1)\r\n",
      "Requirement already satisfied: frozendict>=2.3.4 in /opt/conda/lib/python3.10/site-packages (from yfinance) (2.4.4)\r\n",
      "Collecting peewee>=3.16.2 (from yfinance)\r\n",
      "  Downloading peewee-3.17.6.tar.gz (3.0 MB)\r\n",
      "\u001b[2K     \u001b[90m━━━━━━━━━━━━━━━━━━━━━━━━━━━━━━━━━━━━━━━━\u001b[0m \u001b[32m3.0/3.0 MB\u001b[0m \u001b[31m32.5 MB/s\u001b[0m eta \u001b[36m0:00:00\u001b[0m\r\n",
      "\u001b[?25h  Installing build dependencies ... \u001b[?25l-\b \b\\\b \b|\b \b/\b \b-\b \bdone\r\n",
      "\u001b[?25h  Getting requirements to build wheel ... \u001b[?25l-\b \bdone\r\n",
      "\u001b[?25h  Preparing metadata (pyproject.toml) ... \u001b[?25l-\b \bdone\r\n",
      "\u001b[?25hRequirement already satisfied: beautifulsoup4>=4.11.1 in /opt/conda/lib/python3.10/site-packages (from yfinance) (4.12.2)\r\n",
      "Requirement already satisfied: html5lib>=1.1 in /opt/conda/lib/python3.10/site-packages (from yfinance) (1.1)\r\n",
      "Requirement already satisfied: soupsieve>1.2 in /opt/conda/lib/python3.10/site-packages (from beautifulsoup4>=4.11.1->yfinance) (2.5)\r\n",
      "Requirement already satisfied: six>=1.9 in /opt/conda/lib/python3.10/site-packages (from html5lib>=1.1->yfinance) (1.16.0)\r\n",
      "Requirement already satisfied: webencodings in /opt/conda/lib/python3.10/site-packages (from html5lib>=1.1->yfinance) (0.5.1)\r\n",
      "Requirement already satisfied: python-dateutil>=2.8.2 in /opt/conda/lib/python3.10/site-packages (from pandas>=1.3.0->yfinance) (2.9.0.post0)\r\n",
      "Requirement already satisfied: tzdata>=2022.7 in /opt/conda/lib/python3.10/site-packages (from pandas>=1.3.0->yfinance) (2023.4)\r\n",
      "Requirement already satisfied: charset-normalizer<4,>=2 in /opt/conda/lib/python3.10/site-packages (from requests>=2.31->yfinance) (3.3.2)\r\n",
      "Requirement already satisfied: idna<4,>=2.5 in /opt/conda/lib/python3.10/site-packages (from requests>=2.31->yfinance) (3.6)\r\n",
      "Requirement already satisfied: urllib3<3,>=1.21.1 in /opt/conda/lib/python3.10/site-packages (from requests>=2.31->yfinance) (1.26.18)\r\n",
      "Requirement already satisfied: certifi>=2017.4.17 in /opt/conda/lib/python3.10/site-packages (from requests>=2.31->yfinance) (2024.7.4)\r\n",
      "Downloading yfinance-0.2.41-py2.py3-none-any.whl (73 kB)\r\n",
      "\u001b[2K   \u001b[90m━━━━━━━━━━━━━━━━━━━━━━━━━━━━━━━━━━━━━━━━\u001b[0m \u001b[32m73.5/73.5 kB\u001b[0m \u001b[31m2.9 MB/s\u001b[0m eta \u001b[36m0:00:00\u001b[0m\r\n",
      "\u001b[?25hDownloading multitasking-0.0.11-py3-none-any.whl (8.5 kB)\r\n",
      "Building wheels for collected packages: peewee\r\n",
      "  Building wheel for peewee (pyproject.toml) ... \u001b[?25l-\b \b\\\b \b|\b \b/\b \bdone\r\n",
      "\u001b[?25h  Created wheel for peewee: filename=peewee-3.17.6-cp310-cp310-linux_x86_64.whl size=293633 sha256=8bf4247826472c2c13d54841ae66a970e54999a065d42451109dc9967f9764d6\r\n",
      "  Stored in directory: /root/.cache/pip/wheels/4b/b9/b0/83d6e258e8f963f5ff111a2cd8c483ca59372a86e6a2535212\r\n",
      "Successfully built peewee\r\n",
      "Installing collected packages: peewee, multitasking, yfinance\r\n",
      "Successfully installed multitasking-0.0.11 peewee-3.17.6 yfinance-0.2.41\r\n",
      "Note: you may need to restart the kernel to use updated packages.\n",
      "Running in Kaggle...\n",
      "/kaggle/input/fomc-dataset-2000-2024/FOMC_dataset.csv\n",
      "Kaggle!\n"
     ]
    }
   ],
   "source": [
    "import os\n",
    "import pandas as pd\n",
    "import numpy as np\n",
    "from datetime import datetime, timedelta\n",
    "import matplotlib.pyplot as plt\n",
    "from tqdm import tqdm\n",
    "import logging\n",
    "\n",
    "import warnings\n",
    "warnings.filterwarnings(\"ignore\")\n",
    "\n",
    "INSTALL_DEPS = True\n",
    "if INSTALL_DEPS:\n",
    "    # If Kaggle or Colab, you have to manage these. If local, install all\n",
    "    %pip install yfinance\n",
    "    \n",
    "IN_KAGGLE = IN_COLAB = False\n",
    "try:\n",
    "    import google.colab\n",
    "    from google.colab import drive\n",
    "\n",
    "    drive.mount(\"/content/drive\")\n",
    "    DATA_PATH = \"/content/drive/MyDrive/fomc_dataset\"\n",
    "    MODEL_PATH = \"/content/drive/MyDrive/models\"\n",
    "    IN_COLAB = True\n",
    "    print(\"Colab!\")\n",
    "except:\n",
    "    IN_COLAB = False\n",
    "if \"KAGGLE_KERNEL_RUN_TYPE\" in os.environ and not IN_COLAB:\n",
    "    print(\"Running in Kaggle...\")\n",
    "    for dirname, _, filenames in os.walk(\"/kaggle/input\"):\n",
    "        for filename in filenames:\n",
    "            print(os.path.join(dirname, filename))\n",
    "    DATA_PATH = \"/kaggle/input/fomc-dataset-2000-2024\"\n",
    "    MODEL_PATH = \".\"\n",
    "    IN_KAGGLE = True\n",
    "    print(\"Kaggle!\")\n",
    "elif not IN_COLAB:\n",
    "    IN_KAGGLE = False\n",
    "    DATA_PATH = \"./data/macro\"\n",
    "    MODEL_PATH = \"./models/fomc/\"\n",
    "    print(\"running localhost!\")"
   ]
  },
  {
   "cell_type": "markdown",
   "id": "5fcb265a",
   "metadata": {
    "papermill": {
     "duration": 0.016919,
     "end_time": "2024-07-29T14:16:27.764031",
     "exception": false,
     "start_time": "2024-07-29T14:16:27.747112",
     "status": "completed"
    },
    "tags": []
   },
   "source": [
    "# Heston Stochastic Volatility Model\n",
    "\n",
    "The Heston model is a popular stochastic volatility model used to describe the evolution of an underlying asset with stochastic volatility. The model assumes that the underlying asset price $S_t$ and its variance $V_t$ follow the stochastic differential equations:\n",
    "\n",
    "$$\n",
    "\\begin{aligned}\n",
    "    dS_t &= \\mu S_t dt + \\sqrt{V_t} S_t dW_{1,t}, \\\\\n",
    "    dV_t &= \\kappa (\\theta - V_t) dt + \\sigma \\sqrt{V_t} dW_{2,t}, \\\\\n",
    "    dW_{1,t} dW_{2,t} &= \\rho dt,\n",
    "\\end{aligned}\n",
    "$$\n",
    "\n",
    "where:\n",
    "- $S_t$ is the asset price at time $t$,\n",
    "- $V_t$ is the variance at time $t$,\n",
    "- $\\mu$ is the drift rate of the asset,\n",
    "- $\\kappa$ is the rate of mean reversion of variance,\n",
    "- $\\gamma$ is the long-term variance,\n",
    "- $\\sigma$ is the volatility of the variance process,\n",
    "- $W_{1,t}$ and $W_{2,t}$ are Wiener processes with correlation $\\rho$.\n",
    " \n",
    "These 2 theoretical SDEs describe how the price and variance evolve continuously over time, though it needs to be discretized to be applied in a numerical solution"
   ]
  },
  {
   "cell_type": "markdown",
   "id": "897526a3",
   "metadata": {
    "papermill": {
     "duration": 0.016889,
     "end_time": "2024-07-29T14:16:27.798585",
     "exception": false,
     "start_time": "2024-07-29T14:16:27.781696",
     "status": "completed"
    },
    "tags": []
   },
   "source": [
    "## Discretized Heston Model\n",
    "\n",
    "Using the Euler-Maruyama method to discretize the model:\n",
    "\n",
    "$$\n",
    "X_t = X_{t-1} + \\mu X_{t-1} \\, dt + \\sqrt{\\zeta_{t-1}} X_{t-1} \\sqrt{dt} Z_{t1}\n",
    "$$\n",
    "\n",
    "Where:\n",
    "- $X_t$ is the stock price at time $t$.\n",
    "- $\\mu$ is the drift term, representing the expected return of the stock.\n",
    "- $dt$ is the size of the time step.\n",
    "- $\\zeta_{t-1}$ is the variance at time $t-1$.\n",
    "- $Z_{t1}$ is a standard normal random variable representing the random shock to the stock price.\n",
    "\n",
    "Same for the variance equation:\n",
    "\n",
    "$$\n",
    "\\zeta_t = \\zeta_{t-1} + \\kappa (\\gamma - \\zeta_{t-1}) \\, dt + \\sigma_\\zeta \\sqrt{\\zeta_{t-1}} \\sqrt{dt} Z_{t2}\n",
    "$$\n",
    "\n",
    "Where:\n",
    "- $\\zeta_t$ is the variance at time $t$.\n",
    "- $\\kappa$ is the rate of mean reversion, dictating how quickly the variance reverts to the long-run average $\\gamma$.\n",
    "- $\\gamma$ is the long-run average variance.\n",
    "- $\\sigma_\\zeta$ is the volatility of the variance process.\n",
    "- $Z_{t2}$ is a standard normal random variable representing the random shock to the variance.\n",
    "\n",
    "in both equations $dt$ is the timestep, calculated as:\n",
    "\n",
    "$$\n",
    "dt = \\frac{T}{N}\n",
    "$$\n",
    "\n",
    "Where:\n",
    "- $T$ is the annualized Time Horizon, in years.\n",
    "- $N$ is the number of discrete steps (in days) the time horizon is divided.\n",
    "\n",
    "The random variables $Z_{t1}$ and $Z_{t2}$ are correlated with correlation coefficient $\\rho$:\n",
    "\n",
    "$$\n",
    "Z_{t1} = G_{t1}\n",
    "$$\n",
    "\n",
    "$$\n",
    "Z_{t2} = \\rho G_{t1} + \\sqrt{1 - \\rho^2} G_{t2}\n",
    "$$\n",
    "\n",
    "Where:\n",
    "- $\\rho$ is the correlation between the stock price and variance processes.\n",
    "- $Z_{t2}$ is constructed to have the desired correlation with $Z_{t1}$.\n",
    "- $G_{t2}$ ensures that $Z_{t2}$ is also a standard normal random variable."
   ]
  },
  {
   "cell_type": "markdown",
   "id": "e80fcaad",
   "metadata": {
    "papermill": {
     "duration": 0.016664,
     "end_time": "2024-07-29T14:16:27.832339",
     "exception": false,
     "start_time": "2024-07-29T14:16:27.815675",
     "status": "completed"
    },
    "tags": []
   },
   "source": [
    "### Jumps with  Poisson Process\n",
    "\n",
    "We are simulating market impact, therefore there will be a shock in the Heston process which we should simulate using Poisson. The Poisson process is used to model the occurrence of random events over time:\n",
    "\n",
    "1. The probability of exactly one event occurring in a small interval of length $dt$ is $\\lambda dt + o(dt)$.\n",
    "2. The probability of more than one event occurring in a small interval of length $dt$ is $o(dt)$.\n",
    "3. The probability of no events occurring in a small interval of length $dt$ is $1 - \\lambda dt + o(dt)$.\n",
    "\n",
    "The number of events $N(t)$ occurring up to time $t$ follows the Poisson distribution:\n",
    "$$\n",
    "P(N(t) = k) = \\frac{(\\lambda t)^k e^{-\\lambda t}}{k!}, \\quad k = 0, 1, 2, \\ldots\n",
    "$$\n",
    "where $k$ represents the number of events (or jumps) that occur up to time $t$, and $\\lambda$ is the frequency of jumps\n",
    "\n",
    "In our Heston model, we include 2 new paramaters:\n",
    "\n",
    "1. Jump Probaability: The Poisson process determines if a jump occurs during each time step. This is done for both positive (bull) and negative (bear) jumps.\n",
    "2. Jump Magnitude: In the form or mean and standard deviation. When a jump occurs, the magnitude is modeled using a normal distribution."
   ]
  },
  {
   "cell_type": "code",
   "execution_count": 2,
   "id": "edd4b9cf",
   "metadata": {
    "execution": {
     "iopub.execute_input": "2024-07-29T14:16:27.869227Z",
     "iopub.status.busy": "2024-07-29T14:16:27.868436Z",
     "iopub.status.idle": "2024-07-29T14:16:27.882498Z",
     "shell.execute_reply": "2024-07-29T14:16:27.881422Z"
    },
    "papermill": {
     "duration": 0.035531,
     "end_time": "2024-07-29T14:16:27.885111",
     "exception": false,
     "start_time": "2024-07-29T14:16:27.849580",
     "status": "completed"
    },
    "tags": []
   },
   "outputs": [],
   "source": [
    "def heston_model(X0, v0, mu, kappa, gamma, sigma_variance, rho, T, N, pos_jump_proba=0.05, neg_jump_proba=0.05, jump_mean=0.005, jump_std=0.015):\n",
    "    dt = T / N\n",
    "    X = np.zeros(N+1)\n",
    "    v = np.zeros(N+1)\n",
    "    X[0] = X0\n",
    "    v[0] = v0\n",
    "    pos_lambda = pos_jump_proba / dt\n",
    "    neg_lambda = neg_jump_proba / dt\n",
    "    for t in range(1, N+1):\n",
    "        Gt1 = np.random.normal(0, 1)\n",
    "        Gt2 = np.random.normal(0, 1)\n",
    "        Zt1 = Gt1\n",
    "        Zt2 = rho * Gt1 + np.sqrt(1 - rho**2) * Gt2\n",
    "\n",
    "        v[t] = v[t-1] + kappa * (gamma - v[t-1]) * dt + sigma_variance * np.sqrt(v[t-1]) * np.sqrt(dt) * Zt2\n",
    "        v[t] = max(v[t], 0)  # Ensure variance stays non-negative\n",
    "        X[t] = X[t-1] * np.exp((mu - 0.5 * v[t-1]) * dt + np.sqrt(v[t-1] * dt) * Zt1)\n",
    "\n",
    "        # Convert into rates per unit time interval\n",
    "        pos_jump_occurs = np.random.poisson(pos_lambda) > 0\n",
    "        neg_jump_occurs = np.random.poisson(neg_lambda) > 0\n",
    "\n",
    "        if pos_jump_occurs:\n",
    "            pos_jump_size = np.random.normal(jump_mean, jump_std)\n",
    "            X[t] *= np.exp(pos_jump_size)\n",
    "        elif neg_jump_occurs:\n",
    "            neg_jump_size = np.random.normal(jump_mean, jump_std)\n",
    "            X[t] *= np.exp(-neg_jump_size)\n",
    "\n",
    "    # Don't return X0 and V0\n",
    "    return X[1:], v[1:]"
   ]
  },
  {
   "cell_type": "markdown",
   "id": "ff6ca195",
   "metadata": {
    "papermill": {
     "duration": 0.016985,
     "end_time": "2024-07-29T14:16:27.919127",
     "exception": false,
     "start_time": "2024-07-29T14:16:27.902142",
     "status": "completed"
    },
    "tags": []
   },
   "source": [
    "Let's do some tests to see that our Heston gives sensible results:"
   ]
  },
  {
   "cell_type": "code",
   "execution_count": 3,
   "id": "3c2e7ac3",
   "metadata": {
    "execution": {
     "iopub.execute_input": "2024-07-29T14:16:27.954776Z",
     "iopub.status.busy": "2024-07-29T14:16:27.954371Z",
     "iopub.status.idle": "2024-07-29T14:16:27.968498Z",
     "shell.execute_reply": "2024-07-29T14:16:27.967405Z"
    },
    "papermill": {
     "duration": 0.034833,
     "end_time": "2024-07-29T14:16:27.971025",
     "exception": false,
     "start_time": "2024-07-29T14:16:27.936192",
     "status": "completed"
    },
    "tags": []
   },
   "outputs": [
    {
     "data": {
      "text/plain": [
       "(array([100.12253915, 100.77384059, 104.02558585, 107.51948641,\n",
       "        106.84373924]),\n",
       " array([0.04144852, 0.04066575, 0.04152933, 0.04198889, 0.04043653]))"
      ]
     },
     "execution_count": 3,
     "metadata": {},
     "output_type": "execute_result"
    }
   ],
   "source": [
    "X0 = 100  # Initial stock price\n",
    "variance0 = 0.04  # Initial variance (square of initial volatility)\n",
    "mu = 0.05  # Drift of stock price\n",
    "kappa = 1.0  # Speed of mean reversion of variance\n",
    "theta = 0.04  # Long run average variance\n",
    "sigma_variance = 0.2  # Volatility of variance\n",
    "rho = -0.7  # Correlation between the two Wiener processes\n",
    "T = 5 / 252  # Time horizon (1 week, represented as 5/252 years)\n",
    "N = 5  # Number of time steps (5 trading days)\n",
    "\n",
    "# Simulate without shocks\n",
    "X, variance = heston_model(\n",
    "    X0, variance0, mu, kappa, theta, sigma_variance, rho, T, N\n",
    ")\n",
    "\n",
    "X, variance"
   ]
  },
  {
   "cell_type": "markdown",
   "id": "b889f0fc",
   "metadata": {
    "papermill": {
     "duration": 0.016673,
     "end_time": "2024-07-29T14:16:28.004702",
     "exception": false,
     "start_time": "2024-07-29T14:16:27.988029",
     "status": "completed"
    },
    "tags": []
   },
   "source": [
    "# FOMC and Macro Datasets\n",
    "\n",
    "Note the probabilities for jumps in the Heston parameters. We need to supply those through historic data. Our aim is to use machine learning (ML) to output such probabilities. \n",
    "\n",
    "Through various data repositories, we built a dataset for our simulations which you can download. \n",
    "\n",
    "We did feature engineering to create various interaction featurs in the python below:"
   ]
  },
  {
   "cell_type": "code",
   "execution_count": 4,
   "id": "2831e0fd",
   "metadata": {
    "execution": {
     "iopub.execute_input": "2024-07-29T14:16:28.040363Z",
     "iopub.status.busy": "2024-07-29T14:16:28.039973Z",
     "iopub.status.idle": "2024-07-29T14:16:28.243046Z",
     "shell.execute_reply": "2024-07-29T14:16:28.241829Z"
    },
    "papermill": {
     "duration": 0.22411,
     "end_time": "2024-07-29T14:16:28.245775",
     "exception": false,
     "start_time": "2024-07-29T14:16:28.021665",
     "status": "completed"
    },
    "tags": []
   },
   "outputs": [],
   "source": [
    "macro_df = pd.read_csv(f\"{DATA_PATH}/FOMC_dataset.csv\")\n",
    "\n",
    "macro_df['Date'] = pd.to_datetime(macro_df['Date'])\n",
    "macro_df['Year'] = macro_df['Date'].dt.year\n",
    "macro_df['Month'] = macro_df['Date'].dt.month\n",
    "macro_df['Quarter'] = macro_df['Date'].dt.quarter\n",
    "\n",
    "macro_df['Month_Sin'] = np.sin(2 * np.pi * macro_df['Month'] / 12)\n",
    "macro_df['Month_Cos'] = np.cos(2 * np.pi * macro_df['Month'] / 12)\n",
    "\n",
    "macro_df['YoY Industry Production'] = macro_df['Industry Production'].pct_change(periods=12).bfill()\n",
    "macro_df['YoY PCE'] = macro_df['PCE'].pct_change(periods=12).bfill()\n",
    "macro_df['YoY Retail Sales'] = macro_df['Retail Sales'].pct_change(periods=12).bfill()\n",
    "macro_df['YoY Unemployment'] = macro_df['Unemployment'].pct_change(periods=12).bfill()\n",
    "macro_df['YoY Wage Increase'] = macro_df['Wage Increase'].pct_change(periods=12).bfill()\n",
    "macro_df['YoY Home Sales'] = macro_df['Home Sales'].pct_change(periods=12).bfill()\n",
    "macro_df['YoY Retail Trade'] = macro_df['Retail Trade'].pct_change(periods=12).bfill()\n",
    "macro_df['YoY Real GDP'] = macro_df['Real GDP'].pct_change(periods=12).bfill()\n",
    "\n",
    "macro_df['MoM Industry Production'] = macro_df['Industry Production'].pct_change(periods=1).bfill()\n",
    "macro_df['MoM PCE'] = macro_df['PCE'].pct_change(periods=1).bfill()\n",
    "macro_df['MoM Retail Sales'] = macro_df['Retail Sales'].pct_change(periods=1).bfill()\n",
    "macro_df['MoM Unemployment'] = macro_df['Unemployment'].pct_change(periods=1).bfill()\n",
    "macro_df['MoM Wage Increase'] = macro_df['Wage Increase'].pct_change(periods=1).bfill()\n",
    "macro_df['MoM Home Sales'] = macro_df['Home Sales'].pct_change(periods=1).bfill()\n",
    "macro_df['MoM Retail Trade'] = macro_df['Retail Trade'].pct_change(periods=1).bfill()\n",
    "macro_df['MoM Real GDP'] = macro_df['Real GDP'].pct_change(periods=1).bfill()\n",
    "\n",
    "macro_df['CPI_Unemployment'] = macro_df['CPI'] * macro_df['Unemployment']\n",
    "macro_df['CPI_Industry Production'] = macro_df['CPI'] * macro_df['Industry Production']\n",
    "\n",
    "lags = [1, 3, 6, 12]\n",
    "for lag in lags:\n",
    "    macro_df[f'Industry Production Lag_{lag}'] = macro_df['Industry Production'].shift(lag).bfill()\n",
    "    macro_df[f'PCE Lag_{lag}'] = macro_df['PCE'].shift(lag).bfill()\n",
    "    macro_df[f'Retail Sales Lag_{lag}'] = macro_df['Retail Sales'].shift(lag).bfill()\n",
    "    macro_df[f'Unemployment Lag_{lag}'] = macro_df['Unemployment'].shift(lag).bfill()\n",
    "    macro_df[f'Wage Increase Lag_{lag}'] = macro_df['Wage Increase'].shift(lag).bfill()\n",
    "    macro_df[f'Home Sales Lag_{lag}'] = macro_df['Home Sales'].shift(lag).bfill()\n",
    "    macro_df[f'Retail Trade Lag_{lag}'] = macro_df['Retail Trade'].shift(lag).bfill()\n",
    "    macro_df[f'Real GDP Lag_{lag}'] = macro_df['Real GDP'].shift(lag).bfill()\n",
    "\n",
    "macro_df.sort_values(by=\"Date\", ascending=True, inplace=True)"
   ]
  },
  {
   "cell_type": "code",
   "execution_count": 5,
   "id": "83c423d5",
   "metadata": {
    "execution": {
     "iopub.execute_input": "2024-07-29T14:16:28.282485Z",
     "iopub.status.busy": "2024-07-29T14:16:28.281424Z",
     "iopub.status.idle": "2024-07-29T14:16:28.324752Z",
     "shell.execute_reply": "2024-07-29T14:16:28.323674Z"
    },
    "papermill": {
     "duration": 0.064171,
     "end_time": "2024-07-29T14:16:28.327211",
     "exception": false,
     "start_time": "2024-07-29T14:16:28.263040",
     "status": "completed"
    },
    "tags": []
   },
   "outputs": [
    {
     "name": "stdout",
     "output_type": "stream",
     "text": [
      "Shape: (2492, 105)\n"
     ]
    },
    {
     "data": {
      "text/html": [
       "<div>\n",
       "<style scoped>\n",
       "    .dataframe tbody tr th:only-of-type {\n",
       "        vertical-align: middle;\n",
       "    }\n",
       "\n",
       "    .dataframe tbody tr th {\n",
       "        vertical-align: top;\n",
       "    }\n",
       "\n",
       "    .dataframe thead th {\n",
       "        text-align: right;\n",
       "    }\n",
       "</style>\n",
       "<table border=\"1\" class=\"dataframe\">\n",
       "  <thead>\n",
       "    <tr style=\"text-align: right;\">\n",
       "      <th></th>\n",
       "      <th>CPI</th>\n",
       "      <th>Industry Production</th>\n",
       "      <th>PCE</th>\n",
       "      <th>Retail Sales</th>\n",
       "      <th>Unemployment</th>\n",
       "      <th>Wage Increase</th>\n",
       "      <th>Prior Fed Rate</th>\n",
       "      <th>Home Sales</th>\n",
       "      <th>Retail Trade</th>\n",
       "      <th>Real GDP</th>\n",
       "      <th>...</th>\n",
       "      <th>CPI_Unemployment</th>\n",
       "      <th>CPI_Industry Production</th>\n",
       "      <th>Industry Production_Quarterly_Avg</th>\n",
       "      <th>PCE_Quarterly_Avg</th>\n",
       "      <th>Retail Sales_Quarterly_Avg</th>\n",
       "      <th>Unemployment_Quarterly_Avg</th>\n",
       "      <th>Wage Increase_Quarterly_Avg</th>\n",
       "      <th>Home Sales_Quarterly_Avg</th>\n",
       "      <th>Retail Trade_Quarterly_Avg</th>\n",
       "      <th>Real GDP_Quarterly_Avg</th>\n",
       "    </tr>\n",
       "  </thead>\n",
       "  <tbody>\n",
       "    <tr>\n",
       "      <th>2487</th>\n",
       "      <td>312.332000</td>\n",
       "      <td>102.406</td>\n",
       "      <td>122.782000</td>\n",
       "      <td>225391.0</td>\n",
       "      <td>3.8</td>\n",
       "      <td>368.0</td>\n",
       "      <td>5.33</td>\n",
       "      <td>683.0</td>\n",
       "      <td>610060.0</td>\n",
       "      <td>22918.739</td>\n",
       "      <td>...</td>\n",
       "      <td>1186.861600</td>\n",
       "      <td>31984.670792</td>\n",
       "      <td>102.164667</td>\n",
       "      <td>122.371667</td>\n",
       "      <td>225074.666667</td>\n",
       "      <td>3.8</td>\n",
       "      <td>367.0</td>\n",
       "      <td>663.333333</td>\n",
       "      <td>606233.666667</td>\n",
       "      <td>22865.410</td>\n",
       "    </tr>\n",
       "    <tr>\n",
       "      <th>2488</th>\n",
       "      <td>313.548000</td>\n",
       "      <td>102.433</td>\n",
       "      <td>123.109000</td>\n",
       "      <td>224350.0</td>\n",
       "      <td>3.9</td>\n",
       "      <td>368.0</td>\n",
       "      <td>5.33</td>\n",
       "      <td>730.0</td>\n",
       "      <td>608458.0</td>\n",
       "      <td>22918.739</td>\n",
       "      <td>...</td>\n",
       "      <td>1222.837200</td>\n",
       "      <td>32117.662284</td>\n",
       "      <td>103.251667</td>\n",
       "      <td>123.166000</td>\n",
       "      <td>224750.333333</td>\n",
       "      <td>4.0</td>\n",
       "      <td>368.0</td>\n",
       "      <td>656.000000</td>\n",
       "      <td>609424.666667</td>\n",
       "      <td>26726.739</td>\n",
       "    </tr>\n",
       "    <tr>\n",
       "      <th>2489</th>\n",
       "      <td>314.069000</td>\n",
       "      <td>103.328</td>\n",
       "      <td>123.146000</td>\n",
       "      <td>224913.0</td>\n",
       "      <td>4.0</td>\n",
       "      <td>368.0</td>\n",
       "      <td>5.33</td>\n",
       "      <td>621.0</td>\n",
       "      <td>609908.0</td>\n",
       "      <td>28630.739</td>\n",
       "      <td>...</td>\n",
       "      <td>1256.276000</td>\n",
       "      <td>32452.121632</td>\n",
       "      <td>103.251667</td>\n",
       "      <td>123.166000</td>\n",
       "      <td>224750.333333</td>\n",
       "      <td>4.0</td>\n",
       "      <td>368.0</td>\n",
       "      <td>656.000000</td>\n",
       "      <td>609424.666667</td>\n",
       "      <td>26726.739</td>\n",
       "    </tr>\n",
       "    <tr>\n",
       "      <th>2490</th>\n",
       "      <td>314.175000</td>\n",
       "      <td>103.994</td>\n",
       "      <td>123.243000</td>\n",
       "      <td>224988.0</td>\n",
       "      <td>4.1</td>\n",
       "      <td>368.0</td>\n",
       "      <td>5.33</td>\n",
       "      <td>617.0</td>\n",
       "      <td>609908.0</td>\n",
       "      <td>28630.739</td>\n",
       "      <td>...</td>\n",
       "      <td>1288.117500</td>\n",
       "      <td>32672.314950</td>\n",
       "      <td>103.251667</td>\n",
       "      <td>123.166000</td>\n",
       "      <td>224750.333333</td>\n",
       "      <td>4.0</td>\n",
       "      <td>368.0</td>\n",
       "      <td>656.000000</td>\n",
       "      <td>609424.666667</td>\n",
       "      <td>26726.739</td>\n",
       "    </tr>\n",
       "    <tr>\n",
       "      <th>2491</th>\n",
       "      <td>314.489175</td>\n",
       "      <td>103.994</td>\n",
       "      <td>123.489486</td>\n",
       "      <td>224988.0</td>\n",
       "      <td>4.1</td>\n",
       "      <td>368.0</td>\n",
       "      <td>5.33</td>\n",
       "      <td>612.0</td>\n",
       "      <td>623944.0</td>\n",
       "      <td>28630.739</td>\n",
       "      <td>...</td>\n",
       "      <td>1289.405617</td>\n",
       "      <td>32704.987265</td>\n",
       "      <td>103.994000</td>\n",
       "      <td>123.489486</td>\n",
       "      <td>224988.000000</td>\n",
       "      <td>4.1</td>\n",
       "      <td>368.0</td>\n",
       "      <td>612.000000</td>\n",
       "      <td>623944.000000</td>\n",
       "      <td>28630.739</td>\n",
       "    </tr>\n",
       "  </tbody>\n",
       "</table>\n",
       "<p>5 rows × 41 columns</p>\n",
       "</div>"
      ],
      "text/plain": [
       "             CPI  Industry Production         PCE  Retail Sales  Unemployment  \\\n",
       "2487  312.332000              102.406  122.782000      225391.0           3.8   \n",
       "2488  313.548000              102.433  123.109000      224350.0           3.9   \n",
       "2489  314.069000              103.328  123.146000      224913.0           4.0   \n",
       "2490  314.175000              103.994  123.243000      224988.0           4.1   \n",
       "2491  314.489175              103.994  123.489486      224988.0           4.1   \n",
       "\n",
       "      Wage Increase  Prior Fed Rate  Home Sales  Retail Trade   Real GDP  ...  \\\n",
       "2487          368.0            5.33       683.0      610060.0  22918.739  ...   \n",
       "2488          368.0            5.33       730.0      608458.0  22918.739  ...   \n",
       "2489          368.0            5.33       621.0      609908.0  28630.739  ...   \n",
       "2490          368.0            5.33       617.0      609908.0  28630.739  ...   \n",
       "2491          368.0            5.33       612.0      623944.0  28630.739  ...   \n",
       "\n",
       "      CPI_Unemployment  CPI_Industry Production  \\\n",
       "2487       1186.861600             31984.670792   \n",
       "2488       1222.837200             32117.662284   \n",
       "2489       1256.276000             32452.121632   \n",
       "2490       1288.117500             32672.314950   \n",
       "2491       1289.405617             32704.987265   \n",
       "\n",
       "      Industry Production_Quarterly_Avg  PCE_Quarterly_Avg  \\\n",
       "2487                         102.164667         122.371667   \n",
       "2488                         103.251667         123.166000   \n",
       "2489                         103.251667         123.166000   \n",
       "2490                         103.251667         123.166000   \n",
       "2491                         103.994000         123.489486   \n",
       "\n",
       "      Retail Sales_Quarterly_Avg  Unemployment_Quarterly_Avg  \\\n",
       "2487               225074.666667                         3.8   \n",
       "2488               224750.333333                         4.0   \n",
       "2489               224750.333333                         4.0   \n",
       "2490               224750.333333                         4.0   \n",
       "2491               224988.000000                         4.1   \n",
       "\n",
       "      Wage Increase_Quarterly_Avg  Home Sales_Quarterly_Avg  \\\n",
       "2487                        367.0                663.333333   \n",
       "2488                        368.0                656.000000   \n",
       "2489                        368.0                656.000000   \n",
       "2490                        368.0                656.000000   \n",
       "2491                        368.0                612.000000   \n",
       "\n",
       "      Retail Trade_Quarterly_Avg  Real GDP_Quarterly_Avg  \n",
       "2487               606233.666667               22865.410  \n",
       "2488               609424.666667               26726.739  \n",
       "2489               609424.666667               26726.739  \n",
       "2490               609424.666667               26726.739  \n",
       "2491               623944.000000               28630.739  \n",
       "\n",
       "[5 rows x 41 columns]"
      ]
     },
     "execution_count": 5,
     "metadata": {},
     "output_type": "execute_result"
    }
   ],
   "source": [
    "FEATURES = [\n",
    "    \"CPI\", \"Industry Production\", \"PCE\", \"Retail Sales\", \"Unemployment\",\n",
    "    \"Wage Increase\", \"Prior Fed Rate\", \"Home Sales\", \"Retail Trade\",\n",
    "    \"Real GDP\", \"Month\", \"Month_Sin\", \"Month_Cos\", \"Prior CPI\", \"Inflation\",\n",
    "    \"YoY Industry Production\", \"YoY PCE\", \"YoY Retail Sales\", \"YoY Unemployment\",\n",
    "    \"YoY Wage Increase\", \"YoY Home Sales\", \"YoY Retail Trade\", \"YoY Real GDP\",\n",
    "    \"MoM Industry Production\", \"MoM PCE\", \"MoM Retail Sales\", \"MoM Unemployment\",\n",
    "    \"MoM Wage Increase\", \"MoM Home Sales\", \"MoM Retail Trade\", \"MoM Real GDP\",\n",
    "    \"CPI_Unemployment\", \"CPI_Industry Production\",\n",
    "    \"Industry Production_Quarterly_Avg\", \"PCE_Quarterly_Avg\", \"Retail Sales_Quarterly_Avg\",\n",
    "    \"Unemployment_Quarterly_Avg\", \"Wage Increase_Quarterly_Avg\", \"Home Sales_Quarterly_Avg\",\n",
    "    \"Retail Trade_Quarterly_Avg\", \"Real GDP_Quarterly_Avg\"\n",
    "]\n",
    "\n",
    "print(f\"Shape: {macro_df.shape}\")\n",
    "macro_df[FEATURES].tail(5)"
   ]
  },
  {
   "cell_type": "markdown",
   "id": "d090ff56",
   "metadata": {
    "papermill": {
     "duration": 0.017354,
     "end_time": "2024-07-29T14:16:28.362597",
     "exception": false,
     "start_time": "2024-07-29T14:16:28.345243",
     "status": "completed"
    },
    "tags": []
   },
   "source": [
    "# Machine Learning for Probabilities\n",
    "\n",
    "We hava a binary classification problem, with 2 classes:\n",
    "- Class 0: Status Quo, this means the Fed keeps the rates or decreases them (what the market is pricing in).\n",
    "- Class 1: Rates Increase, inflation is persistant and the Fed will increase again the rates, which would lead to some market tormoil.\n",
    "\n",
    "From our macro data we will engineer our label by comparing the current Fed Rate with the next time step's Fed Rate:"
   ]
  },
  {
   "cell_type": "code",
   "execution_count": 6,
   "id": "712bd070",
   "metadata": {
    "execution": {
     "iopub.execute_input": "2024-07-29T14:16:28.399943Z",
     "iopub.status.busy": "2024-07-29T14:16:28.399517Z",
     "iopub.status.idle": "2024-07-29T14:16:28.414134Z",
     "shell.execute_reply": "2024-07-29T14:16:28.413108Z"
    },
    "papermill": {
     "duration": 0.036356,
     "end_time": "2024-07-29T14:16:28.416629",
     "exception": false,
     "start_time": "2024-07-29T14:16:28.380273",
     "status": "completed"
    },
    "tags": []
   },
   "outputs": [
    {
     "data": {
      "text/plain": [
       "Fed Rate Increase\n",
       "0    1270\n",
       "1    1222\n",
       "Name: count, dtype: int64"
      ]
     },
     "execution_count": 6,
     "metadata": {},
     "output_type": "execute_result"
    }
   ],
   "source": [
    "macro_df['Fed Rate Increase'] = ((macro_df['Fed Rate'] - macro_df['Prior Fed Rate']) > 0).astype(int) # our label\n",
    "\n",
    "counts = macro_df['Fed Rate Increase'].value_counts()\n",
    "counts"
   ]
  },
  {
   "cell_type": "markdown",
   "id": "5a9785a3",
   "metadata": {
    "papermill": {
     "duration": 0.017471,
     "end_time": "2024-07-29T14:16:28.451821",
     "exception": false,
     "start_time": "2024-07-29T14:16:28.434350",
     "status": "completed"
    },
    "tags": []
   },
   "source": [
    "Note there is a slight imbalance between meetings that led to increases and keeping the status quo, for this we will use Synthetic Minority Oversampling Technique (SMOTE) to balance them out again.\n",
    "\n",
    "The dataset has 2492 rows and 105, statistical or tree classifiers perform well on such small datasets.\n",
    "We will run some trails with a subset of such models, using out of the box parameters and stratified cross validation.\n",
    "\n",
    "The models are:\n",
    "- Naive Bayes\n",
    "- State Vector Machines (SVM)\n",
    "- Logistic Regression\n",
    "- Decision Tree\n",
    "- Random Forest\n",
    "- Gradient Boosting\n",
    "\n",
    "Below is the python code to scale the data, cross validate and test these:"
   ]
  },
  {
   "cell_type": "code",
   "execution_count": 7,
   "id": "72577e79",
   "metadata": {
    "execution": {
     "iopub.execute_input": "2024-07-29T14:16:28.489382Z",
     "iopub.status.busy": "2024-07-29T14:16:28.488995Z",
     "iopub.status.idle": "2024-07-29T14:16:51.974278Z",
     "shell.execute_reply": "2024-07-29T14:16:51.973159Z"
    },
    "papermill": {
     "duration": 23.507053,
     "end_time": "2024-07-29T14:16:51.976698",
     "exception": false,
     "start_time": "2024-07-29T14:16:28.469645",
     "status": "completed"
    },
    "tags": []
   },
   "outputs": [
    {
     "name": "stderr",
     "output_type": "stream",
     "text": [
      "Training Models...: 100%|██████████| 6/6 [00:21<00:00,  3.55s/it]\n"
     ]
    },
    {
     "data": {
      "text/html": [
       "<div>\n",
       "<style scoped>\n",
       "    .dataframe tbody tr th:only-of-type {\n",
       "        vertical-align: middle;\n",
       "    }\n",
       "\n",
       "    .dataframe tbody tr th {\n",
       "        vertical-align: top;\n",
       "    }\n",
       "\n",
       "    .dataframe thead th {\n",
       "        text-align: right;\n",
       "    }\n",
       "</style>\n",
       "<table border=\"1\" class=\"dataframe\">\n",
       "  <thead>\n",
       "    <tr style=\"text-align: right;\">\n",
       "      <th></th>\n",
       "      <th>Model</th>\n",
       "      <th>Accuracy</th>\n",
       "      <th>Precision</th>\n",
       "      <th>Recall</th>\n",
       "      <th>F1 Score</th>\n",
       "      <th>CV Score</th>\n",
       "    </tr>\n",
       "  </thead>\n",
       "  <tbody>\n",
       "    <tr>\n",
       "      <th>3</th>\n",
       "      <td>Decision Tree</td>\n",
       "      <td>0.567134</td>\n",
       "      <td>0.568550</td>\n",
       "      <td>0.567134</td>\n",
       "      <td>0.567103</td>\n",
       "      <td>0.581776</td>\n",
       "    </tr>\n",
       "    <tr>\n",
       "      <th>5</th>\n",
       "      <td>Gradient Boosting</td>\n",
       "      <td>0.563126</td>\n",
       "      <td>0.563381</td>\n",
       "      <td>0.563126</td>\n",
       "      <td>0.563218</td>\n",
       "      <td>0.576631</td>\n",
       "    </tr>\n",
       "    <tr>\n",
       "      <th>4</th>\n",
       "      <td>Random Forest</td>\n",
       "      <td>0.563126</td>\n",
       "      <td>0.566100</td>\n",
       "      <td>0.563126</td>\n",
       "      <td>0.562283</td>\n",
       "      <td>0.575516</td>\n",
       "    </tr>\n",
       "    <tr>\n",
       "      <th>0</th>\n",
       "      <td>Naive Bayes</td>\n",
       "      <td>0.521042</td>\n",
       "      <td>0.518349</td>\n",
       "      <td>0.521042</td>\n",
       "      <td>0.448975</td>\n",
       "      <td>0.562919</td>\n",
       "    </tr>\n",
       "    <tr>\n",
       "      <th>1</th>\n",
       "      <td>SVM</td>\n",
       "      <td>0.521042</td>\n",
       "      <td>0.518148</td>\n",
       "      <td>0.521042</td>\n",
       "      <td>0.512212</td>\n",
       "      <td>0.549235</td>\n",
       "    </tr>\n",
       "    <tr>\n",
       "      <th>2</th>\n",
       "      <td>Logistic Regression</td>\n",
       "      <td>0.521042</td>\n",
       "      <td>0.519908</td>\n",
       "      <td>0.521042</td>\n",
       "      <td>0.519720</td>\n",
       "      <td>0.530894</td>\n",
       "    </tr>\n",
       "  </tbody>\n",
       "</table>\n",
       "</div>"
      ],
      "text/plain": [
       "                 Model  Accuracy  Precision    Recall  F1 Score  CV Score\n",
       "3        Decision Tree  0.567134   0.568550  0.567134  0.567103  0.581776\n",
       "5    Gradient Boosting  0.563126   0.563381  0.563126  0.563218  0.576631\n",
       "4        Random Forest  0.563126   0.566100  0.563126  0.562283  0.575516\n",
       "0          Naive Bayes  0.521042   0.518349  0.521042  0.448975  0.562919\n",
       "1                  SVM  0.521042   0.518148  0.521042  0.512212  0.549235\n",
       "2  Logistic Regression  0.521042   0.519908  0.521042  0.519720  0.530894"
      ]
     },
     "execution_count": 7,
     "metadata": {},
     "output_type": "execute_result"
    }
   ],
   "source": [
    "import json\n",
    "import os\n",
    "import pandas as pd\n",
    "import joblib\n",
    "from sklearn.naive_bayes import GaussianNB\n",
    "from sklearn.svm import SVC\n",
    "from sklearn.linear_model import LogisticRegression\n",
    "from sklearn.tree import DecisionTreeClassifier\n",
    "from sklearn.ensemble import RandomForestClassifier, GradientBoostingClassifier\n",
    "from sklearn.model_selection import train_test_split, StratifiedKFold, cross_val_score\n",
    "from sklearn.metrics import accuracy_score, recall_score, f1_score, precision_score\n",
    "from sklearn.utils.class_weight import compute_sample_weight\n",
    "from sklearn.preprocessing import StandardScaler\n",
    "from imblearn.over_sampling import SMOTE\n",
    "\n",
    "X = macro_df[FEATURES]\n",
    "y = macro_df['Fed Rate Increase']\n",
    "X_train, X_test, y_train, y_test = train_test_split(X, y, test_size=0.2, random_state=42)\n",
    "\n",
    "smote = SMOTE(random_state=42)\n",
    "X_train, y_train = smote.fit_resample(X_train, y_train)\n",
    "sample_weights = compute_sample_weight(class_weight='balanced', y=y_train)\n",
    "\n",
    "models = {\n",
    "    \"Naive Bayes\": GaussianNB(),\n",
    "    \"SVM\": SVC(probability=True),\n",
    "    \"Logistic Regression\": LogisticRegression(max_iter=10000),\n",
    "    \"Decision Tree\": DecisionTreeClassifier(),\n",
    "    \"Random Forest\": RandomForestClassifier(),\n",
    "    \"Gradient Boosting\": GradientBoostingClassifier()\n",
    "}\n",
    "\n",
    "best_models = {}\n",
    "metrics = []\n",
    "\n",
    "if os.path.exists(f\"{MODEL_PATH}/fomc_all_metrics.json\"):\n",
    "    metrics_df = pd.read_json(f\"{MODEL_PATH}/fomc_all_metrics.json\")\n",
    "else:\n",
    "    scaler = StandardScaler()\n",
    "    X_train_scaled = scaler.fit_transform(X_train)\n",
    "    X_test_scaled = scaler.transform(X_test)\n",
    "\n",
    "    cv = StratifiedKFold(n_splits=5, shuffle=True, random_state=42)\n",
    "\n",
    "    for model_name, model in tqdm(models.items(), desc=\"Training Models...\"):\n",
    "        model.fit(X_train_scaled, y_train, sample_weight=sample_weights)\n",
    "        best_models[model_name] = model\n",
    "        y_pred = model.predict(X_test_scaled)\n",
    "\n",
    "        accuracy = accuracy_score(y_test, y_pred)\n",
    "        precision = precision_score(y_test, y_pred, average='weighted')\n",
    "        recall = recall_score(y_test, y_pred, average='weighted')\n",
    "        f1 = f1_score(y_test, y_pred, average='weighted')\n",
    "\n",
    "        X_scaled = scaler.fit_transform(X)  # Scale the entire dataset for cross-validation\n",
    "        cv_scores = cross_val_score(model, X_scaled, y, cv=cv, scoring='precision_weighted')\n",
    "        cv_mean = cv_scores.mean()\n",
    "\n",
    "        metrics.append({\n",
    "            \"Model\": model_name,\n",
    "            \"Accuracy\": accuracy,\n",
    "            \"Precision\": precision,\n",
    "            \"Recall\": recall,\n",
    "            \"F1 Score\": f1,\n",
    "            \"CV Score\": cv_mean\n",
    "        })\n",
    "\n",
    "    metrics_df = pd.DataFrame(metrics)\n",
    "    metrics_df.to_json(f\"{MODEL_PATH}/fomc_all_metrics.json\")\n",
    "\n",
    "metrics_df = metrics_df.sort_values(by=[\"CV Score\", \"Precision\"], ascending=False)\n",
    "metrics_df"
   ]
  },
  {
   "cell_type": "markdown",
   "id": "daf49144",
   "metadata": {
    "papermill": {
     "duration": 0.018459,
     "end_time": "2024-07-29T14:16:52.014114",
     "exception": false,
     "start_time": "2024-07-29T14:16:51.995655",
     "status": "completed"
    },
    "tags": []
   },
   "source": [
    "The top performing algo was decision trees, no surprise there, this algo are excellent for tabular data.\n",
    "\n",
    "## Fine-Tune the Classifier\n",
    "\n",
    "Now we will sampling the models hyperparameters using the bayes optimization library to find the right parameters.\n",
    "\n",
    "The library will create gaussian distribution to maximize the function we will provide it, and using exploration and exploitation will find the upper limits of the parameters. The problem of this library is that it only works with continuous parameters, and discrete or categorical parameters will need the more traditional gridsearch.\n",
    "\n",
    "It's also fast!"
   ]
  },
  {
   "cell_type": "code",
   "execution_count": 8,
   "id": "be2da1e0",
   "metadata": {
    "execution": {
     "iopub.execute_input": "2024-07-29T14:16:52.054873Z",
     "iopub.status.busy": "2024-07-29T14:16:52.054418Z",
     "iopub.status.idle": "2024-07-29T14:29:17.677303Z",
     "shell.execute_reply": "2024-07-29T14:29:17.676178Z"
    },
    "papermill": {
     "duration": 745.667094,
     "end_time": "2024-07-29T14:29:17.700430",
     "exception": false,
     "start_time": "2024-07-29T14:16:52.033336",
     "status": "completed"
    },
    "tags": []
   },
   "outputs": [
    {
     "name": "stdout",
     "output_type": "stream",
     "text": [
      "|   iter    |  target   | max_depth | max_fe... | min_sa... | min_sa... | n_esti... |\n",
      "-------------------------------------------------------------------------------------\n",
      "| \u001b[30m1         | \u001b[30m0.5719    | \u001b[30m12.49     | \u001b[30m0.8606    | \u001b[30m14.91     | \u001b[30m18.76     | \u001b[30m172.9     |\n",
      "| \u001b[30m2         | \u001b[30m0.542     | \u001b[30m6.368     | \u001b[30m0.1465    | \u001b[30m17.46     | \u001b[30m18.83     | \u001b[30m713.9     |\n",
      "| \u001b[30m3         | \u001b[30m0.5336    | \u001b[30m2.576     | \u001b[30m0.8759    | \u001b[30m16.82     | \u001b[30m7.945     | \u001b[30m198.2     |\n",
      "| \u001b[30m4         | \u001b[30m0.5489    | \u001b[30m7.135     | \u001b[30m0.3434    | \u001b[30m10.97     | \u001b[30m14.09     | \u001b[30m305.4     |\n",
      "| \u001b[30m5         | \u001b[30m0.5564    | \u001b[30m19.13     | \u001b[30m0.2116    | \u001b[30m6.551     | \u001b[30m12.26     | \u001b[30m466.9     |\n",
      "| \u001b[30m6         | \u001b[30m0.5518    | \u001b[30m23.98     | \u001b[30m0.2597    | \u001b[30m10.77     | \u001b[30m18.59     | \u001b[30m65.52     |\n",
      "| \u001b[30m7         | \u001b[30m0.5585    | \u001b[30m19.01     | \u001b[30m0.2364    | \u001b[30m2.236     | \u001b[30m28.57     | \u001b[30m966.3     |\n",
      "| \u001b[30m8         | \u001b[30m0.5671    | \u001b[30m24.64     | \u001b[30m0.3437    | \u001b[30m2.856     | \u001b[30m21.16     | \u001b[30m451.3     |\n",
      "| \u001b[30m9         | \u001b[30m0.5525    | \u001b[30m8.248     | \u001b[30m0.4103    | \u001b[30m17.28     | \u001b[30m22.69     | \u001b[30m171.5     |\n",
      "| \u001b[30m10        | \u001b[30m0.5562    | \u001b[30m16.57     | \u001b[30m0.2614    | \u001b[30m8.922     | \u001b[30m19.41     | \u001b[30m884.1     |\n",
      "| \u001b[30m11        | \u001b[30m0.5482    | \u001b[30m6.492     | \u001b[30m0.825     | \u001b[30m19.16     | \u001b[30m9.414     | \u001b[30m624.4     |\n",
      "| \u001b[30m12        | \u001b[30m0.5362    | \u001b[30m6.423     | \u001b[30m0.1998    | \u001b[30m16.19     | \u001b[30m4.691     | \u001b[30m515.6     |\n",
      "| \u001b[35m13        | \u001b[35m0.5795    | \u001b[35m26.16     | \u001b[35m0.7196    | \u001b[35m4.537     | \u001b[35m22.18     | \u001b[35m451.4     |\n",
      "| \u001b[30m14        | \u001b[30m0.5734    | \u001b[30m27.99     | \u001b[30m0.4842    | \u001b[30m5.451     | \u001b[30m20.71     | \u001b[30m452.0     |\n",
      "| \u001b[35m15        | \u001b[35m0.5848    | \u001b[35m27.75     | \u001b[35m0.9       | \u001b[35m5.749     | \u001b[35m25.1      | \u001b[35m450.9     |\n",
      "| \u001b[30m16        | \u001b[30m0.576     | \u001b[30m24.3      | \u001b[30m0.9       | \u001b[30m9.12      | \u001b[30m24.96     | \u001b[30m451.6     |\n",
      "| \u001b[30m17        | \u001b[30m0.582     | \u001b[30m26.92     | \u001b[30m0.9       | \u001b[30m6.52      | \u001b[30m24.12     | \u001b[30m445.8     |\n",
      "| \u001b[30m18        | \u001b[30m0.5807    | \u001b[30m25.64     | \u001b[30m0.9       | \u001b[30m3.188     | \u001b[30m30.0      | \u001b[30m447.1     |\n",
      "| \u001b[30m19        | \u001b[30m0.5772    | \u001b[30m30.0      | \u001b[30m0.9       | \u001b[30m9.391     | \u001b[30m30.0      | \u001b[30m444.7     |\n",
      "| \u001b[30m20        | \u001b[30m0.5828    | \u001b[30m21.63     | \u001b[30m0.9       | \u001b[30m7.915     | \u001b[30m30.0      | \u001b[30m440.1     |\n",
      "| \u001b[30m21        | \u001b[30m0.579     | \u001b[30m27.49     | \u001b[30m0.9       | \u001b[30m2.691     | \u001b[30m29.22     | \u001b[30m436.9     |\n",
      "| \u001b[30m22        | \u001b[30m0.5805    | \u001b[30m25.57     | \u001b[30m0.9       | \u001b[30m11.75     | \u001b[30m25.39     | \u001b[30m434.5     |\n",
      "| \u001b[30m23        | \u001b[30m0.577     | \u001b[30m18.72     | \u001b[30m0.9       | \u001b[30m6.501     | \u001b[30m29.37     | \u001b[30m430.5     |\n",
      "=====================================================================================\n",
      "Best model parameters: {'max_depth': 27, 'max_features': 0.9, 'min_samples_leaf': 5, 'min_samples_split': 25, 'n_estimators': 450}\n"
     ]
    },
    {
     "data": {
      "text/html": [
       "<div>\n",
       "<style scoped>\n",
       "    .dataframe tbody tr th:only-of-type {\n",
       "        vertical-align: middle;\n",
       "    }\n",
       "\n",
       "    .dataframe tbody tr th {\n",
       "        vertical-align: top;\n",
       "    }\n",
       "\n",
       "    .dataframe thead th {\n",
       "        text-align: right;\n",
       "    }\n",
       "</style>\n",
       "<table border=\"1\" class=\"dataframe\">\n",
       "  <thead>\n",
       "    <tr style=\"text-align: right;\">\n",
       "      <th></th>\n",
       "      <th>Model</th>\n",
       "      <th>Accuracy</th>\n",
       "      <th>Recall</th>\n",
       "      <th>Precision</th>\n",
       "      <th>F1 Score</th>\n",
       "      <th>AUC</th>\n",
       "      <th>CV Score</th>\n",
       "    </tr>\n",
       "  </thead>\n",
       "  <tbody>\n",
       "    <tr>\n",
       "      <th>0</th>\n",
       "      <td>Random Forest Classifier</td>\n",
       "      <td>0.589178</td>\n",
       "      <td>0.527132</td>\n",
       "      <td>0.621005</td>\n",
       "      <td>0.570231</td>\n",
       "      <td>0.60092</td>\n",
       "      <td>0.584814</td>\n",
       "    </tr>\n",
       "  </tbody>\n",
       "</table>\n",
       "</div>"
      ],
      "text/plain": [
       "                      Model  Accuracy    Recall  Precision  F1 Score      AUC  \\\n",
       "0  Random Forest Classifier  0.589178  0.527132   0.621005  0.570231  0.60092   \n",
       "\n",
       "   CV Score  \n",
       "0  0.584814  "
      ]
     },
     "execution_count": 8,
     "metadata": {},
     "output_type": "execute_result"
    }
   ],
   "source": [
    "from bayes_opt import BayesianOptimization\n",
    "from bayes_opt.logger import JSONLogger\n",
    "from bayes_opt.event import Events\n",
    "from bayes_opt.util import load_logs\n",
    "from sklearn.ensemble import RandomForestClassifier\n",
    "from sklearn.model_selection import StratifiedKFold, cross_val_score\n",
    "from sklearn.metrics import accuracy_score, recall_score, f1_score, roc_auc_score, precision_score, roc_curve\n",
    "import os\n",
    "import joblib\n",
    "import json\n",
    "from sklearn.preprocessing import StandardScaler\n",
    "\n",
    "def max_function(n_estimators, max_depth, min_samples_split, min_samples_leaf, max_features, sample_weights=None):\n",
    "    model = RandomForestClassifier(\n",
    "        n_estimators=int(n_estimators),\n",
    "        max_depth=int(max_depth),\n",
    "        min_samples_split=int(min_samples_split),\n",
    "        min_samples_leaf=int(min_samples_leaf),\n",
    "        max_features=max_features,\n",
    "        random_state=42\n",
    "    )\n",
    "    cv = StratifiedKFold(n_splits=5, shuffle=True, random_state=42)\n",
    "    scores = cross_val_score(model, X_train, y_train, cv=cv, scoring='precision')\n",
    "    return scores.mean()\n",
    "\n",
    "param_bounds = {\n",
    "    'n_estimators': (20, 1000),\n",
    "    'max_depth': (2, 30),\n",
    "    'min_samples_split': (2, 30),\n",
    "    'min_samples_leaf': (1, 20),\n",
    "    'max_features': (0.1, 0.9)\n",
    "}\n",
    "\n",
    "if os.path.exists(f\"{MODEL_PATH}/fomc_model.joblib\"):\n",
    "    best_model = joblib.load(f\"{MODEL_PATH}/fomc_model.joblib\")\n",
    "    scaler = joblib.load(f\"{MODEL_PATH}/fomc_model_scaler.joblib\")\n",
    "    with open(f\"{MODEL_PATH}/fomc_model_params.json\", 'r') as file:\n",
    "        best_params = json.load(file)\n",
    "    metrics_df = pd.read_json(f\"{MODEL_PATH}/fomc_model_metrics.json\")\n",
    "\n",
    "    y_pred = best_model.predict(X_test)\n",
    "    y_pred_proba = best_model.predict_proba(X_test)[:, 1]\n",
    "else:\n",
    "    scaler = StandardScaler()\n",
    "    X_train_scaled = scaler.fit_transform(X_train)\n",
    "    X_test_scaled = scaler.transform(X_test)\n",
    "\n",
    "    optimizer = BayesianOptimization(\n",
    "        f=max_function,\n",
    "        pbounds=param_bounds,\n",
    "        random_state=42,\n",
    "        verbose=2\n",
    "    )\n",
    "    if os.path.exists(f\"{MODEL_PATH}/cv_logs.log\"):\n",
    "        load_logs(optimizer, logs=[f\"{MODEL_PATH}/cv_logs.log\"])\n",
    "    optimizer.maximize(\n",
    "        init_points=8,\n",
    "        n_iter=15,\n",
    "    )\n",
    "    logger = JSONLogger(path=f\"{MODEL_PATH}/cv_logs.log\")\n",
    "    optimizer.subscribe(Events.OPTIMIZATION_STEP, logger)\n",
    "    best_params = optimizer.max['params']\n",
    "    best_params['n_estimators'] = int(best_params['n_estimators'])\n",
    "    best_params['max_depth'] = int(best_params['max_depth'])\n",
    "    best_params['min_samples_split'] = int(best_params['min_samples_split'])\n",
    "    best_params['min_samples_leaf'] = int(best_params['min_samples_leaf'])\n",
    "\n",
    "    best_model = RandomForestClassifier(\n",
    "        **best_params,\n",
    "        random_state=42\n",
    "    )\n",
    "    best_model.fit(X_train_scaled, y_train, sample_weight=sample_weights)\n",
    "\n",
    "    y_pred = best_model.predict(X_test_scaled)\n",
    "    y_pred_proba = best_model.predict_proba(X_test_scaled)[:, 1]\n",
    "\n",
    "    accuracy = accuracy_score(y_test, y_pred)\n",
    "    recall = recall_score(y_test, y_pred)\n",
    "    f1 = f1_score(y_test, y_pred)\n",
    "    precision = precision_score(y_test, y_pred)\n",
    "    auc = roc_auc_score(y_test, y_pred_proba)\n",
    "\n",
    "    cv = StratifiedKFold(n_splits=5, shuffle=True, random_state=42)\n",
    "    cv_scores = cross_val_score(best_model, X_train_scaled, y_train, cv=cv, scoring='precision')\n",
    "    cv_mean = cv_scores.mean()\n",
    "\n",
    "    metrics = {\n",
    "        \"Model\": \"Random Forest Classifier\",\n",
    "        \"Accuracy\": accuracy,\n",
    "        \"Recall\": recall,\n",
    "        \"Precision\": precision,\n",
    "        \"F1 Score\": f1,\n",
    "        \"AUC\": auc,\n",
    "        \"CV Score\": cv_mean\n",
    "    }\n",
    "\n",
    "    metrics_df = pd.DataFrame([metrics])\n",
    "    with open(f\"{MODEL_PATH}/fomc_model_params.json\", 'w') as file:\n",
    "        json.dump(best_params, file)\n",
    "    metrics_df.to_json(f\"{MODEL_PATH}/fomc_model_metrics.json\")\n",
    "    joblib.dump(best_model, f\"{MODEL_PATH}/fomc_model.joblib\")\n",
    "    joblib.dump(scaler, f\"{MODEL_PATH}/fomc_model_scaler.joblib\")\n",
    "print(\"Best model parameters:\", best_params)\n",
    "metrics_df"
   ]
  },
  {
   "cell_type": "code",
   "execution_count": 9,
   "id": "345162e6",
   "metadata": {
    "execution": {
     "iopub.execute_input": "2024-07-29T14:29:17.745329Z",
     "iopub.status.busy": "2024-07-29T14:29:17.744930Z",
     "iopub.status.idle": "2024-07-29T14:29:18.578577Z",
     "shell.execute_reply": "2024-07-29T14:29:18.577367Z"
    },
    "papermill": {
     "duration": 0.859871,
     "end_time": "2024-07-29T14:29:18.581924",
     "exception": false,
     "start_time": "2024-07-29T14:29:17.722053",
     "status": "completed"
    },
    "tags": []
   },
   "outputs": [
    {
     "data": {
      "image/png": "[encoded data removed]",
      "text/plain": [
       "<Figure size 1200x600 with 3 Axes>"
      ]
     },
     "metadata": {},
     "output_type": "display_data"
    }
   ],
   "source": [
    "import matplotlib.pyplot as plt\n",
    "from sklearn.metrics import confusion_matrix, ConfusionMatrixDisplay, roc_curve\n",
    "\n",
    "def classification_plots(X_test, y_test, best_model, scaler, metrics_df):\n",
    "    X_test_scaled = scaler.transform(X_test)\n",
    "    y_pred = best_model.predict(X_test_scaled)\n",
    "    y_pred_proba = best_model.predict_proba(X_test_scaled)[:, 1]\n",
    "\n",
    "    fig, ax = plt.subplots(1, 2, figsize=(12, 6))\n",
    "\n",
    "    # ROC Curve\n",
    "    fpr, tpr, _ = roc_curve(y_test, y_pred_proba)\n",
    "    auc = metrics_df['AUC'].iloc[-1]\n",
    "    ax[0].plot(fpr, tpr, label=f\"Classifier (AUC={auc:.2f})\")\n",
    "    ax[0].plot([0, 1], [0, 1], 'k--')\n",
    "    ax[0].set_xlabel('False Positive Rate')\n",
    "    ax[0].set_ylabel('True Positive Rate')\n",
    "    ax[0].set_title('ROC Curve')\n",
    "    ax[0].legend(loc='best')\n",
    "\n",
    "    # Confusion Matrix\n",
    "    cm = confusion_matrix(y_test, y_pred)\n",
    "    disp = ConfusionMatrixDisplay(confusion_matrix=cm, display_labels=['Status Quo', 'Rates Increase'])\n",
    "    disp.plot(cmap='Blues', ax=ax[1])\n",
    "    ax[1].set_title('Confusion Matrix')\n",
    "\n",
    "    plt.tight_layout()\n",
    "    plt.show()\n",
    "\n",
    "classification_plots(X_test, y_test, best_model, scaler, metrics_df)"
   ]
  },
  {
   "cell_type": "markdown",
   "id": "7ffb0143",
   "metadata": {
    "papermill": {
     "duration": 0.022434,
     "end_time": "2024-07-29T14:29:18.627429",
     "exception": false,
     "start_time": "2024-07-29T14:29:18.604995",
     "status": "completed"
    },
    "tags": []
   },
   "source": [
    "The confusion matrix and ROC curves show a worrisome story, there are quite a number of false positives and negatives. Our classifier has a 60% precisioon rate though, this is better than random chance but far from perfect.\n",
    "\n",
    "FOMC outcomes involve large ammount of data taken from many economic domains, so we are doing a best effort to estimate the outcome here.\n",
    "\n",
    "Below we test the rubustness of the classifier by purturbing it with gaussian noise:"
   ]
  },
  {
   "cell_type": "code",
   "execution_count": 10,
   "id": "efafcef9",
   "metadata": {
    "execution": {
     "iopub.execute_input": "2024-07-29T14:29:18.675697Z",
     "iopub.status.busy": "2024-07-29T14:29:18.674678Z",
     "iopub.status.idle": "2024-07-29T14:30:58.929523Z",
     "shell.execute_reply": "2024-07-29T14:30:58.928556Z"
    },
    "papermill": {
     "duration": 100.305274,
     "end_time": "2024-07-29T14:30:58.955565",
     "exception": false,
     "start_time": "2024-07-29T14:29:18.650291",
     "status": "completed"
    },
    "tags": []
   },
   "outputs": [
    {
     "data": {
      "text/html": [
       "<div>\n",
       "<style scoped>\n",
       "    .dataframe tbody tr th:only-of-type {\n",
       "        vertical-align: middle;\n",
       "    }\n",
       "\n",
       "    .dataframe tbody tr th {\n",
       "        vertical-align: top;\n",
       "    }\n",
       "\n",
       "    .dataframe thead th {\n",
       "        text-align: right;\n",
       "    }\n",
       "</style>\n",
       "<table border=\"1\" class=\"dataframe\">\n",
       "  <thead>\n",
       "    <tr style=\"text-align: right;\">\n",
       "      <th></th>\n",
       "      <th>Model</th>\n",
       "      <th>Accuracy</th>\n",
       "      <th>Recall</th>\n",
       "      <th>Precision</th>\n",
       "      <th>F1 Score</th>\n",
       "      <th>AUC</th>\n",
       "      <th>CV Score</th>\n",
       "    </tr>\n",
       "  </thead>\n",
       "  <tbody>\n",
       "    <tr>\n",
       "      <th>0</th>\n",
       "      <td>Random Forest Classifier</td>\n",
       "      <td>0.589178</td>\n",
       "      <td>0.527132</td>\n",
       "      <td>0.621005</td>\n",
       "      <td>0.570231</td>\n",
       "      <td>0.60092</td>\n",
       "      <td>0.584814</td>\n",
       "    </tr>\n",
       "    <tr>\n",
       "      <th>1</th>\n",
       "      <td>Gradient Boosting Classifier (Perturbed)</td>\n",
       "      <td>0.577154</td>\n",
       "      <td>0.507752</td>\n",
       "      <td>0.609302</td>\n",
       "      <td>0.553911</td>\n",
       "      <td>0.60092</td>\n",
       "      <td>0.559885</td>\n",
       "    </tr>\n",
       "  </tbody>\n",
       "</table>\n",
       "</div>"
      ],
      "text/plain": [
       "                                      Model  Accuracy    Recall  Precision  \\\n",
       "0                  Random Forest Classifier  0.589178  0.527132   0.621005   \n",
       "1  Gradient Boosting Classifier (Perturbed)  0.577154  0.507752   0.609302   \n",
       "\n",
       "   F1 Score      AUC  CV Score  \n",
       "0  0.570231  0.60092  0.584814  \n",
       "1  0.553911  0.60092  0.559885  "
      ]
     },
     "execution_count": 10,
     "metadata": {},
     "output_type": "execute_result"
    }
   ],
   "source": [
    "def perturb_gaussiannoise(X, noise_level=0.01):\n",
    "    sigma = noise_level * np.std(X)\n",
    "    noise = np.random.normal(0, sigma, X.shape)\n",
    "    return X + noise\n",
    "\n",
    "def test_robustness():\n",
    "    X_train_scaled  = scaler.transform(X_train)\n",
    "    X_test_scaled = scaler.transform(X_test)\n",
    "\n",
    "    X_train_pert = perturb_gaussiannoise(X_train_scaled)\n",
    "    X_test_pert = perturb_gaussiannoise(X_test_scaled)\n",
    "    y_pred = best_model.predict(X_test_pert)\n",
    "\n",
    "    accuracy = accuracy_score(y_test, y_pred)\n",
    "    recall = recall_score(y_test, y_pred)\n",
    "    f1 = f1_score(y_test, y_pred)\n",
    "    precision = precision_score(y_test, y_pred)\n",
    "    auc = roc_auc_score(y_test, y_pred_proba)\n",
    "\n",
    "    cv = StratifiedKFold(n_splits=5, shuffle=True, random_state=42)\n",
    "    cv_scores = cross_val_score(best_model, X_train_pert, y_train, cv=cv, scoring='precision', verbose=1)\n",
    "    cv_mean = cv_scores.mean()\n",
    "    perturb_metrics = {\n",
    "        \"Model\": \"Gradient Boosting Classifier (Perturbed)\",\n",
    "        \"Accuracy\": accuracy,\n",
    "        \"Recall\": recall,\n",
    "        \"Precision\": precision,\n",
    "        \"F1 Score\": f1,\n",
    "        \"AUC\": auc,\n",
    "        \"CV Score\": cv_mean\n",
    "    }\n",
    "\n",
    "    new_metrics_df = pd.concat([metrics_df, pd.DataFrame([perturb_metrics])], ignore_index=True)\n",
    "    return new_metrics_df\n",
    "\n",
    "test_robustness()"
   ]
  },
  {
   "cell_type": "markdown",
   "id": "78b9b560",
   "metadata": {
    "papermill": {
     "duration": 0.023178,
     "end_time": "2024-07-29T14:30:59.002489",
     "exception": false,
     "start_time": "2024-07-29T14:30:58.979311",
     "status": "completed"
    },
    "tags": []
   },
   "source": [
    "The model is robust, with minor gaussian noise it had small degredation in the classification scores, but still better than random chance. What's even more worrying is that some scores improved, though slightly.\n",
    "\n",
    "Finally, we have a look at what the model deems important: PCE, inflation and unemployment are economically sound, as this is what the Fed has been focusing during these times of inflation. Retail and GDP not so much, which might be relevant for the next FOMC (at the time of writing 31st July 2024) as there was a GDP surprise of 2.8 when the expected was 2.1."
   ]
  },
  {
   "cell_type": "code",
   "execution_count": 11,
   "id": "a9eb8e7f",
   "metadata": {
    "execution": {
     "iopub.execute_input": "2024-07-29T14:30:59.051852Z",
     "iopub.status.busy": "2024-07-29T14:30:59.051126Z",
     "iopub.status.idle": "2024-07-29T14:30:59.097306Z",
     "shell.execute_reply": "2024-07-29T14:30:59.096070Z"
    },
    "papermill": {
     "duration": 0.073321,
     "end_time": "2024-07-29T14:30:59.100192",
     "exception": false,
     "start_time": "2024-07-29T14:30:59.026871",
     "status": "completed"
    },
    "tags": []
   },
   "outputs": [
    {
     "data": {
      "text/html": [
       "<div>\n",
       "<style scoped>\n",
       "    .dataframe tbody tr th:only-of-type {\n",
       "        vertical-align: middle;\n",
       "    }\n",
       "\n",
       "    .dataframe tbody tr th {\n",
       "        vertical-align: top;\n",
       "    }\n",
       "\n",
       "    .dataframe thead th {\n",
       "        text-align: right;\n",
       "    }\n",
       "</style>\n",
       "<table border=\"1\" class=\"dataframe\">\n",
       "  <thead>\n",
       "    <tr style=\"text-align: right;\">\n",
       "      <th></th>\n",
       "      <th>Feature</th>\n",
       "      <th>Importance</th>\n",
       "      <th>Feature</th>\n",
       "      <th>Importance</th>\n",
       "    </tr>\n",
       "  </thead>\n",
       "  <tbody>\n",
       "    <tr>\n",
       "      <th>0</th>\n",
       "      <td>MoM Real GDP</td>\n",
       "      <td>0.001961</td>\n",
       "      <td>Home Sales</td>\n",
       "      <td>0.031364</td>\n",
       "    </tr>\n",
       "    <tr>\n",
       "      <th>1</th>\n",
       "      <td>PCE_Quarterly_Avg</td>\n",
       "      <td>0.003194</td>\n",
       "      <td>YoY Industry Production</td>\n",
       "      <td>0.039039</td>\n",
       "    </tr>\n",
       "    <tr>\n",
       "      <th>2</th>\n",
       "      <td>Real GDP_Quarterly_Avg</td>\n",
       "      <td>0.003429</td>\n",
       "      <td>YoY Home Sales</td>\n",
       "      <td>0.042518</td>\n",
       "    </tr>\n",
       "    <tr>\n",
       "      <th>3</th>\n",
       "      <td>Retail Trade_Quarterly_Avg</td>\n",
       "      <td>0.004004</td>\n",
       "      <td>CPI_Unemployment</td>\n",
       "      <td>0.045692</td>\n",
       "    </tr>\n",
       "    <tr>\n",
       "      <th>4</th>\n",
       "      <td>Real GDP</td>\n",
       "      <td>0.005525</td>\n",
       "      <td>Prior Fed Rate</td>\n",
       "      <td>0.277237</td>\n",
       "    </tr>\n",
       "  </tbody>\n",
       "</table>\n",
       "</div>"
      ],
      "text/plain": [
       "                      Feature  Importance                  Feature  Importance\n",
       "0                MoM Real GDP    0.001961               Home Sales    0.031364\n",
       "1           PCE_Quarterly_Avg    0.003194  YoY Industry Production    0.039039\n",
       "2      Real GDP_Quarterly_Avg    0.003429           YoY Home Sales    0.042518\n",
       "3  Retail Trade_Quarterly_Avg    0.004004         CPI_Unemployment    0.045692\n",
       "4                    Real GDP    0.005525           Prior Fed Rate    0.277237"
      ]
     },
     "execution_count": 11,
     "metadata": {},
     "output_type": "execute_result"
    }
   ],
   "source": [
    "importances = best_model.feature_importances_\n",
    "indices = np.argsort(importances)[::-1]\n",
    "feature_ranking = pd.DataFrame({\n",
    "    'Feature': [FEATURES[i] for i in indices],\n",
    "    'Importance': importances[indices]\n",
    "})\n",
    "\n",
    "\n",
    "sorted_feature_ranking = feature_ranking.sort_values(by=\"Importance\", ascending=True)\n",
    "top_features = sorted_feature_ranking.tail(5)\n",
    "bottom_features = sorted_feature_ranking.head(5)\n",
    "\n",
    "combined_df = pd.concat([bottom_features.reset_index(drop=True), top_features.reset_index(drop=True)], axis=1)\n",
    "combined_df"
   ]
  },
  {
   "cell_type": "markdown",
   "id": "f2ccf01f",
   "metadata": {
    "papermill": {
     "duration": 0.02306,
     "end_time": "2024-07-29T14:30:59.147182",
     "exception": false,
     "start_time": "2024-07-29T14:30:59.124122",
     "status": "completed"
    },
    "tags": []
   },
   "source": [
    "# Market Data\n",
    "\n",
    "Now we get the market data, we will use the ETF SPY as proxy for the market, we won't use use the SnP index itself due to its large numbers which might skew the simulations."
   ]
  },
  {
   "cell_type": "code",
   "execution_count": 12,
   "id": "7e9d4e48",
   "metadata": {
    "execution": {
     "iopub.execute_input": "2024-07-29T14:30:59.195898Z",
     "iopub.status.busy": "2024-07-29T14:30:59.195461Z",
     "iopub.status.idle": "2024-07-29T14:31:00.036696Z",
     "shell.execute_reply": "2024-07-29T14:31:00.035463Z"
    },
    "papermill": {
     "duration": 0.868871,
     "end_time": "2024-07-29T14:31:00.039327",
     "exception": false,
     "start_time": "2024-07-29T14:30:59.170456",
     "status": "completed"
    },
    "tags": []
   },
   "outputs": [
    {
     "name": "stderr",
     "output_type": "stream",
     "text": [
      "[*********************100%%**********************]  1 of 1 completed\n"
     ]
    },
    {
     "data": {
      "text/html": [
       "<div>\n",
       "<style scoped>\n",
       "    .dataframe tbody tr th:only-of-type {\n",
       "        vertical-align: middle;\n",
       "    }\n",
       "\n",
       "    .dataframe tbody tr th {\n",
       "        vertical-align: top;\n",
       "    }\n",
       "\n",
       "    .dataframe thead th {\n",
       "        text-align: right;\n",
       "    }\n",
       "</style>\n",
       "<table border=\"1\" class=\"dataframe\">\n",
       "  <thead>\n",
       "    <tr style=\"text-align: right;\">\n",
       "      <th></th>\n",
       "      <th>Open</th>\n",
       "      <th>High</th>\n",
       "      <th>Low</th>\n",
       "      <th>Close</th>\n",
       "      <th>Adj Close</th>\n",
       "      <th>Volume</th>\n",
       "    </tr>\n",
       "    <tr>\n",
       "      <th>Date</th>\n",
       "      <th></th>\n",
       "      <th></th>\n",
       "      <th></th>\n",
       "      <th></th>\n",
       "      <th></th>\n",
       "      <th></th>\n",
       "    </tr>\n",
       "  </thead>\n",
       "  <tbody>\n",
       "    <tr>\n",
       "      <th>2020-01-02</th>\n",
       "      <td>323.540009</td>\n",
       "      <td>324.890015</td>\n",
       "      <td>322.529999</td>\n",
       "      <td>324.869995</td>\n",
       "      <td>303.135651</td>\n",
       "      <td>59151200</td>\n",
       "    </tr>\n",
       "    <tr>\n",
       "      <th>2020-01-03</th>\n",
       "      <td>321.160004</td>\n",
       "      <td>323.640015</td>\n",
       "      <td>321.100006</td>\n",
       "      <td>322.410004</td>\n",
       "      <td>300.840240</td>\n",
       "      <td>77709700</td>\n",
       "    </tr>\n",
       "    <tr>\n",
       "      <th>2020-01-06</th>\n",
       "      <td>320.489990</td>\n",
       "      <td>323.730011</td>\n",
       "      <td>320.359985</td>\n",
       "      <td>323.640015</td>\n",
       "      <td>301.987946</td>\n",
       "      <td>55653900</td>\n",
       "    </tr>\n",
       "    <tr>\n",
       "      <th>2020-01-07</th>\n",
       "      <td>323.019989</td>\n",
       "      <td>323.540009</td>\n",
       "      <td>322.239990</td>\n",
       "      <td>322.730011</td>\n",
       "      <td>301.138733</td>\n",
       "      <td>40496400</td>\n",
       "    </tr>\n",
       "    <tr>\n",
       "      <th>2020-01-08</th>\n",
       "      <td>322.940002</td>\n",
       "      <td>325.779999</td>\n",
       "      <td>322.670013</td>\n",
       "      <td>324.450012</td>\n",
       "      <td>302.743652</td>\n",
       "      <td>68296000</td>\n",
       "    </tr>\n",
       "  </tbody>\n",
       "</table>\n",
       "</div>"
      ],
      "text/plain": [
       "                  Open        High         Low       Close   Adj Close  \\\n",
       "Date                                                                     \n",
       "2020-01-02  323.540009  324.890015  322.529999  324.869995  303.135651   \n",
       "2020-01-03  321.160004  323.640015  321.100006  322.410004  300.840240   \n",
       "2020-01-06  320.489990  323.730011  320.359985  323.640015  301.987946   \n",
       "2020-01-07  323.019989  323.540009  322.239990  322.730011  301.138733   \n",
       "2020-01-08  322.940002  325.779999  322.670013  324.450012  302.743652   \n",
       "\n",
       "              Volume  \n",
       "Date                  \n",
       "2020-01-02  59151200  \n",
       "2020-01-03  77709700  \n",
       "2020-01-06  55653900  \n",
       "2020-01-07  40496400  \n",
       "2020-01-08  68296000  "
      ]
     },
     "execution_count": 12,
     "metadata": {},
     "output_type": "execute_result"
    }
   ],
   "source": [
    "import yfinance as yf\n",
    "\n",
    "SPY_TICKER = \"SPY\" # SnP 500 Index\n",
    "\n",
    "macro_df['FOMC Meeting'] = pd.to_datetime(macro_df['FOMC Meeting'], errors='coerce')\n",
    "macro_df['FOMC Meeting'] = macro_df['FOMC Meeting'].dt.tz_localize(None)\n",
    "filtered_meetings = macro_df[(macro_df['FOMC Meeting'] >= '2023-06-01') & (macro_df['FOMC Meeting'] <= '2024-08-01')]\n",
    "filtered_meetings = filtered_meetings.dropna().drop_duplicates()\n",
    "\n",
    "market_df = yf.download(SPY_TICKER, start='2020-01-01', end='2024-07-01', interval='1d')\n",
    "market_df.index = market_df.index.tz_localize(None)\n",
    "market_df.head(5)"
   ]
  },
  {
   "cell_type": "markdown",
   "id": "41d31a1b",
   "metadata": {
    "papermill": {
     "duration": 0.024162,
     "end_time": "2024-07-29T14:31:00.087514",
     "exception": false,
     "start_time": "2024-07-29T14:31:00.063352",
     "status": "completed"
    },
    "tags": []
   },
   "source": [
    "Going back to the Heston, most of its parameters can sensibly be estimated from our data. With the exception of Kappa, Kappa is the speed of mean reversion and that needs its own model to estimate. For this we will use the Ornstein-Uhlenbeck."
   ]
  },
  {
   "cell_type": "markdown",
   "id": "e6c97fd9",
   "metadata": {
    "papermill": {
     "duration": 0.023411,
     "end_time": "2024-07-29T14:31:00.134611",
     "exception": false,
     "start_time": "2024-07-29T14:31:00.111200",
     "status": "completed"
    },
    "tags": []
   },
   "source": [
    "## Ornstein-Uhlenbeck (OU) Process\n",
    "\n",
    "An Ornstein–Uhlenbeck process is defined by this SDE:\n",
    "\n",
    "$$\n",
    "dx_t = \\gamma(\\mu - x_t)dt + \\sigma dW_t\n",
    "$$\n",
    "Where:\n",
    "- $\\gamma$ is the rate of mean reversion.\n",
    "- $\\mu$ is the long-term mean.\n",
    "- $\\sigma$ is the volatility.\n",
    "- $dW_t$ is the increment of a Wiener process (Brownian motion).\n",
    "\n",
    "With the help of the Itô lemma, we can find a continuous-time solution:\n",
    "\n",
    "$$\n",
    "x_t = x_0 e^{-\\gamma t} + \\mu(1 - e^{-\\gamma t}) + \\sigma \\int_0^t e^{-\\gamma(t-s)} dW_s\n",
    "$$\n",
    "\n",
    "Its first two moments of its equilibrium distribution become:\n",
    "\n",
    "$$\n",
    "E[x_t] = x_0 e^{-\\gamma t} + \\mu(1 - e^{-\\gamma t}) \\rightarrow \\mu\n",
    "$$\n",
    "As $t \\rightarrow \\infty$, $E[x_t]$ approaches $\\mu$, showing that the process reverts to the mean $\\mu$ over time.\n",
    "\n",
    "$$\n",
    "Var[x_t] = \\frac{\\sigma^2}{2\\gamma} (1 - e^{-2\\gamma t}) \\rightarrow \\frac{\\sigma^2}{2\\gamma}\n",
    "$$\n",
    "As $t \\rightarrow \\infty, Var[x_t]$ approaches $\\frac{\\sigma^2}{2\\gamma}$, indicating the long-term variance of the process.\n",
    "\n",
    "Its half-life is defined as the (expected) time to return half way to its mean, or:\n",
    "\n",
    "$$\n",
    "E[x_{\\kappa}] - \\mu = \\frac{x_0 - \\mu}{2}\n",
    "$$\n",
    "\n",
    "Substituting the expectation at time $\\kappa$ with the discretized form, its left-hand-side becomes:\n",
    "$$\n",
    "E[x_{\\kappa}] - \\mu = x_0 e^{-\\gamma \\kappa} + \\mu(1 - e^{-\\gamma \\kappa}) - \\mu \n",
    "= e^{-\\gamma \\kappa} (x_0 - \\mu)\n",
    "$$\n",
    "\n",
    "Solving it with right-hand-side gives the half-life $\\kappa$:\n",
    "\n",
    "$$\n",
    "e^{-\\gamma \\kappa} (x_0 - \\mu) = \\frac{x_0 - \\mu}{2} \\implies \\kappa = \\frac{−\\log(2)}{\\gamma}\n",
    "$$\n",
    "\n",
    "A large $\\gamma$ is a short half life, having strong mean-reversion effect.\n"
   ]
  },
  {
   "cell_type": "markdown",
   "id": "bbba4fff",
   "metadata": {
    "papermill": {
     "duration": 0.023641,
     "end_time": "2024-07-29T14:31:00.182086",
     "exception": false,
     "start_time": "2024-07-29T14:31:00.158445",
     "status": "completed"
    },
    "tags": []
   },
   "source": [
    "We still have to find $\\gamma$. Using the Euler-Maruyama method, for a small discrete time step $\\Delta t$:\n",
    "\n",
    "$$\n",
    "x_{t + \\Delta t} - x_t \\approx \\gamma(\\mu - x_t)\\Delta t + \\sigma \\sqrt{\\Delta t} \\epsilon_t\n",
    "$$\n",
    "\n",
    "Rewriting for $x_{t+1}$:\n",
    "\n",
    "$$\n",
    "x_{t+1} = x_t + \\gamma(\\mu - x_t)\\Delta t + \\sigma \\sqrt{\\Delta t} \\epsilon_t \n",
    "$$\n",
    "\n",
    "Simplifying the expression:\n",
    "\n",
    "$$\n",
    "x_{t+1} = \\gamma \\mu \\Delta t + (1 - \\gamma \\Delta t)x_t + \\sigma \\sqrt{\\Delta t} \\epsilon_t \n",
    "$$\n",
    "\n",
    "We can rewrite this equation in a linear regression form for 1 time step $\\Delta t=1$:\n",
    "\n",
    "$$\n",
    "x_{t+1} = \\alpha + \\beta x_t + \\epsilon_t\n",
    "$$\n",
    "\n",
    "where:\n",
    "\n",
    "$$\n",
    "\\alpha = \\gamma \\mu \n",
    "$$\n",
    "\n",
    "$$\n",
    "\\beta = 1 - \\gamma  \n",
    "$$\n",
    "\n",
    "Using ordinary least squares (OLS) or any linear regression model, we can estimate the parameters $\\alpha$ and $\\beta$ from the data. We ignore the error term $\\epsilon$. Once we have these estimates, we can solve for $\\gamma$ as follows:\n",
    "\n",
    "1. Estimate $\\alpha$ and $\\beta$:\n",
    "\n",
    "$$\n",
    "x_{t+1} = \\alpha + \\beta x_t \n",
    "$$\n",
    "\n",
    "2. Solve for $\\gamma$ from the estimated slope $\\beta$:\n",
    "\n",
    "$$\n",
    "\\gamma = 1 - \\beta\n",
    "$$\n",
    "\n",
    "3. Solve for $\\mu$:\n",
    "\n",
    "$$\n",
    "\\mu = \\frac{\\alpha}{\\gamma}\n",
    "$$\n",
    "\n",
    "python code below does that:"
   ]
  },
  {
   "cell_type": "code",
   "execution_count": 13,
   "id": "d85b0048",
   "metadata": {
    "execution": {
     "iopub.execute_input": "2024-07-29T14:31:00.231674Z",
     "iopub.status.busy": "2024-07-29T14:31:00.231055Z",
     "iopub.status.idle": "2024-07-29T14:31:00.662167Z",
     "shell.execute_reply": "2024-07-29T14:31:00.660736Z"
    },
    "papermill": {
     "duration": 0.460702,
     "end_time": "2024-07-29T14:31:00.666468",
     "exception": false,
     "start_time": "2024-07-29T14:31:00.205766",
     "status": "completed"
    },
    "tags": []
   },
   "outputs": [
    {
     "name": "stdout",
     "output_type": "stream",
     "text": [
      "Warning: Time series is not stationary. ADF p-value: 0.8332882090319566\n",
      "Estimated kappa: -400.13097171350495\n",
      "Estimated gamma: 0.0017323007454075334\n",
      "Estimated mu: $520.4572418593127\n",
      "Origin range $324.8699951171875 to $544.219970703125\n"
     ]
    }
   ],
   "source": [
    "import scipy.stats as ss\n",
    "from statsmodels.tsa.stattools import adfuller\n",
    "\n",
    "def estimate_ou(ts_df):\n",
    "    # Check for stationarity\n",
    "    adf_test = adfuller(ts_df)\n",
    "    if adf_test[1] > 0.05:\n",
    "        print(f\"Warning: Time series is not stationary. ADF p-value: {adf_test[1]}\")\n",
    "\n",
    "    X = ts_df.values\n",
    "    XX = X[:-1]\n",
    "    YY = X[1:]\n",
    "\n",
    "    res = ss.linregress(XX, YY)\n",
    "    alpha = res.intercept\n",
    "    beta = res.slope\n",
    "    gamma = 1 - beta\n",
    "    mu = alpha / gamma\n",
    "    kappa = -np.log(2) / gamma\n",
    "\n",
    "    return kappa, gamma, mu\n",
    "\n",
    "kappa, gamma, mu = estimate_ou(market_df['Close'])\n",
    "\n",
    "print(f\"Estimated kappa: {kappa}\")\n",
    "print(f\"Estimated gamma: {gamma}\")\n",
    "print(f\"Estimated mu: ${mu}\")\n",
    "print(f\"Origin range ${market_df['Close'].iloc[0]} to ${market_df['Close'].iloc[-1]}\")"
   ]
  },
  {
   "cell_type": "markdown",
   "id": "49cc67e6",
   "metadata": {
    "papermill": {
     "duration": 0.049975,
     "end_time": "2024-07-29T14:31:00.766716",
     "exception": false,
     "start_time": "2024-07-29T14:31:00.716741",
     "status": "completed"
    },
    "tags": []
   },
   "source": [
    "The results don't make sense, because the market is not stationary and does not mean revert in the short term, and as we saw these past 4 years, can explode and trend up or down. Still wa have our kappa of -400.\n",
    "\n",
    "## Mining Trading Days Around FOMC\n",
    "\n",
    "To run simulations, we need the market data around the FOMC meetings, a week before and a week after when the shock down will wear out:"
   ]
  },
  {
   "cell_type": "code",
   "execution_count": 14,
   "id": "9cc4994e",
   "metadata": {
    "execution": {
     "iopub.execute_input": "2024-07-29T14:31:00.821191Z",
     "iopub.status.busy": "2024-07-29T14:31:00.820554Z",
     "iopub.status.idle": "2024-07-29T14:31:00.881152Z",
     "shell.execute_reply": "2024-07-29T14:31:00.879985Z"
    },
    "papermill": {
     "duration": 0.089167,
     "end_time": "2024-07-29T14:31:00.883744",
     "exception": false,
     "start_time": "2024-07-29T14:31:00.794577",
     "status": "completed"
    },
    "tags": []
   },
   "outputs": [
    {
     "data": {
      "text/html": [
       "<div>\n",
       "<style scoped>\n",
       "    .dataframe tbody tr th:only-of-type {\n",
       "        vertical-align: middle;\n",
       "    }\n",
       "\n",
       "    .dataframe tbody tr th {\n",
       "        vertical-align: top;\n",
       "    }\n",
       "\n",
       "    .dataframe thead th {\n",
       "        text-align: right;\n",
       "    }\n",
       "</style>\n",
       "<table border=\"1\" class=\"dataframe\">\n",
       "  <thead>\n",
       "    <tr style=\"text-align: right;\">\n",
       "      <th></th>\n",
       "      <th>FOMOC Meeting Date</th>\n",
       "      <th>mean rets</th>\n",
       "      <th>variance</th>\n",
       "      <th>theta</th>\n",
       "      <th>sigma_variance</th>\n",
       "      <th>rho</th>\n",
       "      <th>shock</th>\n",
       "    </tr>\n",
       "  </thead>\n",
       "  <tbody>\n",
       "    <tr>\n",
       "      <th>0</th>\n",
       "      <td>2023-06-14</td>\n",
       "      <td>0.002668</td>\n",
       "      <td>0.000035</td>\n",
       "      <td>0.000035</td>\n",
       "      <td>0.000058</td>\n",
       "      <td>-0.278679</td>\n",
       "      <td>0</td>\n",
       "    </tr>\n",
       "    <tr>\n",
       "      <th>1</th>\n",
       "      <td>2023-06-14</td>\n",
       "      <td>0.002668</td>\n",
       "      <td>0.000035</td>\n",
       "      <td>0.000035</td>\n",
       "      <td>0.000058</td>\n",
       "      <td>-0.278679</td>\n",
       "      <td>0</td>\n",
       "    </tr>\n",
       "    <tr>\n",
       "      <th>2</th>\n",
       "      <td>2023-07-26</td>\n",
       "      <td>-0.001708</td>\n",
       "      <td>0.000033</td>\n",
       "      <td>0.000033</td>\n",
       "      <td>0.000040</td>\n",
       "      <td>0.262131</td>\n",
       "      <td>1</td>\n",
       "    </tr>\n",
       "    <tr>\n",
       "      <th>3</th>\n",
       "      <td>2023-07-26</td>\n",
       "      <td>-0.001708</td>\n",
       "      <td>0.000033</td>\n",
       "      <td>0.000033</td>\n",
       "      <td>0.000040</td>\n",
       "      <td>0.262131</td>\n",
       "      <td>1</td>\n",
       "    </tr>\n",
       "    <tr>\n",
       "      <th>4</th>\n",
       "      <td>2023-07-26</td>\n",
       "      <td>-0.001708</td>\n",
       "      <td>0.000033</td>\n",
       "      <td>0.000033</td>\n",
       "      <td>0.000040</td>\n",
       "      <td>0.262131</td>\n",
       "      <td>0</td>\n",
       "    </tr>\n",
       "    <tr>\n",
       "      <th>5</th>\n",
       "      <td>2023-09-20</td>\n",
       "      <td>-0.002669</td>\n",
       "      <td>0.000082</td>\n",
       "      <td>0.000082</td>\n",
       "      <td>0.000092</td>\n",
       "      <td>-0.537947</td>\n",
       "      <td>0</td>\n",
       "    </tr>\n",
       "    <tr>\n",
       "      <th>6</th>\n",
       "      <td>2023-11-01</td>\n",
       "      <td>0.002232</td>\n",
       "      <td>0.000031</td>\n",
       "      <td>0.000031</td>\n",
       "      <td>0.000039</td>\n",
       "      <td>0.403524</td>\n",
       "      <td>0</td>\n",
       "    </tr>\n",
       "    <tr>\n",
       "      <th>7</th>\n",
       "      <td>2023-12-13</td>\n",
       "      <td>0.003889</td>\n",
       "      <td>0.000062</td>\n",
       "      <td>0.000062</td>\n",
       "      <td>0.000091</td>\n",
       "      <td>-0.244123</td>\n",
       "      <td>0</td>\n",
       "    </tr>\n",
       "    <tr>\n",
       "      <th>8</th>\n",
       "      <td>2024-01-31</td>\n",
       "      <td>0.002675</td>\n",
       "      <td>0.000075</td>\n",
       "      <td>0.000075</td>\n",
       "      <td>0.000124</td>\n",
       "      <td>0.179587</td>\n",
       "      <td>0</td>\n",
       "    </tr>\n",
       "    <tr>\n",
       "      <th>9</th>\n",
       "      <td>2024-03-20</td>\n",
       "      <td>0.000989</td>\n",
       "      <td>0.000026</td>\n",
       "      <td>0.000026</td>\n",
       "      <td>0.000038</td>\n",
       "      <td>0.277750</td>\n",
       "      <td>0</td>\n",
       "    </tr>\n",
       "  </tbody>\n",
       "</table>\n",
       "</div>"
      ],
      "text/plain": [
       "  FOMOC Meeting Date  mean rets  variance     theta  sigma_variance       rho  \\\n",
       "0         2023-06-14   0.002668  0.000035  0.000035        0.000058 -0.278679   \n",
       "1         2023-06-14   0.002668  0.000035  0.000035        0.000058 -0.278679   \n",
       "2         2023-07-26  -0.001708  0.000033  0.000033        0.000040  0.262131   \n",
       "3         2023-07-26  -0.001708  0.000033  0.000033        0.000040  0.262131   \n",
       "4         2023-07-26  -0.001708  0.000033  0.000033        0.000040  0.262131   \n",
       "5         2023-09-20  -0.002669  0.000082  0.000082        0.000092 -0.537947   \n",
       "6         2023-11-01   0.002232  0.000031  0.000031        0.000039  0.403524   \n",
       "7         2023-12-13   0.003889  0.000062  0.000062        0.000091 -0.244123   \n",
       "8         2024-01-31   0.002675  0.000075  0.000075        0.000124  0.179587   \n",
       "9         2024-03-20   0.000989  0.000026  0.000026        0.000038  0.277750   \n",
       "\n",
       "   shock  \n",
       "0      0  \n",
       "1      0  \n",
       "2      1  \n",
       "3      1  \n",
       "4      0  \n",
       "5      0  \n",
       "6      0  \n",
       "7      0  \n",
       "8      0  \n",
       "9      0  "
      ]
     },
     "execution_count": 14,
     "metadata": {},
     "output_type": "execute_result"
    }
   ],
   "source": [
    "results = []\n",
    "for i, row in filtered_meetings.iterrows():\n",
    "    meeting_date = row['FOMC Meeting']\n",
    "    start_date = meeting_date - pd.tseries.offsets.BDay(5)\n",
    "    end_date = meeting_date + pd.tseries.offsets.BDay(6)\n",
    "    spx_after_meeting = market_df.loc[start_date:end_date]\n",
    "\n",
    "    rets = spx_after_meeting['Close'].pct_change().bfill()\n",
    "    mean = rets.mean()\n",
    "    var = rets.rolling(window=2).var()\n",
    "    theta = var.mean()\n",
    "    sigma_variance = var.std()\n",
    "    rho = rets.corr(var)\n",
    "\n",
    "    result = {\n",
    "        'FOMOC Meeting Date': meeting_date,\n",
    "        'mean rets': mean,\n",
    "        'prices': spx_after_meeting['Close'].values,\n",
    "        'variance': var.mean(),\n",
    "        'theta': theta,\n",
    "        'sigma_variance': sigma_variance,\n",
    "        'rho': rho,\n",
    "        'shock': row['Fed Rate Increase']\n",
    "    }\n",
    "\n",
    "    # Add all features dynamically\n",
    "    for feature in FEATURES:\n",
    "        result[feature] = row[feature]\n",
    "\n",
    "    results.append(result)\n",
    "\n",
    "all_fomc_data_df = pd.DataFrame(results)\n",
    "all_fomc_data_df[[\"FOMOC Meeting Date\", \"mean rets\", \"variance\", \"theta\", \"sigma_variance\", \"rho\", \"shock\"]].head(10)"
   ]
  },
  {
   "cell_type": "markdown",
   "id": "1521a17a",
   "metadata": {
    "papermill": {
     "duration": 0.024605,
     "end_time": "2024-07-29T14:31:00.934868",
     "exception": false,
     "start_time": "2024-07-29T14:31:00.910263",
     "status": "completed"
    },
    "tags": []
   },
   "source": [
    "# Testing with Market Shock\n",
    "\n",
    "let's select a FOMC where they last increased the rates, the one in 2023-06-14:"
   ]
  },
  {
   "cell_type": "code",
   "execution_count": 15,
   "id": "9278be2f",
   "metadata": {
    "execution": {
     "iopub.execute_input": "2024-07-29T14:31:00.986223Z",
     "iopub.status.busy": "2024-07-29T14:31:00.985837Z",
     "iopub.status.idle": "2024-07-29T14:31:01.002676Z",
     "shell.execute_reply": "2024-07-29T14:31:01.001698Z"
    },
    "papermill": {
     "duration": 0.045809,
     "end_time": "2024-07-29T14:31:01.005495",
     "exception": false,
     "start_time": "2024-07-29T14:31:00.959686",
     "status": "completed"
    },
    "tags": []
   },
   "outputs": [
    {
     "data": {
      "text/html": [
       "<div>\n",
       "<style scoped>\n",
       "    .dataframe tbody tr th:only-of-type {\n",
       "        vertical-align: middle;\n",
       "    }\n",
       "\n",
       "    .dataframe tbody tr th {\n",
       "        vertical-align: top;\n",
       "    }\n",
       "\n",
       "    .dataframe thead th {\n",
       "        text-align: right;\n",
       "    }\n",
       "</style>\n",
       "<table border=\"1\" class=\"dataframe\">\n",
       "  <thead>\n",
       "    <tr style=\"text-align: right;\">\n",
       "      <th></th>\n",
       "      <th>FOMOC Meeting Date</th>\n",
       "      <th>mean rets</th>\n",
       "      <th>variance</th>\n",
       "      <th>theta</th>\n",
       "      <th>sigma_variance</th>\n",
       "      <th>rho</th>\n",
       "      <th>shock</th>\n",
       "    </tr>\n",
       "  </thead>\n",
       "  <tbody>\n",
       "    <tr>\n",
       "      <th>1</th>\n",
       "      <td>2023-06-14</td>\n",
       "      <td>0.002668</td>\n",
       "      <td>0.000035</td>\n",
       "      <td>0.000035</td>\n",
       "      <td>0.000058</td>\n",
       "      <td>-0.278679</td>\n",
       "      <td>0</td>\n",
       "    </tr>\n",
       "  </tbody>\n",
       "</table>\n",
       "</div>"
      ],
      "text/plain": [
       "  FOMOC Meeting Date  mean rets  variance     theta  sigma_variance       rho  \\\n",
       "1         2023-06-14   0.002668  0.000035  0.000035        0.000058 -0.278679   \n",
       "\n",
       "   shock  \n",
       "1      0  "
      ]
     },
     "execution_count": 15,
     "metadata": {},
     "output_type": "execute_result"
    }
   ],
   "source": [
    "train_fomc = all_fomc_data_df.iloc[1:2]\n",
    "train_fomc[[\"FOMOC Meeting Date\", \"mean rets\", \"variance\", \"theta\", \"sigma_variance\", \"rho\", \"shock\"]]\n"
   ]
  },
  {
   "cell_type": "code",
   "execution_count": 16,
   "id": "d626397a",
   "metadata": {
    "execution": {
     "iopub.execute_input": "2024-07-29T14:31:01.058885Z",
     "iopub.status.busy": "2024-07-29T14:31:01.058426Z",
     "iopub.status.idle": "2024-07-29T14:31:01.073773Z",
     "shell.execute_reply": "2024-07-29T14:31:01.072689Z"
    },
    "papermill": {
     "duration": 0.044779,
     "end_time": "2024-07-29T14:31:01.076201",
     "exception": false,
     "start_time": "2024-07-29T14:31:01.031422",
     "status": "completed"
    },
    "tags": []
   },
   "outputs": [
    {
     "data": {
      "text/html": [
       "<div>\n",
       "<style scoped>\n",
       "    .dataframe tbody tr th:only-of-type {\n",
       "        vertical-align: middle;\n",
       "    }\n",
       "\n",
       "    .dataframe tbody tr th {\n",
       "        vertical-align: top;\n",
       "    }\n",
       "\n",
       "    .dataframe thead th {\n",
       "        text-align: right;\n",
       "    }\n",
       "</style>\n",
       "<table border=\"1\" class=\"dataframe\">\n",
       "  <thead>\n",
       "    <tr style=\"text-align: right;\">\n",
       "      <th></th>\n",
       "      <th>FOMOC Meeting Date</th>\n",
       "      <th>mean rets</th>\n",
       "      <th>variance</th>\n",
       "      <th>theta</th>\n",
       "      <th>sigma_variance</th>\n",
       "      <th>rho</th>\n",
       "      <th>shock</th>\n",
       "    </tr>\n",
       "  </thead>\n",
       "  <tbody>\n",
       "    <tr>\n",
       "      <th>2</th>\n",
       "      <td>2023-07-26</td>\n",
       "      <td>-0.001708</td>\n",
       "      <td>0.000033</td>\n",
       "      <td>0.000033</td>\n",
       "      <td>0.00004</td>\n",
       "      <td>0.262131</td>\n",
       "      <td>1</td>\n",
       "    </tr>\n",
       "  </tbody>\n",
       "</table>\n",
       "</div>"
      ],
      "text/plain": [
       "  FOMOC Meeting Date  mean rets  variance     theta  sigma_variance       rho  \\\n",
       "2         2023-07-26  -0.001708  0.000033  0.000033         0.00004  0.262131   \n",
       "\n",
       "   shock  \n",
       "2      1  "
      ]
     },
     "execution_count": 16,
     "metadata": {},
     "output_type": "execute_result"
    }
   ],
   "source": [
    "\n",
    "test_fomc = all_fomc_data_df.iloc[2:3]\n",
    "test_fomc[[\"FOMOC Meeting Date\", \"mean rets\", \"variance\", \"theta\", \"sigma_variance\", \"rho\", \"shock\"]]"
   ]
  },
  {
   "cell_type": "markdown",
   "id": "89652961",
   "metadata": {
    "papermill": {
     "duration": 0.024576,
     "end_time": "2024-07-29T14:31:01.126000",
     "exception": false,
     "start_time": "2024-07-29T14:31:01.101424",
     "status": "completed"
    },
    "tags": []
   },
   "source": [
    "We dryrun the Heston, to see if the numbers make sense:"
   ]
  },
  {
   "cell_type": "code",
   "execution_count": 17,
   "id": "fb7b24bd",
   "metadata": {
    "execution": {
     "iopub.execute_input": "2024-07-29T14:31:01.177988Z",
     "iopub.status.busy": "2024-07-29T14:31:01.177593Z",
     "iopub.status.idle": "2024-07-29T14:31:01.254733Z",
     "shell.execute_reply": "2024-07-29T14:31:01.253366Z"
    },
    "papermill": {
     "duration": 0.108884,
     "end_time": "2024-07-29T14:31:01.260004",
     "exception": false,
     "start_time": "2024-07-29T14:31:01.151120",
     "status": "completed"
    },
    "tags": []
   },
   "outputs": [
    {
     "name": "stdout",
     "output_type": "stream",
     "text": [
      "Warning: Time series is not stationary. ADF p-value: 0.5662781779205367\n",
      "455.20001220703125 2.3669774517605694e-05 0.00015371360408278356 -143.65445381115794 nan 0.0004657217433631542 0.03872615826319789 0.003968253968253968\n"
     ]
    },
    {
     "data": {
      "text/html": [
       "<div>\n",
       "<style scoped>\n",
       "    .dataframe tbody tr th:only-of-type {\n",
       "        vertical-align: middle;\n",
       "    }\n",
       "\n",
       "    .dataframe tbody tr th {\n",
       "        vertical-align: top;\n",
       "    }\n",
       "\n",
       "    .dataframe thead th {\n",
       "        text-align: right;\n",
       "    }\n",
       "</style>\n",
       "<table border=\"1\" class=\"dataframe\">\n",
       "  <thead>\n",
       "    <tr style=\"text-align: right;\">\n",
       "      <th></th>\n",
       "      <th>0</th>\n",
       "      <th>1</th>\n",
       "      <th>2</th>\n",
       "      <th>3</th>\n",
       "      <th>4</th>\n",
       "      <th>5</th>\n",
       "      <th>6</th>\n",
       "      <th>7</th>\n",
       "      <th>8</th>\n",
       "      <th>9</th>\n",
       "      <th>10</th>\n",
       "      <th>11</th>\n",
       "    </tr>\n",
       "  </thead>\n",
       "  <tbody>\n",
       "    <tr>\n",
       "      <th>X</th>\n",
       "      <td>465.388337</td>\n",
       "      <td>466.882934</td>\n",
       "      <td>462.181876</td>\n",
       "      <td>467.105893</td>\n",
       "      <td>460.507941</td>\n",
       "      <td>467.033961</td>\n",
       "      <td>463.389851</td>\n",
       "      <td>457.498264</td>\n",
       "      <td>447.998580</td>\n",
       "      <td>445.707390</td>\n",
       "      <td>449.944228</td>\n",
       "      <td>453.346549</td>\n",
       "    </tr>\n",
       "    <tr>\n",
       "      <th>Prices</th>\n",
       "      <td>455.200012</td>\n",
       "      <td>452.179993</td>\n",
       "      <td>452.179993</td>\n",
       "      <td>454.200012</td>\n",
       "      <td>455.440002</td>\n",
       "      <td>455.510010</td>\n",
       "      <td>452.489990</td>\n",
       "      <td>456.920013</td>\n",
       "      <td>457.790009</td>\n",
       "      <td>456.480011</td>\n",
       "      <td>450.130005</td>\n",
       "      <td>448.839996</td>\n",
       "    </tr>\n",
       "  </tbody>\n",
       "</table>\n",
       "</div>"
      ],
      "text/plain": [
       "                0           1           2           3           4   \\\n",
       "X       465.388337  466.882934  462.181876  467.105893  460.507941   \n",
       "Prices  455.200012  452.179993  452.179993  454.200012  455.440002   \n",
       "\n",
       "                5           6           7           8           9   \\\n",
       "X       467.033961  463.389851  457.498264  447.998580  445.707390   \n",
       "Prices  455.510010  452.489990  456.920013  457.790009  456.480011   \n",
       "\n",
       "                10          11  \n",
       "X       449.944228  453.346549  \n",
       "Prices  450.130005  448.839996  "
      ]
     },
     "execution_count": 17,
     "metadata": {},
     "output_type": "execute_result"
    }
   ],
   "source": [
    "def get_params(market_df, test_fomc):\n",
    "    date_end = pd.to_datetime(test_fomc['FOMOC Meeting Date'].iloc[-1])\n",
    "    historic_df = market_df.loc[:date_end]\n",
    "\n",
    "    kappa, _, _ = estimate_ou(historic_df['Close'])\n",
    "    rets = historic_df['Close'].pct_change().bfill()\n",
    "    mean = rets.mean()\n",
    "    var = rets.rolling(window=20).var()\n",
    "    X0 = test_fomc['prices'].iloc[-1][0] if len(test_fomc['prices']) > 0 else None\n",
    "    v0 = var.iloc[-1]\n",
    "    mu = rets.iloc[-1]\n",
    "    gamma = var.mean()\n",
    "    sigma_variance = var.std()\n",
    "    rho = rets.corr(var)\n",
    "    T = 1 / 252\n",
    "    N = len(test_fomc['prices'].iloc[-1]) if len(test_fomc['prices']) > 0 else None\n",
    "\n",
    "    return X0, v0, mu, kappa, gamma, sigma_variance, rho, T, N\n",
    "\n",
    "X0, v0, mu, kappa, gamma, sigma_variance, rho, T, N= get_params(market_df, test_fomc)\n",
    "print(X0, v0, mu, kappa, theta, sigma_variance, rho, T)\n",
    "\n",
    "X, variance = heston_model(X0, v0, mu, kappa, gamma, sigma_variance, rho, T, N)\n",
    "comparison_df = pd.DataFrame([X, test_fomc['prices'].iloc[-1]], index=['X', 'Prices'])\n",
    "comparison_df"
   ]
  },
  {
   "cell_type": "markdown",
   "id": "4bee456b",
   "metadata": {
    "papermill": {
     "duration": 0.038024,
     "end_time": "2024-07-29T14:31:01.351669",
     "exception": false,
     "start_time": "2024-07-29T14:31:01.313645",
     "status": "completed"
    },
    "tags": []
   },
   "source": [
    "Without hinting the Heston that there was a shock, it will random walk sideways.\n",
    "\n",
    "To give the correct parameters for the shocks, we need to collect it from the historical data:"
   ]
  },
  {
   "cell_type": "code",
   "execution_count": 18,
   "id": "2ec91545",
   "metadata": {
    "execution": {
     "iopub.execute_input": "2024-07-29T14:31:01.405029Z",
     "iopub.status.busy": "2024-07-29T14:31:01.404617Z",
     "iopub.status.idle": "2024-07-29T14:31:01.416993Z",
     "shell.execute_reply": "2024-07-29T14:31:01.415905Z"
    },
    "papermill": {
     "duration": 0.04221,
     "end_time": "2024-07-29T14:31:01.419328",
     "exception": false,
     "start_time": "2024-07-29T14:31:01.377118",
     "status": "completed"
    },
    "tags": []
   },
   "outputs": [
    {
     "data": {
      "text/plain": [
       "(0.0023299501398404, 0.0061881761869394605)"
      ]
     },
     "execution_count": 18,
     "metadata": {},
     "output_type": "execute_result"
    }
   ],
   "source": [
    "def calculate_fomcstats(df, target_date):\n",
    "    filtered_df = df[df['FOMOC Meeting Date'] < target_date]\n",
    "\n",
    "    mean_prices = []\n",
    "    std_prices = []\n",
    "\n",
    "    for prices in filtered_df['prices']:\n",
    "        returns = np.diff(prices) / prices[:-1]\n",
    "        mean_prices.append(np.mean(returns))\n",
    "        std_prices.append(np.std(returns))\n",
    "\n",
    "    mean = np.mean(mean_prices)\n",
    "    sigma = np.mean(std_prices)\n",
    "\n",
    "    return mean, sigma\n",
    "\n",
    "calculate_fomcstats(all_fomc_data_df, pd.to_datetime(test_fomc['FOMOC Meeting Date'].iloc[-1]))"
   ]
  },
  {
   "cell_type": "markdown",
   "id": "3206c900",
   "metadata": {
    "papermill": {
     "duration": 0.025359,
     "end_time": "2024-07-29T14:31:01.470589",
     "exception": false,
     "start_time": "2024-07-29T14:31:01.445230",
     "status": "completed"
    },
    "tags": []
   },
   "source": [
    "# Monte Carlo Simulations\n",
    "\n",
    "Here is where it will get interesting.\n",
    "\n",
    "We have the Heston, we have the jumps mean and standard devation throughout history and we have a classifier that can supply probabilities for the status quo (no or slight positive shocks) and a rate increase (negative shocks). Now we get a normal distribution of what might happen to SPY's price, and therefore the market by running a million different paths with a Monte Carlo.\n",
    "\n",
    "The python code below simulates that:"
   ]
  },
  {
   "cell_type": "code",
   "execution_count": 19,
   "id": "05dc3358",
   "metadata": {
    "execution": {
     "iopub.execute_input": "2024-07-29T14:31:01.524183Z",
     "iopub.status.busy": "2024-07-29T14:31:01.523777Z",
     "iopub.status.idle": "2024-07-29T14:31:36.952053Z",
     "shell.execute_reply": "2024-07-29T14:31:36.950992Z"
    },
    "papermill": {
     "duration": 35.48636,
     "end_time": "2024-07-29T14:31:36.982780",
     "exception": false,
     "start_time": "2024-07-29T14:31:01.496420",
     "status": "completed"
    },
    "tags": []
   },
   "outputs": [
    {
     "name": "stdout",
     "output_type": "stream",
     "text": [
      "Warning: Time series is not stationary. ADF p-value: 0.5662781779205367\n",
      "[0.69636607 0.30363393]\n"
     ]
    },
    {
     "data": {
      "image/png": "[encoded data removed]",
      "text/plain": [
       "<Figure size 1200x400 with 1 Axes>"
      ]
     },
     "metadata": {},
     "output_type": "display_data"
    }
   ],
   "source": [
    "from scipy.stats import norm, skew, kurtosis, shapiro\n",
    "import seaborn as sns\n",
    "\n",
    "def monte_carlo(X0, v0, mu, kappa, gamma, sigma_variance, rho, T, N , df = None, historic_df=None, model = None, scaler=None, features = FEATURES, num_simulations=100000):\n",
    "    final_prices = np.zeros(num_simulations)\n",
    "    final_variances = np.zeros(num_simulations)\n",
    "    jump_probas = None\n",
    "    jummp_mean = None\n",
    "    jump_std = None\n",
    "\n",
    "    if df is not None and model is not None and scaler is not None and historic_df is not None:\n",
    "        scaled_features = scaler.transform(df[features].head(1))\n",
    "        jump_probas = best_model.predict_proba(scaled_features)[0]\n",
    "        jummp_mean, jump_std = calculate_fomcstats(historic_df, pd.to_datetime(df['FOMOC Meeting Date'].iloc[-1]))\n",
    "        print(jump_probas) # 0: No change or less, 1: increase\n",
    "\n",
    "    for i in range(num_simulations):\n",
    "        if jump_probas is not None:\n",
    "            X, variance = heston_model(X0, v0, mu, kappa, gamma, sigma_variance, rho, T, N, pos_jump_proba=jump_probas[0], neg_jump_proba=jump_probas[1], jump_mean=jummp_mean, jump_std=jump_std)\n",
    "        else:\n",
    "            X, variance = heston_model(X0, v0, mu, kappa, gamma, sigma_variance, rho, T, N )\n",
    "        final_prices[i] = X[-1]\n",
    "        final_variances[i] = variance[-1]\n",
    "\n",
    "    results = pd.DataFrame({\n",
    "        'final_prices': final_prices,\n",
    "        'final_variances': final_variances\n",
    "    })\n",
    "\n",
    "    return results.describe(), results\n",
    "\n",
    "def plot_results(results, start_price=None, end_price=None, fomc_date=None, high=None, low=None):\n",
    "    skew_credit = skew(results['final_prices'])\n",
    "    kurtosis_credit = kurtosis(results['final_prices'])\n",
    "    stat, p_value = shapiro(results['final_prices'])\n",
    "    normality_test_result = f'Stat={stat:.3f}, p-value={p_value:.3f}, skew={skew_credit:.2f}, kurt={kurtosis_credit:.2f}'\n",
    "\n",
    "    plt.figure(figsize=(12, 4))\n",
    "    sns.histplot(results['final_prices'], bins=50, kde=True, color='blue', edgecolor='black', alpha=0.2, stat='density', label='KDE')\n",
    "\n",
    "    if start_price is not None:\n",
    "        plt.axvline(start_price, color='green', linestyle='dashed', linewidth=2, label='Start Price', alpha=0.5)\n",
    "    if end_price is not None:\n",
    "        plt.axvline(end_price, color='red', linestyle='dashed', linewidth=2, label='End Price', alpha=0.5)\n",
    "    if high is not None:\n",
    "        plt.axvline(high, color='orange', linewidth=2, label='High Price', alpha=0.5)\n",
    "    if low is not None:\n",
    "        plt.axvline(low, color='cyan', linewidth=2, label='Low Price', alpha=0.5)\n",
    "\n",
    "    plt.axvline(results['final_prices'].mean(), color='yellow', linestyle='dashed', linewidth=2, label='Mean Price', alpha=0.5)\n",
    "\n",
    "    n_mu, n_std = norm.fit(results['final_prices'])\n",
    "    xmin, xmax = plt.xlim()\n",
    "    x = np.linspace(xmin, xmax, 100)\n",
    "    p = norm.pdf(x, n_mu, n_std)\n",
    "    plt.plot(x, p, 'k', linewidth=2, label='Normal PDF', alpha=0.5)\n",
    "\n",
    "\n",
    "    plt.title(f'{fomc_date} Distribution ({normality_test_result})')\n",
    "    plt.xlabel('Price')\n",
    "    plt.ylabel('Density')\n",
    "\n",
    "    plt.legend()\n",
    "    plt.show()\n",
    "\n",
    "train_fomc = all_fomc_data_df.iloc[1:2]\n",
    "test_fomc = all_fomc_data_df.iloc[2:3]\n",
    "\n",
    "X0, v0, mu, kappa, gamma, sigma_variance, rho, T, N= get_params(market_df, test_fomc)\n",
    "summary_statistics, results = monte_carlo(X0, variance0, mu, kappa, gamma, sigma_variance, rho, T, N, df=test_fomc, historic_df=all_fomc_data_df, model=best_model, scaler=scaler)\n",
    "\n",
    "plot_results(results,\n",
    "             start_price=test_fomc['prices'].iloc[-1][0],\n",
    "             end_price=test_fomc['prices'].iloc[-1][-1],\n",
    "             high=test_fomc['prices'].iloc[-1].max(),\n",
    "             low=test_fomc['prices'].iloc[-1].min(),\n",
    "             fomc_date= pd.to_datetime(test_fomc['FOMOC Meeting Date'].iloc[-1]))"
   ]
  },
  {
   "cell_type": "markdown",
   "id": "31ab2fa0",
   "metadata": {
    "papermill": {
     "duration": 0.028757,
     "end_time": "2024-07-29T14:31:37.038691",
     "exception": false,
     "start_time": "2024-07-29T14:31:37.009934",
     "status": "completed"
    },
    "tags": []
   },
   "source": [
    "First simulation for the meeting on 2023-07-26 was a failure, mainly because the classifier signalled weakly the status quo (probablilites: [0.71451023 0.28548977])."
   ]
  },
  {
   "cell_type": "markdown",
   "id": "75094394",
   "metadata": {
    "papermill": {
     "duration": 0.026989,
     "end_time": "2024-07-29T14:31:37.093433",
     "exception": false,
     "start_time": "2024-07-29T14:31:37.066444",
     "status": "completed"
    },
    "tags": []
   },
   "source": [
    "# No Shock FOMC\n",
    "\n",
    "The next FOMC meeting to be simulated is a recent one on the 2024-06-12."
   ]
  },
  {
   "cell_type": "code",
   "execution_count": 20,
   "id": "4fe75df3",
   "metadata": {
    "execution": {
     "iopub.execute_input": "2024-07-29T14:31:37.149457Z",
     "iopub.status.busy": "2024-07-29T14:31:37.149056Z",
     "iopub.status.idle": "2024-07-29T14:31:37.175240Z",
     "shell.execute_reply": "2024-07-29T14:31:37.174135Z"
    },
    "papermill": {
     "duration": 0.057152,
     "end_time": "2024-07-29T14:31:37.177813",
     "exception": false,
     "start_time": "2024-07-29T14:31:37.120661",
     "status": "completed"
    },
    "tags": []
   },
   "outputs": [
    {
     "data": {
      "text/html": [
       "<div>\n",
       "<style scoped>\n",
       "    .dataframe tbody tr th:only-of-type {\n",
       "        vertical-align: middle;\n",
       "    }\n",
       "\n",
       "    .dataframe tbody tr th {\n",
       "        vertical-align: top;\n",
       "    }\n",
       "\n",
       "    .dataframe thead th {\n",
       "        text-align: right;\n",
       "    }\n",
       "</style>\n",
       "<table border=\"1\" class=\"dataframe\">\n",
       "  <thead>\n",
       "    <tr style=\"text-align: right;\">\n",
       "      <th></th>\n",
       "      <th>FOMOC Meeting Date</th>\n",
       "      <th>mean rets</th>\n",
       "      <th>prices</th>\n",
       "      <th>variance</th>\n",
       "      <th>theta</th>\n",
       "      <th>sigma_variance</th>\n",
       "      <th>rho</th>\n",
       "      <th>shock</th>\n",
       "      <th>CPI</th>\n",
       "      <th>Industry Production</th>\n",
       "      <th>...</th>\n",
       "      <th>CPI_Unemployment</th>\n",
       "      <th>CPI_Industry Production</th>\n",
       "      <th>Industry Production_Quarterly_Avg</th>\n",
       "      <th>PCE_Quarterly_Avg</th>\n",
       "      <th>Retail Sales_Quarterly_Avg</th>\n",
       "      <th>Unemployment_Quarterly_Avg</th>\n",
       "      <th>Wage Increase_Quarterly_Avg</th>\n",
       "      <th>Home Sales_Quarterly_Avg</th>\n",
       "      <th>Retail Trade_Quarterly_Avg</th>\n",
       "      <th>Real GDP_Quarterly_Avg</th>\n",
       "    </tr>\n",
       "  </thead>\n",
       "  <tbody>\n",
       "    <tr>\n",
       "      <th>11</th>\n",
       "      <td>2024-06-12</td>\n",
       "      <td>0.002078</td>\n",
       "      <td>[534.6699829101562, 534.6599731445312, 534.010...</td>\n",
       "      <td>0.00001</td>\n",
       "      <td>0.00001</td>\n",
       "      <td>0.00001</td>\n",
       "      <td>0.608059</td>\n",
       "      <td>0</td>\n",
       "      <td>314.175</td>\n",
       "      <td>103.994</td>\n",
       "      <td>...</td>\n",
       "      <td>1288.1175</td>\n",
       "      <td>32672.31495</td>\n",
       "      <td>103.251667</td>\n",
       "      <td>123.166</td>\n",
       "      <td>224750.333333</td>\n",
       "      <td>4.0</td>\n",
       "      <td>368.0</td>\n",
       "      <td>656.0</td>\n",
       "      <td>609424.666667</td>\n",
       "      <td>26726.739</td>\n",
       "    </tr>\n",
       "  </tbody>\n",
       "</table>\n",
       "<p>1 rows × 49 columns</p>\n",
       "</div>"
      ],
      "text/plain": [
       "   FOMOC Meeting Date  mean rets  \\\n",
       "11         2024-06-12   0.002078   \n",
       "\n",
       "                                               prices  variance    theta  \\\n",
       "11  [534.6699829101562, 534.6599731445312, 534.010...   0.00001  0.00001   \n",
       "\n",
       "    sigma_variance       rho  shock      CPI  Industry Production  ...  \\\n",
       "11         0.00001  0.608059      0  314.175              103.994  ...   \n",
       "\n",
       "    CPI_Unemployment  CPI_Industry Production  \\\n",
       "11         1288.1175              32672.31495   \n",
       "\n",
       "    Industry Production_Quarterly_Avg  PCE_Quarterly_Avg  \\\n",
       "11                         103.251667            123.166   \n",
       "\n",
       "    Retail Sales_Quarterly_Avg  Unemployment_Quarterly_Avg  \\\n",
       "11               224750.333333                         4.0   \n",
       "\n",
       "    Wage Increase_Quarterly_Avg  Home Sales_Quarterly_Avg  \\\n",
       "11                        368.0                     656.0   \n",
       "\n",
       "    Retail Trade_Quarterly_Avg  Real GDP_Quarterly_Avg  \n",
       "11               609424.666667               26726.739  \n",
       "\n",
       "[1 rows x 49 columns]"
      ]
     },
     "execution_count": 20,
     "metadata": {},
     "output_type": "execute_result"
    }
   ],
   "source": [
    "train_fomc = all_fomc_data_df.iloc[-3:-2]\n",
    "test_fomc = all_fomc_data_df.iloc[-2:-1]\n",
    "test_fomc"
   ]
  },
  {
   "cell_type": "code",
   "execution_count": 21,
   "id": "4aa6650e",
   "metadata": {
    "execution": {
     "iopub.execute_input": "2024-07-29T14:31:37.235698Z",
     "iopub.status.busy": "2024-07-29T14:31:37.234467Z",
     "iopub.status.idle": "2024-07-29T14:32:09.833736Z",
     "shell.execute_reply": "2024-07-29T14:32:09.832567Z"
    },
    "papermill": {
     "duration": 32.6594,
     "end_time": "2024-07-29T14:32:09.865149",
     "exception": false,
     "start_time": "2024-07-29T14:31:37.205749",
     "status": "completed"
    },
    "tags": []
   },
   "outputs": [
    {
     "name": "stdout",
     "output_type": "stream",
     "text": [
      "Warning: Time series is not stationary. ADF p-value: 0.8332121128508818\n",
      "[0.90714665 0.09285335]\n"
     ]
    },
    {
     "data": {
      "image/png": "[encoded data removed]",
      "text/plain": [
       "<Figure size 1200x400 with 1 Axes>"
      ]
     },
     "metadata": {},
     "output_type": "display_data"
    }
   ],
   "source": [
    "X0, v0, mu, kappa, gamma, sigma_variance, rho, T, N= get_params(market_df, test_fomc)\n",
    "summary_statistics, results = monte_carlo(X0, variance0, mu, kappa, gamma, sigma_variance, rho, T, N, df=test_fomc, historic_df=all_fomc_data_df, model=best_model, scaler=scaler)\n",
    "plot_results(results,\n",
    "             start_price=test_fomc['prices'].iloc[-1][0],\n",
    "             end_price=test_fomc['prices'].iloc[-1][-1],\n",
    "             high=test_fomc['prices'].iloc[-1].max(),\n",
    "             low=test_fomc['prices'].iloc[-1].min(),\n",
    "             fomc_date= pd.to_datetime(test_fomc['FOMOC Meeting Date'].iloc[-1]))"
   ]
  },
  {
   "cell_type": "markdown",
   "id": "0bde4915",
   "metadata": {
    "papermill": {
     "duration": 0.028422,
     "end_time": "2024-07-29T14:32:09.922394",
     "exception": false,
     "start_time": "2024-07-29T14:32:09.893972",
     "status": "completed"
    },
    "tags": []
   },
   "source": [
    "This simulation was perfect, with all price ranges being central to the historic."
   ]
  },
  {
   "cell_type": "markdown",
   "id": "6f298257",
   "metadata": {
    "papermill": {
     "duration": 0.028446,
     "end_time": "2024-07-29T14:32:09.979377",
     "exception": false,
     "start_time": "2024-07-29T14:32:09.950931",
     "status": "completed"
    },
    "tags": []
   },
   "source": [
    "# FOMC 31st July 2024 Predictions"
   ]
  },
  {
   "cell_type": "code",
   "execution_count": 22,
   "id": "d6e9f9cb",
   "metadata": {
    "execution": {
     "iopub.execute_input": "2024-07-29T14:32:10.039719Z",
     "iopub.status.busy": "2024-07-29T14:32:10.038670Z",
     "iopub.status.idle": "2024-07-29T14:32:42.664764Z",
     "shell.execute_reply": "2024-07-29T14:32:42.663565Z"
    },
    "papermill": {
     "duration": 32.688928,
     "end_time": "2024-07-29T14:32:42.697326",
     "exception": false,
     "start_time": "2024-07-29T14:32:10.008398",
     "status": "completed"
    },
    "tags": []
   },
   "outputs": [
    {
     "name": "stdout",
     "output_type": "stream",
     "text": [
      "Warning: Time series is not stationary. ADF p-value: 0.8332121128508818\n",
      "[0.81611689 0.18388311]\n"
     ]
    },
    {
     "data": {
      "image/png": "[encoded data removed]",
      "text/plain": [
       "<Figure size 1200x400 with 1 Axes>"
      ]
     },
     "metadata": {},
     "output_type": "display_data"
    }
   ],
   "source": [
    "next_fomc = all_fomc_data_df.iloc[-1:]\n",
    "\n",
    "\n",
    "X0, v0, mu, kappa, gamma, sigma_variance, rho, T, N= get_params(market_df, test_fomc)\n",
    "X0 = 544.44 # SPY as 29th July 20024\n",
    "N = 11\n",
    "\n",
    "summary_statistics, results = monte_carlo(X0, variance0, mu, kappa, gamma, sigma_variance, rho, T, N, df=next_fomc, historic_df=all_fomc_data_df, model=best_model, scaler=scaler)\n",
    "plot_results(results,\n",
    "             start_price=X0,\n",
    "             fomc_date= pd.to_datetime(next_fomc['FOMOC Meeting Date'].iloc[-1]))"
   ]
  },
  {
   "cell_type": "code",
   "execution_count": 23,
   "id": "2f78aa1f",
   "metadata": {
    "execution": {
     "iopub.execute_input": "2024-07-29T14:32:42.758628Z",
     "iopub.status.busy": "2024-07-29T14:32:42.758203Z",
     "iopub.status.idle": "2024-07-29T14:32:42.770649Z",
     "shell.execute_reply": "2024-07-29T14:32:42.769557Z"
    },
    "papermill": {
     "duration": 0.046181,
     "end_time": "2024-07-29T14:32:42.773074",
     "exception": false,
     "start_time": "2024-07-29T14:32:42.726893",
     "status": "completed"
    },
    "tags": []
   },
   "outputs": [
    {
     "data": {
      "text/html": [
       "<div>\n",
       "<style scoped>\n",
       "    .dataframe tbody tr th:only-of-type {\n",
       "        vertical-align: middle;\n",
       "    }\n",
       "\n",
       "    .dataframe tbody tr th {\n",
       "        vertical-align: top;\n",
       "    }\n",
       "\n",
       "    .dataframe thead th {\n",
       "        text-align: right;\n",
       "    }\n",
       "</style>\n",
       "<table border=\"1\" class=\"dataframe\">\n",
       "  <thead>\n",
       "    <tr style=\"text-align: right;\">\n",
       "      <th></th>\n",
       "      <th>final_prices</th>\n",
       "      <th>final_variances</th>\n",
       "    </tr>\n",
       "  </thead>\n",
       "  <tbody>\n",
       "    <tr>\n",
       "      <th>count</th>\n",
       "      <td>100000.000000</td>\n",
       "      <td>100000.000000</td>\n",
       "    </tr>\n",
       "    <tr>\n",
       "      <th>mean</th>\n",
       "      <td>551.044153</td>\n",
       "      <td>0.161967</td>\n",
       "    </tr>\n",
       "    <tr>\n",
       "      <th>std</th>\n",
       "      <td>15.724039</td>\n",
       "      <td>0.000014</td>\n",
       "    </tr>\n",
       "    <tr>\n",
       "      <th>min</th>\n",
       "      <td>488.893628</td>\n",
       "      <td>0.161900</td>\n",
       "    </tr>\n",
       "    <tr>\n",
       "      <th>25%</th>\n",
       "      <td>540.318574</td>\n",
       "      <td>0.161957</td>\n",
       "    </tr>\n",
       "    <tr>\n",
       "      <th>50%</th>\n",
       "      <td>550.837562</td>\n",
       "      <td>0.161967</td>\n",
       "    </tr>\n",
       "    <tr>\n",
       "      <th>75%</th>\n",
       "      <td>561.427987</td>\n",
       "      <td>0.161977</td>\n",
       "    </tr>\n",
       "    <tr>\n",
       "      <th>max</th>\n",
       "      <td>622.347618</td>\n",
       "      <td>0.162036</td>\n",
       "    </tr>\n",
       "  </tbody>\n",
       "</table>\n",
       "</div>"
      ],
      "text/plain": [
       "        final_prices  final_variances\n",
       "count  100000.000000    100000.000000\n",
       "mean      551.044153         0.161967\n",
       "std        15.724039         0.000014\n",
       "min       488.893628         0.161900\n",
       "25%       540.318574         0.161957\n",
       "50%       550.837562         0.161967\n",
       "75%       561.427987         0.161977\n",
       "max       622.347618         0.162036"
      ]
     },
     "execution_count": 23,
     "metadata": {},
     "output_type": "execute_result"
    }
   ],
   "source": [
    "summary_statistics"
   ]
  },
  {
   "cell_type": "markdown",
   "id": "310ee9a8",
   "metadata": {
    "papermill": {
     "duration": 0.029922,
     "end_time": "2024-07-29T14:32:42.833214",
     "exception": false,
     "start_time": "2024-07-29T14:32:42.803292",
     "status": "completed"
    },
    "tags": []
   },
   "source": [
    "This is the distribution for this FOMC on the 31st July 2024. The classifier's predictions lean strongly to maintaining the status quo, with probabilities: [0.98792802 0.01207198] and the distribution has a slightly stronger positive skew, meaning the market should trend green on average around these 2 weeks, with SPY clustering around $550.92, and might range from $540.21 (25%) to $561.38 (75%)."
   ]
  },
  {
   "cell_type": "markdown",
   "id": "b7f94ee0",
   "metadata": {
    "papermill": {
     "duration": 0.029653,
     "end_time": "2024-07-29T14:32:42.892986",
     "exception": false,
     "start_time": "2024-07-29T14:32:42.863333",
     "status": "completed"
    },
    "tags": []
   },
   "source": [
    "# Conclusion\n",
    "\n",
    "In this article we used a Heston stochastic process and a Random Forest Classifier to create distributions for what the next FOMC impact on the market, using the SPY ETF as a proxy.\n",
    "\n",
    "We attempt to guess what will happen for the next meeting, on the 31st July 2024. Future readers are welcome to comment if we where close or far!"
   ]
  },
  {
   "cell_type": "markdown",
   "id": "3034c2d7",
   "metadata": {
    "papermill": {
     "duration": 0.029704,
     "end_time": "2024-07-29T14:32:42.952640",
     "exception": false,
     "start_time": "2024-07-29T14:32:42.922936",
     "status": "completed"
    },
    "tags": []
   },
   "source": [
    "# References\n",
    "\n",
    "- https://en.wikipedia.org/wiki/History_of_Federal_Open_Market_Committee_actions\n",
    "- https://www.federalreserve.gov/monetarypolicy/fomccalendars.htm\n",
    "- https://tradingeconomics.com/united-states/gdp-growth-annual\n",
    "- https://www.usinflationcalculator.com/inflation/historical-inflation-rates/ \n",
    "- https://www.investopedia.com/terms/c/consumerpriceindex.asp\n",
    "- https://www.investing.com/economic-calendar/retail-sales-256\n",
    "- https://fred.stlouisfed.org/series/MRTSSM44000USS\n",
    "- https://en.wikipedia.org/wiki/Ornstein%E2%80%93Uhlenbeck_process\n",
    "- https://scikit-learn.org/stable/modules/generated/sklearn.ensemble.GradientBoostingClassifier.html\n",
    "- https://bayesian-optimization.github.io/BayesianOptimization/code_docs.html\n",
    "- https://www.probabilitycourse.com/chapter11/11_0_0_intro.php\n",
    "- https://numpy.org/doc/stable/reference/random/generated/numpy.random.poisson.html"
   ]
  },
  {
   "cell_type": "markdown",
   "id": "9b95e303",
   "metadata": {
    "papermill": {
     "duration": 0.029837,
     "end_time": "2024-07-29T14:32:43.012557",
     "exception": false,
     "start_time": "2024-07-29T14:32:42.982720",
     "status": "completed"
    },
    "tags": []
   },
   "source": [
    "## Github\n",
    "\n",
    "Article and code available on [Github](https://github.com/adamd1985/quant_research/blob/main/bond_valuations.ipynb)\n",
    "\n",
    "Kaggle notebook available [here](https://www.kaggle.com/code/addarm/bond-valuations)\n",
    "\n",
    "Google Collab available [here](https://colab.research.google.com/github/adamd1985/quant_research/blob/main/bond_valuations.ipynb)\n",
    "\n",
    "## Media\n",
    "\n",
    "All media used (in the form of code or images) are either solely owned by me, acquired through licensing, or part of the Public Domain and granted use through Creative Commons License.\n",
    "\n",
    "## CC Licensing and Use\n",
    "\n",
    "<a rel=\"license\" href=\"http://creativecommons.org/licenses/by-nc/4.0/\"><img alt=\"Creative Commons License\" style=\"border-width:0\" src=\"https://i.creativecommons.org/l/by-nc/4.0/88x31.png\" /></a><br />This work is licensed under a <a rel=\"license\" href=\"http://creativecommons.org/licenses/by-nc/4.0/\">Creative Commons Attribution-NonCommercial 4.0 International License</a>."
   ]
  }
 ],
 "metadata": {
  "kaggle": {
   "accelerator": "none",
   "dataSources": [
    {
     "datasetId": 5462897,
     "sourceId": 9059139,
     "sourceType": "datasetVersion"
    }
   ],
   "dockerImageVersionId": 30746,
   "isGpuEnabled": false,
   "isInternetEnabled": true,
   "language": "python",
   "sourceType": "notebook"
  },
  "kernelspec": {
   "display_name": "Python 3",
   "language": "python",
   "name": "python3"
  },
  "language_info": {
   "codemirror_mode": {
    "name": "ipython",
    "version": 3
   },
   "file_extension": ".py",
   "mimetype": "text/x-python",
   "name": "python",
   "nbconvert_exporter": "python",
   "pygments_lexer": "ipython3",
   "version": "3.10.13"
  },
  "papermill": {
   "default_parameters": {},
   "duration": 1023.477328,
   "end_time": "2024-07-29T14:32:43.868193",
   "environment_variables": {},
   "exception": null,
   "input_path": "__notebook__.ipynb",
   "output_path": "__notebook__.ipynb",
   "parameters": {},
   "start_time": "2024-07-29T14:15:40.390865",
   "version": "2.5.0"
  }
 },
 "nbformat": 4,
 "nbformat_minor": 5
}
