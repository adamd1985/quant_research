{
 "cells": [
  {
   "cell_type": "markdown",
   "id": "f4f2af90",
   "metadata": {
    "papermill": {
     "duration": 0.00682,
     "end_time": "2023-11-05T17:59:38.297125",
     "exception": false,
     "start_time": "2023-11-05T17:59:38.290305",
     "status": "completed"
    },
    "tags": []
   },
   "source": [
    "# Temporal Convolution Neural Network with Conditioning for Broad Market Signals\n",
    "\n",
    "\n",
    "<a href=\"\" target=\"_blank\"><img align=\"left\" alt=\"Kaggle\" title=\"Open in Kaggle\" src=\"https://kaggle.com/static/images/open-in-kaggle.svg\"></a>"
   ]
  },
  {
   "cell_type": "code",
   "execution_count": 1,
   "id": "6a827e09",
   "metadata": {
    "_cell_guid": "b1076dfc-b9ad-4769-8c92-a6c4dae69d19",
    "_uuid": "8f2839f25d086af736a60e9eeb907d3b93b6e0e5",
    "execution": {
     "iopub.execute_input": "2023-11-05T17:59:38.335093Z",
     "iopub.status.busy": "2023-11-05T17:59:38.334737Z",
     "iopub.status.idle": "2023-11-05T18:01:02.444324Z",
     "shell.execute_reply": "2023-11-05T18:01:02.443308Z"
    },
    "papermill": {
     "duration": 84.119909,
     "end_time": "2023-11-05T18:01:02.447010",
     "exception": false,
     "start_time": "2023-11-05T17:59:38.327101",
     "status": "completed"
    },
    "tags": []
   },
   "outputs": [
    {
     "name": "stderr",
     "output_type": "stream",
     "text": [
      "C:\\Users\\adamd\\AppData\\Local\\Temp\\ipykernel_2568\\3477214583.py:2: DeprecationWarning: \n",
      "Pyarrow will become a required dependency of pandas in the next major release of pandas (pandas 3.0),\n",
      "(to allow more performant data types, such as the Arrow string type, and better interoperability with other libraries)\n",
      "but was not found to be installed on your system.\n",
      "If this would cause problems for you,\n",
      "please provide us feedback at https://github.com/pandas-dev/pandas/issues/54466\n",
      "        \n",
      "  import pandas as pd\n"
     ]
    },
    {
     "name": "stdout",
     "output_type": "stream",
     "text": [
      "Running Local...\n"
     ]
    },
    {
     "data": {
      "text/plain": [
       "'c:\\\\Users\\\\adamd\\\\workspace\\\\quant_research'"
      ]
     },
     "execution_count": 1,
     "metadata": {},
     "output_type": "execute_result"
    }
   ],
   "source": [
    "import numpy as np\n",
    "import pandas as pd\n",
    "import matplotlib.pyplot as plt\n",
    "import os\n",
    "from tqdm import tqdm\n",
    "\n",
    "import dotenv\n",
    "%load_ext dotenv\n",
    "\n",
    "import warnings\n",
    "warnings.filterwarnings(\"ignore\")\n",
    "\n",
    "IS_KAGGLE = os.getenv('IS_KAGGLE', 'True') == 'True'\n",
    "\n",
    "if IS_KAGGLE:\n",
    "    # Kaggle confgs\n",
    "    print('Running in Kaggle...')\n",
    "    %pip install yfinance\n",
    "    %pip install statsmodels\n",
    "    %pip install seaborn\n",
    "    %pip install itertools\n",
    "    %pip install scikit-learn\n",
    "\n",
    "    for dirname, _, filenames in os.walk('/kaggle/input'):\n",
    "        for filename in filenames:\n",
    "            print(os.path.join(dirname, filename))\n",
    "else:\n",
    "    print('Running Local...')\n",
    "\n",
    "import yfinance as yf\n",
    "from analysis_utils import load_ticker_prices_ts_df, load_ticker_ts_df\n",
    "\n",
    "os.getcwd()"
   ]
  },
  {
   "cell_type": "markdown",
   "id": "0f226f2c",
   "metadata": {},
   "source": [
    "# Financial Data\n",
    "\n",
    "Collect market time series data (like stock prices, trading volumes, etc.).\n",
    "Clean the data to handle missing values, outliers, or anomalies.\n",
    "Ensure the data is in a time series format, typically with a timestamp.\n",
    "\n",
    "## Constants"
   ]
  },
  {
   "cell_type": "code",
   "execution_count": 2,
   "id": "38727fc7",
   "metadata": {
    "execution": {
     "iopub.execute_input": "2023-11-05T18:01:02.470424Z",
     "iopub.status.busy": "2023-11-05T18:01:02.469635Z",
     "iopub.status.idle": "2023-11-05T18:01:03.256388Z",
     "shell.execute_reply": "2023-11-05T18:01:03.255137Z"
    },
    "papermill": {
     "duration": 0.801372,
     "end_time": "2023-11-05T18:01:03.258937",
     "exception": false,
     "start_time": "2023-11-05T18:01:02.457565",
     "status": "completed"
    },
    "tags": []
   },
   "outputs": [
    {
     "name": "stdout",
     "output_type": "stream",
     "text": [
      "SPY => min_date: 1999-01-04 00:00:00, max_date: 2024-02-06 00:00:00, kurt:0.24, skewness:1.18, outliers_count:0,  nan_count: 0\n",
      "^VIX => min_date: 1999-01-04 00:00:00, max_date: 2024-02-06 00:00:00, kurt:7.8, skewness:2.12, outliers_count:100,  nan_count: 0\n",
      "^TNX => min_date: 1999-01-04 00:00:00, max_date: 2024-02-06 00:00:00, kurt:-0.78, skewness:0.18, outliers_count:0,  nan_count: 0\n",
      "^RUT => min_date: 1999-01-04 00:00:00, max_date: 2024-02-06 00:00:00, kurt:-0.5, skewness:0.77, outliers_count:0,  nan_count: 0\n",
      "GC=F => min_date: 2000-08-30 00:00:00, max_date: 2024-02-06 00:00:00, kurt:-1.18, skewness:-0.15, outliers_count:0,  nan_count: 0\n"
     ]
    }
   ],
   "source": [
    "from datetime import datetime\n",
    "from scipy.stats import skew, kurtosis\n",
    "from pandas.tseries.offsets import BDay\n",
    "\n",
    "START_DATE = \"1999-01-01\"\n",
    "END_DATE = pd.Timestamp(datetime.now() - BDay(1)).strftime('%Y-%m-%d')\n",
    "DATA_DIR = \"data\"\n",
    "INDEX = \"Date\"\n",
    "TARGET_ETF = \"SPY\"  # S&P 500\n",
    "RATES_INDEX = \"^TNX\"  # 10 Year Treasury Note Yield\n",
    "VOLATILITY_INDEX = \"^VIX\"  # CBOE Volatility Index\n",
    "MACRO_INDEX = \"VEU\"  # Vanguard FTSE All-World ex-US ETF\n",
    "EURO_INDEX=\"^N100\"\n",
    "TECH_INDEX = \"^IXIC\"\n",
    "SMALLCAP_INDEX = \"^RUT\"\n",
    "GOLD_INDEX = \"GC=F\"\n",
    "UK_INDEX = \"^FTSE\"\n",
    "MEME_INDEX=\"BTC-USD\"\n",
    "JAP_INDEX = \"^N225\"\n",
    "RUS_INDEX = \".IRTS\"\n",
    "CHINA_INDEX = \"399001.SZ\"\n",
    "CRUDOIL_INDEX=\"CL=F\"\n",
    "SILVER_INDEX=\"SI=F\"\n",
    "tickers_symbols = [\n",
    "    TARGET_ETF,\n",
    "    VOLATILITY_INDEX,\n",
    "    RATES_INDEX,\n",
    "    #MACRO_INDEX,\n",
    "    #EURO_INDEX,\n",
    "    #TECH_INDEX,\n",
    "    SMALLCAP_INDEX,\n",
    "    GOLD_INDEX,\n",
    "    #CRUDOIL_INDEX,\n",
    "    #UK_INDEX,\n",
    "    #JAP_INDEX,\n",
    "    #RUS_INDEX,\n",
    "    #CHINA_INDEX,\n",
    "]\n",
    "INTERVAL = \"1d\"\n",
    "\n",
    "def get_tickerdata(tickers_symbols, start=START_DATE, end=END_DATE, interval=INTERVAL, datadir=DATA_DIR):\n",
    "    tickers = {}\n",
    "    earliest_end= datetime.strptime(end,'%Y-%m-%d')\n",
    "    latest_start = datetime.strptime(start,'%Y-%m-%d')\n",
    "    os.makedirs(DATA_DIR, exist_ok=True)\n",
    "    for symbol in tickers_symbols:\n",
    "        cached_file_path = f\"{datadir}/{symbol}-{start}-{end}-{interval}.csv\"\n",
    "\n",
    "        try:\n",
    "            if os.path.exists(cached_file_path):\n",
    "                df = pd.read_csv(cached_file_path, index_col=INDEX)\n",
    "                df.index = pd.to_datetime(df.index)\n",
    "                assert len(df) > 0\n",
    "            else:\n",
    "                df = yf.download(\n",
    "                    symbol,\n",
    "                    start=START_DATE,\n",
    "                    end=END_DATE,\n",
    "                    progress=False,\n",
    "                    interval=INTERVAL,\n",
    "                )\n",
    "                assert len(df) > 0\n",
    "                df.to_csv(cached_file_path)\n",
    "            min_date = df.index.min()\n",
    "            max_date = df.index.max()\n",
    "            nan_count = df[\"Close\"].isnull().sum()\n",
    "            skewness = round(skew(df[\"Close\"].dropna()), 2)\n",
    "            kurt = round(kurtosis(df[\"Close\"].dropna()), 2)\n",
    "            outliers_count = (df[\"Close\"] > df[\"Close\"].mean() + (3 * df[\"Close\"].std())).sum()\n",
    "            print(\n",
    "                f\"{symbol} => min_date: {min_date}, max_date: {max_date}, kurt:{kurt}, skewness:{skewness}, outliers_count:{outliers_count},  nan_count: {nan_count}\"\n",
    "            )\n",
    "            tickers[symbol] = df\n",
    "\n",
    "            if min_date > latest_start:\n",
    "                latest_start = min_date\n",
    "            if max_date < earliest_end:\n",
    "                earliest_end = max_date\n",
    "        except Exception as e:\n",
    "            print(f\"Error with {symbol}: {e}\")\n",
    "\n",
    "    return tickers, latest_start, earliest_end\n",
    "\n",
    "tickers, latest_start, earliest_end = get_tickerdata(tickers_symbols)"
   ]
  },
  {
   "cell_type": "code",
   "execution_count": 3,
   "id": "946b0d99",
   "metadata": {},
   "outputs": [
    {
     "name": "stdout",
     "output_type": "stream",
     "text": [
      "Date ranges 2000-08-30 00:00:00 - 2024-02-06 00:00:00\n"
     ]
    },
    {
     "data": {
      "text/html": [
       "<div>\n",
       "<style scoped>\n",
       "    .dataframe tbody tr th:only-of-type {\n",
       "        vertical-align: middle;\n",
       "    }\n",
       "\n",
       "    .dataframe tbody tr th {\n",
       "        vertical-align: top;\n",
       "    }\n",
       "\n",
       "    .dataframe thead th {\n",
       "        text-align: right;\n",
       "    }\n",
       "</style>\n",
       "<table border=\"1\" class=\"dataframe\">\n",
       "  <thead>\n",
       "    <tr style=\"text-align: right;\">\n",
       "      <th></th>\n",
       "      <th>Open</th>\n",
       "      <th>High</th>\n",
       "      <th>Low</th>\n",
       "      <th>Close</th>\n",
       "      <th>Adj Close</th>\n",
       "      <th>Volume</th>\n",
       "    </tr>\n",
       "    <tr>\n",
       "      <th>Date</th>\n",
       "      <th></th>\n",
       "      <th></th>\n",
       "      <th></th>\n",
       "      <th></th>\n",
       "      <th></th>\n",
       "      <th></th>\n",
       "    </tr>\n",
       "  </thead>\n",
       "  <tbody>\n",
       "    <tr>\n",
       "      <th>2000-08-30</th>\n",
       "      <td>151.3125</td>\n",
       "      <td>151.500000</td>\n",
       "      <td>150.34375</td>\n",
       "      <td>150.34375</td>\n",
       "      <td>97.524727</td>\n",
       "      <td>3964800</td>\n",
       "    </tr>\n",
       "    <tr>\n",
       "      <th>2000-08-31</th>\n",
       "      <td>151.0625</td>\n",
       "      <td>153.093750</td>\n",
       "      <td>150.90625</td>\n",
       "      <td>152.34375</td>\n",
       "      <td>98.822060</td>\n",
       "      <td>4863100</td>\n",
       "    </tr>\n",
       "    <tr>\n",
       "      <th>2000-09-01</th>\n",
       "      <td>153.2500</td>\n",
       "      <td>153.593750</td>\n",
       "      <td>152.00000</td>\n",
       "      <td>152.50000</td>\n",
       "      <td>98.923447</td>\n",
       "      <td>3191200</td>\n",
       "    </tr>\n",
       "    <tr>\n",
       "      <th>2000-09-05</th>\n",
       "      <td>151.8750</td>\n",
       "      <td>152.203125</td>\n",
       "      <td>150.81250</td>\n",
       "      <td>151.28125</td>\n",
       "      <td>98.132874</td>\n",
       "      <td>3470800</td>\n",
       "    </tr>\n",
       "    <tr>\n",
       "      <th>2000-09-06</th>\n",
       "      <td>151.1875</td>\n",
       "      <td>151.953125</td>\n",
       "      <td>149.53125</td>\n",
       "      <td>149.56250</td>\n",
       "      <td>97.017929</td>\n",
       "      <td>4322200</td>\n",
       "    </tr>\n",
       "  </tbody>\n",
       "</table>\n",
       "</div>"
      ],
      "text/plain": [
       "                Open        High        Low      Close  Adj Close   Volume\n",
       "Date                                                                      \n",
       "2000-08-30  151.3125  151.500000  150.34375  150.34375  97.524727  3964800\n",
       "2000-08-31  151.0625  153.093750  150.90625  152.34375  98.822060  4863100\n",
       "2000-09-01  153.2500  153.593750  152.00000  152.50000  98.923447  3191200\n",
       "2000-09-05  151.8750  152.203125  150.81250  151.28125  98.132874  3470800\n",
       "2000-09-06  151.1875  151.953125  149.53125  149.56250  97.017929  4322200"
      ]
     },
     "execution_count": 3,
     "metadata": {},
     "output_type": "execute_result"
    }
   ],
   "source": [
    "print(f\"Date ranges {latest_start} - {earliest_end}\")\n",
    "for ticker in tickers_symbols:\n",
    "    df = tickers.get(ticker)\n",
    "    df = df[(df.index >= latest_start) & (df.index <= earliest_end)]\n",
    "\n",
    "    assert len(df) > 0 and not df.isna().any().any()\n",
    "\n",
    "    tickers[ticker] = df\n",
    "\n",
    "tickers.get(TARGET_ETF).head(5)"
   ]
  },
  {
   "cell_type": "code",
   "execution_count": 4,
   "id": "122af07e",
   "metadata": {},
   "outputs": [
    {
     "data": {
      "image/png": "[encoded data removed]",
      "text/plain": [
       "<Figure size 1600x600 with 1 Axes>"
      ]
     },
     "metadata": {},
     "output_type": "display_data"
    }
   ],
   "source": [
    "percentage_returns = {}\n",
    "\n",
    "for ticker in tickers_symbols:\n",
    "    df = tickers.get(ticker)\n",
    "    percentage_returns[ticker] = ((1 + df[\"Close\"].pct_change()).cumprod() - 1) * 100\n",
    "plt.figure(figsize=(16, 6))\n",
    "for ticker, pr in percentage_returns.items():\n",
    "    plt.plot(pr, label=ticker, alpha=0.75)\n",
    "\n",
    "plt.legend(loc=\"upper left\")\n",
    "plt.grid(True)\n",
    "plt.tight_layout()\n",
    "plt.show()"
   ]
  },
  {
   "cell_type": "code",
   "execution_count": 5,
   "id": "34c42ed0",
   "metadata": {},
   "outputs": [
    {
     "data": {
      "image/png": "[encoded data removed]",
      "text/plain": [
       "<Figure size 1600x400 with 1 Axes>"
      ]
     },
     "metadata": {},
     "output_type": "display_data"
    },
    {
     "name": "stdout",
     "output_type": "stream",
     "text": [
      "Baseline Accuracy: 53.32%\n"
     ]
    }
   ],
   "source": [
    "TARGET_FACTOR = 1/100/100  # assume 75BP spread on average\n",
    "\n",
    "target_etf = tickers.get(TARGET_ETF)\n",
    "\n",
    "next_close = (target_etf[\"Close\"].shift(-1) * (1- TARGET_FACTOR))\n",
    "days_rising = target_etf[next_close > target_etf[\"Close\"]]\n",
    "days_not_rising = target_etf[next_close <= target_etf[\"Close\"]]\n",
    "days_rising_count = days_rising.groupby(days_rising.index.year).size()\n",
    "days_not_rising_count = days_not_rising.groupby(days_not_rising.index.year).size()\n",
    "\n",
    "total_days = target_etf.groupby(target_etf.index.year).size()\n",
    "percentage_rising = (days_rising_count / total_days) * 100\n",
    "\n",
    "yearly_counts = pd.DataFrame(\n",
    "    {\"Rising\": days_rising_count, \"Not Rising\": days_not_rising_count}\n",
    ")\n",
    "yearly_counts.plot(kind=\"bar\", color=[\"green\", \"red\"], figsize=(16, 4))\n",
    "plt.title(\"Days Rising vs Not Rising per Year\")\n",
    "plt.xlabel(\"Year\")\n",
    "plt.ylabel(\"Count\")\n",
    "plt.tick_params(axis=\"x\", rotation=45)\n",
    "plt.legend()\n",
    "plt.tight_layout()\n",
    "plt.show()\n",
    "\n",
    "print(f\"Baseline Accuracy: {percentage_rising.mean():0.2f}%\")"
   ]
  },
  {
   "cell_type": "markdown",
   "id": "bfdd0638",
   "metadata": {},
   "source": [
    "# Feature Selection and Engineering\n"
   ]
  },
  {
   "cell_type": "markdown",
   "id": "272a09ee",
   "metadata": {},
   "source": [
    "## Feature Constants"
   ]
  },
  {
   "cell_type": "code",
   "execution_count": 6,
   "id": "5e5751b4",
   "metadata": {},
   "outputs": [
    {
     "name": "stdout",
     "output_type": "stream",
     "text": [
      "target factor used: 0.0001 for window: 63 predicting: 1 step\n"
     ]
    }
   ],
   "source": [
    "from sklearn.preprocessing import FunctionTransformer, MinMaxScaler, normalize\n",
    "\n",
    "MONTH_SINE = \"month_sin\"\n",
    "MONTH_COS = \"month_cos\"\n",
    "MONTH_RBF = \"month_rbf\"\n",
    "DAY_SINE = \"day_sin\"\n",
    "DAY_COS = \"day_cos\"\n",
    "DAY_RBF = \"day_rbf\"\n",
    "Q_SINE = \"quart_sin\"\n",
    "Q_COS = \"quart_cos\"\n",
    "Q_RBF = \"quart_rbf\"\n",
    "BIZ_SINE = \"biz_sin\"\n",
    "BIZ_COS = \"biz_cos\"\n",
    "BIZ_RBF = \"biz_rbf\"\n",
    "TARGET_LABEL = \"Close_target\"\n",
    "TARGET_TS = \"Close\"  # The TS which we will condition.\n",
    "EXOG_TS = tickers_symbols.copy() # The TS to use for conditioning\n",
    "EXOG_TS.remove(TARGET_ETF)\n",
    "PRICE_FEATURES = [\"Open\", \"High\", \"Low\", \"Close\"]\n",
    "TIME_FEATURES = [\n",
    "    DAY_RBF,\n",
    "    MONTH_RBF,\n",
    "    Q_RBF,\n",
    "    BIZ_RBF,\n",
    "]\n",
    "TS_FEATURES = [\"Volume\"]\n",
    "TARGET_TS_FEATURES_NOTIME = EXOG_TS + TS_FEATURES + PRICE_FEATURES\n",
    "TARGET_TS_FEATURES = TARGET_TS_FEATURES_NOTIME + TIME_FEATURES\n",
    "WINDOW_SIZE = 252 // 4  # 1 years trading, sampled across days\n",
    "PREDICTION_HORIZON = 1  # next 1 trading day\n",
    "\n",
    "print(f\"target factor used: {TARGET_FACTOR} for window: {WINDOW_SIZE} predicting: {PREDICTION_HORIZON} step\")"
   ]
  },
  {
   "cell_type": "markdown",
   "id": "a378eb58",
   "metadata": {},
   "source": [
    "## Engineer Features"
   ]
  },
  {
   "cell_type": "code",
   "execution_count": 7,
   "id": "a1f1f024",
   "metadata": {},
   "outputs": [
    {
     "data": {
      "text/html": [
       "<div>\n",
       "<style scoped>\n",
       "    .dataframe tbody tr th:only-of-type {\n",
       "        vertical-align: middle;\n",
       "    }\n",
       "\n",
       "    .dataframe tbody tr th {\n",
       "        vertical-align: top;\n",
       "    }\n",
       "\n",
       "    .dataframe thead th {\n",
       "        text-align: right;\n",
       "    }\n",
       "</style>\n",
       "<table border=\"1\" class=\"dataframe\">\n",
       "  <thead>\n",
       "    <tr style=\"text-align: right;\">\n",
       "      <th></th>\n",
       "      <th>day_rbf</th>\n",
       "      <th>month_rbf</th>\n",
       "      <th>quart_rbf</th>\n",
       "      <th>biz_rbf</th>\n",
       "      <th>Close_target</th>\n",
       "      <th>^VIX</th>\n",
       "      <th>^TNX</th>\n",
       "      <th>^RUT</th>\n",
       "      <th>GC=F</th>\n",
       "      <th>Volume</th>\n",
       "      <th>Open</th>\n",
       "      <th>High</th>\n",
       "      <th>Low</th>\n",
       "      <th>Close</th>\n",
       "    </tr>\n",
       "  </thead>\n",
       "  <tbody>\n",
       "    <tr>\n",
       "      <th>0</th>\n",
       "      <td>3.584762e-46</td>\n",
       "      <td>0.262149</td>\n",
       "      <td>0.800737</td>\n",
       "      <td>5.380186e-32</td>\n",
       "      <td>1</td>\n",
       "      <td>0.000000e+00</td>\n",
       "      <td>0.000000e+00</td>\n",
       "      <td>0.000000e+00</td>\n",
       "      <td>0.000000e+00</td>\n",
       "      <td>1.0</td>\n",
       "      <td>0.000000e+00</td>\n",
       "      <td>0.000000e+00</td>\n",
       "      <td>0.000000e+00</td>\n",
       "      <td>0.000000e+00</td>\n",
       "    </tr>\n",
       "    <tr>\n",
       "      <th>1</th>\n",
       "      <td>6.766676e-53</td>\n",
       "      <td>0.262149</td>\n",
       "      <td>0.800737</td>\n",
       "      <td>5.380186e-32</td>\n",
       "      <td>1</td>\n",
       "      <td>3.721286e-09</td>\n",
       "      <td>-1.201067e-09</td>\n",
       "      <td>1.059922e-09</td>\n",
       "      <td>6.756695e-10</td>\n",
       "      <td>1.0</td>\n",
       "      <td>-3.397442e-10</td>\n",
       "      <td>2.163188e-09</td>\n",
       "      <td>7.693500e-10</td>\n",
       "      <td>2.735467e-09</td>\n",
       "    </tr>\n",
       "    <tr>\n",
       "      <th>2</th>\n",
       "      <td>6.766676e-53</td>\n",
       "      <td>0.024258</td>\n",
       "      <td>0.800737</td>\n",
       "      <td>5.380186e-32</td>\n",
       "      <td>0</td>\n",
       "      <td>-1.131985e-08</td>\n",
       "      <td>-3.844602e-09</td>\n",
       "      <td>3.255128e-09</td>\n",
       "      <td>2.508733e-09</td>\n",
       "      <td>1.0</td>\n",
       "      <td>4.537717e-09</td>\n",
       "      <td>1.023431e-09</td>\n",
       "      <td>2.271208e-09</td>\n",
       "      <td>3.213967e-10</td>\n",
       "    </tr>\n",
       "    <tr>\n",
       "      <th>3</th>\n",
       "      <td>8.797012e-29</td>\n",
       "      <td>0.024258</td>\n",
       "      <td>0.800737</td>\n",
       "      <td>5.380186e-32</td>\n",
       "      <td>0</td>\n",
       "      <td>4.062106e-08</td>\n",
       "      <td>-6.048706e-10</td>\n",
       "      <td>2.153270e-09</td>\n",
       "      <td>-1.248177e-09</td>\n",
       "      <td>1.0</td>\n",
       "      <td>-2.585072e-09</td>\n",
       "      <td>-2.608596e-09</td>\n",
       "      <td>-2.250922e-09</td>\n",
       "      <td>-2.302582e-09</td>\n",
       "    </tr>\n",
       "    <tr>\n",
       "      <th>4</th>\n",
       "      <td>6.508789e-24</td>\n",
       "      <td>0.024258</td>\n",
       "      <td>0.800737</td>\n",
       "      <td>5.380186e-32</td>\n",
       "      <td>1</td>\n",
       "      <td>6.272638e-09</td>\n",
       "      <td>-3.650477e-10</td>\n",
       "      <td>-1.233840e-09</td>\n",
       "      <td>-1.342191e-09</td>\n",
       "      <td>1.0</td>\n",
       "      <td>-1.047325e-09</td>\n",
       "      <td>-3.800245e-10</td>\n",
       "      <td>-1.965584e-09</td>\n",
       "      <td>-2.628589e-09</td>\n",
       "    </tr>\n",
       "    <tr>\n",
       "      <th>5</th>\n",
       "      <td>1.655523e-19</td>\n",
       "      <td>0.024258</td>\n",
       "      <td>0.800737</td>\n",
       "      <td>5.380186e-32</td>\n",
       "      <td>0</td>\n",
       "      <td>9.163338e-09</td>\n",
       "      <td>1.564284e-09</td>\n",
       "      <td>-1.174332e-09</td>\n",
       "      <td>-1.710090e-10</td>\n",
       "      <td>1.0</td>\n",
       "      <td>-1.453736e-09</td>\n",
       "      <td>-1.349984e-09</td>\n",
       "      <td>4.654486e-10</td>\n",
       "      <td>2.008358e-09</td>\n",
       "    </tr>\n",
       "    <tr>\n",
       "      <th>6</th>\n",
       "      <td>1.447572e-15</td>\n",
       "      <td>0.024258</td>\n",
       "      <td>0.800737</td>\n",
       "      <td>5.380186e-32</td>\n",
       "      <td>0</td>\n",
       "      <td>-2.304993e-08</td>\n",
       "      <td>-2.478769e-10</td>\n",
       "      <td>3.444838e-09</td>\n",
       "      <td>-7.261637e-10</td>\n",
       "      <td>1.0</td>\n",
       "      <td>5.911736e-11</td>\n",
       "      <td>-1.087676e-09</td>\n",
       "      <td>-9.485411e-10</td>\n",
       "      <td>-1.943194e-09</td>\n",
       "    </tr>\n",
       "    <tr>\n",
       "      <th>7</th>\n",
       "      <td>1.597258e-06</td>\n",
       "      <td>0.024258</td>\n",
       "      <td>0.800737</td>\n",
       "      <td>5.380186e-32</td>\n",
       "      <td>0</td>\n",
       "      <td>2.970406e-09</td>\n",
       "      <td>3.990345e-10</td>\n",
       "      <td>-3.331220e-09</td>\n",
       "      <td>-1.858361e-10</td>\n",
       "      <td>1.0</td>\n",
       "      <td>-8.977875e-10</td>\n",
       "      <td>1.160154e-09</td>\n",
       "      <td>-1.089536e-09</td>\n",
       "      <td>-3.708339e-10</td>\n",
       "    </tr>\n",
       "    <tr>\n",
       "      <th>8</th>\n",
       "      <td>1.950563e-04</td>\n",
       "      <td>0.024258</td>\n",
       "      <td>0.800737</td>\n",
       "      <td>5.380186e-32</td>\n",
       "      <td>1</td>\n",
       "      <td>-7.712999e-09</td>\n",
       "      <td>7.675314e-10</td>\n",
       "      <td>-8.141582e-10</td>\n",
       "      <td>-1.535672e-10</td>\n",
       "      <td>1.0</td>\n",
       "      <td>0.000000e+00</td>\n",
       "      <td>-1.300226e-09</td>\n",
       "      <td>-3.525568e-10</td>\n",
       "      <td>-1.533092e-09</td>\n",
       "    </tr>\n",
       "    <tr>\n",
       "      <th>9</th>\n",
       "      <td>8.188701e-03</td>\n",
       "      <td>0.024258</td>\n",
       "      <td>0.800737</td>\n",
       "      <td>5.380186e-32</td>\n",
       "      <td>1</td>\n",
       "      <td>3.049928e-09</td>\n",
       "      <td>0.000000e+00</td>\n",
       "      <td>-2.899339e-10</td>\n",
       "      <td>-4.764379e-11</td>\n",
       "      <td>1.0</td>\n",
       "      <td>-1.519338e-09</td>\n",
       "      <td>-7.841820e-10</td>\n",
       "      <td>-6.842735e-10</td>\n",
       "      <td>3.419927e-10</td>\n",
       "    </tr>\n",
       "    <tr>\n",
       "      <th>10</th>\n",
       "      <td>1.181789e-01</td>\n",
       "      <td>0.024258</td>\n",
       "      <td>0.800737</td>\n",
       "      <td>5.380186e-32</td>\n",
       "      <td>0</td>\n",
       "      <td>-8.159481e-09</td>\n",
       "      <td>-2.351678e-09</td>\n",
       "      <td>8.680222e-10</td>\n",
       "      <td>-4.316191e-10</td>\n",
       "      <td>1.0</td>\n",
       "      <td>3.729334e-09</td>\n",
       "      <td>1.170330e-09</td>\n",
       "      <td>9.968042e-10</td>\n",
       "      <td>1.482810e-09</td>\n",
       "    </tr>\n",
       "    <tr>\n",
       "      <th>11</th>\n",
       "      <td>5.863204e-01</td>\n",
       "      <td>0.024258</td>\n",
       "      <td>0.800737</td>\n",
       "      <td>5.380186e-32</td>\n",
       "      <td>0</td>\n",
       "      <td>-2.012792e-09</td>\n",
       "      <td>2.142481e-09</td>\n",
       "      <td>2.387986e-09</td>\n",
       "      <td>-8.985721e-11</td>\n",
       "      <td>1.0</td>\n",
       "      <td>-2.755803e-09</td>\n",
       "      <td>-2.754654e-09</td>\n",
       "      <td>-3.562154e-09</td>\n",
       "      <td>-5.954701e-09</td>\n",
       "    </tr>\n",
       "    <tr>\n",
       "      <th>12</th>\n",
       "      <td>1.181789e-01</td>\n",
       "      <td>0.024258</td>\n",
       "      <td>0.800737</td>\n",
       "      <td>5.380186e-32</td>\n",
       "      <td>1</td>\n",
       "      <td>8.547253e-09</td>\n",
       "      <td>3.702463e-09</td>\n",
       "      <td>-3.038126e-09</td>\n",
       "      <td>-6.468902e-10</td>\n",
       "      <td>1.0</td>\n",
       "      <td>-2.393895e-09</td>\n",
       "      <td>-1.691522e-09</td>\n",
       "      <td>-2.408816e-09</td>\n",
       "      <td>-1.801375e-09</td>\n",
       "    </tr>\n",
       "    <tr>\n",
       "      <th>13</th>\n",
       "      <td>8.188701e-03</td>\n",
       "      <td>0.024258</td>\n",
       "      <td>0.800737</td>\n",
       "      <td>5.380186e-32</td>\n",
       "      <td>0</td>\n",
       "      <td>1.077299e-08</td>\n",
       "      <td>2.973171e-09</td>\n",
       "      <td>-4.048870e-09</td>\n",
       "      <td>2.796362e-10</td>\n",
       "      <td>1.0</td>\n",
       "      <td>-1.296213e-09</td>\n",
       "      <td>-6.777625e-10</td>\n",
       "      <td>5.262942e-10</td>\n",
       "      <td>1.377195e-09</td>\n",
       "    </tr>\n",
       "    <tr>\n",
       "      <th>14</th>\n",
       "      <td>1.950563e-04</td>\n",
       "      <td>0.024258</td>\n",
       "      <td>0.800737</td>\n",
       "      <td>5.380186e-32</td>\n",
       "      <td>0</td>\n",
       "      <td>-1.747800e-09</td>\n",
       "      <td>-3.490989e-09</td>\n",
       "      <td>1.971687e-09</td>\n",
       "      <td>-1.638829e-09</td>\n",
       "      <td>1.0</td>\n",
       "      <td>5.955608e-10</td>\n",
       "      <td>-2.953635e-10</td>\n",
       "      <td>-1.642567e-09</td>\n",
       "      <td>-1.134893e-09</td>\n",
       "    </tr>\n",
       "  </tbody>\n",
       "</table>\n",
       "</div>"
      ],
      "text/plain": [
       "         day_rbf  month_rbf  quart_rbf       biz_rbf  Close_target  \\\n",
       "0   3.584762e-46   0.262149   0.800737  5.380186e-32             1   \n",
       "1   6.766676e-53   0.262149   0.800737  5.380186e-32             1   \n",
       "2   6.766676e-53   0.024258   0.800737  5.380186e-32             0   \n",
       "3   8.797012e-29   0.024258   0.800737  5.380186e-32             0   \n",
       "4   6.508789e-24   0.024258   0.800737  5.380186e-32             1   \n",
       "5   1.655523e-19   0.024258   0.800737  5.380186e-32             0   \n",
       "6   1.447572e-15   0.024258   0.800737  5.380186e-32             0   \n",
       "7   1.597258e-06   0.024258   0.800737  5.380186e-32             0   \n",
       "8   1.950563e-04   0.024258   0.800737  5.380186e-32             1   \n",
       "9   8.188701e-03   0.024258   0.800737  5.380186e-32             1   \n",
       "10  1.181789e-01   0.024258   0.800737  5.380186e-32             0   \n",
       "11  5.863204e-01   0.024258   0.800737  5.380186e-32             0   \n",
       "12  1.181789e-01   0.024258   0.800737  5.380186e-32             1   \n",
       "13  8.188701e-03   0.024258   0.800737  5.380186e-32             0   \n",
       "14  1.950563e-04   0.024258   0.800737  5.380186e-32             0   \n",
       "\n",
       "            ^VIX          ^TNX          ^RUT          GC=F  Volume  \\\n",
       "0   0.000000e+00  0.000000e+00  0.000000e+00  0.000000e+00     1.0   \n",
       "1   3.721286e-09 -1.201067e-09  1.059922e-09  6.756695e-10     1.0   \n",
       "2  -1.131985e-08 -3.844602e-09  3.255128e-09  2.508733e-09     1.0   \n",
       "3   4.062106e-08 -6.048706e-10  2.153270e-09 -1.248177e-09     1.0   \n",
       "4   6.272638e-09 -3.650477e-10 -1.233840e-09 -1.342191e-09     1.0   \n",
       "5   9.163338e-09  1.564284e-09 -1.174332e-09 -1.710090e-10     1.0   \n",
       "6  -2.304993e-08 -2.478769e-10  3.444838e-09 -7.261637e-10     1.0   \n",
       "7   2.970406e-09  3.990345e-10 -3.331220e-09 -1.858361e-10     1.0   \n",
       "8  -7.712999e-09  7.675314e-10 -8.141582e-10 -1.535672e-10     1.0   \n",
       "9   3.049928e-09  0.000000e+00 -2.899339e-10 -4.764379e-11     1.0   \n",
       "10 -8.159481e-09 -2.351678e-09  8.680222e-10 -4.316191e-10     1.0   \n",
       "11 -2.012792e-09  2.142481e-09  2.387986e-09 -8.985721e-11     1.0   \n",
       "12  8.547253e-09  3.702463e-09 -3.038126e-09 -6.468902e-10     1.0   \n",
       "13  1.077299e-08  2.973171e-09 -4.048870e-09  2.796362e-10     1.0   \n",
       "14 -1.747800e-09 -3.490989e-09  1.971687e-09 -1.638829e-09     1.0   \n",
       "\n",
       "            Open          High           Low         Close  \n",
       "0   0.000000e+00  0.000000e+00  0.000000e+00  0.000000e+00  \n",
       "1  -3.397442e-10  2.163188e-09  7.693500e-10  2.735467e-09  \n",
       "2   4.537717e-09  1.023431e-09  2.271208e-09  3.213967e-10  \n",
       "3  -2.585072e-09 -2.608596e-09 -2.250922e-09 -2.302582e-09  \n",
       "4  -1.047325e-09 -3.800245e-10 -1.965584e-09 -2.628589e-09  \n",
       "5  -1.453736e-09 -1.349984e-09  4.654486e-10  2.008358e-09  \n",
       "6   5.911736e-11 -1.087676e-09 -9.485411e-10 -1.943194e-09  \n",
       "7  -8.977875e-10  1.160154e-09 -1.089536e-09 -3.708339e-10  \n",
       "8   0.000000e+00 -1.300226e-09 -3.525568e-10 -1.533092e-09  \n",
       "9  -1.519338e-09 -7.841820e-10 -6.842735e-10  3.419927e-10  \n",
       "10  3.729334e-09  1.170330e-09  9.968042e-10  1.482810e-09  \n",
       "11 -2.755803e-09 -2.754654e-09 -3.562154e-09 -5.954701e-09  \n",
       "12 -2.393895e-09 -1.691522e-09 -2.408816e-09 -1.801375e-09  \n",
       "13 -1.296213e-09 -6.777625e-10  5.262942e-10  1.377195e-09  \n",
       "14  5.955608e-10 -2.953635e-10 -1.642567e-09 -1.134893e-09  "
      ]
     },
     "execution_count": 7,
     "metadata": {},
     "output_type": "execute_result"
    }
   ],
   "source": [
    "\n",
    "def create_time_features(data_df):\n",
    "    \"\"\"\n",
    "    Encodes time cyclic features for a dataset with monthly sampling.\n",
    "    Including cyclic encoding for day and year.\n",
    "    :param data_df: The timeseries with a date in the format YYYY-MM-DD as index.\n",
    "    :return: data_df with added wave features for month, day, and year.\n",
    "    \"\"\"\n",
    "    if not isinstance(data_df.index, pd.DatetimeIndex):\n",
    "        raise ValueError(\"The DataFrame index must be a DateTimeIndex.\")\n",
    "\n",
    "    def _sin_transformer(period):\n",
    "        return FunctionTransformer(lambda x: np.sin(x / period * 2 * np.pi))\n",
    "\n",
    "    def _cos_transformer(period):\n",
    "        return FunctionTransformer(lambda x: np.cos(x / period * 2 * np.pi))\n",
    "\n",
    "    def rbf_transform(x, period, input_range):\n",
    "        x_normalized = (x - input_range[0]) / (input_range[1] - input_range[0]) * period\n",
    "        return np.exp(-0.5 * ((x_normalized - period / 2) / 1.0) ** 2)\n",
    "\n",
    "    data_df[DAY_RBF] = rbf_transform(data_df.index.day, 31, (1, 31))\n",
    "    data_df[MONTH_RBF] = rbf_transform(data_df.index.month, 12, (1, 12))\n",
    "    data_df[Q_RBF] = rbf_transform((data_df.index.month - 1) // 3 + 1, 4, (1, 4))\n",
    "    min_year, max_year = data_df.index.year.min(), data_df.index.year.max()\n",
    "    data_df[BIZ_RBF] = rbf_transform(\n",
    "        data_df.index.year, max_year - min_year, (min_year, max_year)\n",
    "    )\n",
    "\n",
    "    return data_df\n",
    "\n",
    "def create_features_df(tickers, data_df, target_label=TARGET_ETF):\n",
    "    \"\"\"\n",
    "    Create all exogenous features that lead to our target etf.\n",
    "        - if the trading day close is higher than the open.\n",
    "        - price log returns or 1D integrations.\n",
    "    :param tickers: All the timeseries with a date in the format YYYY-MM-DD as index.\n",
    "    :param data_df: Any pre-engineered features.\n",
    "    :return: data_df With TARGET_LABEL timeseries at column 0, and the rest are for conditioning.\n",
    "    \"\"\"\n",
    "\n",
    "    def _get_first_difference(data_df):\n",
    "        return data_df.pct_change().fillna(0)\n",
    "\n",
    "    def _get_log_returns(data_df):\n",
    "        return np.log(data_df / data_df.shift(1)).fillna(0)\n",
    "\n",
    "    IDX_COL = \"Open\"\n",
    "    price_transform = FunctionTransformer(_get_first_difference)\n",
    "\n",
    "    data_df[PRICE_FEATURES] = price_transform.fit_transform(data_df[PRICE_FEATURES])\n",
    "    rates_df = tickers.get(RATES_INDEX)\n",
    "\n",
    "    for index in EXOG_TS:\n",
    "        if index == target_label:\n",
    "            continue\n",
    "        index_df = tickers.get(index)\n",
    "        transformed_data = price_transform.fit_transform(index_df[[IDX_COL]])\n",
    "        data_df[index] = transformed_data\n",
    "\n",
    "    data_df = data_df.fillna(0)\n",
    "\n",
    "    return data_df\n",
    "\n",
    "IS_CLASSIFICATION = True\n",
    "\n",
    "def prepare_data(tickers, target_label=TARGET_ETF, classify=IS_CLASSIFICATION, to_normalize=True):\n",
    "    \"\"\"\n",
    "    Utility function to prepare the data.\n",
    "    :data_df dataframe: dataframe with `window_size` months of data to predict the `window_size`+`horizon`.\n",
    "    :param window_size: int, length of the input sequence\n",
    "    :param horizon: int, forecasting horizon, defaults to 1\n",
    "    :return: Array in the shape of (n_samples, n_steps, n_features)\n",
    "    \"\"\"\n",
    "    y_scaler = None, None\n",
    "    data_df = tickers.get(target_label).copy()\n",
    "    close_tomorrow_df = (data_df['Close'].shift(-1) * (1- TARGET_FACTOR))\n",
    "    if classify:\n",
    "        today_df = data_df['Close'] # data_df['Open'].shift(-1)\n",
    "        # Calculate the target label: 1 if next day's close is higher than its open.\n",
    "        data_df[TARGET_LABEL] = (close_tomorrow_df > today_df).astype(int)\n",
    "    else:\n",
    "        # A target variable with a large spread of values, in turn, may result in large error gradient values\n",
    "        # causing weight values to change dramatically. We predict tomorrows close.\n",
    "        y_scaler = MinMaxScaler(feature_range=(-1, 1))\n",
    "        y_scaled = y_scaler.fit_transform(close_tomorrow_df)\n",
    "        data_df[TARGET_LABEL] = y_scaled.flatten()\n",
    "\n",
    "    data_df = create_features_df(tickers, data_df, target_label=target_label)\n",
    "    data_df_normalized = None\n",
    "    if to_normalize:\n",
    "        data_df_normalized = normalize(data_df[TARGET_TS_FEATURES_NOTIME], norm=\"l2\")\n",
    "    else:\n",
    "        data_df_normalized = data_df[TARGET_TS_FEATURES_NOTIME]\n",
    "    data_df_normalized = pd.DataFrame(\n",
    "        data_df_normalized, columns=TARGET_TS_FEATURES_NOTIME\n",
    "    )\n",
    "    data_df_normalized = pd.concat(\n",
    "        [\n",
    "            data_df[TARGET_LABEL].reset_index(drop=True),\n",
    "            data_df_normalized.reset_index(drop=True),\n",
    "        ],\n",
    "        axis=1,\n",
    "    )\n",
    "    if any(feature in TIME_FEATURES for feature in TARGET_TS_FEATURES):\n",
    "        # Don't normalize these.\n",
    "        data_df = create_time_features(data_df)\n",
    "        data_df_normalized = pd.concat(\n",
    "            [\n",
    "                data_df[TIME_FEATURES].reset_index(drop=True),\n",
    "                data_df_normalized.reset_index(drop=True),\n",
    "            ],\n",
    "            axis=1,\n",
    "        )\n",
    "    # we might drop the first and last row of data (shifts and difference => NAs)\n",
    "    return data_df_normalized.dropna(axis=0), y_scaler\n",
    "\n",
    "data_df, y_scaler = prepare_data(tickers, to_normalize=True)\n",
    "data_df.head(15)"
   ]
  },
  {
   "cell_type": "markdown",
   "id": "d1c200b8",
   "metadata": {},
   "source": [
    "## DIM Reduction & Feature Selection\n",
    "\n",
    "### Dataset Balance"
   ]
  },
  {
   "cell_type": "code",
   "execution_count": 8,
   "id": "7bce56bd",
   "metadata": {},
   "outputs": [
    {
     "data": {
      "image/png": "[encoded data removed]",
      "text/plain": [
       "<Figure size 800x400 with 1 Axes>"
      ]
     },
     "metadata": {},
     "output_type": "display_data"
    }
   ],
   "source": [
    "label_counts = data_df[TARGET_LABEL].value_counts()\n",
    "\n",
    "plt.figure(figsize=(8, 4))\n",
    "plt.bar(label_counts.index.astype(str), label_counts.values, color=['blue', 'red'])\n",
    "plt.xlabel('Target Label')\n",
    "plt.ylabel('Count')\n",
    "plt.title('Distribution of Target Labels (Close>Open)')\n",
    "plt.xticks([0, 1])\n",
    "plt.show()"
   ]
  },
  {
   "cell_type": "markdown",
   "id": "abad8572",
   "metadata": {},
   "source": [
    "### PCA Analysis\n",
    "\n",
    "We carry out a PCA to assert which features have most info to our target.\n",
    "\n",
    "We later have a choice to use the components themselves instead of the data."
   ]
  },
  {
   "cell_type": "code",
   "execution_count": 9,
   "id": "0262feac",
   "metadata": {},
   "outputs": [
    {
     "name": "stdout",
     "output_type": "stream",
     "text": [
      "Max components for 95.0% variance: 4 out of 14\n"
     ]
    },
    {
     "data": {
      "image/png": "[encoded data removed]",
      "text/plain": [
       "<Figure size 1800x600 with 2 Axes>"
      ]
     },
     "metadata": {},
     "output_type": "display_data"
    }
   ],
   "source": [
    "from sklearn.decomposition import PCA\n",
    "\n",
    "MAX_VARIANCE = 0.95\n",
    "\n",
    "pca = PCA()\n",
    "data_df_pca = data_df.drop(columns=[TARGET_LABEL])\n",
    "xdata = pca.fit_transform(data_df_pca)\n",
    "\n",
    "cum_var_exp = np.cumsum(pca.explained_variance_ratio_)\n",
    "num_components = np.argmax(cum_var_exp >= MAX_VARIANCE) + 1 # type: ignore\n",
    "print(\n",
    "    f\"Max components for {MAX_VARIANCE*100}% variance: {num_components} out of {data_df.shape[1]}\"\n",
    ")\n",
    "\n",
    "eigenvectors = pca.components_\n",
    "loadings_df = pd.DataFrame(\n",
    "    eigenvectors[:,:],\n",
    "    columns=data_df_pca.columns[:],\n",
    ").T\n",
    "summed_loadings = np.sum(abs(eigenvectors), axis=0)\n",
    "summed_loadings_df = pd.DataFrame(\n",
    "    summed_loadings, index=data_df_pca.columns, columns=[\"Sum\"]\n",
    ").sort_values(ascending=False, by=\"Sum\")\n",
    "\n",
    "fig, axes = plt.subplots(nrows=2, ncols=1, figsize=(18, 6))\n",
    "\n",
    "summed_loadings_df.plot(kind=\"bar\", legend=False, ax=axes[0])\n",
    "axes[0].set_title(\"Summed Loadings Across All Principal Components\")\n",
    "axes[0].set_ylabel(\"Summed Loadings\")\n",
    "axes[0].set_xlabel(\"Features\")\n",
    "axes[0].tick_params(axis=\"x\", labelrotation=45)\n",
    "axes[0].legend()\n",
    "loadings_df.plot(kind=\"bar\", legend=False, ax=axes[1])\n",
    "axes[1].set_title(f\"Loadings for {data_df.shape[1]} Principal Components\")\n",
    "axes[1].set_ylabel(\"Loadings\")\n",
    "axes[1].set_xlabel(\"Features\")\n",
    "axes[1].tick_params(axis=\"x\", labelrotation=45)\n",
    "axes[1].legend(loc='upper left', bbox_to_anchor=(1, 1))\n",
    "\n",
    "plt.tight_layout()\n",
    "plt.show()"
   ]
  },
  {
   "cell_type": "markdown",
   "id": "c9b3d01c",
   "metadata": {},
   "source": [
    "## Feature Evaluation\n",
    "\n",
    "The Information Coefficient (IC), calculated here using Spearman's rank correlation. It measures the strength and direction of a monotonic relationship between two variables.\n",
    "\n",
    "IC is useful because it can capture nonlinear relationships between variables. A high absolute value of the IC indicates a strong relationship, which could be either positive or negative.\n",
    "\n",
    "The Mutual Information (MI) quantifies the amount of information obtained about one random variable through observing the other random variable. It's measuring how much information each feature in our dataset provides about the target variable.\n",
    "\n",
    "Unlike correlation, MI can capture any kind of relationship between variables, not just linear or monotonic. It's particularly useful in feature selection for machine learning because it can identify features that are informative about the target variable.\n",
    "\n",
    "Effective feature selection can improve model performance by reducing overfitting, improving accuracy, and reducing training time. It helps in simplifying models to make them more interpretable, and in focusing on the most relevant data, which can be particularly important in datasets with a large number of features."
   ]
  },
  {
   "cell_type": "code",
   "execution_count": 10,
   "id": "26f5cc4c",
   "metadata": {},
   "outputs": [
    {
     "data": {
      "image/png": "[encoded data removed]",
      "text/plain": [
       "<Figure size 1800x400 with 1 Axes>"
      ]
     },
     "metadata": {},
     "output_type": "display_data"
    }
   ],
   "source": [
    "import seaborn as sns\n",
    "import matplotlib.pyplot as plt\n",
    "from scipy.stats import spearmanr\n",
    "from sklearn.feature_selection import mutual_info_regression\n",
    "\n",
    "ic = {}\n",
    "for column in data_df.columns:\n",
    "    if column != TARGET_LABEL:\n",
    "        corr, p_val = spearmanr(data_df[TARGET_LABEL], data_df[column])\n",
    "        ic[column] = [corr, p_val]\n",
    "\n",
    "ic_df = pd.DataFrame(ic, index=[\"IC\", \"p-value\"]).T\n",
    "\n",
    "mi = mutual_info_regression(X=data_df.drop(columns=[TARGET_LABEL]), y=data_df[TARGET_LABEL])\n",
    "mi_series = pd.Series(mi, index=data_df.drop(columns=[TARGET_LABEL]).columns)\n",
    "metrics = pd.concat(\n",
    "    [\n",
    "        mi_series.to_frame(\"Mutual Information\"),\n",
    "        ic_df[\"IC\"].to_frame(\"Information Coefficient\"),\n",
    "    ],\n",
    "    axis=1,\n",
    ")\n",
    "metrics = metrics.sort_values(by=\"Mutual Information\", ascending=False)\n",
    "ax = metrics.plot.bar(figsize=(18, 4), rot=45)\n",
    "ax.set_xlabel(\"Features\")\n",
    "ax.set_ylabel(\"Scores\")\n",
    "ax.set_title(\"Feature Evaluation: MI & IC\")\n",
    "sns.despine()\n",
    "plt.tight_layout()\n",
    "plt.show()"
   ]
  },
  {
   "cell_type": "markdown",
   "id": "5fee3767",
   "metadata": {},
   "source": [
    "## Feature Selection\n",
    "\n",
    "Let's do a union of the important features from both PCA and IC/MI methods."
   ]
  },
  {
   "cell_type": "code",
   "execution_count": 11,
   "id": "c2fcad60",
   "metadata": {},
   "outputs": [
    {
     "name": "stdout",
     "output_type": "stream",
     "text": [
      "Top 10 PCA Loadings: ['Open', 'Low', 'Close', '^RUT', 'High', '^TNX', 'GC=F', '^VIX', 'month_rbf', 'quart_rbf']\n",
      "Top 10 MI/IC: ['biz_rbf', 'month_rbf', 'GC=F', 'Low', 'day_rbf', 'Open', '^VIX', 'High', 'quart_rbf', '^TNX']\n",
      "Selected 8 features: ['month_rbf', 'quart_rbf', 'High', 'Low', 'Open', '^TNX', '^VIX', 'GC=F']\n"
     ]
    }
   ],
   "source": [
    "MAX_FEATURES_COUNT = 10\n",
    "\n",
    "features_pca = summed_loadings_df.head(MAX_FEATURES_COUNT).index.tolist()\n",
    "features_miic = (metrics.head(MAX_FEATURES_COUNT).index.tolist())\n",
    "print(F\"Top {MAX_FEATURES_COUNT} PCA Loadings: {features_pca}\")\n",
    "print(F\"Top {MAX_FEATURES_COUNT} MI/IC: {features_miic}\")\n",
    "SELECTED_FEATURES = list(set(features_pca) & set(features_miic))\n",
    "\n",
    "print(f\"Selected {len(SELECTED_FEATURES)} features: {SELECTED_FEATURES}\")"
   ]
  },
  {
   "cell_type": "code",
   "execution_count": 12,
   "id": "7dc9a383",
   "metadata": {},
   "outputs": [
    {
     "data": {
      "text/plain": [
       "(['^VIX', '^TNX', '^RUT', 'GC=F'],\n",
       " ['day_rbf',\n",
       "  'month_rbf',\n",
       "  'quart_rbf',\n",
       "  'biz_rbf',\n",
       "  'Close_target',\n",
       "  'High',\n",
       "  'Low',\n",
       "  'Close'])"
      ]
     },
     "execution_count": 12,
     "metadata": {},
     "output_type": "execute_result"
    }
   ],
   "source": [
    "SELECTED_FEATURES =  data_df.drop(columns=EXOG_TS+[\"Open\", \"Volume\"]).columns.to_list()\n",
    "SELECTED_EXOG = EXOG_TS\n",
    "\n",
    "SELECTED_EXOG, SELECTED_FEATURES"
   ]
  },
  {
   "cell_type": "markdown",
   "id": "af3cb19b",
   "metadata": {},
   "source": [
    "### Multicolinearity and Variance Inflation Factor (VIF)\n",
    "\n",
    "For feature not to be colinear, they have to score between 1 to 5."
   ]
  },
  {
   "cell_type": "code",
   "execution_count": 13,
   "id": "489e9928",
   "metadata": {},
   "outputs": [
    {
     "name": "stdout",
     "output_type": "stream",
     "text": [
      "         feature       VIF\n",
      "0          const  4.552726\n",
      "1        day_rbf  1.001583\n",
      "2      month_rbf  1.599499\n",
      "3      quart_rbf  1.599574\n",
      "4        biz_rbf  1.000401\n",
      "5   Close_target  1.001934\n",
      "6           High  2.247526\n",
      "7            Low  2.954114\n",
      "8          Close  2.392658\n",
      "9           ^VIX  1.805847\n",
      "10          ^TNX  1.074336\n",
      "11          ^RUT  1.502458\n",
      "12          GC=F  1.033991\n"
     ]
    }
   ],
   "source": [
    "from statsmodels.stats.outliers_influence import variance_inflation_factor\n",
    "from statsmodels.tools.tools import add_constant\n",
    "\n",
    "data_with_constant = add_constant(data_df[SELECTED_FEATURES + SELECTED_EXOG])\n",
    "vif_data = pd.DataFrame()\n",
    "vif_data[\"feature\"] = data_with_constant.columns\n",
    "vif_data[\"VIF\"] = [\n",
    "    variance_inflation_factor(data_with_constant.values, i)\n",
    "    for i in range(data_with_constant.shape[1])\n",
    "]\n",
    "\n",
    "print(vif_data)"
   ]
  },
  {
   "cell_type": "markdown",
   "id": "05e574d6",
   "metadata": {},
   "source": [
    "# TCN Architecture"
   ]
  },
  {
   "cell_type": "code",
   "execution_count": 14,
   "id": "421953b9",
   "metadata": {},
   "outputs": [],
   "source": [
    "from os import name\n",
    "import tensorflow as tf\n",
    "from tensorflow.keras.activations import relu, tanh, sigmoid\n",
    "from tensorflow.keras.layers import (\n",
    "    SpatialDropout1D,\n",
    "    Dropout,\n",
    "    Dense,\n",
    "    Conv1D,\n",
    "    Layer,\n",
    "    Add,\n",
    "    Input,\n",
    "    Concatenate,\n",
    "    Flatten,\n",
    "    LeakyReLU,\n",
    "    ReLU,\n",
    "    Lambda,\n",
    "    BatchNormalization,\n",
    "    Reshape,\n",
    ")\n",
    "from tensorflow.keras import Model\n",
    "from tensorflow.keras.regularizers import l2\n",
    "from tensorflow.keras import backend as K\n",
    "\n",
    "assert tf.__version__ >= \"2.0\"\n",
    "\n",
    "NONLINEAR_ACTIVATION = \"tanh\" # LeakyReLU(alpha=0.01)\n",
    "\n",
    "\n",
    "class GatedActivationBlock(Layer):\n",
    "    \"\"\"\n",
    "    This layer applies a gated activation mechanism to its input.\n",
    "    The input tensor is expected to have its last dimension divisible by 2.\n",
    "    The first half of the channels are passed through a tanh activation,\n",
    "    and the second half through a sigmoid to create a gating mechanism.\n",
    "    The final output is the product of the above.\n",
    "    \"\"\"\n",
    "    def __init__(self, **kwargs):\n",
    "        super().__init__(**kwargs)\n",
    "\n",
    "    def call(self, inputs):\n",
    "        n_filters = inputs.shape[-1] // 2\n",
    "        linear_output = tanh(inputs[..., :n_filters])\n",
    "        gate = sigmoid(inputs[..., n_filters:])\n",
    "        return linear_output * gate\n",
    "\n",
    "class TCNBlock(Layer):\n",
    "    \"\"\"\n",
    "    TCN Residual Block that uses zero-padding to maintain `steps` value of the ouput equal to the one in the input.\n",
    "    Residual Block is obtained by stacking togeather (2x) the following:\n",
    "        - 1D Dilated Convolution\n",
    "        - ReLu\n",
    "        - Spatial Dropout\n",
    "    And adding the input after trasnforming it with a 1x1 Conv\n",
    "    forked and extended from: https://github.com/albertogaspar/dts/blob/master/dts/models/TCN.py\n",
    "    \"\"\"\n",
    "\n",
    "    def __init__(\n",
    "        self,\n",
    "        filters=1,\n",
    "        kernel_size=2,\n",
    "        dilation_rate=1,\n",
    "        kernel_initializer=\"glorot_normal\",\n",
    "        bias_initializer=\"glorot_normal\",\n",
    "        kernel_regularizer=None,\n",
    "        bias_regularizer=None,\n",
    "        use_bias=False,\n",
    "        dropout_rate=0.0,\n",
    "        layer_id=None,\n",
    "        **kwargs,\n",
    "    ):\n",
    "        \"\"\" \"\n",
    "        Arguments\n",
    "            filters: Integer, the dimensionality of the output space\n",
    "                (i.e. the number of output filters in the convolution).\n",
    "            kernel_size: An integer or tuple/list of a single integer,\n",
    "                specifying the length of the 1D convolution window.\n",
    "            dilation_rate: an integer or tuple/list of a single integer, specifying\n",
    "                the dilation rate to use for dilated convolution.\n",
    "                Usually dilation rate increases exponentially with the depth of the network.\n",
    "            activation: Activation function to use\n",
    "                If you don't specify anything, no activation is applied\n",
    "                (ie. \"linear\" activation: `a(x) = x`).\n",
    "            use_bias: Boolean, whether the layer uses a bias vector.\n",
    "            kernel_initializer: Initializer for the `kernel` weights matrix\n",
    "            bias_initializer: Initializer for the bias vector\n",
    "            kernel_regularizer: Regularizer function applied to the `kernel` weights matrix\n",
    "            bias_regularizer: Regularizer function applied to the bias vector\n",
    "                (see [regularizer](../regularizers.md)).\n",
    "        # Input shape\n",
    "            3D tensor with shape: `(batch, steps, n_features)`\n",
    "        # Output shape\n",
    "            3D tensor with shape: `(batch, steps, filters)`\n",
    "        \"\"\"\n",
    "        super(TCNBlock, self).__init__(**kwargs)\n",
    "        assert dilation_rate is not None and dilation_rate > 0 and filters > 0 and kernel_size > 0\n",
    "\n",
    "        self.filters = filters\n",
    "        self.kernel_size = kernel_size\n",
    "        self.dilation_rate = dilation_rate\n",
    "        self.kernel_initializer = kernel_initializer\n",
    "        self.bias_initializer = bias_initializer\n",
    "        self.kernel_regularizer = kernel_regularizer\n",
    "        self.bias_regularizer = bias_regularizer\n",
    "        self.use_bias = use_bias\n",
    "        self.dropout_rate = dropout_rate\n",
    "        self.layer_id = str(layer_id)\n",
    "\n",
    "    def get_config(self):\n",
    "        config = super(TCNBlock, self).get_config()\n",
    "        config.update({\n",
    "            'filters': self.filters,\n",
    "            'kernel_size': self.kernel_size,\n",
    "            'dilation_rate': self.dilation_rate,\n",
    "            'kernel_initializer': self.kernel_initializer,\n",
    "            'bias_initializer': self.bias_initializer,\n",
    "            'kernel_regularizer': self.kernel_regularizer,\n",
    "            'bias_regularizer': self.bias_regularizer,\n",
    "            'use_bias': self.use_bias,\n",
    "            'dropout_rate': self.dropout_rate,\n",
    "        })\n",
    "        return config\n",
    "\n",
    "    def build(self, inputs):\n",
    "        # Capture feature set from the input\n",
    "        self.conv1 = Conv1D(\n",
    "            filters=self.filters,\n",
    "            kernel_size=self.kernel_size,\n",
    "            use_bias=self.use_bias,\n",
    "            bias_initializer=self.bias_initializer,\n",
    "            bias_regularizer=self.bias_regularizer,\n",
    "            kernel_initializer=self.kernel_initializer,\n",
    "            kernel_regularizer=self.kernel_regularizer,\n",
    "            padding=\"causal\",\n",
    "            dilation_rate=self.dilation_rate,\n",
    "            activation=NONLINEAR_ACTIVATION,\n",
    "            name=f\"Conv1D_1_{self.layer_id}\"\n",
    "        )\n",
    "        # Spatial dropout is specific to convolutions by dropping an entire timewindow,\n",
    "        # not to rely too heavily on specific features detected by the kernels.\n",
    "        self.dropout1 = SpatialDropout1D(\n",
    "            self.dropout_rate, trainable=True, name=f\"SpatialDropout1D_1_{self.layer_id}\"\n",
    "        )\n",
    "        # Capture a higher order feature set from the previous convolution\n",
    "        self.conv2 = Conv1D(\n",
    "            filters=self.filters,\n",
    "            kernel_size=self.kernel_size,\n",
    "            use_bias=self.use_bias,\n",
    "            bias_initializer=self.bias_initializer,\n",
    "            bias_regularizer=self.bias_regularizer,\n",
    "            kernel_initializer=self.kernel_initializer,\n",
    "            kernel_regularizer=self.kernel_regularizer,\n",
    "            padding=\"causal\",\n",
    "            dilation_rate=self.dilation_rate,\n",
    "            activation=NONLINEAR_ACTIVATION,\n",
    "            name=f\"Conv1D_2_{self.layer_id}\"\n",
    "        )\n",
    "        self.dropout2 = SpatialDropout1D(\n",
    "            self.dropout_rate, trainable=True, name=f\"SpatialDropout1D_2_{self.layer_id}\"\n",
    "        )\n",
    "        # The skip connection is an addition of the input to the block with the output of the second dropout layer.\n",
    "        # Solves vanishing gradient, carries info from earlier layers to later layers, allowing gradients to flow across this alternative path.\n",
    "        # Does not learn direct mappings, but differences (residuals) while keeping temporal context.\n",
    "        # Note how it keeps dims intact with kernel 1.\n",
    "        self.skip_out = Conv1D(\n",
    "            filters=self.filters,\n",
    "            kernel_size=1,\n",
    "            activation=\"relu\",\n",
    "            name=f\"Conv1D_skipconnection_{self.layer_id}\",\n",
    "        )\n",
    "        # This is the elementwise add for the residual connection and Conv1d 2's output\n",
    "        self.residual_out = Add(name=f\"residual_Add_{self.layer_id}\")\n",
    "\n",
    "    def call(self, inputs):\n",
    "        x = self.conv1(inputs)\n",
    "        x = self.dropout1(x)\n",
    "        x = self.conv2(x)\n",
    "        x = self.dropout2(x)\n",
    "\n",
    "        # Residual output by adding the inputs back\n",
    "        skip_out_x = self.skip_out(inputs)\n",
    "        x = self.residual_out([x, skip_out_x])\n",
    "        return x, skip_out_x\n",
    "\n",
    "class ConditionalBlock(Layer):\n",
    "    \"\"\"\n",
    "    TCN condtioning Block that conditions a target timeseries to exogenous timeserieses.\n",
    "    The Block is obtained by stacking togeather the following:\n",
    "        - 1D Dilated Convolution for the main TS.\n",
    "        - 1D Dilated Convolution for the exog TSs.\n",
    "        - 1D Dilated skip layer for both to retain history.\n",
    "        - ReLu\n",
    "        - Spatial Dropout\n",
    "    And adding the input after trasnforming it with a 1x1 Conv\n",
    "    forked and extended from: https://github.com/albertogaspar/dts/blob/master/dts/models/TCN.py\n",
    "    \"\"\"\n",
    "\n",
    "    def __init__(\n",
    "        self,\n",
    "        filters=1,\n",
    "        kernel_size=2,\n",
    "        kernel_initializer=\"glorot_normal\",\n",
    "        bias_initializer=\"glorot_normal\",\n",
    "        kernel_regularizer=None,\n",
    "        bias_regularizer=None,\n",
    "        use_bias=False,\n",
    "        dropout_rate=0.01,\n",
    "        layer_id=None,\n",
    "        **kwargs,\n",
    "    ):\n",
    "        super(ConditionalBlock, self).__init__(**kwargs)\n",
    "\n",
    "        assert filters > 0 and kernel_size > 0\n",
    "\n",
    "        self.filters = filters\n",
    "        self.kernel_size = kernel_size\n",
    "        self.kernel_initializer = kernel_initializer\n",
    "        self.bias_initializer = bias_initializer\n",
    "        self.kernel_regularizer = kernel_regularizer\n",
    "        self.bias_regularizer = bias_regularizer\n",
    "        self.use_bias = use_bias\n",
    "        self.dropout_rate = dropout_rate\n",
    "        self.layer_id = str(layer_id)\n",
    "\n",
    "    def get_config(self):\n",
    "        config = super(ConditionalBlock, self).get_config()\n",
    "        config.update({\n",
    "            'filters': self.filters,\n",
    "            'kernel_size': self.kernel_size,\n",
    "            'kernel_initializer': self.kernel_initializer,\n",
    "            'bias_initializer': self.bias_initializer,\n",
    "            'kernel_regularizer': self.kernel_regularizer,\n",
    "            'bias_regularizer': self.bias_regularizer,\n",
    "            'use_bias': self.use_bias,\n",
    "            'dropout_rate': self.dropout_rate,\n",
    "            'id': self.layer_id\n",
    "        })\n",
    "        return config\n",
    "\n",
    "    def build(self, inputs):\n",
    "        self.main_conv = Conv1D(\n",
    "            filters=self.filters,\n",
    "            kernel_size=self.kernel_size,\n",
    "            use_bias=self.use_bias,\n",
    "            bias_initializer=self.bias_initializer,\n",
    "            bias_regularizer=self.bias_regularizer,\n",
    "            kernel_initializer=self.kernel_initializer,\n",
    "            kernel_regularizer=self.kernel_regularizer,\n",
    "            padding=\"causal\",\n",
    "            activation=NONLINEAR_ACTIVATION,\n",
    "            name=f\"Conv1D_Conditional_1\",\n",
    "        )\n",
    "        self.dropout1 = SpatialDropout1D(\n",
    "            self.dropout_rate, trainable=True, name=f\"SpatialDropout1D_1_{self.layer_id}\"\n",
    "        )\n",
    "        self.main_skip_conn = Conv1D(\n",
    "            filters=self.filters,\n",
    "            kernel_size=1,\n",
    "            activation=\"relu\",\n",
    "            name=f\"Skip_Conditional_1\",\n",
    "        )\n",
    "        self.cond_conv = Conv1D(\n",
    "            filters=self.filters,\n",
    "            kernel_size=self.kernel_size,\n",
    "            use_bias=self.use_bias,\n",
    "            bias_initializer=self.bias_initializer,\n",
    "            bias_regularizer=self.bias_regularizer,\n",
    "            kernel_initializer=self.kernel_initializer,\n",
    "            kernel_regularizer=self.kernel_regularizer,\n",
    "            padding=\"causal\",\n",
    "            activation=NONLINEAR_ACTIVATION,\n",
    "            name=f\"Conv1D_Conditional_2\",\n",
    "        )\n",
    "        self.cond_skip_conn = Conv1D(\n",
    "            filters=self.filters,\n",
    "            kernel_size=1,\n",
    "            activation=\"relu\",\n",
    "            name=f\"Skip_Conditional_2\",\n",
    "        )\n",
    "        self.dropout2 = SpatialDropout1D(\n",
    "            self.dropout_rate, trainable=True, name=f\"SpatialDropout1D_2_{self.layer_id}\"\n",
    "        )\n",
    "\n",
    "    def call(self, inputs):\n",
    "        \"\"\"\n",
    "        Will apply causal convolutions to every TS and concatenate the results.\n",
    "        :param inputs: Array\n",
    "            A list where inputs[0] is the main input and inputs[1] are the conditional inputs\n",
    "        :return: Array\n",
    "            Tensor of concatenated results.\n",
    "        \"\"\"\n",
    "        main_input, cond_input = inputs[0], inputs[1] if len(inputs) > 1 else None\n",
    "\n",
    "        x = self.main_conv(main_input)\n",
    "        x = self.dropout1(x)\n",
    "        skip_out_x = self.main_skip_conn(main_input)\n",
    "        x = Add()([x, skip_out_x])\n",
    "        if cond_input is not None:\n",
    "            cond_x = self.cond_conv(cond_input)\n",
    "            cond_x = self.dropout2(cond_x)\n",
    "            cond_skip_out_x = self.cond_skip_conn(cond_input)\n",
    "            cond_x = Add()([cond_x, cond_skip_out_x])\n",
    "\n",
    "            x = Concatenate(axis=-1)([x, cond_x])\n",
    "        return x\n",
    "\n",
    "\n",
    "def TCN(\n",
    "    input_shape,\n",
    "    dense_units=None,\n",
    "    conditioning_shapes=None,\n",
    "    output_horizon=1,\n",
    "    filters=[32],\n",
    "    kernel_size=2,\n",
    "    dilation_rate=2,\n",
    "    kernel_initializer=\"glorot_normal\",\n",
    "    bias_initializer=\"glorot_normal\",\n",
    "    kernel_regularizer=None,\n",
    "    bias_regularizer=None,\n",
    "    use_bias=False,\n",
    "    dropout_rate=0.01,\n",
    "):\n",
    "    \"\"\"\n",
    "    Tensorflow TCN Model builder.\n",
    "    forked and extended from: https://github.com/albertogaspar/dts/blob/master/dts/models/TCN.py\n",
    "    see: https://www.tensorflow.org/api_docs/python/tf/keras/Model\n",
    "    see: https://www.tensorflow.org/guide/keras/making_new_layers_and_models_via_subclassing#the_model_class\n",
    "    see: https://www.tensorflow.org/api_docs/python/tf/keras/regularizers/L2\n",
    "\n",
    "    :param layers: int\n",
    "        Number of layers for the network. Defaults to 1 layer.\n",
    "    :param filters: int\n",
    "        the number of output filters in the convolution. Defaults to 32.\n",
    "    :param kernel_size: int or tuple\n",
    "        the length of the 1D convolution window\n",
    "    :param dilation_rate: int\n",
    "        the dilation rate to use for dilated convolution. Defaults to 1.\n",
    "    :param output_horizon: int\n",
    "        the output horizon.\n",
    "    \"\"\"\n",
    "    main_input = Input(shape=input_shape, name=\"main_input\")\n",
    "    cond_input = (\n",
    "        Input(shape=conditioning_shapes, name=\"exog_input\")\n",
    "        if conditioning_shapes is not None and len(conditioning_shapes) > 0\n",
    "        else None\n",
    "    )\n",
    "    x = main_input\n",
    "    if cond_input is not None:\n",
    "        x = ConditionalBlock(\n",
    "            filters=filters[0],\n",
    "            kernel_size=kernel_size,\n",
    "            kernel_initializer=kernel_initializer,\n",
    "            bias_initializer=bias_initializer,\n",
    "            kernel_regularizer=kernel_regularizer,\n",
    "            bias_regularizer=bias_regularizer,\n",
    "            use_bias=use_bias,\n",
    "            dropout_rate=dropout_rate,\n",
    "        )([main_input] + [cond_input])\n",
    "    skip_connections = []\n",
    "    for i, filter in enumerate(filters):\n",
    "        x, x_skip = TCNBlock(\n",
    "            filters=filter,\n",
    "            kernel_size=kernel_size,\n",
    "            dilation_rate=dilation_rate ** (i + 1),\n",
    "            kernel_initializer=kernel_initializer,\n",
    "            bias_initializer=bias_initializer,\n",
    "            kernel_regularizer=kernel_regularizer,\n",
    "            bias_regularizer=bias_regularizer,\n",
    "            use_bias=use_bias,\n",
    "            dropout_rate=dropout_rate,\n",
    "            layer_id=i,\n",
    "        )(x)\n",
    "        skip_connections.append(x_skip)\n",
    "    if skip_connections:\n",
    "        # Learn from past residuals here.\n",
    "        x = Concatenate(axis=-1)(skip_connections)\n",
    "        x = Conv1D(filters[-1], kernel_size=1, padding=\"causal\", activation=\"relu\", name=f\"Residual_Conv\")(x)\n",
    "    x = Conv1D(filters[-1], kernel_size=1, padding=\"causal\", activation=\"relu\", name=f\"PreConv_Classifier\")(x)\n",
    "    if dense_units:\n",
    "        # Dense networks for deep learning if required.\n",
    "        x = Flatten()(x)\n",
    "        for i, neurons in enumerate(dense_units):\n",
    "            x = Dense(neurons, activation=\"relu\", name=f\"Dense_Classifier_{i}\")(x)\n",
    "\n",
    "    x = Conv1D(output_horizon, kernel_size=1, activation=\"sigmoid\", padding=\"causal\", name=f\"Conv_Classifier\")(x)\n",
    "\n",
    "    # Drop the channels, get last lag, 1 freature: direction.\n",
    "    # [batch_size, time_steps, features]\n",
    "    # x = Lambda(lambda x: x[:, :, 0])(x)\n",
    "\n",
    "    model = Model(\n",
    "        inputs=[main_input, cond_input] if cond_input is not None else [main_input],\n",
    "        outputs=x,\n",
    "        name=\"TCN_Conditional_Model\",\n",
    "    )\n",
    "\n",
    "    return model"
   ]
  },
  {
   "cell_type": "markdown",
   "id": "30e8329e",
   "metadata": {},
   "source": [
    "# Train Model\n",
    "Using tensorbards: `tensorboard --logdir logs/hparam_tuning`"
   ]
  },
  {
   "cell_type": "code",
   "execution_count": 15,
   "id": "3ba82142",
   "metadata": {},
   "outputs": [
    {
     "name": "stdout",
     "output_type": "stream",
     "text": [
      "Num GPUs Available:  1\n"
     ]
    }
   ],
   "source": [
    "import os\n",
    "import shutil\n",
    "from tensorflow.config.experimental import list_physical_devices, set_memory_growth\n",
    "\n",
    "tf.keras.backend.clear_session()\n",
    "\n",
    "# https://learn.microsoft.com/en-us/windows/ai/directml/gpu-tensorflow-plugin\n",
    "gpus = list_physical_devices(\"GPU\")\n",
    "print(\"Num GPUs Available: \", len(gpus))\n",
    "if gpus:\n",
    "    try:\n",
    "        for gpu in gpus:\n",
    "            set_memory_growth(gpu, True)\n",
    "    except RuntimeError as e:\n",
    "        print(e)\n",
    "\n",
    "MODEL_DIR = f\"./models/{datetime.now().strftime('%Y%m%d')}\"\n",
    "DELETE_OLD_LOGS = True\n",
    "\n",
    "LOG_BASEPATH = \"./logs\"\n",
    "if DELETE_OLD_LOGS and os.path.exists(LOG_BASEPATH):\n",
    "    assert os.path.isdir(LOG_BASEPATH)\n",
    "    shutil.rmtree(LOG_BASEPATH)"
   ]
  },
  {
   "cell_type": "markdown",
   "id": "5f8ff228",
   "metadata": {},
   "source": [
    "## Hyper Parameters"
   ]
  },
  {
   "cell_type": "code",
   "execution_count": 16,
   "id": "22d53654",
   "metadata": {},
   "outputs": [],
   "source": [
    "from tensorboard.plugins.hparams import api as hp\n",
    "from tensorflow.keras.losses import BinaryCrossentropy, BinaryFocalCrossentropy\n",
    "from tensorflow.keras.metrics import AUC, BinaryAccuracy\n",
    "from datetime import datetime\n",
    "from sklearn.model_selection import ParameterGrid, TimeSeriesSplit\n",
    "import json\n",
    "import pickle\n",
    "\n",
    "OOS_SPLIT = 0.1\n",
    "VAL_SPLIT = 0.15\n",
    "EPOCHS = 300\n",
    "PATIENCE_EPOCHS = 15\n",
    "BATCH_SIZE = 124\n",
    "MAX_FILTER = 512\n",
    "FILTERS = [32, 64, 128]\n",
    "HIDDEN_DENSE = []\n",
    "BIAS = True\n",
    "DROPRATE = 0.05\n",
    "POOL_SIZE = 8\n",
    "KERNEL_SIZE = 2\n",
    "DILATION_RATE = 1\n",
    "MAX_LAYERS = 2\n",
    "REG_WEIGHTS = 0.0001\n",
    "LEARN_RATE = 0.0025\n",
    "MODEL_LOG_DIR = f'{LOG_BASEPATH}/{datetime.now().strftime(\"%d%H%M%S\")}'\n",
    "TARGET_METRIC = \"auc\" if IS_CLASSIFICATION else \"mae\"\n",
    "LOSS = BinaryFocalCrossentropy(apply_class_balancing=True, from_logits=True) if IS_CLASSIFICATION else TARGET_METRIC\n",
    "METRICS = [AUC(name=TARGET_METRIC), BinaryCrossentropy(from_logits=True), BinaryAccuracy(), 'accuracy'] if IS_CLASSIFICATION else [\"mae\", \"mse\", \"mape\"]"
   ]
  },
  {
   "cell_type": "markdown",
   "id": "ea9a3ae9",
   "metadata": {},
   "source": [
    "## Tensorboard for profiling"
   ]
  },
  {
   "cell_type": "code",
   "execution_count": 17,
   "id": "06a2ca2c",
   "metadata": {},
   "outputs": [
    {
     "name": "stdout",
     "output_type": "stream",
     "text": [
      "TensorBoard started at http://DESKTOP-2E58CIV:6006/\n"
     ]
    }
   ],
   "source": [
    "from tensorboard import program\n",
    "\n",
    "tb = program.TensorBoard()\n",
    "tb.configure(argv=[None, '--logdir', LOG_BASEPATH, '--bind_all'])\n",
    "url = tb.launch()\n",
    "print(f\"TensorBoard started at {url}\")"
   ]
  },
  {
   "cell_type": "markdown",
   "id": "82617c46",
   "metadata": {},
   "source": [
    "## Model Training"
   ]
  },
  {
   "cell_type": "code",
   "execution_count": 18,
   "id": "f481f001",
   "metadata": {},
   "outputs": [],
   "source": [
    "from tensorflow.keras.regularizers import L2, L1L2\n",
    "from tensorflow.keras.callbacks import EarlyStopping, TensorBoard,ModelCheckpoint,ReduceLROnPlateau,LambdaCallback\n",
    "from tensorflow.keras.optimizers import Adam\n",
    "from tensorflow.summary import create_file_writer\n",
    "from tensorflow.debugging.experimental import enable_dump_debug_info\n",
    "from tensorflow.math import confusion_matrix\n",
    "import io\n",
    "\n",
    "def plot_confusion_matrix(cm, labels, cm2=None, labels2=None):\n",
    "        plt.figure(figsize=(8 if cm2 is not None else 4, 4))\n",
    "        if cm2 is not None:\n",
    "            plt.subplot(1, 2, 1)\n",
    "        plt.imshow(cm, interpolation='nearest', cmap=plt.cm.Accent)\n",
    "\n",
    "        df_cm = pd.DataFrame((cm / np.sum(cm, axis=1)[:, None])*100, index=[i for i in labels], columns=[i for i in labels])\n",
    "        cm_plot1 = sns.heatmap(df_cm, annot=True,  fmt=\".2f\", cmap='Blues', xticklabels=labels, yticklabels=labels).get_figure()\n",
    "        plt.xlabel('Predicted Labels')\n",
    "        plt.ylabel('True Labels')\n",
    "        plt.title('Confusion Matrix 1')\n",
    "        tick_marks = np.arange(len(labels))\n",
    "        plt.xticks(tick_marks, labels, rotation=45)\n",
    "        plt.yticks(tick_marks, labels)\n",
    "\n",
    "        cm_plot2=None\n",
    "        if cm2 is not None:\n",
    "            plt.subplot(1, 2, 2)\n",
    "            df_cm = pd.DataFrame((cm2 / np.sum(cm2, axis=1)[:, None])*100, index=[i for i in labels2], columns=[i for i in labels2])\n",
    "            cm_plot12 = sns.heatmap(df_cm, annot=True,  fmt=\".2f\", cmap='Reds', xticklabels=labels, yticklabels=labels).get_figure()\n",
    "            plt.xlabel('Predicted Labels')\n",
    "            plt.title('Confusion Matrix 2')\n",
    "        plt.tight_layout()\n",
    "\n",
    "        return cm_plot1, cm_plot2\n",
    "\n",
    "# enable_dump_debug_info(LOG_BASEPATH, tensor_debug_mode=\"FULL_HEALTH\", circular_buffer_size=-1)\n",
    "\n",
    "# See: https://scikit-learn.org/stable/modules/generated/sklearn.model_selection.ParameterGrid.html\n",
    "# See paper: https://www.mdpi.com/2076-3417/10/7/2322\n",
    "HP_FILTERS = hp.HParam(\"filters\", hp.Discrete([\n",
    "    \"32\",\n",
    "    \"32_128\",\n",
    "    \"32_64_128\",\n",
    "    \"32_64_128_512\",\n",
    "]))\n",
    "HP_KERNEL_SIZE = hp.HParam(\"kernel_size\", hp.Discrete([KERNEL_SIZE * 2, KERNEL_SIZE]))\n",
    "HP_BATCH_SIZE = hp.HParam(\"batch_size\", hp.Discrete([BATCH_SIZE]))\n",
    "HP_EPOCHS = hp.HParam(\"epochs\", hp.Discrete([EPOCHS]))\n",
    "HP_DILATION_RATE = hp.HParam(\"dilation_rate\", hp.Discrete([DILATION_RATE]))\n",
    "HP_DROPOUT_RATE = hp.HParam(\"dropout_rate\", hp.Discrete([DROPRATE, 0.5]))\n",
    "HP_REG_WEIGHTS = hp.HParam(\"reg_weight\", hp.Discrete([REG_WEIGHTS, 0.0005]))\n",
    "HP_LEARNING_RATE = hp.HParam(\"learning_rate\", hp.Discrete([LEARN_RATE]))\n",
    "HP_PATIENCE = hp.HParam(\"patience\", hp.Discrete([PATIENCE_EPOCHS]))\n",
    "HP_BIAS = hp.HParam(\"bias\", hp.Discrete([BIAS]))\n",
    "HP_HIDDEN_DENSE = hp.HParam(\"dense_units\", hp.Discrete([\n",
    "    \"0\",\n",
    "    \"8\",\n",
    "    \"128_32\",\n",
    "    \"64_32_16\",\n",
    "    \"128_128_64_32\",\n",
    "]))\n",
    "HPARAMS = [\n",
    "    HP_FILTERS,\n",
    "    HP_KERNEL_SIZE,\n",
    "    HP_BATCH_SIZE,\n",
    "    HP_EPOCHS,\n",
    "    HP_DILATION_RATE,\n",
    "    HP_DROPOUT_RATE,\n",
    "    HP_REG_WEIGHTS,\n",
    "    HP_LEARNING_RATE,\n",
    "    HP_PATIENCE,\n",
    "    HP_BIAS,\n",
    "    HP_HIDDEN_DENSE\n",
    "]\n",
    "\n",
    "\n",
    "def build_tcn(\n",
    "    input_shape, X, y, Xt=None, yt=None,\n",
    "    conditioning_shapes=None,\n",
    "    val_split=VAL_SPLIT,\n",
    "    output_horizon=PREDICTION_HORIZON,\n",
    "    filters=FILTERS,\n",
    "    kernel_size=KERNEL_SIZE,\n",
    "    dilation_rate=DILATION_RATE,\n",
    "    kernel_regularizer=L1L2(l1=REG_WEIGHTS, l2=REG_WEIGHTS//10),\n",
    "    bias_regularizer=L1L2(l1=REG_WEIGHTS, l2=REG_WEIGHTS//10),\n",
    "    dropout_rate=DROPRATE,\n",
    "    dense_units=HIDDEN_DENSE,\n",
    "    lr=LEARN_RATE,\n",
    "    patience=PATIENCE_EPOCHS,\n",
    "    epochs=EPOCHS,\n",
    "    batch_size=BATCH_SIZE,\n",
    "    use_bias=BIAS,\n",
    "    loss=LOSS,\n",
    "    tb=True,\n",
    "):\n",
    "    def log_confusion_matrix(epoch, logs):\n",
    "        def _plot_to_image(figure):\n",
    "            \"\"\"Converts the matplotlib plot specified by 'figure' to a PNG image and\n",
    "            returns it. The supplied figure is closed and inaccessible after this call.\"\"\"\n",
    "            buf = io.BytesIO()\n",
    "            plt.savefig(buf, format='png')\n",
    "            plt.close(figure)\n",
    "            buf.seek(0)\n",
    "            image = tf.image.decode_png(buf.getvalue(), channels=4)\n",
    "            image = tf.expand_dims(image, 0)\n",
    "            return image\n",
    "        # model is global as is XT and yt\n",
    "        ypred = model.predict(Xt)\n",
    "        cm = confusion_matrix(yt.flatten(), ypred.flatten())\n",
    "        figure, _ = plot_confusion_matrix(cm, labels=[1,0])\n",
    "        cm_image = _plot_to_image(figure)\n",
    "\n",
    "        file_writer_cm = create_file_writer(LOG_BASEPATH)\n",
    "        with file_writer_cm.as_default():\n",
    "            tf.summary.image(\"Confusion Matrix\", cm_image, step=epoch)\n",
    "    global model\n",
    "\n",
    "    model = TCN(\n",
    "        input_shape=input_shape,\n",
    "        conditioning_shapes=conditioning_shapes,\n",
    "        dense_units=dense_units,\n",
    "        output_horizon=output_horizon,\n",
    "        filters=filters,\n",
    "        kernel_size=kernel_size,\n",
    "        dilation_rate=dilation_rate,\n",
    "        kernel_regularizer=kernel_regularizer,\n",
    "        bias_regularizer=bias_regularizer,\n",
    "        use_bias=use_bias,\n",
    "        dropout_rate=dropout_rate,\n",
    "    )\n",
    "\n",
    "    model.compile(loss=loss, optimizer=Adam(lr), metrics=METRICS)\n",
    "    callbacks = [EarlyStopping(\n",
    "                    patience=patience,\n",
    "                    monitor=f\"val_{TARGET_METRIC}\",\n",
    "                    restore_best_weights=True,\n",
    "                ),\n",
    "                ReduceLROnPlateau(\n",
    "                    monitor=f\"val_{TARGET_METRIC}\",\n",
    "                    factor=0.3,\n",
    "                    patience=PATIENCE_EPOCHS//2,\n",
    "                    verbose=1,\n",
    "                    min_delta=0.00001,\n",
    "                )]\n",
    "    if tb:\n",
    "        callbacks.append(TensorBoard(log_dir=MODEL_LOG_DIR,\n",
    "                                    histogram_freq=1,\n",
    "                                    write_graph=True,\n",
    "                                    write_images=True,\n",
    "                                    update_freq='epoch',\n",
    "                                    profile_batch=2,\n",
    "                                    embeddings_freq=1))\n",
    "    if tb and IS_CLASSIFICATION:\n",
    "        callbacks.append(LambdaCallback(on_epoch_end=log_confusion_matrix))\n",
    "    if Xt is not None:\n",
    "        history = model.fit(\n",
    "            X,\n",
    "            y,\n",
    "            validation_data=(Xt, yt),\n",
    "            epochs=epochs,\n",
    "            batch_size=batch_size,\n",
    "            callbacks=callbacks,\n",
    "            verbose=0,\n",
    "        )\n",
    "    else:\n",
    "        history = model.fit(\n",
    "            X,\n",
    "            y,\n",
    "            validation_split=val_split,\n",
    "            epochs=epochs,\n",
    "            batch_size=batch_size,\n",
    "            callbacks=callbacks,\n",
    "            verbose=0,\n",
    "        )\n",
    "    return model, history"
   ]
  },
  {
   "cell_type": "markdown",
   "id": "f7485c67",
   "metadata": {},
   "source": [
    "### Constants"
   ]
  },
  {
   "cell_type": "code",
   "execution_count": 19,
   "id": "1d5eca9b",
   "metadata": {},
   "outputs": [
    {
     "name": "stdout",
     "output_type": "stream",
     "text": [
      "(590, 14)\n"
     ]
    }
   ],
   "source": [
    "LOAD_MODEL_CACHE = False\n",
    "GRID_SEARCH_TRAIN = False\n",
    "\n",
    "OOS_SIZE = round(len(data_df) * OOS_SPLIT)\n",
    "\n",
    "x_oos = data_df[-OOS_SIZE:]\n",
    "data_is_df = data_df[:-OOS_SIZE]\n",
    "\n",
    "VAL_SIZE = round(len(data_is_df) * VAL_SPLIT)\n",
    "\n",
    "data_x_df = data_is_df[:-VAL_SIZE]\n",
    "data_t_df = data_is_df[-VAL_SIZE:]\n",
    "\n",
    "print(f\"{x_oos.shape}\")"
   ]
  },
  {
   "cell_type": "markdown",
   "id": "01f5fc3c",
   "metadata": {},
   "source": [
    "### Data Encoding"
   ]
  },
  {
   "cell_type": "code",
   "execution_count": 20,
   "id": "54750ecd",
   "metadata": {},
   "outputs": [
    {
     "name": "stderr",
     "output_type": "stream",
     "text": [
      "Encoding Widows of 63: 100%|██████████| 4446/4446 [00:04<00:00, 959.64it/s] \n",
      "Encoding Widows of 63: 100%|██████████| 733/733 [00:00<00:00, 1097.30it/s]"
     ]
    },
    {
     "name": "stdout",
     "output_type": "stream",
     "text": [
      "Label shape encoded: (4446, 63)\n",
      "Data shapes for prime TS: (4446, 63, 8), exog TS: (4446, 63, 4)\n",
      "First window: [[ 0.00000000e+00  0.00000000e+00  0.00000000e+00  0.00000000e+00]\n",
      " [ 3.72128623e-09 -1.20106659e-09  1.05992164e-09  6.75669541e-10]\n",
      " [-1.13198525e-08 -3.84460243e-09  3.25512750e-09  2.50873251e-09]\n",
      " [ 4.06210562e-08 -6.04870589e-10  2.15327004e-09 -1.24817737e-09]\n",
      " [ 6.27263847e-09 -3.65047742e-10 -1.23384007e-09 -1.34219079e-09]\n",
      " [ 9.16333825e-09  1.56428428e-09 -1.17433197e-09 -1.71009047e-10]\n",
      " [-2.30499345e-08 -2.47876911e-10  3.44483824e-09 -7.26163685e-10]\n",
      " [ 2.97040550e-09  3.99034507e-10 -3.33121975e-09 -1.85836088e-10]\n",
      " [-7.71299910e-09  7.67531350e-10 -8.14158231e-10 -1.53567164e-10]\n",
      " [ 3.04992816e-09  0.00000000e+00 -2.89933947e-10 -4.76437887e-11]\n",
      " [-8.15948137e-09 -2.35167815e-09  8.68022205e-10 -4.31619132e-10]\n",
      " [-2.01279179e-09  2.14248108e-09  2.38798626e-09 -8.98572117e-11]\n",
      " [ 8.54725325e-09  3.70246324e-09 -3.03812645e-09 -6.46890150e-10]\n",
      " [ 1.07729862e-08  2.97317132e-09 -4.04887030e-09  2.79636203e-10]\n",
      " [-1.74779953e-09 -3.49098894e-09  1.97168706e-09 -1.63882911e-09]\n",
      " [ 1.50771355e-09  6.01062907e-10 -6.01531439e-10  8.09180446e-10]\n",
      " [ 1.22175864e-08 -7.43285910e-10 -1.74272303e-09  7.12254671e-10]\n",
      " [-5.77136080e-09  4.57969319e-10  8.81526903e-10  8.70029943e-10]\n",
      " [ 5.87942084e-09 -8.36337087e-10 -1.22879193e-09 -1.37617914e-10]\n",
      " [ 1.35918834e-09 -2.86085139e-10 -1.48232935e-09  2.28623670e-09]\n",
      " [-2.81485814e-09 -2.19577384e-10 -4.90555388e-10 -4.59430500e-10]\n",
      " [-7.04867824e-09 -1.47370587e-10  3.30614449e-09 -1.11965677e-09]\n",
      " [ 1.00279121e-08 -5.30470723e-10 -8.44210059e-10 -1.18798355e-09]\n",
      " [ 5.09944522e-11  8.49811836e-10 -1.98836595e-09 -2.74511661e-10]\n",
      " [ 9.22013526e-09  2.50766741e-10 -2.22802914e-09 -9.56303307e-10]\n",
      " [-1.14518297e-08  1.08621240e-09  1.22353539e-09 -1.61907785e-10]\n",
      " [-2.32764390e-09 -4.24900437e-10 -9.48354809e-10 -1.84704451e-10]\n",
      " [ 3.66291422e-08 -1.28925293e-09 -5.14114615e-09 -5.75520565e-10]\n",
      " [-1.02722280e-09  5.91464493e-10 -4.97072713e-10  2.00878890e-09]\n",
      " [ 1.00030694e-08 -1.32473013e-09 -1.55982175e-09  3.54851740e-11]\n",
      " [ 3.02845793e-09  4.78713442e-10 -1.15957960e-09  4.46188845e-10]\n",
      " [ 6.64584559e-09 -1.29011131e-09 -2.10484051e-09  6.19733384e-11]\n",
      " [-1.21058782e-08  1.67320784e-09  6.64899399e-09 -1.74003732e-09]\n",
      " [-5.32609545e-09 -3.77052408e-10  3.61479952e-10 -1.88116759e-10]\n",
      " [ 1.58023672e-08 -1.53475541e-09 -2.07056428e-09 -2.70801766e-10]\n",
      " [-1.44897377e-08  8.48778794e-10 -1.13120681e-09 -8.43875424e-11]\n",
      " [-1.09812375e-08 -1.00176734e-09  4.48860426e-09  5.52327690e-10]\n",
      " [-3.83745511e-10 -5.69391930e-10  2.28033008e-09  3.48517530e-10]\n",
      " [-3.11279567e-09 -2.47221809e-10  8.95404625e-10 -1.21604266e-09]\n",
      " [ 6.52819706e-09 -2.53193506e-10 -4.71288323e-10 -1.46024419e-09]\n",
      " [ 4.43392788e-09  1.75597485e-09 -2.77013364e-09 -8.03955384e-11]\n",
      " [ 2.99903776e-09 -3.05590976e-10  9.74235223e-10 -1.92534928e-10]\n",
      " [-4.27403691e-09  1.56015518e-10  2.25843698e-11 -4.45122659e-10]\n",
      " [-7.17989557e-09  6.57425644e-10  7.71506306e-10  9.76164897e-11]\n",
      " [-4.18443826e-09  5.43703314e-10  4.58881677e-09 -3.35888130e-10]\n",
      " [-1.31252931e-09 -1.83458150e-10 -4.40830552e-10  1.66269459e-10]\n",
      " [ 2.76454048e-09 -3.02921019e-10  4.59404211e-09  1.45837913e-10]\n",
      " [ 4.93716286e-09  4.02265263e-09  8.68518032e-10 -9.34946215e-11]\n",
      " [ 4.59774560e-09  1.54584666e-09 -1.80351725e-09 -1.44551033e-10]\n",
      " [-1.62530481e-09  5.85340199e-10  6.64318188e-10  4.32536671e-10]\n",
      " [ 7.25898169e-09 -8.15537816e-10 -9.90420791e-10  2.83849244e-10]\n",
      " [ 5.57546821e-09 -7.60738296e-10 -1.24691990e-09 -5.70727546e-10]\n",
      " [ 2.18467237e-09 -2.09791034e-10 -1.68302912e-09 -4.37475669e-11]\n",
      " [-5.37164477e-09  1.80790460e-10 -1.19030990e-09  2.96022996e-10]\n",
      " [-2.79536956e-09 -4.89581368e-10  2.46472265e-09  8.54348967e-11]\n",
      " [-7.79898939e-09 -1.76835964e-09  1.49943837e-09  3.95033570e-10]\n",
      " [-1.89181691e-09 -5.63861845e-10 -3.15044463e-09 -3.44559631e-10]\n",
      " [ 7.11248886e-09  2.91096833e-10  3.99381896e-10  7.59864564e-10]\n",
      " [ 4.61787140e-09  0.00000000e+00 -3.35658123e-09 -2.93196054e-10]\n",
      " [-3.30446102e-09 -1.81285084e-09 -1.27885101e-09  3.93608732e-10]\n",
      " [ 4.46592982e-09  1.09647002e-09 -5.58242400e-09  0.00000000e+00]\n",
      " [-7.33041120e-09  5.92330150e-10  5.08431144e-09  2.38145697e-09]\n",
      " [ 6.24196851e-09 -2.05464610e-09 -5.95724776e-11 -2.08160924e-10]]\n",
      "First window: [[ 3.58476190e-46  2.62148806e-01  8.00737403e-01  5.38018616e-32\n",
      "   1.00000000e+00  0.00000000e+00  0.00000000e+00  0.00000000e+00]\n",
      " [ 6.76667568e-53  2.62148806e-01  8.00737403e-01  5.38018616e-32\n",
      "   1.00000000e+00  2.16318850e-09  7.69349982e-10  2.73546660e-09]\n",
      " [ 6.76667568e-53  2.42580135e-02  8.00737403e-01  5.38018616e-32\n",
      "   0.00000000e+00  1.02343089e-09  2.27120751e-09  3.21396661e-10]\n",
      " [ 8.79701220e-29  2.42580135e-02  8.00737403e-01  5.38018616e-32\n",
      "   0.00000000e+00 -2.60859646e-09 -2.25092198e-09 -2.30258248e-09]\n",
      " [ 6.50878852e-24  2.42580135e-02  8.00737403e-01  5.38018616e-32\n",
      "   1.00000000e+00 -3.80024486e-10 -1.96558433e-09 -2.62858937e-09]\n",
      " [ 1.65552266e-19  2.42580135e-02  8.00737403e-01  5.38018616e-32\n",
      "   0.00000000e+00 -1.34998353e-09  4.65448588e-10  2.00835840e-09]\n",
      " [ 1.44757176e-15  2.42580135e-02  8.00737403e-01  5.38018616e-32\n",
      "   0.00000000e+00 -1.08767623e-09 -9.48541061e-10 -1.94319380e-09]\n",
      " [ 1.59725788e-06  2.42580135e-02  8.00737403e-01  5.38018616e-32\n",
      "   0.00000000e+00  1.16015398e-09 -1.08953630e-09 -3.70833913e-10]\n",
      " [ 1.95056320e-04  2.42580135e-02  8.00737403e-01  5.38018616e-32\n",
      "   1.00000000e+00 -1.30022635e-09 -3.52556820e-10 -1.53309190e-09]\n",
      " [ 8.18870101e-03  2.42580135e-02  8.00737403e-01  5.38018616e-32\n",
      "   1.00000000e+00 -7.84181962e-10 -6.84273479e-10  3.41992743e-10]\n",
      " [ 1.18178917e-01  2.42580135e-02  8.00737403e-01  5.38018616e-32\n",
      "   0.00000000e+00  1.17032973e-09  9.96804152e-10  1.48281025e-09]\n",
      " [ 5.86320395e-01  2.42580135e-02  8.00737403e-01  5.38018616e-32\n",
      "   0.00000000e+00 -2.75465390e-09 -3.56215375e-09 -5.95470099e-09]\n",
      " [ 1.18178917e-01  2.42580135e-02  8.00737403e-01  5.38018616e-32\n",
      "   1.00000000e+00 -1.69152248e-09 -2.40881589e-09 -1.80137536e-09]\n",
      " [ 8.18870101e-03  2.42580135e-02  8.00737403e-01  5.38018616e-32\n",
      "   0.00000000e+00 -6.77762508e-10  5.26294168e-10  1.37719468e-09]\n",
      " [ 1.95056320e-04  2.42580135e-02  8.00737403e-01  5.38018616e-32\n",
      "   0.00000000e+00 -2.95363539e-10 -1.64256700e-09 -1.13489324e-09]\n",
      " [ 1.59725788e-06  2.42580135e-02  8.00737403e-01  5.38018616e-32\n",
      "   1.00000000e+00 -5.37469548e-10 -6.21365326e-10 -2.54599319e-09]\n",
      " [ 4.49634946e-09  2.42580135e-02  8.00737403e-01  5.38018616e-32\n",
      "   0.00000000e+00 -2.20435012e-10 -1.82792256e-10  2.33309412e-09]\n",
      " [ 1.65552266e-19  2.42580135e-02  8.00737403e-01  5.38018616e-32\n",
      "   0.00000000e+00  5.30653005e-10  9.36211041e-10 -7.29804829e-10]\n",
      " [ 6.50878852e-24  2.42580135e-02  8.00737403e-01  5.38018616e-32\n",
      "   1.00000000e+00 -1.37188505e-09 -1.72231821e-09 -2.41053657e-09]\n",
      " [ 8.79701220e-29  2.42580135e-02  8.00737403e-01  5.38018616e-32\n",
      "   1.00000000e+00 -9.89684251e-10 -2.74830027e-10  7.32880073e-10]\n",
      " [ 4.08733497e-34  2.42580135e-02  8.00737403e-01  5.38018616e-32\n",
      "   0.00000000e+00  2.32904682e-09  7.65587984e-10  1.83037974e-09]\n",
      " [ 6.52852801e-40  2.42580135e-02  8.00737403e-01  5.38018616e-32\n",
      "   1.00000000e+00 -2.63130305e-10  5.50636458e-10 -1.01598082e-09]\n",
      " [ 3.58476190e-46  6.82835758e-04  1.35335283e-01  5.38018616e-32\n",
      "   0.00000000e+00 -1.31917707e-09 -6.11203346e-10  2.76027318e-10]\n",
      " [ 6.52852801e-40  6.82835758e-04  1.35335283e-01  5.38018616e-32\n",
      "   1.00000000e+00  6.22938443e-10 -6.42300516e-10 -9.99415189e-10]\n",
      " [ 4.08733497e-34  6.82835758e-04  1.35335283e-01  5.38018616e-32\n",
      "   1.00000000e+00 -1.67372948e-09 -6.07230869e-10  1.35525595e-09]\n",
      " [ 8.79701220e-29  6.82835758e-04  1.35335283e-01  5.38018616e-32\n",
      "   0.00000000e+00  9.01293624e-10  2.41365646e-09  7.61955334e-10]\n",
      " [ 6.50878852e-24  6.82835758e-04  1.35335283e-01  5.38018616e-32\n",
      "   0.00000000e+00 -1.40028682e-10 -2.48212806e-09 -2.16409236e-09]\n",
      " [ 4.35126044e-12  6.82835758e-04  1.35335283e-01  5.38018616e-32\n",
      "   0.00000000e+00 -5.10417355e-09 -5.95244709e-10 -1.67083458e-09]\n",
      " [ 4.49634946e-09  6.82835758e-04  1.35335283e-01  5.38018616e-32\n",
      "   0.00000000e+00 -7.24494530e-11 -1.98332814e-09 -2.70576067e-09]\n",
      " [ 1.59725788e-06  6.82835758e-04  1.35335283e-01  5.38018616e-32\n",
      "   0.00000000e+00 -1.79625660e-09 -1.79885801e-09 -8.11679836e-10]\n",
      " [ 1.95056320e-04  6.82835758e-04  1.35335283e-01  5.38018616e-32\n",
      "   1.00000000e+00 -6.02998675e-10 -1.40594889e-09 -2.02226660e-09]\n",
      " [ 8.18870101e-03  6.82835758e-04  1.35335283e-01  5.38018616e-32\n",
      "   1.00000000e+00  3.85638391e-11  5.99423101e-11  2.82994306e-09]\n",
      " [ 1.00000000e+00  6.82835758e-04  1.35335283e-01  5.38018616e-32\n",
      "   0.00000000e+00  7.42140482e-10  5.07022090e-09  8.02860818e-10]\n",
      " [ 5.86320395e-01  6.82835758e-04  1.35335283e-01  5.38018616e-32\n",
      "   0.00000000e+00  3.03086941e-10 -2.13102252e-09 -3.17627359e-09]\n",
      " [ 1.18178917e-01  6.82835758e-04  1.35335283e-01  5.38018616e-32\n",
      "   1.00000000e+00 -1.61428424e-09 -2.90168696e-09 -3.40504083e-10]\n",
      " [ 8.18870101e-03  6.82835758e-04  1.35335283e-01  5.38018616e-32\n",
      "   1.00000000e+00  2.78866194e-09  5.50446588e-09  4.30115283e-09]\n",
      " [ 1.95056320e-04  6.82835758e-04  1.35335283e-01  5.38018616e-32\n",
      "   1.00000000e+00  1.68671252e-09  1.92590240e-09  5.78015989e-10]\n",
      " [ 4.35126044e-12  6.82835758e-04  1.35335283e-01  5.38018616e-32\n",
      "   0.00000000e+00 -2.09203095e-10  7.68438686e-10  8.44475840e-10]\n",
      " [ 1.44757176e-15  6.82835758e-04  1.35335283e-01  5.38018616e-32\n",
      "   0.00000000e+00  1.11740845e-09  7.82239649e-11 -1.16005253e-09]\n",
      " [ 1.65552266e-19  6.82835758e-04  1.35335283e-01  5.38018616e-32\n",
      "   1.00000000e+00 -1.83119384e-09 -2.26355424e-09 -2.57241601e-09]\n",
      " [ 6.50878852e-24  6.82835758e-04  1.35335283e-01  5.38018616e-32\n",
      "   1.00000000e+00 -1.46148591e-09 -1.64577495e-09  2.94360209e-10]\n",
      " [ 8.79701220e-29  6.82835758e-04  1.35335283e-01  5.38018616e-32\n",
      "   1.00000000e+00  1.20914557e-09  1.98218053e-09  1.94366079e-09]\n",
      " [ 3.58476190e-46  6.82835758e-04  1.35335283e-01  5.38018616e-32\n",
      "   1.00000000e+00  1.28157469e-09  1.10375959e-09  8.83844617e-10]\n",
      " [ 6.76667568e-53  6.82835758e-04  1.35335283e-01  5.38018616e-32\n",
      "   0.00000000e+00  2.37128724e-09  1.77980797e-09  2.22301627e-09]\n",
      " [ 6.76667568e-53  5.84697119e-06  1.35335283e-01  5.38018616e-32\n",
      "   1.00000000e+00 -4.50841342e-10  1.22234707e-09 -5.01709970e-10]\n",
      " [ 3.58476190e-46  5.84697119e-06  1.35335283e-01  5.38018616e-32\n",
      "   1.00000000e+00  4.02028226e-10  8.05911985e-10  1.44368861e-10]\n",
      " [ 6.52852801e-40  5.84697119e-06  1.35335283e-01  5.38018616e-32\n",
      "   1.00000000e+00 -2.09322421e-10 -1.90228434e-10  1.05543605e-10]\n",
      " [ 6.50878852e-24  5.84697119e-06  1.35335283e-01  5.38018616e-32\n",
      "   0.00000000e+00  9.41087898e-10  1.14021185e-09  1.73252213e-09]\n",
      " [ 1.65552266e-19  5.84697119e-06  1.35335283e-01  5.38018616e-32\n",
      "   0.00000000e+00 -3.93284721e-10 -6.26470637e-10 -4.15468537e-11]\n",
      " [ 1.44757176e-15  5.84697119e-06  1.35335283e-01  5.38018616e-32\n",
      "   0.00000000e+00  7.08813512e-11 -2.29107420e-09 -3.62123578e-09]\n",
      " [ 4.35126044e-12  5.84697119e-06  1.35335283e-01  5.38018616e-32\n",
      "   0.00000000e+00 -1.85605449e-09 -2.21583118e-09 -3.55369151e-10]\n",
      " [ 4.49634946e-09  5.84697119e-06  1.35335283e-01  5.38018616e-32\n",
      "   0.00000000e+00 -1.44607295e-09 -6.11096817e-10 -2.83854688e-09]\n",
      " [ 8.18870101e-03  5.84697119e-06  1.35335283e-01  5.38018616e-32\n",
      "   1.00000000e+00 -1.03053636e-09 -1.48968195e-09 -4.49906059e-10]\n",
      " [ 1.18178917e-01  5.84697119e-06  1.35335283e-01  5.38018616e-32\n",
      "   1.00000000e+00  2.51363736e-09  3.90593015e-09  3.42674848e-09]\n",
      " [ 5.86320395e-01  5.84697119e-06  1.35335283e-01  5.38018616e-32\n",
      "   0.00000000e+00  3.92535807e-10  6.19443131e-10  3.55822679e-10]\n",
      " [ 1.00000000e+00  5.84697119e-06  1.35335283e-01  5.38018616e-32\n",
      "   0.00000000e+00 -2.50265596e-10 -4.75163980e-10 -2.34496509e-09]\n",
      " [ 5.86320395e-01  5.84697119e-06  1.35335283e-01  5.38018616e-32\n",
      "   0.00000000e+00 -9.54890834e-10 -1.73698362e-09 -8.16010881e-10]\n",
      " [ 1.95056320e-04  5.84697119e-06  1.35335283e-01  5.38018616e-32\n",
      "   1.00000000e+00 -3.45972192e-09 -1.93996860e-09 -2.61864655e-09]\n",
      " [ 1.59725788e-06  5.84697119e-06  1.35335283e-01  5.38018616e-32\n",
      "   0.00000000e+00 -1.78921363e-10 -7.72092720e-10  6.64264585e-10]\n",
      " [ 4.49634946e-09  5.84697119e-06  1.35335283e-01  5.38018616e-32\n",
      "   1.00000000e+00 -1.67990524e-09 -1.81551842e-09 -4.16461273e-09]\n",
      " [ 1.44757176e-15  5.84697119e-06  1.35335283e-01  5.38018616e-32\n",
      "   1.00000000e+00  2.03742539e-10  3.32773054e-09  5.99613865e-09]\n",
      " [ 8.79701220e-29  5.84697119e-06  1.35335283e-01  5.38018616e-32\n",
      "   0.00000000e+00  2.12523853e-09  2.10758092e-09  1.46970778e-09]\n",
      " [ 4.08733497e-34  5.84697119e-06  1.35335283e-01  5.38018616e-32\n",
      "   0.00000000e+00 -1.28534146e-10 -2.31548475e-09 -3.22885570e-09]]\n",
      "First window targets: [1 1 0 0 1 0 0 0 1 1 0 0 1 0 0 1 0 0 1 1 0 1 0 1 1 0 0 0 0 0 1 1 0 0 1 1 1\n",
      " 0 0 1 1 1 1 0 1 1 1 0 0 0 0 0 1 1 0 0 0 1 0 1 1 0 0]\n",
      "Model logs for Tensorboard available here: ./logs/08135657\n",
      "Input Shape: (63, 8) and Condtioning shapes: (63, 4)\n"
     ]
    },
    {
     "name": "stderr",
     "output_type": "stream",
     "text": [
      "\n"
     ]
    }
   ],
   "source": [
    "def prepare_windows(\n",
    "    data_df,\n",
    "    target_df,\n",
    "    prime_ts=SELECTED_FEATURES,\n",
    "    exog_ts=SELECTED_EXOG,\n",
    "    window_size=WINDOW_SIZE,\n",
    "    horizon=PREDICTION_HORIZON,\n",
    "):\n",
    "    \"\"\"\n",
    "    Create input and target windows suitable for TCN model.\n",
    "    :param data: DataFrame with shape (n_samples, n_features)\n",
    "    :param features: List of strings, names of the feature columns\n",
    "    :param target_df: Optional the labels if this encoding is for training.\n",
    "    :param window_size: int, length of the input sequence.\n",
    "    :param horizon: int, forecasting horizon.\n",
    "    :return: 3 Arrays in the shape of (n_samples, n_steps, n_features) for the training data, the exogenous data, and the labels (this last is optional)\n",
    "    \"\"\"\n",
    "    X, Xexog, y = [], [], []\n",
    "    for i in tqdm(\n",
    "        range(len(data_df) - window_size - horizon + 1), desc=f\"Encoding Widows of {window_size}\"\n",
    "    ):\n",
    "        input_window = data_df[prime_ts].iloc[i : i + window_size].values\n",
    "        X.append(input_window)\n",
    "        input_window = data_df[exog_ts].iloc[i : i + window_size].values\n",
    "        Xexog.append(input_window)\n",
    "        if target_df is not None:\n",
    "            target_window = target_df.iloc[i  : i + window_size].values\n",
    "            y.append(target_window)\n",
    "    return np.array(X), np.array(Xexog), np.array(y)\n",
    "\n",
    "train_data, train_exog_data, ytrain_data = prepare_windows(data_x_df, data_x_df[TARGET_LABEL])\n",
    "test_data, test_exog_data, ytest_data = prepare_windows(data_t_df, data_t_df[TARGET_LABEL])\n",
    "\n",
    "assert not np.any(pd.isna(train_data)) and not np.any(pd.isna(train_exog_data))\n",
    "\n",
    "print(f\"Label shape encoded: {ytrain_data.shape}\")\n",
    "print(f\"Data shapes for prime TS: {train_data.shape}, exog TS: {train_exog_data.shape}\")\n",
    "print(f\"First window: {train_exog_data[:1][0]}\")\n",
    "print(f\"First window: {train_data[:1][0]}\")\n",
    "print(f\"First window targets: {ytrain_data[:1][0]}\")\n",
    "\n",
    "input_shape = (\n",
    "    WINDOW_SIZE,\n",
    "    1 if len(train_data.shape) < 3 else train_data.shape[2],\n",
    ")  # if we have no additonal features X.shape[1]\n",
    "conditioning_shapes = (WINDOW_SIZE, train_exog_data.shape[2])\n",
    "print(f\"Model logs for Tensorboard available here: {MODEL_LOG_DIR}\")\n",
    "print(f\"Input Shape: {input_shape} and Condtioning shapes: {conditioning_shapes}\")\n",
    "\n",
    "assert not np.any(np.isnan(train_data))\n",
    "assert not np.any(np.isnan(train_exog_data))\n",
    "assert not np.any(np.isnan(ytrain_data))"
   ]
  },
  {
   "cell_type": "code",
   "execution_count": 21,
   "id": "91b14747",
   "metadata": {},
   "outputs": [
    {
     "name": "stderr",
     "output_type": "stream",
     "text": [
      "Encoding Widows of 63: 100%|██████████| 527/527 [00:00<00:00, 1073.30it/s]\n"
     ]
    },
    {
     "data": {
      "text/plain": [
       "array([[[ 6.76667568e-53,  6.82835758e-04,  1.35335283e-01, ...,\n",
       "         -1.31091917e-11, -2.79702581e-11,  9.19542486e-11],\n",
       "        [ 4.08733497e-34,  6.82835758e-04,  1.35335283e-01, ...,\n",
       "         -3.69246059e-11, -1.58391055e-11, -1.00303635e-10],\n",
       "        [ 8.79701220e-29,  6.82835758e-04,  1.35335283e-01, ...,\n",
       "          3.88792526e-11,  7.83694691e-11,  1.14740789e-10],\n",
       "        ...,\n",
       "        [ 4.08733497e-34,  1.52299797e-08,  1.35335283e-01, ...,\n",
       "          6.64756917e-11,  1.81499170e-10, -1.72861394e-11],\n",
       "        [ 6.52852801e-40,  1.52299797e-08,  1.35335283e-01, ...,\n",
       "         -9.57979887e-12, -5.39506532e-12,  2.34704128e-11],\n",
       "        [ 3.58476190e-46,  1.52299797e-08,  1.35335283e-01, ...,\n",
       "          1.66175071e-11, -9.49408727e-12, -4.99652799e-11]],\n",
       "\n",
       "       [[ 4.08733497e-34,  6.82835758e-04,  1.35335283e-01, ...,\n",
       "         -3.69246059e-11, -1.58391055e-11, -1.00303635e-10],\n",
       "        [ 8.79701220e-29,  6.82835758e-04,  1.35335283e-01, ...,\n",
       "          3.88792526e-11,  7.83694691e-11,  1.14740789e-10],\n",
       "        [ 6.50878852e-24,  6.82835758e-04,  1.35335283e-01, ...,\n",
       "         -7.51649954e-12, -3.81170288e-11,  3.67687774e-11],\n",
       "        ...,\n",
       "        [ 6.52852801e-40,  1.52299797e-08,  1.35335283e-01, ...,\n",
       "         -9.57979887e-12, -5.39506532e-12,  2.34704128e-11],\n",
       "        [ 3.58476190e-46,  1.52299797e-08,  1.35335283e-01, ...,\n",
       "          1.66175071e-11, -9.49408727e-12, -4.99652799e-11],\n",
       "        [ 6.76667568e-53,  1.52299797e-08,  1.35335283e-01, ...,\n",
       "         -6.84832857e-11, -3.22253455e-11, -3.86310139e-11]],\n",
       "\n",
       "       [[ 8.79701220e-29,  6.82835758e-04,  1.35335283e-01, ...,\n",
       "          3.88792526e-11,  7.83694691e-11,  1.14740789e-10],\n",
       "        [ 6.50878852e-24,  6.82835758e-04,  1.35335283e-01, ...,\n",
       "         -7.51649954e-12, -3.81170288e-11,  3.67687774e-11],\n",
       "        [ 1.65552266e-19,  6.82835758e-04,  1.35335283e-01, ...,\n",
       "          2.08128322e-10,  3.44204972e-10,  1.19353764e-10],\n",
       "        ...,\n",
       "        [ 3.58476190e-46,  1.52299797e-08,  1.35335283e-01, ...,\n",
       "          1.66175071e-11, -9.49408727e-12, -4.99652799e-11],\n",
       "        [ 6.76667568e-53,  1.52299797e-08,  1.35335283e-01, ...,\n",
       "         -6.84832857e-11, -3.22253455e-11, -3.86310139e-11],\n",
       "        [ 6.52852801e-40,  1.52299797e-08,  1.35335283e-01, ...,\n",
       "          2.85699193e-11, -2.37728654e-11,  7.96766861e-11]],\n",
       "\n",
       "       ...,\n",
       "\n",
       "       [[ 6.76667568e-53,  5.84697119e-06,  1.35335283e-01, ...,\n",
       "          1.21088289e-10,  1.09303703e-10,  1.08748237e-10],\n",
       "        [ 3.58476190e-46,  5.84697119e-06,  1.35335283e-01, ...,\n",
       "          1.84547039e-10,  1.99012979e-10,  2.01859874e-10],\n",
       "        [ 6.52852801e-40,  5.84697119e-06,  1.35335283e-01, ...,\n",
       "          1.24479058e-10,  1.51042609e-10,  9.11329505e-11],\n",
       "        ...,\n",
       "        [ 3.58476190e-46,  1.52299797e-08,  1.35335283e-01, ...,\n",
       "          6.94230090e-12,  1.02950551e-10, -1.31947177e-11],\n",
       "        [ 6.76667568e-53,  1.52299797e-08,  1.35335283e-01, ...,\n",
       "         -4.10012254e-11, -1.17391230e-10, -1.29491137e-10],\n",
       "        [ 6.76667568e-53,  5.84697119e-06,  1.35335283e-01, ...,\n",
       "          3.33815297e-12,  2.11851699e-11,  1.42430351e-10]],\n",
       "\n",
       "       [[ 3.58476190e-46,  5.84697119e-06,  1.35335283e-01, ...,\n",
       "          1.84547039e-10,  1.99012979e-10,  2.01859874e-10],\n",
       "        [ 6.52852801e-40,  5.84697119e-06,  1.35335283e-01, ...,\n",
       "          1.24479058e-10,  1.51042609e-10,  9.11329505e-11],\n",
       "        [ 6.50878852e-24,  5.84697119e-06,  1.35335283e-01, ...,\n",
       "         -4.73113680e-12,  2.28104098e-11,  3.39146740e-11],\n",
       "        ...,\n",
       "        [ 6.76667568e-53,  1.52299797e-08,  1.35335283e-01, ...,\n",
       "         -4.10012254e-11, -1.17391230e-10, -1.29491137e-10],\n",
       "        [ 6.76667568e-53,  5.84697119e-06,  1.35335283e-01, ...,\n",
       "          3.33815297e-12,  2.11851699e-11,  1.42430351e-10],\n",
       "        [ 3.58476190e-46,  5.84697119e-06,  1.35335283e-01, ...,\n",
       "          1.40600597e-10,  1.14660595e-10,  1.06178751e-10]],\n",
       "\n",
       "       [[ 6.52852801e-40,  5.84697119e-06,  1.35335283e-01, ...,\n",
       "          1.24479058e-10,  1.51042609e-10,  9.11329505e-11],\n",
       "        [ 6.50878852e-24,  5.84697119e-06,  1.35335283e-01, ...,\n",
       "         -4.73113680e-12,  2.28104098e-11,  3.39146740e-11],\n",
       "        [ 1.65552266e-19,  5.84697119e-06,  1.35335283e-01, ...,\n",
       "          5.13822355e-11,  2.97853896e-11,  4.42921037e-11],\n",
       "        ...,\n",
       "        [ 6.76667568e-53,  5.84697119e-06,  1.35335283e-01, ...,\n",
       "          3.33815297e-12,  2.11851699e-11,  1.42430351e-10],\n",
       "        [ 3.58476190e-46,  5.84697119e-06,  1.35335283e-01, ...,\n",
       "          1.40600597e-10,  1.14660595e-10,  1.06178751e-10],\n",
       "        [ 8.79701220e-29,  5.84697119e-06,  1.35335283e-01, ...,\n",
       "         -4.44388940e-11,  2.50896864e-11, -4.80639034e-11]]])"
      ]
     },
     "execution_count": 21,
     "metadata": {},
     "output_type": "execute_result"
    }
   ],
   "source": [
    "xtrain_oos, Xexog_oos, y_oos = prepare_windows(x_oos, x_oos[TARGET_LABEL])\n",
    "xtrain_oos"
   ]
  },
  {
   "cell_type": "markdown",
   "id": "a14dda81",
   "metadata": {},
   "source": [
    "### GridSearch and HyperParams"
   ]
  },
  {
   "cell_type": "code",
   "execution_count": 22,
   "id": "7d598dfa",
   "metadata": {},
   "outputs": [],
   "source": [
    "def grid_search_build_tcn(\n",
    "    input_shape, X, y, hparams=HPARAMS, file_name=\"best_params.json\"\n",
    "):\n",
    "    def _decode_arrays(config_str):\n",
    "        return [int(unit) for unit in config_str.split('_')]\n",
    "\n",
    "    def _save_best_params(best_params, best_loss, best_metric, file_name=\"best_params.json\"):\n",
    "        with open(f\"{MODEL_DIR}/file_name\", \"w\") as file:\n",
    "            json.dump({\"best_params\": best_params, \"best_loss\": best_loss, \"best_metric\": best_metric}, file)\n",
    "\n",
    "    with create_file_writer(f\"{MODEL_LOG_DIR}/hparam_tuning\").as_default():\n",
    "        hp.hparams_config(\n",
    "            hparams=hparams,\n",
    "            metrics=[hp.Metric(TARGET_METRIC, display_name=TARGET_METRIC)],\n",
    "        )\n",
    "    grid = list(ParameterGrid({h.name: h.domain.values for h in hparams}))\n",
    "    best_model = None\n",
    "    best_loss = np.inf\n",
    "    best_metric = np.inf if not IS_CLASSIFICATION else -np.inf\n",
    "    best_params = None\n",
    "    best_history = None\n",
    "    for hp_values in tqdm(grid, desc=\"Grid Search..\"):\n",
    "        try:\n",
    "            dense_units = _decode_arrays(hp_values[\"dense_units\"])\n",
    "            filters = _decode_arrays(hp_values[\"filters\"])\n",
    "            model, history = build_tcn(input_shape, X, y,\n",
    "                                        output_horizon=PREDICTION_HORIZON,\n",
    "                                        num_filters=filters,\n",
    "                                        kernel_size=hp_values[\"kernel_size\"],\n",
    "                                        num_layers=hp_values[\"num_layers\"],\n",
    "                                        dilation_rate=hp_values[\"dilation_rate\"],\n",
    "                                        kernel_regularizer=L1L2(l1=hp_values[\"reg_weight\"], l2=hp_values[\"reg_weight\"]),\n",
    "                                        bias_regularizer=L1L2(l1=hp_values[\"reg_weight\"], l2=hp_values[\"reg_weight\"]),\n",
    "                                        dropout_rate=hp_values[\"dropout_rate\"],\n",
    "                                        epochs=hp_values[\"epochs\"],\n",
    "                                        lr=hp_values[\"learning_rate\"],\n",
    "                                        dense_units=dense_units,\n",
    "                                        use_bias=hp_values[\"bias\"],)\n",
    "            loss = np.min(history.history[f\"val_loss\"])\n",
    "            metric = np.min(history.history[f\"val_{TARGET_METRIC}\"])\n",
    "            if (loss < best_loss) or ((best_metric < metric and not IS_CLASSIFICATION) or (best_metric > metric and IS_CLASSIFICATION)):\n",
    "                print(f\"best metric: {metric}\")\n",
    "                print(f\"best loss: {loss}\")\n",
    "                print(f\"best params: {hp_values}\")\n",
    "                best_history = history\n",
    "                best_loss = loss\n",
    "                best_metric = metric\n",
    "                best_model = model\n",
    "                best_params = hp_values\n",
    "                _save_best_params(best_params, best_loss, best_metric, file_name)\n",
    "        except Exception as e:\n",
    "            print(f\"Grid Search ERROR on params: {hp_values}\\n\", e)\n",
    "\n",
    "    return best_model, best_history\n",
    "\n",
    "if GRID_SEARCH_TRAIN:\n",
    "    model, history = grid_search_build_tcn(input_shape, [train_data, train_exog_data], ytrain_data)"
   ]
  },
  {
   "cell_type": "markdown",
   "id": "a8007549",
   "metadata": {},
   "source": [
    "## Load or Train"
   ]
  },
  {
   "cell_type": "code",
   "execution_count": 23,
   "id": "92eb87e9",
   "metadata": {},
   "outputs": [
    {
     "name": "stdout",
     "output_type": "stream",
     "text": [
      "23/23 [==============================] - 1s 11ms/step\n",
      "23/23 [==============================] - 0s 10ms/step\n",
      "23/23 [==============================] - 0s 10ms/step\n",
      "23/23 [==============================] - 0s 9ms/step\n",
      "23/23 [==============================] - 0s 9ms/step\n",
      "23/23 [==============================] - 0s 10ms/step\n",
      "23/23 [==============================] - 0s 9ms/step\n",
      "\n",
      "Epoch 8: ReduceLROnPlateau reducing learning rate to 0.0007499999832361936.\n",
      "23/23 [==============================] - 0s 9ms/step\n",
      "23/23 [==============================] - 0s 8ms/step\n",
      "23/23 [==============================] - 0s 10ms/step\n",
      "23/23 [==============================] - 0s 9ms/step\n",
      "23/23 [==============================] - 0s 10ms/step\n",
      "23/23 [==============================] - 0s 10ms/step\n",
      "23/23 [==============================] - 0s 8ms/step\n",
      "\n",
      "Epoch 15: ReduceLROnPlateau reducing learning rate to 0.00022500000195577739.\n",
      "23/23 [==============================] - 0s 8ms/step\n",
      "23/23 [==============================] - 0s 9ms/step\n",
      "23/23 [==============================] - 0s 9ms/step\n",
      "23/23 [==============================] - 0s 10ms/step\n",
      "23/23 [==============================] - 0s 9ms/step\n",
      "Model: \"TCN_Conditional_Model\"\n",
      "__________________________________________________________________________________________________\n",
      " Layer (type)                   Output Shape         Param #     Connected to                     \n",
      "==================================================================================================\n",
      " main_input (InputLayer)        [(None, 63, 8)]      0           []                               \n",
      "                                                                                                  \n",
      " exog_input (InputLayer)        [(None, 63, 4)]      0           []                               \n",
      "                                                                                                  \n",
      " conditional_block (Conditional  (None, 63, 64)      1280        ['main_input[0][0]',             \n",
      " Block)                                                           'exog_input[0][0]']             \n",
      "                                                                                                  \n",
      " tcn_block (TCNBlock)           ((None, 63, 32),     8288        ['conditional_block[0][0]']      \n",
      "                                 (None, 63, 32))                                                  \n",
      "                                                                                                  \n",
      " tcn_block_1 (TCNBlock)         ((None, 63, 64),     14528       ['tcn_block[0][0]']              \n",
      "                                 (None, 63, 64))                                                  \n",
      "                                                                                                  \n",
      " tcn_block_2 (TCNBlock)         ((None, 63, 128),    57728       ['tcn_block_1[0][0]']            \n",
      "                                 (None, 63, 128))                                                 \n",
      "                                                                                                  \n",
      " concatenate (Concatenate)      (None, 63, 224)      0           ['tcn_block[0][1]',              \n",
      "                                                                  'tcn_block_1[0][1]',            \n",
      "                                                                  'tcn_block_2[0][1]']            \n",
      "                                                                                                  \n",
      " Residual_Conv (Conv1D)         (None, 63, 128)      28800       ['concatenate[0][0]']            \n",
      "                                                                                                  \n",
      " PreConv_Classifier (Conv1D)    (None, 63, 128)      16512       ['Residual_Conv[0][0]']          \n",
      "                                                                                                  \n",
      " Conv_Classifier (Conv1D)       (None, 63, 1)        129         ['PreConv_Classifier[0][0]']     \n",
      "                                                                                                  \n",
      "==================================================================================================\n",
      "Total params: 127,265\n",
      "Trainable params: 127,265\n",
      "Non-trainable params: 0\n",
      "__________________________________________________________________________________________________\n"
     ]
    }
   ],
   "source": [
    "from tensorflow.keras.models import load_model\n",
    "\n",
    "os.makedirs(MODEL_DIR, exist_ok=True)\n",
    "assert os.path.exists(MODEL_DIR)\n",
    "\n",
    "if LOAD_MODEL_CACHE:\n",
    "    model = load_model(f\"{MODEL_DIR}/tcn.h5\")\n",
    "    with open(f\"{MODEL_DIR}/history.pkl\", 'rb') as file:\n",
    "        loaded_history = pickle.load(file)\n",
    "elif not GRID_SEARCH_TRAIN:\n",
    "     model, history = build_tcn( # Xexog\n",
    "            input_shape, X=[train_data, train_exog_data], y=ytrain_data, Xt=[test_data, test_exog_data], yt=ytest_data, conditioning_shapes=conditioning_shapes\n",
    "        )\n",
    "model.save(f\"{MODEL_DIR}/tcn.h5\")\n",
    "model.summary()"
   ]
  },
  {
   "cell_type": "markdown",
   "id": "d34348cd",
   "metadata": {},
   "source": [
    "# Evaluation"
   ]
  },
  {
   "cell_type": "code",
   "execution_count": 24,
   "id": "b862085f",
   "metadata": {},
   "outputs": [
    {
     "name": "stdout",
     "output_type": "stream",
     "text": [
      "139/139 [==============================] - 1s 11ms/step\n",
      "23/23 [==============================] - 0s 11ms/step\n",
      "Prediction shape: (733, 63, 1) vs test data shape: (733, 63)\n",
      "Test data 1 horizon sample: [1 1 0 0 0 0 1 0 1 1 1 1 0 0 1 1 1 1 0 0 0 0 0 0 1 1 1 1 1 0 1 1 1 0 0 0 0\n",
      " 1 1 1 0 1 0 0 0 0 0 0 1 0 1 1 0 0 0 0 0 1 0 0 1 1 1]\n",
      "Prediction data 1 horizon sample: [[1 1 0 0 0 0 1 0 1 1 1 1 0 0 1 1 1 1 0 0 0 0 0 0 1 1 1 1 1 0 1 1 1 0 0 0\n",
      "  0 1 1 1 0 1 0 0 0 0 0 0 1 0 1 1 0 0 0 0 0 1 0 0 1 1 1]]\n",
      "Prediction 1 horizon sample: 1 VS 1\n"
     ]
    }
   ],
   "source": [
    "if not IS_CLASSIFICATION and y_scaler is not None:\n",
    "    ytrain_data = y_scaler.inverse_transform(ytrain_data.reshape(-1, 1))\n",
    "    ytest_data = y_scaler.inverse_transform(ytest_data.reshape(-1, 1))\n",
    "\n",
    "assert not np.array_equal(train_data, test_data) and not np.array_equal(train_exog_data, test_exog_data), \"Training and test should not be identical.\"\n",
    "\n",
    "y_pred = model.predict([train_data, train_exog_data])\n",
    "yt_pred = model.predict([test_data, test_exog_data])\n",
    "if IS_CLASSIFICATION:\n",
    "    y_pred_orig = y_pred.copy()\n",
    "    yt_pred_orig = yt_pred.copy()\n",
    "    y_pred = (y_pred > 0.5).astype(int)\n",
    "    yt_pred = (yt_pred > 0.5).astype(int)\n",
    "else:\n",
    "    y_pred = y_scaler.inverse_transform(y_pred.reshape(-1, 1))\n",
    "    yt_pred = y_scaler.inverse_transform(yt_pred.reshape(-1, 1))\n",
    "print(f\"Prediction shape: {yt_pred.shape} vs test data shape: {ytest_data.shape}\")\n",
    "print(f\"Test data 1 horizon sample: {ytest_data[0]}\")\n",
    "print(f\"Prediction data 1 horizon sample: {yt_pred[0].T}\")\n",
    "print(f\"Prediction 1 horizon sample: {yt_pred.flatten()[0]} VS {ytest_data.flatten()[0]}\")"
   ]
  },
  {
   "cell_type": "markdown",
   "id": "5c9ee892",
   "metadata": {},
   "source": [
    "### Confusion Matrices"
   ]
  },
  {
   "cell_type": "code",
   "execution_count": 25,
   "id": "ffbb7061",
   "metadata": {},
   "outputs": [
    {
     "data": {
      "image/png": "[encoded data removed]",
      "text/plain": [
       "<Figure size 800x400 with 4 Axes>"
      ]
     },
     "metadata": {},
     "output_type": "display_data"
    }
   ],
   "source": [
    "if IS_CLASSIFICATION:\n",
    "\n",
    "    cm_train = confusion_matrix(ytrain_data.flatten(), y_pred.flatten())\n",
    "    cm_test = confusion_matrix(ytest_data.flatten(), yt_pred.flatten())\n",
    "\n",
    "    cm_train_np = cm_train.numpy()\n",
    "    cm_test_np = cm_test.numpy()\n",
    "\n",
    "    plot_confusion_matrix(cm_train_np, [0,1], cm_test_np, [0,1])\n",
    "    plt.show()"
   ]
  },
  {
   "cell_type": "code",
   "execution_count": 26,
   "id": "1cf9703b",
   "metadata": {},
   "outputs": [
    {
     "name": "stdout",
     "output_type": "stream",
     "text": [
      "shapes y_pred: (4446, 63, 1) and yt_pred: (733, 63, 1)\n"
     ]
    },
    {
     "data": {
      "image/png": "[encoded data removed]",
      "text/plain": [
       "<Figure size 1200x1000 with 3 Axes>"
      ]
     },
     "metadata": {},
     "output_type": "display_data"
    },
    {
     "data": {
      "text/html": [
       "<div>\n",
       "<style scoped>\n",
       "    .dataframe tbody tr th:only-of-type {\n",
       "        vertical-align: middle;\n",
       "    }\n",
       "\n",
       "    .dataframe tbody tr th {\n",
       "        vertical-align: top;\n",
       "    }\n",
       "\n",
       "    .dataframe thead th {\n",
       "        text-align: right;\n",
       "    }\n",
       "</style>\n",
       "<table border=\"1\" class=\"dataframe\">\n",
       "  <thead>\n",
       "    <tr style=\"text-align: right;\">\n",
       "      <th></th>\n",
       "      <th>Accuracy</th>\n",
       "      <th>Precision</th>\n",
       "      <th>Recall</th>\n",
       "      <th>F1 Score</th>\n",
       "      <th>ROC AUC</th>\n",
       "    </tr>\n",
       "  </thead>\n",
       "  <tbody>\n",
       "    <tr>\n",
       "      <th>Test</th>\n",
       "      <td>1.0</td>\n",
       "      <td>1.0</td>\n",
       "      <td>1.0</td>\n",
       "      <td>1.0</td>\n",
       "      <td>1.0</td>\n",
       "    </tr>\n",
       "  </tbody>\n",
       "</table>\n",
       "</div>"
      ],
      "text/plain": [
       "      Accuracy  Precision  Recall  F1 Score  ROC AUC\n",
       "Test       1.0        1.0     1.0       1.0      1.0"
      ]
     },
     "execution_count": 26,
     "metadata": {},
     "output_type": "execute_result"
    }
   ],
   "source": [
    "from sklearn.metrics import (\n",
    "    mean_squared_error,\n",
    "    r2_score,\n",
    "    mean_absolute_percentage_error,\n",
    "    mean_absolute_error,\n",
    "    accuracy_score, precision_score, recall_score,\n",
    "    f1_score, roc_auc_score, roc_curve, auc\n",
    ")\n",
    "\n",
    "def directional_accuracy(y, y_pred):\n",
    "    a = np.array(y).flatten()\n",
    "    p = np.array(y_pred).flatten()\n",
    "\n",
    "    a_dir = np.sign(np.diff(a))\n",
    "    p_dir = np.sign(np.diff(p))\n",
    "    correct_dirs = np.sum(a_dir == p_dir)\n",
    "    acc = correct_dirs / len(a_dir)\n",
    "\n",
    "    return acc\n",
    "\n",
    "\n",
    "print(f\"shapes y_pred: {y_pred.shape} and yt_pred: {yt_pred.shape}\")\n",
    "\n",
    "if not IS_CLASSIFICATION:\n",
    "    mae_train = mean_absolute_error(ytrain_data, y_pred)\n",
    "    mae_test = mean_absolute_error(ytest_data, yt_pred)\n",
    "    mse_train = mean_squared_error(ytrain_data, y_pred)\n",
    "    mse_test = mean_squared_error(ytest_data, yt_pred)\n",
    "    rmse_train = mean_squared_error(ytrain_data, y_pred, squared=False)\n",
    "    rmse_test = mean_squared_error(ytest_data, yt_pred, squared=False)\n",
    "    mape_train = mean_absolute_percentage_error(ytrain_data, y_pred) * 100\n",
    "    mape_test = mean_absolute_percentage_error(ytest_data, yt_pred) * 100\n",
    "    r2 = r2_score(\n",
    "        ytest_data,\n",
    "        yt_pred,\n",
    "    )\n",
    "    da_test = directional_accuracy(ytest_data, yt_pred)\n",
    "    metrics_df = pd.DataFrame(\n",
    "        {\n",
    "            \"MAE\": [mae_test],\n",
    "            \"MSE\": [mse_test],\n",
    "            \"RMSE\": [rmse_test],\n",
    "            \"MAPE\": [mape_test],\n",
    "            \"R2\": [r2],\n",
    "            \"DA\": [da_test],\n",
    "        }\n",
    "    )\n",
    "else:\n",
    "    accuracy_test = accuracy_score(ytest_data.flatten(), yt_pred.flatten())\n",
    "    precision_test = precision_score(ytest_data.flatten(), yt_pred.flatten())\n",
    "    recall_test = recall_score(ytest_data.flatten(), yt_pred.flatten())\n",
    "    f1_test = f1_score(ytest_data.flatten(), yt_pred.flatten())\n",
    "    roc_auc_test = roc_auc_score(ytest_data.flatten(), yt_pred_orig.flatten())\n",
    "    metrics_df = pd.DataFrame({\n",
    "        \"Accuracy\": [accuracy_test],\n",
    "        \"Precision\": [precision_test],\n",
    "        \"Recall\": [recall_test],\n",
    "        \"F1 Score\": [f1_test],\n",
    "        \"ROC AUC\": [roc_auc_test],\n",
    "    }, index=[\"Test\"])\n",
    "\n",
    "fig, axs = plt.subplots(3 if IS_CLASSIFICATION else 2, 1, figsize=(12, 10))\n",
    "axs[0].plot(history.history[\"loss\"], label=\"Train loss\")\n",
    "axs[0].plot(history.history[\"val_loss\"], label=\"Validation loss\")\n",
    "axs[0].set_xlabel(\"Epochs\")\n",
    "axs[0].set_ylabel(\"Loss\")\n",
    "axs[0].legend()\n",
    "axs[1].plot(\n",
    "    history.history[TARGET_METRIC],\n",
    "    label=f\"Train {TARGET_METRIC}\",\n",
    ")\n",
    "axs[1].plot(\n",
    "    history.history[f\"val_{TARGET_METRIC}\"],\n",
    "    label=f\"Test {TARGET_METRIC}\",\n",
    "    color=\"k\",\n",
    ")\n",
    "if not IS_CLASSIFICATION:\n",
    "    axs[1].axhline(mae_test, color=\"b\", linestyle=\"--\", label=\"Train Sample MAE\")\n",
    "    axs[1].axhline(mae_train, color=\"b\", linestyle=\"-\", label=\"Test Sample MAE\")\n",
    "    axs[1].axhline(rmse_train, color=\"r\", linestyle=\"--\", label=\"Train Sample RMSE\")\n",
    "    axs[1].axhline(rmse_test, color=\"r\", linestyle=\"-\", label=\"Test Sample RMSE\")\n",
    "else:\n",
    "    axs[1].axhline(accuracy_test, color=\"r\", linestyle=\"-\", label=\"Test Acc\")\n",
    "    axs[1].axhline(precision_test, color=\"g\", linestyle=\"--\", label=\"Test Prec\")\n",
    "    axs[1].axhline(recall_test, color=\"g\", linestyle=\"-\", label=\"Test Rec\")\n",
    "axs[1].set_xlabel(\"Epochs\")\n",
    "axs[1].set_ylabel(\"Score\")\n",
    "axs[1].legend()\n",
    "\n",
    "if IS_CLASSIFICATION:\n",
    "    fpr, tpr, _ = roc_curve(ytest_data.flatten(), yt_pred_orig.flatten())\n",
    "    roc_auc_test = auc(fpr, tpr)\n",
    "    axs[2].plot(fpr, tpr, color='darkorange', lw=2, label='ROC curve (area = %0.2f)' % roc_auc_test)\n",
    "    axs[2].plot([0, 1], [0, 1], color='navy', lw=2, linestyle='--', label='ROC Line')\n",
    "    axs[2].set_xlabel('False Positive Rate')\n",
    "    axs[2].set_ylabel('True Positive Rate')\n",
    "    axs[2].legend()\n",
    "\n",
    "plt.show()\n",
    "\n",
    "metrics_df"
   ]
  },
  {
   "cell_type": "markdown",
   "id": "7b4b4c45",
   "metadata": {},
   "source": [
    "# Walk Forwards"
   ]
  },
  {
   "cell_type": "code",
   "execution_count": 27,
   "id": "4bf8ad22",
   "metadata": {},
   "outputs": [
    {
     "name": "stdout",
     "output_type": "stream",
     "text": [
      "17/17 [==============================] - 0s 11ms/step\n",
      "Prediction shape: (527, 63, 1) vs test data shape: (527, 63)\n",
      "Test data 1 horizon sample: [0 1 1 1 0 0 0 1 1 1 1 1 1 1 0 1 1 0 1 1 1 1 1 1 1 1 0 0 1 1 1 1 0 1 0 0 1\n",
      " 1 0 1 0 0 1 0 1 1 1 0 1 0 0 1 0 0 0 1 1 1 1 0 1 0 0]\n",
      "Predicted data 1 horizon sample: [[0 1 1 1 0 0 0 1 1 1 1 1 1 1 0 1 1 0 1 1 1 1 1 1 1 1 0 0 1 1 1 1 0 1 0 0\n",
      "  1 1 0 1 0 0 1 0 1 1 1 0 1 0 0 1 0 0 0 1 1 1 1 0 1 0 0]]\n",
      "Prediction 1 horizon sample: 0 VS 0\n"
     ]
    },
    {
     "data": {
      "text/html": [
       "<div>\n",
       "<style scoped>\n",
       "    .dataframe tbody tr th:only-of-type {\n",
       "        vertical-align: middle;\n",
       "    }\n",
       "\n",
       "    .dataframe tbody tr th {\n",
       "        vertical-align: top;\n",
       "    }\n",
       "\n",
       "    .dataframe thead th {\n",
       "        text-align: right;\n",
       "    }\n",
       "</style>\n",
       "<table border=\"1\" class=\"dataframe\">\n",
       "  <thead>\n",
       "    <tr style=\"text-align: right;\">\n",
       "      <th></th>\n",
       "      <th>Accuracy</th>\n",
       "      <th>Precision</th>\n",
       "      <th>Recall</th>\n",
       "      <th>F1 Score</th>\n",
       "      <th>ROC AUC</th>\n",
       "    </tr>\n",
       "  </thead>\n",
       "  <tbody>\n",
       "    <tr>\n",
       "      <th>Test</th>\n",
       "      <td>0.994398</td>\n",
       "      <td>0.995849</td>\n",
       "      <td>0.992819</td>\n",
       "      <td>0.994332</td>\n",
       "      <td>0.998803</td>\n",
       "    </tr>\n",
       "  </tbody>\n",
       "</table>\n",
       "</div>"
      ],
      "text/plain": [
       "      Accuracy  Precision    Recall  F1 Score   ROC AUC\n",
       "Test  0.994398   0.995849  0.992819  0.994332  0.998803"
      ]
     },
     "execution_count": 27,
     "metadata": {},
     "output_type": "execute_result"
    }
   ],
   "source": [
    "y_oos_pred_raw = model.predict([xtrain_oos, Xexog_oos])\n",
    "y_oos_pred = (y_oos_pred_raw > 0.5).astype(int)\n",
    "\n",
    "print(f\"Prediction shape: {y_oos_pred.shape} vs test data shape: {y_oos.shape}\")\n",
    "print(f\"Test data 1 horizon sample: {y_oos[0]}\")\n",
    "print(f\"Predicted data 1 horizon sample: {y_oos_pred[0].T}\")\n",
    "print(f\"Prediction 1 horizon sample: {y_oos_pred.flatten()[0]} VS {y_oos.flatten()[0]}\")\n",
    "\n",
    "metrics_oos_df = None\n",
    "if IS_CLASSIFICATION:\n",
    "    accuracy_test = accuracy_score(y_oos.flatten(), y_oos_pred.flatten())\n",
    "    precision_test = precision_score(y_oos.flatten(), y_oos_pred.flatten())\n",
    "    recall_test = recall_score(y_oos.flatten(), y_oos_pred.flatten())\n",
    "    f1_test = f1_score(y_oos.flatten(), y_oos_pred.flatten())\n",
    "    roc_auc_test = roc_auc_score(y_oos.flatten(), y_oos_pred_raw.flatten())\n",
    "    metrics_oos_df = pd.DataFrame({\n",
    "        \"Accuracy\": [accuracy_test],\n",
    "        \"Precision\": [precision_test],\n",
    "        \"Recall\": [recall_test],\n",
    "        \"F1 Score\": [f1_test],\n",
    "        \"ROC AUC\": [roc_auc_test],\n",
    "    }, index=[\"Test\"])\n",
    "\n",
    "metrics_oos_df"
   ]
  },
  {
   "cell_type": "markdown",
   "id": "b8043ed7",
   "metadata": {},
   "source": [
    "## Cross Validation"
   ]
  },
  {
   "cell_type": "code",
   "execution_count": 28,
   "id": "2e08d321",
   "metadata": {},
   "outputs": [
    {
     "name": "stderr",
     "output_type": "stream",
     "text": [
      "CV Testing for n_splits: 5: 0it [00:00, ?it/s]"
     ]
    },
    {
     "name": "stderr",
     "output_type": "stream",
     "text": [
      "Encoding Widows of 63: 100%|██████████| 922/922 [00:01<00:00, 858.47it/s]\n",
      "Encoding Widows of 63: 100%|██████████| 919/919 [00:01<00:00, 826.44it/s]\n"
     ]
    },
    {
     "name": "stdout",
     "output_type": "stream",
     "text": [
      "\n",
      "Epoch 8: ReduceLROnPlateau reducing learning rate to 0.0007499999832361936.\n",
      "\n",
      "Epoch 15: ReduceLROnPlateau reducing learning rate to 0.00022500000195577739.\n"
     ]
    },
    {
     "name": "stderr",
     "output_type": "stream",
     "text": [
      "Encoding Widows of 63: 100%|██████████| 1904/1904 [00:02<00:00, 905.11it/s]\n",
      "Encoding Widows of 63: 100%|██████████| 919/919 [00:01<00:00, 900.97it/s]\n"
     ]
    },
    {
     "name": "stdout",
     "output_type": "stream",
     "text": [
      "\n",
      "Epoch 8: ReduceLROnPlateau reducing learning rate to 0.0007499999832361936.\n",
      "\n",
      "Epoch 15: ReduceLROnPlateau reducing learning rate to 0.00022500000195577739.\n",
      "\n",
      "Epoch 22: ReduceLROnPlateau reducing learning rate to 6.749999884050339e-05.\n",
      "\n",
      "Epoch 29: ReduceLROnPlateau reducing learning rate to 2.024999921559356e-05.\n"
     ]
    },
    {
     "name": "stderr",
     "output_type": "stream",
     "text": [
      "Encoding Widows of 63: 100%|██████████| 2886/2886 [00:03<00:00, 777.90it/s]\n",
      "Encoding Widows of 63: 100%|██████████| 919/919 [00:01<00:00, 853.23it/s]\n"
     ]
    },
    {
     "name": "stdout",
     "output_type": "stream",
     "text": [
      "\n",
      "Epoch 8: ReduceLROnPlateau reducing learning rate to 0.0007499999832361936.\n",
      "\n",
      "Epoch 15: ReduceLROnPlateau reducing learning rate to 0.00022500000195577739.\n",
      "\n",
      "Epoch 22: ReduceLROnPlateau reducing learning rate to 6.749999884050339e-05.\n"
     ]
    },
    {
     "name": "stderr",
     "output_type": "stream",
     "text": [
      "Encoding Widows of 63: 100%|██████████| 3868/3868 [00:06<00:00, 579.82it/s]\n",
      "Encoding Widows of 63: 100%|██████████| 919/919 [00:01<00:00, 604.21it/s]\n"
     ]
    },
    {
     "name": "stdout",
     "output_type": "stream",
     "text": [
      "\n",
      "Epoch 8: ReduceLROnPlateau reducing learning rate to 0.0007499999832361936.\n",
      "\n",
      "Epoch 15: ReduceLROnPlateau reducing learning rate to 0.00022500000195577739.\n"
     ]
    },
    {
     "name": "stderr",
     "output_type": "stream",
     "text": [
      "Encoding Widows of 63: 100%|██████████| 4850/4850 [00:06<00:00, 799.67it/s]\n",
      "Encoding Widows of 63: 100%|██████████| 919/919 [00:00<00:00, 930.04it/s]\n"
     ]
    },
    {
     "name": "stdout",
     "output_type": "stream",
     "text": [
      "\n",
      "Epoch 8: ReduceLROnPlateau reducing learning rate to 0.0007499999832361936.\n",
      "\n",
      "Epoch 15: ReduceLROnPlateau reducing learning rate to 0.00022500000195577739.\n"
     ]
    },
    {
     "name": "stderr",
     "output_type": "stream",
     "text": [
      "CV Testing for n_splits: 5: 5it [04:13, 50.61s/it]"
     ]
    },
    {
     "name": "stdout",
     "output_type": "stream",
     "text": [
      "       loss  auc  binary_crossentropy  binary_accuracy  accuracy\n",
      "0  0.409917  0.5             0.693146         0.459143  0.459143\n",
      "1  0.063541  1.0             0.487484         1.000000  1.000000\n",
      "2  0.072866  1.0             0.577612         0.463668  0.463668\n",
      "3  0.064934  1.0             0.485359         1.000000  1.000000\n",
      "4  0.172103  0.5             0.693147         0.465568  0.465568\n"
     ]
    },
    {
     "name": "stderr",
     "output_type": "stream",
     "text": [
      "\n"
     ]
    }
   ],
   "source": [
    "from sklearn.model_selection import TimeSeriesSplit\n",
    "import json\n",
    "import os\n",
    "\n",
    "CV_MODEL = True\n",
    "CV_SPLITS = 3\n",
    "\n",
    "def train_cv_model(X, y, input_shape, conditioning_shapes=None, n_splits=5, perturb=True):\n",
    "    def _save_cv(results_df, file_name=\"cv_results.json\"):\n",
    "        os.makedirs(MODEL_DIR, exist_ok=True)\n",
    "        file_path = os.path.join(MODEL_DIR, file_name)\n",
    "        with open(file_path, \"w\") as file:\n",
    "            json.dump({\"CV results\": results_df.to_dict(orient=\"records\")}, file)\n",
    "\n",
    "    def _perturb_gaussiannoise(X, noise_level=0.1):\n",
    "        sigma = noise_level * np.std(X)\n",
    "        noise = np.random.normal(0, sigma, X.shape)\n",
    "        return X + noise\n",
    "\n",
    "    if perturb:\n",
    "        X = _perturb_gaussiannoise(X)\n",
    "\n",
    "    results = []\n",
    "    tscv = TimeSeriesSplit(n_splits=n_splits)\n",
    "\n",
    "    for train_index, test_index in tqdm(tscv.split(X), desc=f\"CV Testing for n_splits: {n_splits}\"):\n",
    "        X_train = X.iloc[train_index]\n",
    "        y_train = y.iloc[train_index]\n",
    "        X_test = X.iloc[test_index]\n",
    "        y_test = y.iloc[test_index]\n",
    "\n",
    "        X_train_windows, X_Exog_train, y_train_windows = prepare_windows(X_train, y_train)\n",
    "        X_test_windows, X_Exog_test, y_test_windows = prepare_windows(X_test, y_test)\n",
    "\n",
    "        try:\n",
    "            cv_model, _ = build_tcn(input_shape, [X_train_windows, X_Exog_train], y_train_windows, [X_test_windows, X_Exog_test], y_test_windows, conditioning_shapes=conditioning_shapes, tb=False)\n",
    "            result = cv_model.evaluate([X_test_windows, X_Exog_test], y_test_windows, verbose=0)\n",
    "            results.append(result)\n",
    "        except Exception as e:\n",
    "            print(f\"CV error on fold with exception: {e}\")\n",
    "\n",
    "    metrics_names = [metric.name for metric in cv_model.metrics]\n",
    "    results_df = pd.DataFrame(results, columns=metrics_names)\n",
    "    _save_cv(results_df)\n",
    "\n",
    "    return results_df\n",
    "\n",
    "\n",
    "if CV_MODEL:\n",
    "    results_df = train_cv_model(data_df, data_df[TARGET_LABEL], input_shape, conditioning_shapes=conditioning_shapes)\n",
    "    print(results_df)\n"
   ]
  },
  {
   "cell_type": "markdown",
   "id": "77790620",
   "metadata": {},
   "source": [
    "# Predict Today"
   ]
  },
  {
   "cell_type": "code",
   "execution_count": 29,
   "id": "66ac43c6",
   "metadata": {},
   "outputs": [
    {
     "name": "stdout",
     "output_type": "stream",
     "text": [
      "Date ranges 2023-11-03 14:02:38.843272 - 2024-02-07 14:02:38.843272\n",
      "Pred Data Shape (5895, 14)\n"
     ]
    },
    {
     "name": "stderr",
     "output_type": "stream",
     "text": [
      "Encoding Widows of 63: 100%|██████████| 5832/5832 [00:06<00:00, 910.27it/s]\n"
     ]
    },
    {
     "name": "stdout",
     "output_type": "stream",
     "text": [
      "183/183 [==============================] - 2s 11ms/step\n",
      "today_pred Data Shape (5832, 63, 1)\n",
      "Predicting the 63th which was yesterday: [1.2471568e-16]\n",
      "Predicting the 64th which is today: [9.538576e-16]\n"
     ]
    }
   ],
   "source": [
    "from datetime import datetime\n",
    "from pandas.tseries.offsets import BDay\n",
    "\n",
    "assert model is not None\n",
    "\n",
    "LAST_TRADING_DAY = pd.Timestamp(datetime.now() - BDay(1))\n",
    "FIRST_WINDOW_DAY = pd.Timestamp(LAST_TRADING_DAY - BDay(WINDOW_SIZE + 5))\n",
    "assert len( pd.bdate_range(start=FIRST_WINDOW_DAY, end=LAST_TRADING_DAY)) >= WINDOW_SIZE, f\"Expected larger than {WINDOW_SIZE} business days\"\n",
    "print(f\"Date ranges {FIRST_WINDOW_DAY} - {LAST_TRADING_DAY}\")\n",
    "\n",
    "pred_tickers = tickers.copy()\n",
    "for ticker in tickers_symbols:\n",
    "    df = tickers.get(ticker)\n",
    "    df = df[(df.index >= latest_start) & (df.index <= earliest_end)]\n",
    "    assert len(df) > 0 and not df.isna().any().any()\n",
    "    pred_tickers[ticker] = df\n",
    "assert len(pred_tickers) > 0 and len(pred_tickers[TARGET_ETF]) > 0\n",
    "\n",
    "preddata_df, _ = prepare_data(pred_tickers, to_normalize=True)\n",
    "print(f\"Pred Data Shape {preddata_df.shape}\")\n",
    "\n",
    "assert not np.any(pd.isna(preddata_df)) and not np.any(pd.isna(preddata_df))\n",
    "pred_X, pred_Xexog, _ = prepare_windows(preddata_df, None)\n",
    "\n",
    "today_pred = model.predict([pred_X, pred_Xexog])\n",
    "print(f\"today_pred Data Shape {today_pred.shape}\")\n",
    "# Remember shape: (Window, Days, features) - in label's case only 1 feature.\n",
    "print(f\"Predicting the {WINDOW_SIZE}th which was yesterday: {today_pred[-1][-2]}\")\n",
    "print(f\"Predicting the {WINDOW_SIZE+1}th which is today: {today_pred[-1][-1]}\")"
   ]
  },
  {
   "cell_type": "markdown",
   "id": "c8950717",
   "metadata": {},
   "source": [
    "# Unseen Securities Performance"
   ]
  },
  {
   "cell_type": "code",
   "execution_count": 30,
   "id": "f5f44935",
   "metadata": {},
   "outputs": [
    {
     "name": "stderr",
     "output_type": "stream",
     "text": [
      "Testing on Unseen TS:   0%|          | 0/7 [00:00<?, ?it/s]"
     ]
    },
    {
     "name": "stdout",
     "output_type": "stream",
     "text": [
      "SSO => min_date: 2006-06-21 00:00:00, max_date: 2024-02-06 00:00:00, kurt:-0.03, skewness:1.05, outliers_count:0,  nan_count: 0\n",
      "Date ranges for SSO are 2023-11-03 - 2024-02-06\n"
     ]
    },
    {
     "name": "stderr",
     "output_type": "stream",
     "text": [
      "Encoding Widows of 63: 100%|██████████| 1/1 [00:00<00:00, 1000.07it/s]"
     ]
    },
    {
     "name": "stdout",
     "output_type": "stream",
     "text": [
      "1/1 [==============================] - 0s 51ms/step\n"
     ]
    },
    {
     "name": "stderr",
     "output_type": "stream",
     "text": [
      "\n",
      "Testing on Unseen TS:  14%|█▍        | 1/7 [00:00<00:00,  6.47it/s]"
     ]
    },
    {
     "name": "stdout",
     "output_type": "stream",
     "text": [
      "SPXL => min_date: 2008-11-05 00:00:00, max_date: 2024-02-06 00:00:00, kurt:0.33, skewness:1.06, outliers_count:21,  nan_count: 0\n",
      "Date ranges for SPXL are 2023-11-03 - 2024-02-06\n"
     ]
    },
    {
     "name": "stderr",
     "output_type": "stream",
     "text": [
      "Encoding Widows of 63: 100%|██████████| 1/1 [00:00<00:00, 1000.55it/s]\n"
     ]
    },
    {
     "name": "stdout",
     "output_type": "stream",
     "text": [
      "1/1 [==============================] - 0s 25ms/step\n"
     ]
    },
    {
     "name": "stderr",
     "output_type": "stream",
     "text": [
      "Testing on Unseen TS:  29%|██▊       | 2/7 [00:00<00:00,  7.70it/s]"
     ]
    },
    {
     "name": "stdout",
     "output_type": "stream",
     "text": [
      "BAC => min_date: 1999-01-04 00:00:00, max_date: 2024-02-06 00:00:00, kurt:-0.94, skewness:0.13, outliers_count:0,  nan_count: 0\n",
      "Date ranges for BAC are 2023-11-03 - 2024-02-06\n"
     ]
    },
    {
     "name": "stderr",
     "output_type": "stream",
     "text": [
      "Encoding Widows of 63: 100%|██████████| 1/1 [00:00<00:00, 249.97it/s]\n"
     ]
    },
    {
     "name": "stdout",
     "output_type": "stream",
     "text": [
      "1/1 [==============================] - 0s 37ms/step\n"
     ]
    },
    {
     "name": "stderr",
     "output_type": "stream",
     "text": [
      "Testing on Unseen TS:  43%|████▎     | 3/7 [00:00<00:00,  5.83it/s]"
     ]
    },
    {
     "name": "stdout",
     "output_type": "stream",
     "text": [
      "TQQQ => min_date: 2010-02-11 00:00:00, max_date: 2024-02-06 00:00:00, kurt:1.95, skewness:1.6, outliers_count:68,  nan_count: 0\n",
      "Date ranges for TQQQ are 2023-11-03 - 2024-02-06\n"
     ]
    },
    {
     "name": "stderr",
     "output_type": "stream",
     "text": [
      "Encoding Widows of 63: 100%|██████████| 1/1 [00:00<00:00, 500.27it/s]\n"
     ]
    },
    {
     "name": "stdout",
     "output_type": "stream",
     "text": [
      "1/1 [==============================] - 0s 28ms/step\n"
     ]
    },
    {
     "name": "stderr",
     "output_type": "stream",
     "text": [
      "Testing on Unseen TS:  57%|█████▋    | 4/7 [00:00<00:00,  6.46it/s]"
     ]
    },
    {
     "name": "stdout",
     "output_type": "stream",
     "text": [
      "AAPL => min_date: 1999-01-04 00:00:00, max_date: 2024-02-06 00:00:00, kurt:1.84, skewness:1.76, outliers_count:64,  nan_count: 0\n",
      "Date ranges for AAPL are 2023-11-03 - 2024-02-06\n"
     ]
    },
    {
     "name": "stderr",
     "output_type": "stream",
     "text": [
      "Encoding Widows of 63: 100%|██████████| 1/1 [00:00<00:00, 1000.07it/s]\n"
     ]
    },
    {
     "name": "stdout",
     "output_type": "stream",
     "text": [
      "1/1 [==============================] - 0s 36ms/step\n"
     ]
    },
    {
     "name": "stderr",
     "output_type": "stream",
     "text": [
      "Testing on Unseen TS:  71%|███████▏  | 5/7 [00:00<00:00,  6.51it/s]"
     ]
    },
    {
     "name": "stdout",
     "output_type": "stream",
     "text": [
      "HSBC => min_date: 1999-07-16 00:00:00, max_date: 2024-02-06 00:00:00, kurt:-0.61, skewness:0.5, outliers_count:0,  nan_count: 0\n",
      "Date ranges for HSBC are 2023-11-03 - 2024-02-06\n"
     ]
    },
    {
     "name": "stderr",
     "output_type": "stream",
     "text": [
      "Encoding Widows of 63: 100%|██████████| 1/1 [00:00<00:00, 1000.31it/s]\n"
     ]
    },
    {
     "name": "stdout",
     "output_type": "stream",
     "text": [
      "1/1 [==============================] - 0s 27ms/step\n"
     ]
    },
    {
     "name": "stderr",
     "output_type": "stream",
     "text": [
      "Testing on Unseen TS:  86%|████████▌ | 6/7 [00:00<00:00,  6.83it/s]"
     ]
    },
    {
     "name": "stdout",
     "output_type": "stream",
     "text": [
      "TM => min_date: 1999-01-04 00:00:00, max_date: 2024-02-06 00:00:00, kurt:-0.39, skewness:0.44, outliers_count:3,  nan_count: 0\n",
      "Date ranges for TM are 2023-11-03 - 2024-02-06\n"
     ]
    },
    {
     "name": "stderr",
     "output_type": "stream",
     "text": [
      "Encoding Widows of 63: 100%|██████████| 1/1 [00:00<00:00, 1000.07it/s]\n"
     ]
    },
    {
     "name": "stdout",
     "output_type": "stream",
     "text": [
      "1/1 [==============================] - 0s 28ms/step\n"
     ]
    },
    {
     "name": "stderr",
     "output_type": "stream",
     "text": [
      "Testing on Unseen TS: 100%|██████████| 7/7 [00:01<00:00,  6.74it/s]\n"
     ]
    },
    {
     "data": {
      "text/html": [
       "<div>\n",
       "<style scoped>\n",
       "    .dataframe tbody tr th:only-of-type {\n",
       "        vertical-align: middle;\n",
       "    }\n",
       "\n",
       "    .dataframe tbody tr th {\n",
       "        vertical-align: top;\n",
       "    }\n",
       "\n",
       "    .dataframe thead th {\n",
       "        text-align: right;\n",
       "    }\n",
       "</style>\n",
       "<table border=\"1\" class=\"dataframe\">\n",
       "  <thead>\n",
       "    <tr style=\"text-align: right;\">\n",
       "      <th></th>\n",
       "      <th>Accuracy</th>\n",
       "      <th>Precision</th>\n",
       "      <th>Recall</th>\n",
       "      <th>F1 Score</th>\n",
       "      <th>ROC AUC</th>\n",
       "    </tr>\n",
       "  </thead>\n",
       "  <tbody>\n",
       "    <tr>\n",
       "      <th>SSO</th>\n",
       "      <td>0.349206</td>\n",
       "      <td>0.0</td>\n",
       "      <td>0.0</td>\n",
       "      <td>0.0</td>\n",
       "      <td>0.633038</td>\n",
       "    </tr>\n",
       "    <tr>\n",
       "      <th>SPXL</th>\n",
       "      <td>0.365079</td>\n",
       "      <td>0.0</td>\n",
       "      <td>0.0</td>\n",
       "      <td>0.0</td>\n",
       "      <td>0.620652</td>\n",
       "    </tr>\n",
       "    <tr>\n",
       "      <th>BAC</th>\n",
       "      <td>0.507937</td>\n",
       "      <td>0.0</td>\n",
       "      <td>0.0</td>\n",
       "      <td>0.0</td>\n",
       "      <td>0.458669</td>\n",
       "    </tr>\n",
       "    <tr>\n",
       "      <th>TQQQ</th>\n",
       "      <td>0.365079</td>\n",
       "      <td>0.0</td>\n",
       "      <td>0.0</td>\n",
       "      <td>0.0</td>\n",
       "      <td>0.560870</td>\n",
       "    </tr>\n",
       "    <tr>\n",
       "      <th>AAPL</th>\n",
       "      <td>0.507937</td>\n",
       "      <td>0.0</td>\n",
       "      <td>0.0</td>\n",
       "      <td>0.0</td>\n",
       "      <td>0.630040</td>\n",
       "    </tr>\n",
       "    <tr>\n",
       "      <th>HSBC</th>\n",
       "      <td>0.396825</td>\n",
       "      <td>0.0</td>\n",
       "      <td>0.0</td>\n",
       "      <td>0.0</td>\n",
       "      <td>0.547368</td>\n",
       "    </tr>\n",
       "    <tr>\n",
       "      <th>TM</th>\n",
       "      <td>0.365079</td>\n",
       "      <td>0.0</td>\n",
       "      <td>0.0</td>\n",
       "      <td>0.0</td>\n",
       "      <td>0.600000</td>\n",
       "    </tr>\n",
       "  </tbody>\n",
       "</table>\n",
       "</div>"
      ],
      "text/plain": [
       "      Accuracy  Precision  Recall  F1 Score   ROC AUC\n",
       "SSO   0.349206        0.0     0.0       0.0  0.633038\n",
       "SPXL  0.365079        0.0     0.0       0.0  0.620652\n",
       "BAC   0.507937        0.0     0.0       0.0  0.458669\n",
       "TQQQ  0.365079        0.0     0.0       0.0  0.560870\n",
       "AAPL  0.507937        0.0     0.0       0.0  0.630040\n",
       "HSBC  0.396825        0.0     0.0       0.0  0.547368\n",
       "TM    0.365079        0.0     0.0       0.0  0.600000"
      ]
     },
     "execution_count": 30,
     "metadata": {},
     "output_type": "execute_result"
    }
   ],
   "source": [
    "assert model is not None\n",
    "\n",
    "OHTER_ETFS = [\"SSO\", \"SPXL\", \"BAC\", \"TQQQ\", \"AAPL\", \"HSBC\", \"TM\"]  # These are leveraged & constituents\n",
    "LAST_TRADING_DAY_STR = LAST_TRADING_DAY.strftime('%Y-%m-%d')\n",
    "FIRST_WINDOW_DAY_STR = FIRST_WINDOW_DAY.strftime('%Y-%m-%d')\n",
    "\n",
    "def generalization_test(unseen_tickers_list, start, end, gen_model=None, input_shape=input_shape, conditioning_shapes=conditioning_shapes):\n",
    "    metrics_unseen = []\n",
    "    for ticker in tqdm(unseen_tickers_list, desc=\"Testing on Unseen TS\"):\n",
    "        # Create a fresh copy of the tickers dictionary for each iteration\n",
    "        current_tickers = tickers.copy()\n",
    "        other_etf, latest_start, earliest_end = get_tickerdata([ticker], start=start, end=end)\n",
    "        current_tickers[TARGET_ETF] = other_etf[ticker]\n",
    "        print(f\"Date ranges for {ticker} are {latest_start.strftime('%Y-%m-%d')} - {earliest_end.strftime('%Y-%m-%d')}\")\n",
    "\n",
    "        for ticker_symbol in tickers_symbols:\n",
    "            df = current_tickers.get(ticker_symbol)\n",
    "            df = df[(df.index >= latest_start) & (df.index <= earliest_end)]\n",
    "            assert not df.empty and not df.isna().any().any() and len(df) > WINDOW_SIZE//2, f\"Data validation failed for {ticker_symbol}\"\n",
    "            current_tickers[ticker_symbol] = df\n",
    "        unseendata_df, _ = prepare_data(current_tickers, to_normalize=True)\n",
    "        assert not np.any(pd.isna(unseendata_df)) and len(unseendata_df) > WINDOW_SIZE//2, \"Unseen data preparation failed\"\n",
    "        unseen_X, unseen_Xexog, unseen_y = prepare_windows(unseendata_df, unseendata_df[TARGET_LABEL])\n",
    "\n",
    "        unseen_ypred_raw = gen_model.predict([unseen_X, unseen_Xexog])\n",
    "        unseen_pred = (unseen_ypred_raw > 0.5).astype(int)\n",
    "        if IS_CLASSIFICATION:\n",
    "            metrics = {\n",
    "                \"Accuracy\": accuracy_score(unseen_y.flatten(), unseen_pred.flatten()),\n",
    "                \"Precision\": precision_score(unseen_y.flatten(), unseen_pred.flatten()),\n",
    "                \"Recall\": recall_score(unseen_y.flatten(), unseen_pred.flatten()),\n",
    "                \"F1 Score\": f1_score(unseen_y.flatten(), unseen_pred.flatten()),\n",
    "                \"ROC AUC\": roc_auc_score(unseen_y.flatten(), unseen_ypred_raw.flatten())\n",
    "            }\n",
    "        metrics_unseen.append({ticker: metrics})\n",
    "    metrics_unseen_df = pd.DataFrame.from_dict({list(d.keys())[0]: list(d.values())[0] for d in metrics_unseen}, orient='index')\n",
    "    return metrics_unseen_df\n",
    "\n",
    "metrics_unseen_df = generalization_test(OHTER_ETFS, FIRST_WINDOW_DAY_STR, LAST_TRADING_DAY_STR, gen_model=model)\n",
    "metrics_unseen_df"
   ]
  },
  {
   "cell_type": "markdown",
   "id": "940a6579",
   "metadata": {},
   "source": [
    "# Black Swan Performance"
   ]
  },
  {
   "cell_type": "code",
   "execution_count": 31,
   "id": "2f61177c",
   "metadata": {},
   "outputs": [
    {
     "name": "stdout",
     "output_type": "stream",
     "text": [
      "GC=F => min_date: 2000-08-30 00:00:00, max_date: 2024-02-06 00:00:00, kurt:-1.18, skewness:-0.15, outliers_count:0,  nan_count: 0\n",
      "Date ranges for GC=F are 2000-08-30 - 2021-01-01\n"
     ]
    },
    {
     "name": "stderr",
     "output_type": "stream",
     "text": [
      "Encoding Widows of 63: 100%|██████████| 5038/5038 [00:05<00:00, 937.13it/s]\n"
     ]
    },
    {
     "name": "stdout",
     "output_type": "stream",
     "text": [
      "\n",
      "Epoch 8: ReduceLROnPlateau reducing learning rate to 0.0007499999832361936.\n",
      "\n",
      "Epoch 15: ReduceLROnPlateau reducing learning rate to 0.00022500000195577739.\n",
      "SPY val AUC: 1.0\n"
     ]
    }
   ],
   "source": [
    "assert model is not None\n",
    "\n",
    "COVID_REGIME_START = \"2019-10-01\"\n",
    "COVID_REGIME_END = \"2021-01-01\"\n",
    "\n",
    "current_tickers = tickers.copy()\n",
    "other_etf, latest_start, earliest_end = get_tickerdata([ticker], start=START_DATE, end=COVID_REGIME_END)\n",
    "current_tickers[TARGET_ETF] = other_etf[ticker]\n",
    "print(f\"Date ranges for {ticker} are {latest_start.strftime('%Y-%m-%d')} - {earliest_end.strftime('%Y-%m-%d')}\")\n",
    "\n",
    "for ticker_symbol in tickers_symbols:\n",
    "    df = current_tickers.get(ticker_symbol)\n",
    "    df = df[(df.index >= latest_start) & (df.index <= earliest_end)]\n",
    "    assert not df.empty and not df.isna().any().any() and len(df) > WINDOW_SIZE//2, f\"Data validation failed for {ticker_symbol}\"\n",
    "    current_tickers[ticker_symbol] = df\n",
    "\n",
    "unseendata_df, _ = prepare_data(current_tickers, to_normalize=True)\n",
    "unseen_X, unseen_Xexog, unseen_y = prepare_windows(unseendata_df, unseendata_df[TARGET_LABEL])\n",
    "gen_model, gen_hist = build_tcn(input_shape, [unseen_X, unseen_Xexog], unseen_y, conditioning_shapes=conditioning_shapes, tb=False)\n",
    "print(f'{TARGET_ETF} val AUC: {gen_hist.history[f\"val_{TARGET_METRIC}\"][-1]}')"
   ]
  },
  {
   "cell_type": "code",
   "execution_count": 32,
   "id": "2565329b",
   "metadata": {},
   "outputs": [
    {
     "name": "stderr",
     "output_type": "stream",
     "text": [
      "Testing on Unseen TS:   0%|          | 0/7 [00:00<?, ?it/s]"
     ]
    },
    {
     "name": "stdout",
     "output_type": "stream",
     "text": [
      "SSO => min_date: 2006-06-21 00:00:00, max_date: 2024-02-06 00:00:00, kurt:-0.03, skewness:1.05, outliers_count:0,  nan_count: 0\n",
      "Date ranges for SSO are 2006-06-21 - 2021-01-01\n"
     ]
    },
    {
     "name": "stderr",
     "output_type": "stream",
     "text": [
      "Encoding Widows of 63: 100%|██████████| 3596/3596 [00:03<00:00, 930.09it/s]\n"
     ]
    },
    {
     "name": "stdout",
     "output_type": "stream",
     "text": [
      "113/113 [==============================] - 2s 11ms/step\n"
     ]
    },
    {
     "name": "stderr",
     "output_type": "stream",
     "text": [
      "Testing on Unseen TS:  14%|█▍        | 1/7 [00:05<00:35,  5.90s/it]"
     ]
    },
    {
     "name": "stdout",
     "output_type": "stream",
     "text": [
      "SPXL => min_date: 2008-11-05 00:00:00, max_date: 2024-02-06 00:00:00, kurt:0.33, skewness:1.06, outliers_count:21,  nan_count: 0\n",
      "Date ranges for SPXL are 2008-11-05 - 2021-01-01\n"
     ]
    },
    {
     "name": "stderr",
     "output_type": "stream",
     "text": [
      "Encoding Widows of 63: 100%|██████████| 2997/2997 [00:03<00:00, 944.85it/s]\n"
     ]
    },
    {
     "name": "stdout",
     "output_type": "stream",
     "text": [
      "94/94 [==============================] - 1s 10ms/step\n"
     ]
    },
    {
     "name": "stderr",
     "output_type": "stream",
     "text": [
      "Testing on Unseen TS:  29%|██▊       | 2/7 [00:10<00:25,  5.11s/it]"
     ]
    },
    {
     "name": "stdout",
     "output_type": "stream",
     "text": [
      "BAC => min_date: 1999-01-04 00:00:00, max_date: 2024-02-06 00:00:00, kurt:-0.94, skewness:0.13, outliers_count:0,  nan_count: 0\n",
      "Date ranges for BAC are 1999-01-04 - 2021-01-01\n"
     ]
    },
    {
     "name": "stderr",
     "output_type": "stream",
     "text": [
      "Encoding Widows of 63: 100%|██████████| 5473/5473 [00:06<00:00, 869.56it/s]\n"
     ]
    },
    {
     "name": "stdout",
     "output_type": "stream",
     "text": [
      "172/172 [==============================] - 2s 10ms/step\n"
     ]
    },
    {
     "name": "stderr",
     "output_type": "stream",
     "text": [
      "Testing on Unseen TS:  43%|████▎     | 3/7 [00:19<00:27,  6.84s/it]"
     ]
    },
    {
     "name": "stdout",
     "output_type": "stream",
     "text": [
      "TQQQ => min_date: 2010-02-11 00:00:00, max_date: 2024-02-06 00:00:00, kurt:1.95, skewness:1.6, outliers_count:68,  nan_count: 0\n",
      "Date ranges for TQQQ are 2010-02-11 - 2021-01-01\n"
     ]
    },
    {
     "name": "stderr",
     "output_type": "stream",
     "text": [
      "Encoding Widows of 63: 100%|██████████| 2679/2679 [00:02<00:00, 976.10it/s] \n"
     ]
    },
    {
     "name": "stdout",
     "output_type": "stream",
     "text": [
      "84/84 [==============================] - 1s 11ms/step\n"
     ]
    },
    {
     "name": "stderr",
     "output_type": "stream",
     "text": [
      "Testing on Unseen TS:  57%|█████▋    | 4/7 [00:23<00:17,  5.79s/it]"
     ]
    },
    {
     "name": "stdout",
     "output_type": "stream",
     "text": [
      "AAPL => min_date: 1999-01-04 00:00:00, max_date: 2024-02-06 00:00:00, kurt:1.84, skewness:1.76, outliers_count:64,  nan_count: 0\n",
      "Date ranges for AAPL are 1999-01-04 - 2021-01-01\n"
     ]
    },
    {
     "name": "stderr",
     "output_type": "stream",
     "text": [
      "Encoding Widows of 63: 100%|██████████| 5473/5473 [00:06<00:00, 831.83it/s]\n"
     ]
    },
    {
     "name": "stdout",
     "output_type": "stream",
     "text": [
      "172/172 [==============================] - 2s 9ms/step\n"
     ]
    },
    {
     "name": "stderr",
     "output_type": "stream",
     "text": [
      "Testing on Unseen TS:  71%|███████▏  | 5/7 [00:32<00:13,  6.91s/it]"
     ]
    },
    {
     "name": "stdout",
     "output_type": "stream",
     "text": [
      "HSBC => min_date: 1999-07-16 00:00:00, max_date: 2024-02-06 00:00:00, kurt:-0.61, skewness:0.5, outliers_count:0,  nan_count: 0\n",
      "Date ranges for HSBC are 1999-07-16 - 2021-01-01\n"
     ]
    },
    {
     "name": "stderr",
     "output_type": "stream",
     "text": [
      "Encoding Widows of 63: 100%|██████████| 5339/5339 [00:06<00:00, 768.86it/s]\n"
     ]
    },
    {
     "name": "stdout",
     "output_type": "stream",
     "text": [
      "167/167 [==============================] - 2s 10ms/step\n"
     ]
    },
    {
     "name": "stderr",
     "output_type": "stream",
     "text": [
      "Testing on Unseen TS:  86%|████████▌ | 6/7 [00:41<00:07,  7.79s/it]"
     ]
    },
    {
     "name": "stdout",
     "output_type": "stream",
     "text": [
      "TM => min_date: 1999-01-04 00:00:00, max_date: 2024-02-06 00:00:00, kurt:-0.39, skewness:0.44, outliers_count:3,  nan_count: 0\n",
      "Date ranges for TM are 1999-01-04 - 2021-01-01\n"
     ]
    },
    {
     "name": "stderr",
     "output_type": "stream",
     "text": [
      "Encoding Widows of 63: 100%|██████████| 5473/5473 [00:06<00:00, 819.04it/s]\n"
     ]
    },
    {
     "name": "stdout",
     "output_type": "stream",
     "text": [
      "172/172 [==============================] - 2s 10ms/step\n"
     ]
    },
    {
     "name": "stderr",
     "output_type": "stream",
     "text": [
      "Testing on Unseen TS: 100%|██████████| 7/7 [00:51<00:00,  7.31s/it]\n"
     ]
    },
    {
     "data": {
      "text/html": [
       "<div>\n",
       "<style scoped>\n",
       "    .dataframe tbody tr th:only-of-type {\n",
       "        vertical-align: middle;\n",
       "    }\n",
       "\n",
       "    .dataframe tbody tr th {\n",
       "        vertical-align: top;\n",
       "    }\n",
       "\n",
       "    .dataframe thead th {\n",
       "        text-align: right;\n",
       "    }\n",
       "</style>\n",
       "<table border=\"1\" class=\"dataframe\">\n",
       "  <thead>\n",
       "    <tr style=\"text-align: right;\">\n",
       "      <th></th>\n",
       "      <th>Accuracy</th>\n",
       "      <th>Precision</th>\n",
       "      <th>Recall</th>\n",
       "      <th>F1 Score</th>\n",
       "      <th>ROC AUC</th>\n",
       "    </tr>\n",
       "  </thead>\n",
       "  <tbody>\n",
       "    <tr>\n",
       "      <th>SSO</th>\n",
       "      <td>0.449181</td>\n",
       "      <td>0.0</td>\n",
       "      <td>0.0</td>\n",
       "      <td>0.0</td>\n",
       "      <td>1.000000</td>\n",
       "    </tr>\n",
       "    <tr>\n",
       "      <th>SPXL</th>\n",
       "      <td>0.447167</td>\n",
       "      <td>0.0</td>\n",
       "      <td>0.0</td>\n",
       "      <td>0.0</td>\n",
       "      <td>0.999606</td>\n",
       "    </tr>\n",
       "    <tr>\n",
       "      <th>BAC</th>\n",
       "      <td>0.500448</td>\n",
       "      <td>0.0</td>\n",
       "      <td>0.0</td>\n",
       "      <td>0.0</td>\n",
       "      <td>1.000000</td>\n",
       "    </tr>\n",
       "    <tr>\n",
       "      <th>TQQQ</th>\n",
       "      <td>0.439900</td>\n",
       "      <td>0.0</td>\n",
       "      <td>0.0</td>\n",
       "      <td>0.0</td>\n",
       "      <td>1.000000</td>\n",
       "    </tr>\n",
       "    <tr>\n",
       "      <th>AAPL</th>\n",
       "      <td>0.479488</td>\n",
       "      <td>0.0</td>\n",
       "      <td>0.0</td>\n",
       "      <td>0.0</td>\n",
       "      <td>1.000000</td>\n",
       "    </tr>\n",
       "    <tr>\n",
       "      <th>HSBC</th>\n",
       "      <td>0.501976</td>\n",
       "      <td>0.0</td>\n",
       "      <td>0.0</td>\n",
       "      <td>0.0</td>\n",
       "      <td>0.999768</td>\n",
       "    </tr>\n",
       "    <tr>\n",
       "      <th>TM</th>\n",
       "      <td>0.503673</td>\n",
       "      <td>0.0</td>\n",
       "      <td>0.0</td>\n",
       "      <td>0.0</td>\n",
       "      <td>1.000000</td>\n",
       "    </tr>\n",
       "  </tbody>\n",
       "</table>\n",
       "</div>"
      ],
      "text/plain": [
       "      Accuracy  Precision  Recall  F1 Score   ROC AUC\n",
       "SSO   0.449181        0.0     0.0       0.0  1.000000\n",
       "SPXL  0.447167        0.0     0.0       0.0  0.999606\n",
       "BAC   0.500448        0.0     0.0       0.0  1.000000\n",
       "TQQQ  0.439900        0.0     0.0       0.0  1.000000\n",
       "AAPL  0.479488        0.0     0.0       0.0  1.000000\n",
       "HSBC  0.501976        0.0     0.0       0.0  0.999768\n",
       "TM    0.503673        0.0     0.0       0.0  1.000000"
      ]
     },
     "execution_count": 32,
     "metadata": {},
     "output_type": "execute_result"
    }
   ],
   "source": [
    "\n",
    "metrics_unseen_df = generalization_test(OHTER_ETFS, START_DATE, COVID_REGIME_END, gen_model=gen_model)\n",
    "metrics_unseen_df"
   ]
  },
  {
   "cell_type": "code",
   "execution_count": 33,
   "id": "99943f7d",
   "metadata": {},
   "outputs": [
    {
     "name": "stderr",
     "output_type": "stream",
     "text": [
      "Testing on Unseen TS:   0%|          | 0/6 [00:00<?, ?it/s]"
     ]
    },
    {
     "name": "stdout",
     "output_type": "stream",
     "text": [
      "ZM => min_date: 2019-04-18 00:00:00, max_date: 2024-02-06 00:00:00, kurt:-0.2, skewness:1.06, outliers_count:2,  nan_count: 0\n",
      "Date ranges for ZM are 2019-10-01 - 2021-01-01\n"
     ]
    },
    {
     "name": "stderr",
     "output_type": "stream",
     "text": [
      "Encoding Widows of 63: 100%|██████████| 254/254 [00:00<00:00, 824.67it/s]"
     ]
    },
    {
     "name": "stdout",
     "output_type": "stream",
     "text": [
      "1/8 [==>...........................] - ETA: 0s"
     ]
    },
    {
     "name": "stderr",
     "output_type": "stream",
     "text": [
      "\n"
     ]
    },
    {
     "name": "stdout",
     "output_type": "stream",
     "text": [
      "8/8 [==============================] - 0s 11ms/step\n"
     ]
    },
    {
     "name": "stderr",
     "output_type": "stream",
     "text": [
      "Testing on Unseen TS:  17%|█▋        | 1/6 [00:00<00:02,  1.74it/s]"
     ]
    },
    {
     "name": "stdout",
     "output_type": "stream",
     "text": [
      "SHOP => min_date: 2015-05-20 00:00:00, max_date: 2024-02-06 00:00:00, kurt:0.1, skewness:1.09, outliers_count:0,  nan_count: 0\n",
      "Date ranges for SHOP are 2019-10-01 - 2021-01-01\n"
     ]
    },
    {
     "name": "stderr",
     "output_type": "stream",
     "text": [
      "Encoding Widows of 63: 100%|██████████| 254/254 [00:00<00:00, 1080.87it/s]\n"
     ]
    },
    {
     "name": "stdout",
     "output_type": "stream",
     "text": [
      "8/8 [==============================] - 0s 10ms/step\n"
     ]
    },
    {
     "name": "stderr",
     "output_type": "stream",
     "text": [
      "Testing on Unseen TS:  33%|███▎      | 2/6 [00:01<00:02,  2.00it/s]"
     ]
    },
    {
     "name": "stdout",
     "output_type": "stream",
     "text": [
      "VIG => min_date: 2006-05-02 00:00:00, max_date: 2024-02-06 00:00:00, kurt:-0.81, skewness:0.68, outliers_count:0,  nan_count: 0\n",
      "Date ranges for VIG are 2019-10-01 - 2021-01-01\n"
     ]
    },
    {
     "name": "stderr",
     "output_type": "stream",
     "text": [
      "Encoding Widows of 63: 100%|██████████| 254/254 [00:00<00:00, 954.89it/s] \n"
     ]
    },
    {
     "name": "stdout",
     "output_type": "stream",
     "text": [
      "8/8 [==============================] - 0s 14ms/step\n"
     ]
    },
    {
     "name": "stderr",
     "output_type": "stream",
     "text": [
      "Testing on Unseen TS:  50%|█████     | 3/6 [00:01<00:01,  1.93it/s]"
     ]
    },
    {
     "name": "stdout",
     "output_type": "stream",
     "text": [
      "VOO => min_date: 2010-09-09 00:00:00, max_date: 2024-02-06 00:00:00, kurt:-0.97, skewness:0.48, outliers_count:0,  nan_count: 0\n",
      "Date ranges for VOO are 2019-10-01 - 2021-01-01\n"
     ]
    },
    {
     "name": "stderr",
     "output_type": "stream",
     "text": [
      "Encoding Widows of 63: 100%|██████████| 254/254 [00:00<00:00, 1118.92it/s]\n"
     ]
    },
    {
     "name": "stdout",
     "output_type": "stream",
     "text": [
      "8/8 [==============================] - 0s 9ms/step\n"
     ]
    },
    {
     "name": "stderr",
     "output_type": "stream",
     "text": [
      "Testing on Unseen TS:  67%|██████▋   | 4/6 [00:02<00:00,  2.05it/s]"
     ]
    },
    {
     "name": "stdout",
     "output_type": "stream",
     "text": [
      "TSLA => min_date: 2010-06-29 00:00:00, max_date: 2024-02-06 00:00:00, kurt:0.39, skewness:1.38, outliers_count:13,  nan_count: 0\n",
      "Date ranges for TSLA are 2019-10-01 - 2021-01-01\n"
     ]
    },
    {
     "name": "stderr",
     "output_type": "stream",
     "text": [
      "Encoding Widows of 63: 100%|██████████| 254/254 [00:00<00:00, 1128.88it/s]"
     ]
    },
    {
     "name": "stdout",
     "output_type": "stream",
     "text": [
      "1/8 [==>...........................] - ETA: 0s"
     ]
    },
    {
     "name": "stderr",
     "output_type": "stream",
     "text": [
      "\n"
     ]
    },
    {
     "name": "stdout",
     "output_type": "stream",
     "text": [
      "8/8 [==============================] - 0s 11ms/step\n"
     ]
    },
    {
     "name": "stderr",
     "output_type": "stream",
     "text": [
      "Testing on Unseen TS:  83%|████████▎ | 5/6 [00:02<00:00,  2.13it/s]"
     ]
    },
    {
     "name": "stdout",
     "output_type": "stream",
     "text": [
      "WDI.HM => min_date: 2002-11-11 00:00:00, max_date: 2024-02-06 00:00:00, kurt:3.0, skewness:1.97, outliers_count:96,  nan_count: 0\n",
      "Date ranges for WDI.HM are 2019-10-01 - 2021-01-01\n"
     ]
    },
    {
     "name": "stderr",
     "output_type": "stream",
     "text": [
      "Encoding Widows of 63: 100%|██████████| 252/252 [00:00<00:00, 1076.84it/s]"
     ]
    },
    {
     "name": "stdout",
     "output_type": "stream",
     "text": [
      "1/8 [==>...........................] - ETA: 0s"
     ]
    },
    {
     "name": "stderr",
     "output_type": "stream",
     "text": [
      "\n"
     ]
    },
    {
     "name": "stdout",
     "output_type": "stream",
     "text": [
      "8/8 [==============================] - 0s 19ms/step\n"
     ]
    },
    {
     "name": "stderr",
     "output_type": "stream",
     "text": [
      "Testing on Unseen TS: 100%|██████████| 6/6 [00:02<00:00,  2.03it/s]\n"
     ]
    },
    {
     "data": {
      "text/html": [
       "<div>\n",
       "<style scoped>\n",
       "    .dataframe tbody tr th:only-of-type {\n",
       "        vertical-align: middle;\n",
       "    }\n",
       "\n",
       "    .dataframe tbody tr th {\n",
       "        vertical-align: top;\n",
       "    }\n",
       "\n",
       "    .dataframe thead th {\n",
       "        text-align: right;\n",
       "    }\n",
       "</style>\n",
       "<table border=\"1\" class=\"dataframe\">\n",
       "  <thead>\n",
       "    <tr style=\"text-align: right;\">\n",
       "      <th></th>\n",
       "      <th>Accuracy</th>\n",
       "      <th>Precision</th>\n",
       "      <th>Recall</th>\n",
       "      <th>F1 Score</th>\n",
       "      <th>ROC AUC</th>\n",
       "    </tr>\n",
       "  </thead>\n",
       "  <tbody>\n",
       "    <tr>\n",
       "      <th>ZM</th>\n",
       "      <td>0.442382</td>\n",
       "      <td>0.0</td>\n",
       "      <td>0.0</td>\n",
       "      <td>0.0</td>\n",
       "      <td>0.977036</td>\n",
       "    </tr>\n",
       "    <tr>\n",
       "      <th>SHOP</th>\n",
       "      <td>0.438758</td>\n",
       "      <td>0.0</td>\n",
       "      <td>0.0</td>\n",
       "      <td>0.0</td>\n",
       "      <td>1.000000</td>\n",
       "    </tr>\n",
       "    <tr>\n",
       "      <th>VIG</th>\n",
       "      <td>0.428946</td>\n",
       "      <td>0.0</td>\n",
       "      <td>0.0</td>\n",
       "      <td>0.0</td>\n",
       "      <td>1.000000</td>\n",
       "    </tr>\n",
       "    <tr>\n",
       "      <th>VOO</th>\n",
       "      <td>0.418073</td>\n",
       "      <td>0.0</td>\n",
       "      <td>0.0</td>\n",
       "      <td>0.0</td>\n",
       "      <td>1.000000</td>\n",
       "    </tr>\n",
       "    <tr>\n",
       "      <th>TSLA</th>\n",
       "      <td>0.420572</td>\n",
       "      <td>0.0</td>\n",
       "      <td>0.0</td>\n",
       "      <td>0.0</td>\n",
       "      <td>1.000000</td>\n",
       "    </tr>\n",
       "    <tr>\n",
       "      <th>WDI.HM</th>\n",
       "      <td>0.559146</td>\n",
       "      <td>0.0</td>\n",
       "      <td>0.0</td>\n",
       "      <td>0.0</td>\n",
       "      <td>1.000000</td>\n",
       "    </tr>\n",
       "  </tbody>\n",
       "</table>\n",
       "</div>"
      ],
      "text/plain": [
       "        Accuracy  Precision  Recall  F1 Score   ROC AUC\n",
       "ZM      0.442382        0.0     0.0       0.0  0.977036\n",
       "SHOP    0.438758        0.0     0.0       0.0  1.000000\n",
       "VIG     0.428946        0.0     0.0       0.0  1.000000\n",
       "VOO     0.418073        0.0     0.0       0.0  1.000000\n",
       "TSLA    0.420572        0.0     0.0       0.0  1.000000\n",
       "WDI.HM  0.559146        0.0     0.0       0.0  1.000000"
      ]
     },
     "execution_count": 33,
     "metadata": {},
     "output_type": "execute_result"
    }
   ],
   "source": [
    "OHTER_ETFS = [\"ZM\", \"SHOP\", \"VIG\", \"VOO\", \"TSLA\", \"WDI.HM\"]  # Including meme stocks and frauds\n",
    "\n",
    "metrics_unseen_df = generalization_test(OHTER_ETFS, COVID_REGIME_START, COVID_REGIME_END, gen_model=gen_model)\n",
    "metrics_unseen_df"
   ]
  },
  {
   "cell_type": "markdown",
   "id": "78e9a9c5",
   "metadata": {
    "papermill": {
     "duration": 0.037345,
     "end_time": "2023-11-05T18:01:12.947046",
     "exception": false,
     "start_time": "2023-11-05T18:01:12.909701",
     "status": "completed"
    },
    "tags": []
   },
   "source": [
    "# Conclusion\n",
    "\n",
    "\n",
    "\n",
    "\n",
    "![]()\n",
    "\n",
    "## References\n",
    "\n",
    "- [YFinance Github](https://github.com/ranaroussi/yfinance)\n",
    "- [Vanguard All World excluding US](https://investor.vanguard.com/investment-products/etfs/profile/veu)\n",
    "\n",
    "\n",
    "## Github\n",
    "\n",
    "Article here is also available on [Github]()\n",
    "\n",
    "Kaggle notebook available [here]()\n",
    "\n",
    "\n",
    "## Media\n",
    "\n",
    "All media used (in the form of code or images) are either solely owned by me, acquired through licensing, or part of the Public Domain and granted use through Creative Commons License.\n",
    "\n",
    "## CC Licensing and Use\n",
    "\n",
    "<a rel=\"license\" href=\"http://creativecommons.org/licenses/by-nc/4.0/\"><img alt=\"Creative Commons License\" style=\"border-width:0\" src=\"https://i.creativecommons.org/l/by-nc/4.0/88x31.png\" /></a><br />This work is licensed under a <a rel=\"license\" href=\"http://creativecommons.org/licenses/by-nc/4.0/\">Creative Commons Attribution-NonCommercial 4.0 International License</a>."
   ]
  }
 ],
 "metadata": {
  "kernelspec": {
   "display_name": "Python 3",
   "language": "python",
   "name": "python3"
  },
  "language_info": {
   "codemirror_mode": {
    "name": "ipython",
    "version": 3
   },
   "file_extension": ".py",
   "mimetype": "text/x-python",
   "name": "python",
   "nbconvert_exporter": "python",
   "pygments_lexer": "ipython3",
   "version": "3.10.0"
  },
  "papermill": {
   "default_parameters": {},
   "duration": 98.905855,
   "end_time": "2023-11-05T18:01:13.607303",
   "environment_variables": {},
   "exception": null,
   "input_path": "__notebook__.ipynb",
   "output_path": "__notebook__.ipynb",
   "parameters": {},
   "start_time": "2023-11-05T17:59:34.701448",
   "version": "2.4.0"
  }
 },
 "nbformat": 4,
 "nbformat_minor": 5
}
