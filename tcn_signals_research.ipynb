{
 "cells": [
  {
   "cell_type": "markdown",
   "id": "f4f2af90",
   "metadata": {
    "papermill": {
     "duration": 0.00682,
     "end_time": "2023-11-05T17:59:38.297125",
     "exception": false,
     "start_time": "2023-11-05T17:59:38.290305",
     "status": "completed"
    },
    "tags": []
   },
   "source": [
    "# Temporal Convolution Neural Network with Conditioning for Broad Market Signals\n",
    "\n",
    "\n",
    "<a href=\"\" target=\"_blank\"><img align=\"left\" alt=\"Kaggle\" title=\"Open in Kaggle\" src=\"https://kaggle.com/static/images/open-in-kaggle.svg\"></a>"
   ]
  },
  {
   "cell_type": "code",
   "execution_count": 1,
   "id": "6a827e09",
   "metadata": {
    "_cell_guid": "b1076dfc-b9ad-4769-8c92-a6c4dae69d19",
    "_uuid": "8f2839f25d086af736a60e9eeb907d3b93b6e0e5",
    "execution": {
     "iopub.execute_input": "2023-11-05T17:59:38.335093Z",
     "iopub.status.busy": "2023-11-05T17:59:38.334737Z",
     "iopub.status.idle": "2023-11-05T18:01:02.444324Z",
     "shell.execute_reply": "2023-11-05T18:01:02.443308Z"
    },
    "papermill": {
     "duration": 84.119909,
     "end_time": "2023-11-05T18:01:02.447010",
     "exception": false,
     "start_time": "2023-11-05T17:59:38.327101",
     "status": "completed"
    },
    "tags": []
   },
   "outputs": [
    {
     "name": "stderr",
     "output_type": "stream",
     "text": [
      "C:\\Users\\adamd\\AppData\\Local\\Temp\\ipykernel_14328\\3477214583.py:2: DeprecationWarning: \n",
      "Pyarrow will become a required dependency of pandas in the next major release of pandas (pandas 3.0),\n",
      "(to allow more performant data types, such as the Arrow string type, and better interoperability with other libraries)\n",
      "but was not found to be installed on your system.\n",
      "If this would cause problems for you,\n",
      "please provide us feedback at https://github.com/pandas-dev/pandas/issues/54466\n",
      "        \n",
      "  import pandas as pd\n"
     ]
    },
    {
     "name": "stdout",
     "output_type": "stream",
     "text": [
      "Running Local...\n"
     ]
    },
    {
     "data": {
      "text/plain": [
       "'c:\\\\Users\\\\adamd\\\\workspace\\\\quant_research'"
      ]
     },
     "execution_count": 1,
     "metadata": {},
     "output_type": "execute_result"
    }
   ],
   "source": [
    "import numpy as np\n",
    "import pandas as pd\n",
    "import matplotlib.pyplot as plt\n",
    "import os\n",
    "from tqdm import tqdm\n",
    "\n",
    "import dotenv\n",
    "%load_ext dotenv\n",
    "\n",
    "import warnings\n",
    "warnings.filterwarnings(\"ignore\")\n",
    "\n",
    "IS_KAGGLE = os.getenv('IS_KAGGLE', 'True') == 'True'\n",
    "\n",
    "if IS_KAGGLE:\n",
    "    # Kaggle confgs\n",
    "    print('Running in Kaggle...')\n",
    "    %pip install yfinance\n",
    "    %pip install statsmodels\n",
    "    %pip install seaborn\n",
    "    %pip install itertools\n",
    "    %pip install scikit-learn\n",
    "\n",
    "    for dirname, _, filenames in os.walk('/kaggle/input'):\n",
    "        for filename in filenames:\n",
    "            print(os.path.join(dirname, filename))\n",
    "else:\n",
    "    print('Running Local...')\n",
    "\n",
    "import yfinance as yf\n",
    "from analysis_utils import load_ticker_prices_ts_df, load_ticker_ts_df\n",
    "\n",
    "os.getcwd()"
   ]
  },
  {
   "cell_type": "markdown",
   "id": "0f226f2c",
   "metadata": {},
   "source": [
    "# Financial Data\n",
    "\n",
    "Collect market time series data (like stock prices, trading volumes, etc.).\n",
    "Clean the data to handle missing values, outliers, or anomalies.\n",
    "Ensure the data is in a time series format, typically with a timestamp.\n",
    "\n",
    "## Constants"
   ]
  },
  {
   "cell_type": "code",
   "execution_count": 2,
   "id": "38727fc7",
   "metadata": {
    "execution": {
     "iopub.execute_input": "2023-11-05T18:01:02.470424Z",
     "iopub.status.busy": "2023-11-05T18:01:02.469635Z",
     "iopub.status.idle": "2023-11-05T18:01:03.256388Z",
     "shell.execute_reply": "2023-11-05T18:01:03.255137Z"
    },
    "papermill": {
     "duration": 0.801372,
     "end_time": "2023-11-05T18:01:03.258937",
     "exception": false,
     "start_time": "2023-11-05T18:01:02.457565",
     "status": "completed"
    },
    "tags": []
   },
   "outputs": [
    {
     "name": "stdout",
     "output_type": "stream",
     "text": [
      "SPY => min_date: 1999-01-04 00:00:00, max_date: 2024-02-06 00:00:00, kurt:0.24, skewness:1.18, outliers_count:0,  nan_count: 0\n",
      "^VIX => min_date: 1999-01-04 00:00:00, max_date: 2024-02-06 00:00:00, kurt:7.8, skewness:2.12, outliers_count:100,  nan_count: 0\n",
      "^TNX => min_date: 1999-01-04 00:00:00, max_date: 2024-02-06 00:00:00, kurt:-0.78, skewness:0.18, outliers_count:0,  nan_count: 0\n",
      "^N100 => min_date: 1999-12-31 00:00:00, max_date: 2024-02-06 00:00:00, kurt:-0.63, skewness:0.37, outliers_count:0,  nan_count: 0\n",
      "^RUT => min_date: 1999-01-04 00:00:00, max_date: 2024-02-06 00:00:00, kurt:-0.5, skewness:0.77, outliers_count:0,  nan_count: 0\n",
      "399001.SZ => min_date: 1999-01-04 00:00:00, max_date: 2024-02-06 00:00:00, kurt:-0.93, skewness:0.02, outliers_count:0,  nan_count: 0\n"
     ]
    }
   ],
   "source": [
    "from datetime import datetime\n",
    "from scipy.stats import skew, kurtosis\n",
    "from pandas.tseries.offsets import BDay\n",
    "\n",
    "START_DATE = \"1999-01-01\"\n",
    "END_DATE = pd.Timestamp(datetime.now() - BDay(1)).strftime('%Y-%m-%d')\n",
    "DATA_DIR = \"data\"\n",
    "INDEX = \"Date\"\n",
    "TARGET_ETF = \"SPY\"  # S&P 500\n",
    "RATES_INDEX = \"^TNX\"  # 10 Year Treasury Note Yield\n",
    "VOLATILITY_INDEX = \"^VIX\"  # CBOE Volatility Index\n",
    "MACRO_INDEX = \"VEU\"  # Vanguard FTSE All-World ex-US ETF\n",
    "EURO_INDEX=\"^N100\"\n",
    "TECH_INDEX = \"^IXIC\"\n",
    "SMALLCAP_INDEX = \"^RUT\"\n",
    "GOLD_INDEX = \"GC=F\"\n",
    "UK_INDEX = \"^FTSE\"\n",
    "MEME_INDEX=\"BTC-USD\"\n",
    "JAP_INDEX = \"^N225\"\n",
    "RUS_INDEX = \".IRTS\"\n",
    "CHINA_INDEX = \"399001.SZ\"\n",
    "CRUDOIL_INDEX=\"CL=F\"\n",
    "SILVER_INDEX=\"SI=F\"\n",
    "tickers_symbols = [\n",
    "    TARGET_ETF,\n",
    "    VOLATILITY_INDEX,\n",
    "    RATES_INDEX,\n",
    "    #MACRO_INDEX,\n",
    "    EURO_INDEX,\n",
    "    #TECH_INDEX,\n",
    "    SMALLCAP_INDEX,\n",
    "    #GOLD_INDEX,\n",
    "    #CRUDOIL_INDEX,\n",
    "    #UK_INDEX,\n",
    "    #JAP_INDEX,\n",
    "    #RUS_INDEX,\n",
    "    CHINA_INDEX,\n",
    "]\n",
    "INTERVAL = \"1d\"\n",
    "\n",
    "def get_tickerdata(tickers_symbols, start=START_DATE, end=END_DATE, interval=INTERVAL, datadir=DATA_DIR):\n",
    "    tickers = {}\n",
    "    earliest_end= datetime.strptime(end,'%Y-%m-%d')\n",
    "    latest_start = datetime.strptime(start,'%Y-%m-%d')\n",
    "    os.makedirs(DATA_DIR, exist_ok=True)\n",
    "    for symbol in tickers_symbols:\n",
    "        cached_file_path = f\"{datadir}/{symbol}-{start}-{end}-{interval}.csv\"\n",
    "\n",
    "        try:\n",
    "            if os.path.exists(cached_file_path):\n",
    "                df = pd.read_csv(cached_file_path, index_col=INDEX)\n",
    "                df.index = pd.to_datetime(df.index)\n",
    "                assert len(df) > 0\n",
    "            else:\n",
    "                df = yf.download(\n",
    "                    symbol,\n",
    "                    start=START_DATE,\n",
    "                    end=END_DATE,\n",
    "                    progress=False,\n",
    "                    interval=INTERVAL,\n",
    "                )\n",
    "                assert len(df) > 0\n",
    "                df.to_csv(cached_file_path)\n",
    "            min_date = df.index.min()\n",
    "            max_date = df.index.max()\n",
    "            nan_count = df[\"Close\"].isnull().sum()\n",
    "            skewness = round(skew(df[\"Close\"].dropna()), 2)\n",
    "            kurt = round(kurtosis(df[\"Close\"].dropna()), 2)\n",
    "            outliers_count = (df[\"Close\"] > df[\"Close\"].mean() + (3 * df[\"Close\"].std())).sum()\n",
    "            print(\n",
    "                f\"{symbol} => min_date: {min_date}, max_date: {max_date}, kurt:{kurt}, skewness:{skewness}, outliers_count:{outliers_count},  nan_count: {nan_count}\"\n",
    "            )\n",
    "            tickers[symbol] = df\n",
    "\n",
    "            if min_date > latest_start:\n",
    "                latest_start = min_date\n",
    "            if max_date < earliest_end:\n",
    "                earliest_end = max_date\n",
    "        except Exception as e:\n",
    "            print(f\"Error with {symbol}: {e}\")\n",
    "\n",
    "    return tickers, latest_start, earliest_end\n",
    "\n",
    "tickers, latest_start, earliest_end = get_tickerdata(tickers_symbols)"
   ]
  },
  {
   "cell_type": "code",
   "execution_count": 3,
   "id": "946b0d99",
   "metadata": {},
   "outputs": [
    {
     "name": "stdout",
     "output_type": "stream",
     "text": [
      "Date ranges 1999-12-31 00:00:00 - 2024-02-06 00:00:00\n"
     ]
    },
    {
     "data": {
      "text/html": [
       "<div>\n",
       "<style scoped>\n",
       "    .dataframe tbody tr th:only-of-type {\n",
       "        vertical-align: middle;\n",
       "    }\n",
       "\n",
       "    .dataframe tbody tr th {\n",
       "        vertical-align: top;\n",
       "    }\n",
       "\n",
       "    .dataframe thead th {\n",
       "        text-align: right;\n",
       "    }\n",
       "</style>\n",
       "<table border=\"1\" class=\"dataframe\">\n",
       "  <thead>\n",
       "    <tr style=\"text-align: right;\">\n",
       "      <th></th>\n",
       "      <th>Open</th>\n",
       "      <th>High</th>\n",
       "      <th>Low</th>\n",
       "      <th>Close</th>\n",
       "      <th>Adj Close</th>\n",
       "      <th>Volume</th>\n",
       "    </tr>\n",
       "    <tr>\n",
       "      <th>Date</th>\n",
       "      <th></th>\n",
       "      <th></th>\n",
       "      <th></th>\n",
       "      <th></th>\n",
       "      <th></th>\n",
       "      <th></th>\n",
       "    </tr>\n",
       "  </thead>\n",
       "  <tbody>\n",
       "    <tr>\n",
       "      <th>1999-12-31</th>\n",
       "      <td>146.84375</td>\n",
       "      <td>147.50000</td>\n",
       "      <td>146.250000</td>\n",
       "      <td>146.8750</td>\n",
       "      <td>94.809860</td>\n",
       "      <td>3172700</td>\n",
       "    </tr>\n",
       "    <tr>\n",
       "      <th>2000-01-03</th>\n",
       "      <td>148.25000</td>\n",
       "      <td>148.25000</td>\n",
       "      <td>143.875000</td>\n",
       "      <td>145.4375</td>\n",
       "      <td>93.881966</td>\n",
       "      <td>8164300</td>\n",
       "    </tr>\n",
       "    <tr>\n",
       "      <th>2000-01-04</th>\n",
       "      <td>143.53125</td>\n",
       "      <td>144.06250</td>\n",
       "      <td>139.640625</td>\n",
       "      <td>139.7500</td>\n",
       "      <td>90.210594</td>\n",
       "      <td>8089800</td>\n",
       "    </tr>\n",
       "    <tr>\n",
       "      <th>2000-01-05</th>\n",
       "      <td>139.93750</td>\n",
       "      <td>141.53125</td>\n",
       "      <td>137.250000</td>\n",
       "      <td>140.0000</td>\n",
       "      <td>90.371933</td>\n",
       "      <td>12177900</td>\n",
       "    </tr>\n",
       "    <tr>\n",
       "      <th>2000-01-06</th>\n",
       "      <td>139.62500</td>\n",
       "      <td>141.50000</td>\n",
       "      <td>137.750000</td>\n",
       "      <td>137.7500</td>\n",
       "      <td>88.919502</td>\n",
       "      <td>6227200</td>\n",
       "    </tr>\n",
       "  </tbody>\n",
       "</table>\n",
       "</div>"
      ],
      "text/plain": [
       "                 Open       High         Low     Close  Adj Close    Volume\n",
       "Date                                                                       \n",
       "1999-12-31  146.84375  147.50000  146.250000  146.8750  94.809860   3172700\n",
       "2000-01-03  148.25000  148.25000  143.875000  145.4375  93.881966   8164300\n",
       "2000-01-04  143.53125  144.06250  139.640625  139.7500  90.210594   8089800\n",
       "2000-01-05  139.93750  141.53125  137.250000  140.0000  90.371933  12177900\n",
       "2000-01-06  139.62500  141.50000  137.750000  137.7500  88.919502   6227200"
      ]
     },
     "execution_count": 3,
     "metadata": {},
     "output_type": "execute_result"
    }
   ],
   "source": [
    "print(f\"Date ranges {latest_start} - {earliest_end}\")\n",
    "for ticker in tickers_symbols:\n",
    "    df = tickers.get(ticker)\n",
    "    df = df[(df.index >= latest_start) & (df.index <= earliest_end)]\n",
    "\n",
    "    assert len(df) > 0 and not df.isna().any().any()\n",
    "\n",
    "    tickers[ticker] = df\n",
    "\n",
    "tickers.get(TARGET_ETF).head(5)"
   ]
  },
  {
   "cell_type": "code",
   "execution_count": 4,
   "id": "122af07e",
   "metadata": {},
   "outputs": [
    {
     "data": {
      "image/png": "[encoded data removed]",
      "text/plain": [
       "<Figure size 1600x600 with 1 Axes>"
      ]
     },
     "metadata": {},
     "output_type": "display_data"
    }
   ],
   "source": [
    "percentage_returns = {}\n",
    "\n",
    "for ticker in tickers_symbols:\n",
    "    df = tickers.get(ticker)\n",
    "    percentage_returns[ticker] = ((1 + df[\"Close\"].pct_change()).cumprod() - 1) * 100\n",
    "plt.figure(figsize=(16, 6))\n",
    "for ticker, pr in percentage_returns.items():\n",
    "    plt.plot(pr, label=ticker, alpha=0.75)\n",
    "\n",
    "plt.legend(loc=\"upper left\")\n",
    "plt.grid(True)\n",
    "plt.tight_layout()\n",
    "plt.show()"
   ]
  },
  {
   "cell_type": "code",
   "execution_count": 5,
   "id": "34c42ed0",
   "metadata": {},
   "outputs": [
    {
     "data": {
      "image/png": "[encoded data removed]",
      "text/plain": [
       "<Figure size 1600x400 with 1 Axes>"
      ]
     },
     "metadata": {},
     "output_type": "display_data"
    },
    {
     "name": "stdout",
     "output_type": "stream",
     "text": [
      "Baseline Accuracy: 18.64%\n"
     ]
    }
   ],
   "source": [
    "TARGET_FACTOR = 65/100/100  # assume 50BP spread on average\n",
    "\n",
    "target_etf = tickers.get(TARGET_ETF)\n",
    "\n",
    "days_rising = target_etf[target_etf[\"Close\"] * (1- TARGET_FACTOR)> target_etf[\"Open\"]]\n",
    "days_not_rising = target_etf[target_etf[\"Close\"] * (1- TARGET_FACTOR) <= target_etf[\"Open\"]]\n",
    "days_rising_count = days_rising.groupby(days_rising.index.year).size()\n",
    "days_not_rising_count = days_not_rising.groupby(days_not_rising.index.year).size()\n",
    "\n",
    "total_days = target_etf.groupby(target_etf.index.year).size()\n",
    "percentage_rising = (days_rising_count / total_days) * 100\n",
    "\n",
    "yearly_counts = pd.DataFrame(\n",
    "    {\"Rising\": days_rising_count, \"Not Rising\": days_not_rising_count}\n",
    ")\n",
    "yearly_counts.plot(kind=\"bar\", color=[\"green\", \"red\"], figsize=(16, 4))\n",
    "plt.title(\"Days Rising vs Not Rising per Year\")\n",
    "plt.xlabel(\"Year\")\n",
    "plt.ylabel(\"Count\")\n",
    "plt.tick_params(axis=\"x\", rotation=45)\n",
    "plt.legend()\n",
    "plt.tight_layout()\n",
    "plt.show()\n",
    "\n",
    "print(f\"Baseline Accuracy: {percentage_rising.mean():0.2f}%\")"
   ]
  },
  {
   "cell_type": "markdown",
   "id": "bfdd0638",
   "metadata": {},
   "source": [
    "# Feature Selection and Engineering\n"
   ]
  },
  {
   "cell_type": "markdown",
   "id": "272a09ee",
   "metadata": {},
   "source": [
    "## Feature Constants"
   ]
  },
  {
   "cell_type": "code",
   "execution_count": 6,
   "id": "5e5751b4",
   "metadata": {},
   "outputs": [
    {
     "name": "stdout",
     "output_type": "stream",
     "text": [
      "target factor used: 0.006500000000000001 for window: 63 predicting: 1 step\n"
     ]
    }
   ],
   "source": [
    "from sklearn.preprocessing import FunctionTransformer, MinMaxScaler, normalize\n",
    "\n",
    "MONTH_SINE = \"month_sin\"\n",
    "MONTH_COS = \"month_cos\"\n",
    "MONTH_RBF = \"month_rbf\"\n",
    "DAY_SINE = \"day_sin\"\n",
    "DAY_COS = \"day_cos\"\n",
    "DAY_RBF = \"day_rbf\"\n",
    "Q_SINE = \"quart_sin\"\n",
    "Q_COS = \"quart_cos\"\n",
    "Q_RBF = \"quart_rbf\"\n",
    "BIZ_SINE = \"biz_sin\"\n",
    "BIZ_COS = \"biz_cos\"\n",
    "BIZ_RBF = \"biz_rbf\"\n",
    "TARGET_LABEL = \"Close_target\"\n",
    "TARGET_TS = \"Close\"  # The TS which we will condition.\n",
    "EXOG_TS = tickers_symbols.copy() # The TS to use for conditioning\n",
    "EXOG_TS.remove(TARGET_ETF)\n",
    "PRICE_FEATURES = [\"Open\", \"High\", \"Low\", \"Close\"]\n",
    "TIME_FEATURES = [\n",
    "    DAY_RBF,\n",
    "    MONTH_RBF,\n",
    "    Q_RBF,\n",
    "    BIZ_RBF,\n",
    "]\n",
    "TS_FEATURES = [\"Volume\"]\n",
    "TARGET_TS_FEATURES_NOTIME = EXOG_TS + TS_FEATURES + PRICE_FEATURES\n",
    "TARGET_TS_FEATURES = TARGET_TS_FEATURES_NOTIME + TIME_FEATURES\n",
    "WINDOW_SIZE = 252 // 4  # 1 years trading, sampled across days\n",
    "PREDICTION_HORIZON = 1  # next 1 trading day\n",
    "\n",
    "print(f\"target factor used: {TARGET_FACTOR} for window: {WINDOW_SIZE} predicting: {PREDICTION_HORIZON} step\")"
   ]
  },
  {
   "cell_type": "markdown",
   "id": "a378eb58",
   "metadata": {},
   "source": [
    "## Engineer Features"
   ]
  },
  {
   "cell_type": "code",
   "execution_count": 7,
   "id": "a1f1f024",
   "metadata": {},
   "outputs": [
    {
     "data": {
      "text/html": [
       "<div>\n",
       "<style scoped>\n",
       "    .dataframe tbody tr th:only-of-type {\n",
       "        vertical-align: middle;\n",
       "    }\n",
       "\n",
       "    .dataframe tbody tr th {\n",
       "        vertical-align: top;\n",
       "    }\n",
       "\n",
       "    .dataframe thead th {\n",
       "        text-align: right;\n",
       "    }\n",
       "</style>\n",
       "<table border=\"1\" class=\"dataframe\">\n",
       "  <thead>\n",
       "    <tr style=\"text-align: right;\">\n",
       "      <th></th>\n",
       "      <th>day_rbf</th>\n",
       "      <th>month_rbf</th>\n",
       "      <th>quart_rbf</th>\n",
       "      <th>biz_rbf</th>\n",
       "      <th>Close_target</th>\n",
       "      <th>^VIX</th>\n",
       "      <th>^TNX</th>\n",
       "      <th>^N100</th>\n",
       "      <th>^RUT</th>\n",
       "      <th>399001.SZ</th>\n",
       "      <th>Volume</th>\n",
       "      <th>Open</th>\n",
       "      <th>High</th>\n",
       "      <th>Low</th>\n",
       "      <th>Close</th>\n",
       "    </tr>\n",
       "  </thead>\n",
       "  <tbody>\n",
       "    <tr>\n",
       "      <th>0</th>\n",
       "      <td>6.766676e-53</td>\n",
       "      <td>1.522998e-08</td>\n",
       "      <td>0.135335</td>\n",
       "      <td>1.176911e-34</td>\n",
       "      <td>0</td>\n",
       "      <td>0.000000e+00</td>\n",
       "      <td>0.000000e+00</td>\n",
       "      <td>0.000000e+00</td>\n",
       "      <td>0.000000e+00</td>\n",
       "      <td>0.000000e+00</td>\n",
       "      <td>1.0</td>\n",
       "      <td>0.000000e+00</td>\n",
       "      <td>0.000000e+00</td>\n",
       "      <td>0.000000e+00</td>\n",
       "      <td>0.000000e+00</td>\n",
       "    </tr>\n",
       "    <tr>\n",
       "      <th>1</th>\n",
       "      <td>6.528528e-40</td>\n",
       "      <td>1.522998e-08</td>\n",
       "      <td>0.135335</td>\n",
       "      <td>1.915479e-29</td>\n",
       "      <td>0</td>\n",
       "      <td>-3.278650e-09</td>\n",
       "      <td>2.324080e-09</td>\n",
       "      <td>-3.956225e-10</td>\n",
       "      <td>2.015143e-09</td>\n",
       "      <td>0.000000e+00</td>\n",
       "      <td>1.0</td>\n",
       "      <td>1.172973e-09</td>\n",
       "      <td>6.228024e-10</td>\n",
       "      <td>-1.989064e-09</td>\n",
       "      <td>-1.198784e-09</td>\n",
       "    </tr>\n",
       "    <tr>\n",
       "      <th>2</th>\n",
       "      <td>4.087335e-34</td>\n",
       "      <td>1.522998e-08</td>\n",
       "      <td>0.135335</td>\n",
       "      <td>1.915479e-29</td>\n",
       "      <td>1</td>\n",
       "      <td>2.943153e-09</td>\n",
       "      <td>6.087421e-10</td>\n",
       "      <td>-5.059737e-09</td>\n",
       "      <td>-1.888134e-09</td>\n",
       "      <td>0.000000e+00</td>\n",
       "      <td>1.0</td>\n",
       "      <td>-3.934545e-09</td>\n",
       "      <td>-3.491583e-09</td>\n",
       "      <td>-3.638029e-09</td>\n",
       "      <td>-4.834006e-09</td>\n",
       "    </tr>\n",
       "    <tr>\n",
       "      <th>3</th>\n",
       "      <td>8.797012e-29</td>\n",
       "      <td>1.522998e-08</td>\n",
       "      <td>0.135335</td>\n",
       "      <td>1.915479e-29</td>\n",
       "      <td>0</td>\n",
       "      <td>1.000932e-08</td>\n",
       "      <td>-1.131805e-10</td>\n",
       "      <td>-2.208436e-09</td>\n",
       "      <td>-3.084405e-09</td>\n",
       "      <td>3.066952e-09</td>\n",
       "      <td>1.0</td>\n",
       "      <td>-2.056028e-09</td>\n",
       "      <td>-1.442818e-09</td>\n",
       "      <td>-1.405812e-09</td>\n",
       "      <td>1.468980e-10</td>\n",
       "    </tr>\n",
       "    <tr>\n",
       "      <th>4</th>\n",
       "      <td>6.508789e-24</td>\n",
       "      <td>1.522998e-08</td>\n",
       "      <td>0.135335</td>\n",
       "      <td>1.915479e-29</td>\n",
       "      <td>1</td>\n",
       "      <td>-7.461095e-09</td>\n",
       "      <td>9.111646e-10</td>\n",
       "      <td>-1.346470e-09</td>\n",
       "      <td>1.510529e-10</td>\n",
       "      <td>-1.131855e-09</td>\n",
       "      <td>1.0</td>\n",
       "      <td>-3.586106e-10</td>\n",
       "      <td>-3.545723e-11</td>\n",
       "      <td>5.850121e-10</td>\n",
       "      <td>-2.580843e-09</td>\n",
       "    </tr>\n",
       "    <tr>\n",
       "      <th>5</th>\n",
       "      <td>1.655523e-19</td>\n",
       "      <td>1.522998e-08</td>\n",
       "      <td>0.135335</td>\n",
       "      <td>1.915479e-29</td>\n",
       "      <td>1</td>\n",
       "      <td>-7.155665e-09</td>\n",
       "      <td>-2.457464e-10</td>\n",
       "      <td>2.878634e-09</td>\n",
       "      <td>-9.035615e-10</td>\n",
       "      <td>8.062124e-09</td>\n",
       "      <td>1.0</td>\n",
       "      <td>6.104138e-10</td>\n",
       "      <td>3.723466e-09</td>\n",
       "      <td>2.081158e-09</td>\n",
       "      <td>7.199681e-09</td>\n",
       "    </tr>\n",
       "    <tr>\n",
       "      <th>6</th>\n",
       "      <td>4.496349e-09</td>\n",
       "      <td>1.522998e-08</td>\n",
       "      <td>0.135335</td>\n",
       "      <td>1.915479e-29</td>\n",
       "      <td>0</td>\n",
       "      <td>-2.251529e-08</td>\n",
       "      <td>-1.330546e-10</td>\n",
       "      <td>3.015045e-09</td>\n",
       "      <td>4.752205e-09</td>\n",
       "      <td>8.482182e-09</td>\n",
       "      <td>1.0</td>\n",
       "      <td>7.369988e-09</td>\n",
       "      <td>1.381665e-09</td>\n",
       "      <td>6.178525e-09</td>\n",
       "      <td>5.974767e-10</td>\n",
       "    </tr>\n",
       "    <tr>\n",
       "      <th>7</th>\n",
       "      <td>1.597258e-06</td>\n",
       "      <td>1.522998e-08</td>\n",
       "      <td>0.135335</td>\n",
       "      <td>1.915479e-29</td>\n",
       "      <td>0</td>\n",
       "      <td>5.479262e-10</td>\n",
       "      <td>1.222637e-09</td>\n",
       "      <td>-8.549341e-10</td>\n",
       "      <td>3.706203e-09</td>\n",
       "      <td>1.474894e-09</td>\n",
       "      <td>1.0</td>\n",
       "      <td>-3.986637e-10</td>\n",
       "      <td>-7.370681e-10</td>\n",
       "      <td>-1.407048e-09</td>\n",
       "      <td>-1.594655e-09</td>\n",
       "    </tr>\n",
       "    <tr>\n",
       "      <th>8</th>\n",
       "      <td>1.950563e-04</td>\n",
       "      <td>1.522998e-08</td>\n",
       "      <td>0.135335</td>\n",
       "      <td>1.915479e-29</td>\n",
       "      <td>1</td>\n",
       "      <td>7.047296e-09</td>\n",
       "      <td>1.294121e-09</td>\n",
       "      <td>-1.097054e-09</td>\n",
       "      <td>-2.676747e-09</td>\n",
       "      <td>-8.314790e-09</td>\n",
       "      <td>1.0</td>\n",
       "      <td>-1.210003e-09</td>\n",
       "      <td>-1.486367e-09</td>\n",
       "      <td>-6.305139e-10</td>\n",
       "      <td>-1.440146e-09</td>\n",
       "    </tr>\n",
       "    <tr>\n",
       "      <th>9</th>\n",
       "      <td>8.188701e-03</td>\n",
       "      <td>1.522998e-08</td>\n",
       "      <td>0.135335</td>\n",
       "      <td>1.915479e-29</td>\n",
       "      <td>1</td>\n",
       "      <td>-2.691362e-09</td>\n",
       "      <td>1.455675e-10</td>\n",
       "      <td>1.021695e-09</td>\n",
       "      <td>-1.011392e-09</td>\n",
       "      <td>-4.979026e-09</td>\n",
       "      <td>1.0</td>\n",
       "      <td>-1.675922e-10</td>\n",
       "      <td>1.550228e-09</td>\n",
       "      <td>5.512271e-10</td>\n",
       "      <td>2.625484e-09</td>\n",
       "    </tr>\n",
       "    <tr>\n",
       "      <th>10</th>\n",
       "      <td>1.181789e-01</td>\n",
       "      <td>1.522998e-08</td>\n",
       "      <td>0.135335</td>\n",
       "      <td>1.915479e-29</td>\n",
       "      <td>0</td>\n",
       "      <td>-1.715470e-08</td>\n",
       "      <td>-8.272417e-10</td>\n",
       "      <td>3.113444e-09</td>\n",
       "      <td>3.059340e-09</td>\n",
       "      <td>-8.251893e-10</td>\n",
       "      <td>1.0</td>\n",
       "      <td>1.919573e-09</td>\n",
       "      <td>1.585583e-09</td>\n",
       "      <td>2.521993e-09</td>\n",
       "      <td>1.825607e-09</td>\n",
       "    </tr>\n",
       "    <tr>\n",
       "      <th>11</th>\n",
       "      <td>1.181789e-01</td>\n",
       "      <td>1.522998e-08</td>\n",
       "      <td>0.135335</td>\n",
       "      <td>1.915479e-29</td>\n",
       "      <td>1</td>\n",
       "      <td>1.212432e-08</td>\n",
       "      <td>1.931423e-09</td>\n",
       "      <td>-4.304493e-09</td>\n",
       "      <td>1.958810e-09</td>\n",
       "      <td>2.893174e-09</td>\n",
       "      <td>1.0</td>\n",
       "      <td>-1.248990e-09</td>\n",
       "      <td>-8.817987e-10</td>\n",
       "      <td>-8.248706e-10</td>\n",
       "      <td>-1.212502e-09</td>\n",
       "    </tr>\n",
       "    <tr>\n",
       "      <th>12</th>\n",
       "      <td>8.188701e-03</td>\n",
       "      <td>1.522998e-08</td>\n",
       "      <td>0.135335</td>\n",
       "      <td>1.915479e-29</td>\n",
       "      <td>0</td>\n",
       "      <td>5.769927e-09</td>\n",
       "      <td>4.601068e-10</td>\n",
       "      <td>-2.267350e-10</td>\n",
       "      <td>1.887704e-09</td>\n",
       "      <td>-1.861576e-09</td>\n",
       "      <td>1.0</td>\n",
       "      <td>-3.491572e-11</td>\n",
       "      <td>4.153274e-10</td>\n",
       "      <td>-2.097198e-10</td>\n",
       "      <td>1.322532e-09</td>\n",
       "    </tr>\n",
       "    <tr>\n",
       "      <th>13</th>\n",
       "      <td>1.950563e-04</td>\n",
       "      <td>1.522998e-08</td>\n",
       "      <td>0.135335</td>\n",
       "      <td>1.915479e-29</td>\n",
       "      <td>1</td>\n",
       "      <td>-6.538380e-09</td>\n",
       "      <td>1.435695e-09</td>\n",
       "      <td>7.521588e-10</td>\n",
       "      <td>2.202731e-09</td>\n",
       "      <td>2.303910e-09</td>\n",
       "      <td>1.0</td>\n",
       "      <td>1.965113e-09</td>\n",
       "      <td>-3.665196e-11</td>\n",
       "      <td>-1.411985e-09</td>\n",
       "      <td>-2.638941e-09</td>\n",
       "    </tr>\n",
       "    <tr>\n",
       "      <th>14</th>\n",
       "      <td>1.597258e-06</td>\n",
       "      <td>1.522998e-08</td>\n",
       "      <td>0.135335</td>\n",
       "      <td>1.915479e-29</td>\n",
       "      <td>0</td>\n",
       "      <td>1.803470e-09</td>\n",
       "      <td>-2.125420e-10</td>\n",
       "      <td>-6.536605e-10</td>\n",
       "      <td>2.235623e-09</td>\n",
       "      <td>3.506966e-09</td>\n",
       "      <td>1.0</td>\n",
       "      <td>-1.600311e-09</td>\n",
       "      <td>-1.600311e-09</td>\n",
       "      <td>2.783715e-10</td>\n",
       "      <td>-3.457108e-10</td>\n",
       "    </tr>\n",
       "  </tbody>\n",
       "</table>\n",
       "</div>"
      ],
      "text/plain": [
       "         day_rbf     month_rbf  quart_rbf       biz_rbf  Close_target  \\\n",
       "0   6.766676e-53  1.522998e-08   0.135335  1.176911e-34             0   \n",
       "1   6.528528e-40  1.522998e-08   0.135335  1.915479e-29             0   \n",
       "2   4.087335e-34  1.522998e-08   0.135335  1.915479e-29             1   \n",
       "3   8.797012e-29  1.522998e-08   0.135335  1.915479e-29             0   \n",
       "4   6.508789e-24  1.522998e-08   0.135335  1.915479e-29             1   \n",
       "5   1.655523e-19  1.522998e-08   0.135335  1.915479e-29             1   \n",
       "6   4.496349e-09  1.522998e-08   0.135335  1.915479e-29             0   \n",
       "7   1.597258e-06  1.522998e-08   0.135335  1.915479e-29             0   \n",
       "8   1.950563e-04  1.522998e-08   0.135335  1.915479e-29             1   \n",
       "9   8.188701e-03  1.522998e-08   0.135335  1.915479e-29             1   \n",
       "10  1.181789e-01  1.522998e-08   0.135335  1.915479e-29             0   \n",
       "11  1.181789e-01  1.522998e-08   0.135335  1.915479e-29             1   \n",
       "12  8.188701e-03  1.522998e-08   0.135335  1.915479e-29             0   \n",
       "13  1.950563e-04  1.522998e-08   0.135335  1.915479e-29             1   \n",
       "14  1.597258e-06  1.522998e-08   0.135335  1.915479e-29             0   \n",
       "\n",
       "            ^VIX          ^TNX         ^N100          ^RUT     399001.SZ  \\\n",
       "0   0.000000e+00  0.000000e+00  0.000000e+00  0.000000e+00  0.000000e+00   \n",
       "1  -3.278650e-09  2.324080e-09 -3.956225e-10  2.015143e-09  0.000000e+00   \n",
       "2   2.943153e-09  6.087421e-10 -5.059737e-09 -1.888134e-09  0.000000e+00   \n",
       "3   1.000932e-08 -1.131805e-10 -2.208436e-09 -3.084405e-09  3.066952e-09   \n",
       "4  -7.461095e-09  9.111646e-10 -1.346470e-09  1.510529e-10 -1.131855e-09   \n",
       "5  -7.155665e-09 -2.457464e-10  2.878634e-09 -9.035615e-10  8.062124e-09   \n",
       "6  -2.251529e-08 -1.330546e-10  3.015045e-09  4.752205e-09  8.482182e-09   \n",
       "7   5.479262e-10  1.222637e-09 -8.549341e-10  3.706203e-09  1.474894e-09   \n",
       "8   7.047296e-09  1.294121e-09 -1.097054e-09 -2.676747e-09 -8.314790e-09   \n",
       "9  -2.691362e-09  1.455675e-10  1.021695e-09 -1.011392e-09 -4.979026e-09   \n",
       "10 -1.715470e-08 -8.272417e-10  3.113444e-09  3.059340e-09 -8.251893e-10   \n",
       "11  1.212432e-08  1.931423e-09 -4.304493e-09  1.958810e-09  2.893174e-09   \n",
       "12  5.769927e-09  4.601068e-10 -2.267350e-10  1.887704e-09 -1.861576e-09   \n",
       "13 -6.538380e-09  1.435695e-09  7.521588e-10  2.202731e-09  2.303910e-09   \n",
       "14  1.803470e-09 -2.125420e-10 -6.536605e-10  2.235623e-09  3.506966e-09   \n",
       "\n",
       "    Volume          Open          High           Low         Close  \n",
       "0      1.0  0.000000e+00  0.000000e+00  0.000000e+00  0.000000e+00  \n",
       "1      1.0  1.172973e-09  6.228024e-10 -1.989064e-09 -1.198784e-09  \n",
       "2      1.0 -3.934545e-09 -3.491583e-09 -3.638029e-09 -4.834006e-09  \n",
       "3      1.0 -2.056028e-09 -1.442818e-09 -1.405812e-09  1.468980e-10  \n",
       "4      1.0 -3.586106e-10 -3.545723e-11  5.850121e-10 -2.580843e-09  \n",
       "5      1.0  6.104138e-10  3.723466e-09  2.081158e-09  7.199681e-09  \n",
       "6      1.0  7.369988e-09  1.381665e-09  6.178525e-09  5.974767e-10  \n",
       "7      1.0 -3.986637e-10 -7.370681e-10 -1.407048e-09 -1.594655e-09  \n",
       "8      1.0 -1.210003e-09 -1.486367e-09 -6.305139e-10 -1.440146e-09  \n",
       "9      1.0 -1.675922e-10  1.550228e-09  5.512271e-10  2.625484e-09  \n",
       "10     1.0  1.919573e-09  1.585583e-09  2.521993e-09  1.825607e-09  \n",
       "11     1.0 -1.248990e-09 -8.817987e-10 -8.248706e-10 -1.212502e-09  \n",
       "12     1.0 -3.491572e-11  4.153274e-10 -2.097198e-10  1.322532e-09  \n",
       "13     1.0  1.965113e-09 -3.665196e-11 -1.411985e-09 -2.638941e-09  \n",
       "14     1.0 -1.600311e-09 -1.600311e-09  2.783715e-10 -3.457108e-10  "
      ]
     },
     "execution_count": 7,
     "metadata": {},
     "output_type": "execute_result"
    }
   ],
   "source": [
    "\n",
    "def create_time_features(data_df):\n",
    "    \"\"\"\n",
    "    Encodes time cyclic features for a dataset with monthly sampling.\n",
    "    Including cyclic encoding for day and year.\n",
    "    :param data_df: The timeseries with a date in the format YYYY-MM-DD as index.\n",
    "    :return: data_df with added wave features for month, day, and year.\n",
    "    \"\"\"\n",
    "    if not isinstance(data_df.index, pd.DatetimeIndex):\n",
    "        raise ValueError(\"The DataFrame index must be a DateTimeIndex.\")\n",
    "\n",
    "    def _sin_transformer(period):\n",
    "        return FunctionTransformer(lambda x: np.sin(x / period * 2 * np.pi))\n",
    "\n",
    "    def _cos_transformer(period):\n",
    "        return FunctionTransformer(lambda x: np.cos(x / period * 2 * np.pi))\n",
    "\n",
    "    def rbf_transform(x, period, input_range):\n",
    "        x_normalized = (x - input_range[0]) / (input_range[1] - input_range[0]) * period\n",
    "        return np.exp(-0.5 * ((x_normalized - period / 2) / 1.0) ** 2)\n",
    "\n",
    "    data_df[DAY_RBF] = rbf_transform(data_df.index.day, 31, (1, 31))\n",
    "    data_df[MONTH_RBF] = rbf_transform(data_df.index.month, 12, (1, 12))\n",
    "    data_df[Q_RBF] = rbf_transform((data_df.index.month - 1) // 3 + 1, 4, (1, 4))\n",
    "    min_year, max_year = data_df.index.year.min(), data_df.index.year.max()\n",
    "    data_df[BIZ_RBF] = rbf_transform(\n",
    "        data_df.index.year, max_year - min_year, (min_year, max_year)\n",
    "    )\n",
    "\n",
    "    return data_df\n",
    "\n",
    "def create_features_df(tickers, data_df, target_label=TARGET_ETF):\n",
    "    \"\"\"\n",
    "    Create all exogenous features that lead to our target etf.\n",
    "        - if the trading day close is higher than the open.\n",
    "        - price log returns or 1D integrations.\n",
    "    :param tickers: All the timeseries with a date in the format YYYY-MM-DD as index.\n",
    "    :param data_df: Any pre-engineered features.\n",
    "    :return: data_df With TARGET_LABEL timeseries at column 0, and the rest are for conditioning.\n",
    "    \"\"\"\n",
    "\n",
    "    def _get_first_difference(data_df):\n",
    "        return data_df.pct_change().fillna(0)\n",
    "\n",
    "    def _get_log_returns(data_df):\n",
    "        return np.log(data_df / data_df.shift(1)).fillna(0)\n",
    "\n",
    "    IDX_COL = \"Open\"\n",
    "    price_transform = FunctionTransformer(_get_first_difference)\n",
    "\n",
    "    data_df[PRICE_FEATURES] = price_transform.fit_transform(data_df[PRICE_FEATURES])\n",
    "    rates_df = tickers.get(RATES_INDEX)\n",
    "\n",
    "    for index in EXOG_TS:\n",
    "        if index == target_label:\n",
    "            continue\n",
    "        index_df = tickers.get(index)\n",
    "        transformed_data = price_transform.fit_transform(index_df[[IDX_COL]])\n",
    "        data_df[index] = transformed_data\n",
    "\n",
    "    data_df = data_df.fillna(0)\n",
    "\n",
    "    return data_df\n",
    "\n",
    "IS_CLASSIFICATION = True\n",
    "\n",
    "def prepare_data(tickers, target_label=TARGET_ETF, classify=IS_CLASSIFICATION, to_normalize=True):\n",
    "    \"\"\"\n",
    "    Utility function to prepare the data.\n",
    "    :data_df dataframe: dataframe with `window_size` months of data to predict the `window_size`+`horizon`.\n",
    "    :param window_size: int, length of the input sequence\n",
    "    :param horizon: int, forecasting horizon, defaults to 1\n",
    "    :return: Array in the shape of (n_samples, n_steps, n_features)\n",
    "    \"\"\"\n",
    "    y_scaler = None, None\n",
    "    data_df = tickers.get(target_label).copy()\n",
    "    close_tomorrow_df = data_df['Close'].shift(-1)\n",
    "    if classify:\n",
    "        today_df = data_df['Close'] # data_df['Open'].shift(-1)\n",
    "        # Calculate the target label: 1 if next day's close is higher than its open.\n",
    "        data_df[TARGET_LABEL] = (close_tomorrow_df > (today_df * (1 - TARGET_FACTOR))).astype(int)\n",
    "    else:\n",
    "        # A target variable with a large spread of values, in turn, may result in large error gradient values\n",
    "        # causing weight values to change dramatically. We predict tomorrows close.\n",
    "        y_scaler = MinMaxScaler(feature_range=(-1, 1))\n",
    "        y_scaled = y_scaler.fit_transform(\n",
    "            close_tomorrow_df.values * (1 - TARGET_FACTOR)\n",
    "        )\n",
    "        data_df[TARGET_LABEL] = y_scaled.flatten()\n",
    "\n",
    "    data_df = create_features_df(tickers, data_df, target_label=target_label)\n",
    "    data_df_normalized = None\n",
    "    if to_normalize:\n",
    "        data_df_normalized = normalize(data_df[TARGET_TS_FEATURES_NOTIME], norm=\"l2\")\n",
    "    else:\n",
    "        data_df_normalized = data_df[TARGET_TS_FEATURES_NOTIME]\n",
    "    data_df_normalized = pd.DataFrame(\n",
    "        data_df_normalized, columns=TARGET_TS_FEATURES_NOTIME\n",
    "    )\n",
    "    data_df_normalized = pd.concat(\n",
    "        [\n",
    "            data_df[TARGET_LABEL].reset_index(drop=True),\n",
    "            data_df_normalized.reset_index(drop=True),\n",
    "        ],\n",
    "        axis=1,\n",
    "    )\n",
    "    if any(feature in TIME_FEATURES for feature in TARGET_TS_FEATURES):\n",
    "        # Don't normalize these.\n",
    "        data_df = create_time_features(data_df)\n",
    "        data_df_normalized = pd.concat(\n",
    "            [\n",
    "                data_df[TIME_FEATURES].reset_index(drop=True),\n",
    "                data_df_normalized.reset_index(drop=True),\n",
    "            ],\n",
    "            axis=1,\n",
    "        )\n",
    "    # we might drop the first and last row of data (shifts and difference => NAs)\n",
    "    return data_df_normalized.dropna(axis=0), y_scaler\n",
    "\n",
    "data_df, y_scaler = prepare_data(tickers, to_normalize=True)\n",
    "data_df.head(15)"
   ]
  },
  {
   "cell_type": "markdown",
   "id": "d1c200b8",
   "metadata": {},
   "source": [
    "## DIM Reduction & Feature Selection\n",
    "\n",
    "### Dataset Balance"
   ]
  },
  {
   "cell_type": "code",
   "execution_count": 8,
   "id": "7bce56bd",
   "metadata": {},
   "outputs": [
    {
     "data": {
      "image/png": "[encoded data removed]",
      "text/plain": [
       "<Figure size 800x400 with 1 Axes>"
      ]
     },
     "metadata": {},
     "output_type": "display_data"
    }
   ],
   "source": [
    "label_counts = data_df[TARGET_LABEL].value_counts()\n",
    "\n",
    "plt.figure(figsize=(8, 4))\n",
    "plt.bar(label_counts.index.astype(str), label_counts.values, color=['blue', 'red'])\n",
    "plt.xlabel('Target Label')\n",
    "plt.ylabel('Count')\n",
    "plt.title('Distribution of Target Labels (Close>Open)')\n",
    "plt.xticks([0, 1])\n",
    "plt.show()"
   ]
  },
  {
   "cell_type": "markdown",
   "id": "abad8572",
   "metadata": {},
   "source": [
    "### PCA Analysis\n",
    "\n",
    "We carry out a PCA to assert which features have most info to our target.\n",
    "\n",
    "We later have a choice to use the components themselves instead of the data."
   ]
  },
  {
   "cell_type": "code",
   "execution_count": 9,
   "id": "0262feac",
   "metadata": {},
   "outputs": [
    {
     "name": "stdout",
     "output_type": "stream",
     "text": [
      "Max components for 95.0% variance: 4 out of 15\n"
     ]
    },
    {
     "data": {
      "image/png": "[encoded data removed]",
      "text/plain": [
       "<Figure size 1800x600 with 2 Axes>"
      ]
     },
     "metadata": {},
     "output_type": "display_data"
    }
   ],
   "source": [
    "from sklearn.decomposition import PCA\n",
    "\n",
    "MAX_VARIANCE = 0.95\n",
    "\n",
    "pca = PCA()\n",
    "data_df_pca = data_df.drop(columns=[TARGET_LABEL])\n",
    "xdata = pca.fit_transform(data_df_pca)\n",
    "\n",
    "cum_var_exp = np.cumsum(pca.explained_variance_ratio_)\n",
    "num_components = np.argmax(cum_var_exp >= MAX_VARIANCE) + 1 # type: ignore\n",
    "print(\n",
    "    f\"Max components for {MAX_VARIANCE*100}% variance: {num_components} out of {data_df.shape[1]}\"\n",
    ")\n",
    "\n",
    "eigenvectors = pca.components_\n",
    "loadings_df = pd.DataFrame(\n",
    "    eigenvectors[:,:],\n",
    "    columns=data_df_pca.columns[:],\n",
    ").T\n",
    "summed_loadings = np.sum(abs(eigenvectors), axis=0)\n",
    "summed_loadings_df = pd.DataFrame(\n",
    "    summed_loadings, index=data_df_pca.columns, columns=[\"Sum\"]\n",
    ").sort_values(ascending=False, by=\"Sum\")\n",
    "\n",
    "fig, axes = plt.subplots(nrows=2, ncols=1, figsize=(18, 6))\n",
    "\n",
    "summed_loadings_df.plot(kind=\"bar\", legend=False, ax=axes[0])\n",
    "axes[0].set_title(\"Summed Loadings Across All Principal Components\")\n",
    "axes[0].set_ylabel(\"Summed Loadings\")\n",
    "axes[0].set_xlabel(\"Features\")\n",
    "axes[0].tick_params(axis=\"x\", labelrotation=45)\n",
    "axes[0].legend()\n",
    "loadings_df.plot(kind=\"bar\", legend=False, ax=axes[1])\n",
    "axes[1].set_title(f\"Loadings for {data_df.shape[1]} Principal Components\")\n",
    "axes[1].set_ylabel(\"Loadings\")\n",
    "axes[1].set_xlabel(\"Features\")\n",
    "axes[1].tick_params(axis=\"x\", labelrotation=45)\n",
    "axes[1].legend(loc='upper left', bbox_to_anchor=(1, 1))\n",
    "\n",
    "plt.tight_layout()\n",
    "plt.show()"
   ]
  },
  {
   "cell_type": "markdown",
   "id": "c9b3d01c",
   "metadata": {},
   "source": [
    "## Feature Evaluation\n",
    "\n",
    "The Information Coefficient (IC), calculated here using Spearman's rank correlation. It measures the strength and direction of a monotonic relationship between two variables.\n",
    "\n",
    "IC is useful because it can capture nonlinear relationships between variables. A high absolute value of the IC indicates a strong relationship, which could be either positive or negative.\n",
    "\n",
    "The Mutual Information (MI) quantifies the amount of information obtained about one random variable through observing the other random variable. It's measuring how much information each feature in our dataset provides about the target variable.\n",
    "\n",
    "Unlike correlation, MI can capture any kind of relationship between variables, not just linear or monotonic. It's particularly useful in feature selection for machine learning because it can identify features that are informative about the target variable.\n",
    "\n",
    "Effective feature selection can improve model performance by reducing overfitting, improving accuracy, and reducing training time. It helps in simplifying models to make them more interpretable, and in focusing on the most relevant data, which can be particularly important in datasets with a large number of features."
   ]
  },
  {
   "cell_type": "code",
   "execution_count": 10,
   "id": "26f5cc4c",
   "metadata": {},
   "outputs": [
    {
     "data": {
      "image/png": "[encoded data removed]",
      "text/plain": [
       "<Figure size 1800x400 with 1 Axes>"
      ]
     },
     "metadata": {},
     "output_type": "display_data"
    }
   ],
   "source": [
    "import seaborn as sns\n",
    "import matplotlib.pyplot as plt\n",
    "from scipy.stats import spearmanr\n",
    "from sklearn.feature_selection import mutual_info_regression\n",
    "\n",
    "ic = {}\n",
    "for column in data_df.columns:\n",
    "    if column != TARGET_LABEL:\n",
    "        corr, p_val = spearmanr(data_df[TARGET_LABEL], data_df[column])\n",
    "        ic[column] = [corr, p_val]\n",
    "\n",
    "ic_df = pd.DataFrame(ic, index=[\"IC\", \"p-value\"]).T\n",
    "\n",
    "mi = mutual_info_regression(X=data_df.drop(columns=[TARGET_LABEL]), y=data_df[TARGET_LABEL])\n",
    "mi_series = pd.Series(mi, index=data_df.drop(columns=[TARGET_LABEL]).columns)\n",
    "metrics = pd.concat(\n",
    "    [\n",
    "        mi_series.to_frame(\"Mutual Information\"),\n",
    "        ic_df[\"IC\"].to_frame(\"Information Coefficient\"),\n",
    "    ],\n",
    "    axis=1,\n",
    ")\n",
    "metrics = metrics.sort_values(by=\"Mutual Information\", ascending=False)\n",
    "ax = metrics.plot.bar(figsize=(18, 4), rot=45)\n",
    "ax.set_xlabel(\"Features\")\n",
    "ax.set_ylabel(\"Scores\")\n",
    "ax.set_title(\"Feature Evaluation: MI & IC\")\n",
    "sns.despine()\n",
    "plt.tight_layout()\n",
    "plt.show()"
   ]
  },
  {
   "cell_type": "markdown",
   "id": "5fee3767",
   "metadata": {},
   "source": [
    "## Feature Selection\n",
    "\n",
    "Let's do a union of the important features from both PCA and IC/MI methods."
   ]
  },
  {
   "cell_type": "code",
   "execution_count": 11,
   "id": "c2fcad60",
   "metadata": {},
   "outputs": [
    {
     "name": "stdout",
     "output_type": "stream",
     "text": [
      "Top 10 PCA Loadings: ['Close', 'Low', 'Open', '^RUT', 'High', '^N100', '^TNX', '^VIX', 'month_rbf', 'quart_rbf']\n",
      "Top 10 MI/IC: ['biz_rbf', 'Open', 'Low', 'month_rbf', 'day_rbf', '^RUT', 'Close', '^N100', 'High', 'quart_rbf']\n",
      "Selected 8 features: ['High', 'Low', 'Open', '^RUT', 'Close', 'month_rbf', '^N100', 'quart_rbf']\n"
     ]
    }
   ],
   "source": [
    "MAX_FEATURES_COUNT = 10\n",
    "\n",
    "features_pca = summed_loadings_df.head(MAX_FEATURES_COUNT).index.tolist()\n",
    "features_miic = (metrics.head(MAX_FEATURES_COUNT).index.tolist())\n",
    "print(F\"Top {MAX_FEATURES_COUNT} PCA Loadings: {features_pca}\")\n",
    "print(F\"Top {MAX_FEATURES_COUNT} MI/IC: {features_miic}\")\n",
    "SELECTED_FEATURES = list(set(features_pca) & set(features_miic))\n",
    "\n",
    "print(f\"Selected {len(SELECTED_FEATURES)} features: {SELECTED_FEATURES}\")"
   ]
  },
  {
   "cell_type": "code",
   "execution_count": 12,
   "id": "7dc9a383",
   "metadata": {},
   "outputs": [
    {
     "data": {
      "text/plain": [
       "(['^VIX', '^TNX', '^N100', '^RUT', '399001.SZ'],\n",
       " ['day_rbf',\n",
       "  'month_rbf',\n",
       "  'quart_rbf',\n",
       "  'biz_rbf',\n",
       "  'Close_target',\n",
       "  'High',\n",
       "  'Low',\n",
       "  'Close'])"
      ]
     },
     "execution_count": 12,
     "metadata": {},
     "output_type": "execute_result"
    }
   ],
   "source": [
    "SELECTED_FEATURES =  data_df.drop(columns=EXOG_TS+[\"Open\", \"Volume\"]).columns.to_list()\n",
    "SELECTED_EXOG = EXOG_TS\n",
    "\n",
    "SELECTED_EXOG, SELECTED_FEATURES"
   ]
  },
  {
   "cell_type": "markdown",
   "id": "af3cb19b",
   "metadata": {},
   "source": [
    "### Multicolinearity and Variance Inflation Factor (VIF)\n",
    "\n",
    "For feature not to be colinear, they have to score between 1 to 5."
   ]
  },
  {
   "cell_type": "code",
   "execution_count": 13,
   "id": "489e9928",
   "metadata": {},
   "outputs": [
    {
     "name": "stdout",
     "output_type": "stream",
     "text": [
      "         feature       VIF\n",
      "0          const  7.087837\n",
      "1        day_rbf  1.001600\n",
      "2      month_rbf  1.603819\n",
      "3      quart_rbf  1.604391\n",
      "4        biz_rbf  1.000753\n",
      "5   Close_target  1.002149\n",
      "6           High  2.594075\n",
      "7            Low  2.644822\n",
      "8          Close  2.573628\n",
      "9           ^VIX  1.617526\n",
      "10          ^TNX  1.044646\n",
      "11         ^N100  1.588454\n",
      "12          ^RUT  1.450289\n",
      "13     399001.SZ  1.010232\n"
     ]
    }
   ],
   "source": [
    "from statsmodels.stats.outliers_influence import variance_inflation_factor\n",
    "from statsmodels.tools.tools import add_constant\n",
    "\n",
    "data_with_constant = add_constant(data_df[SELECTED_FEATURES + SELECTED_EXOG])\n",
    "vif_data = pd.DataFrame()\n",
    "vif_data[\"feature\"] = data_with_constant.columns\n",
    "vif_data[\"VIF\"] = [\n",
    "    variance_inflation_factor(data_with_constant.values, i)\n",
    "    for i in range(data_with_constant.shape[1])\n",
    "]\n",
    "\n",
    "print(vif_data)"
   ]
  },
  {
   "cell_type": "markdown",
   "id": "05e574d6",
   "metadata": {},
   "source": [
    "# TCN Architecture"
   ]
  },
  {
   "cell_type": "code",
   "execution_count": 14,
   "id": "421953b9",
   "metadata": {},
   "outputs": [],
   "source": [
    "from os import name\n",
    "import tensorflow as tf\n",
    "from tensorflow.keras.activations import relu, tanh, sigmoid\n",
    "from tensorflow.keras.layers import (\n",
    "    SpatialDropout1D,\n",
    "    Dropout,\n",
    "    Dense,\n",
    "    Conv1D,\n",
    "    Layer,\n",
    "    Add,\n",
    "    Input,\n",
    "    Concatenate,\n",
    "    Flatten,\n",
    "    LeakyReLU,\n",
    "    ReLU,\n",
    "    Lambda,\n",
    "    BatchNormalization,\n",
    "    Reshape,\n",
    ")\n",
    "from tensorflow.keras import Model\n",
    "from tensorflow.keras.regularizers import l2\n",
    "from tensorflow.keras import backend as K\n",
    "\n",
    "assert tf.__version__ >= \"2.0\"\n",
    "\n",
    "NONLINEAR_ACTIVATION = LeakyReLU(alpha=0.01)\n",
    "\n",
    "\n",
    "class GatedActivationBlock(Layer):\n",
    "    \"\"\"\n",
    "    This layer applies a gated activation mechanism to its input.\n",
    "    The input tensor is expected to have its last dimension divisible by 2.\n",
    "    The first half of the channels are passed through a tanh activation,\n",
    "    and the second half through a sigmoid to create a gating mechanism.\n",
    "    The final output is the product of the above.\n",
    "    \"\"\"\n",
    "    def __init__(self, **kwargs):\n",
    "        super().__init__(**kwargs)\n",
    "\n",
    "    def call(self, inputs):\n",
    "        n_filters = inputs.shape[-1] // 2\n",
    "        linear_output = tanh(inputs[..., :n_filters])\n",
    "        gate = sigmoid(inputs[..., n_filters:])\n",
    "        return linear_output * gate\n",
    "\n",
    "class TCNBlock(Layer):\n",
    "    \"\"\"\n",
    "    TCN Residual Block that uses zero-padding to maintain `steps` value of the ouput equal to the one in the input.\n",
    "    Residual Block is obtained by stacking togeather (2x) the following:\n",
    "        - 1D Dilated Convolution\n",
    "        - ReLu\n",
    "        - Spatial Dropout\n",
    "    And adding the input after trasnforming it with a 1x1 Conv\n",
    "    forked and extended from: https://github.com/albertogaspar/dts/blob/master/dts/models/TCN.py\n",
    "    \"\"\"\n",
    "\n",
    "    def __init__(\n",
    "        self,\n",
    "        filters=1,\n",
    "        kernel_size=2,\n",
    "        dilation_rate=1,\n",
    "        kernel_initializer=\"glorot_normal\",\n",
    "        bias_initializer=\"glorot_normal\",\n",
    "        kernel_regularizer=None,\n",
    "        bias_regularizer=None,\n",
    "        use_bias=False,\n",
    "        dropout_rate=0.0,\n",
    "        layer_id=None,\n",
    "        **kwargs,\n",
    "    ):\n",
    "        \"\"\" \"\n",
    "        Arguments\n",
    "            filters: Integer, the dimensionality of the output space\n",
    "                (i.e. the number of output filters in the convolution).\n",
    "            kernel_size: An integer or tuple/list of a single integer,\n",
    "                specifying the length of the 1D convolution window.\n",
    "            dilation_rate: an integer or tuple/list of a single integer, specifying\n",
    "                the dilation rate to use for dilated convolution.\n",
    "                Usually dilation rate increases exponentially with the depth of the network.\n",
    "            activation: Activation function to use\n",
    "                If you don't specify anything, no activation is applied\n",
    "                (ie. \"linear\" activation: `a(x) = x`).\n",
    "            use_bias: Boolean, whether the layer uses a bias vector.\n",
    "            kernel_initializer: Initializer for the `kernel` weights matrix\n",
    "            bias_initializer: Initializer for the bias vector\n",
    "            kernel_regularizer: Regularizer function applied to the `kernel` weights matrix\n",
    "            bias_regularizer: Regularizer function applied to the bias vector\n",
    "                (see [regularizer](../regularizers.md)).\n",
    "        # Input shape\n",
    "            3D tensor with shape: `(batch, steps, n_features)`\n",
    "        # Output shape\n",
    "            3D tensor with shape: `(batch, steps, filters)`\n",
    "        \"\"\"\n",
    "        super(TCNBlock, self).__init__(**kwargs)\n",
    "        assert dilation_rate is not None and dilation_rate > 0 and filters > 0 and kernel_size > 0\n",
    "\n",
    "        self.filters = filters\n",
    "        self.kernel_size = kernel_size\n",
    "        self.dilation_rate = dilation_rate\n",
    "        self.kernel_initializer = kernel_initializer\n",
    "        self.bias_initializer = bias_initializer\n",
    "        self.kernel_regularizer = kernel_regularizer\n",
    "        self.bias_regularizer = bias_regularizer\n",
    "        self.use_bias = use_bias\n",
    "        self.dropout_rate = dropout_rate\n",
    "        self.layer_id = str(layer_id)\n",
    "\n",
    "    def get_config(self):\n",
    "        config = super(TCNBlock, self).get_config()\n",
    "        config.update({\n",
    "            'filters': self.filters,\n",
    "            'kernel_size': self.kernel_size,\n",
    "            'dilation_rate': self.dilation_rate,\n",
    "            'kernel_initializer': self.kernel_initializer,\n",
    "            'bias_initializer': self.bias_initializer,\n",
    "            'kernel_regularizer': self.kernel_regularizer,\n",
    "            'bias_regularizer': self.bias_regularizer,\n",
    "            'use_bias': self.use_bias,\n",
    "            'dropout_rate': self.dropout_rate,\n",
    "        })\n",
    "        return config\n",
    "\n",
    "    def build(self, inputs):\n",
    "        # Capture feature set from the input\n",
    "        self.conv1 = Conv1D(\n",
    "            filters=self.filters,\n",
    "            kernel_size=self.kernel_size,\n",
    "            use_bias=self.use_bias,\n",
    "            bias_initializer=self.bias_initializer,\n",
    "            bias_regularizer=self.bias_regularizer,\n",
    "            kernel_initializer=self.kernel_initializer,\n",
    "            kernel_regularizer=self.kernel_regularizer,\n",
    "            padding=\"causal\",\n",
    "            dilation_rate=self.dilation_rate,\n",
    "            activation=NONLINEAR_ACTIVATION,\n",
    "            name=f\"Conv1D_1_{self.layer_id}\"\n",
    "        )\n",
    "        # Spatial dropout is specific to convolutions by dropping an entire timewindow,\n",
    "        # not to rely too heavily on specific features detected by the kernels.\n",
    "        self.dropout1 = SpatialDropout1D(\n",
    "            self.dropout_rate, trainable=True, name=f\"SpatialDropout1D_1_{self.layer_id}\"\n",
    "        )\n",
    "        # Capture a higher order feature set from the previous convolution\n",
    "        self.conv2 = Conv1D(\n",
    "            filters=self.filters,\n",
    "            kernel_size=self.kernel_size,\n",
    "            use_bias=self.use_bias,\n",
    "            bias_initializer=self.bias_initializer,\n",
    "            bias_regularizer=self.bias_regularizer,\n",
    "            kernel_initializer=self.kernel_initializer,\n",
    "            kernel_regularizer=self.kernel_regularizer,\n",
    "            padding=\"causal\",\n",
    "            dilation_rate=self.dilation_rate,\n",
    "            activation=NONLINEAR_ACTIVATION,\n",
    "            name=f\"Conv1D_2_{self.layer_id}\"\n",
    "        )\n",
    "        self.dropout2 = SpatialDropout1D(\n",
    "            self.dropout_rate, trainable=True, name=f\"SpatialDropout1D_2_{self.layer_id}\"\n",
    "        )\n",
    "        # The skip connection is an addition of the input to the block with the output of the second dropout layer.\n",
    "        # Solves vanishing gradient, carries info from earlier layers to later layers, allowing gradients to flow across this alternative path.\n",
    "        # Does not learn direct mappings, but differences (residuals) while keeping temporal context.\n",
    "        # Note how it keeps dims intact with kernel 1.\n",
    "        self.skip_out = Conv1D(\n",
    "            filters=self.filters,\n",
    "            kernel_size=1,\n",
    "            activation=\"relu\",\n",
    "            name=f\"Conv1D_skipconnection_{self.layer_id}\",\n",
    "        )\n",
    "        # This is the elementwise add for the residual connection and Conv1d 2's output\n",
    "        self.residual_out = Add(name=f\"residual_Add_{self.layer_id}\")\n",
    "\n",
    "    def call(self, inputs):\n",
    "        x = self.conv1(inputs)\n",
    "        x = self.dropout1(x)\n",
    "        x = self.conv2(x)\n",
    "        x = self.dropout2(x)\n",
    "\n",
    "        # Residual output by adding the inputs back\n",
    "        skip_out_x = self.skip_out(inputs)\n",
    "        x = self.residual_out([x, skip_out_x])\n",
    "        return x, skip_out_x\n",
    "\n",
    "class ConditionalBlock(Layer):\n",
    "    \"\"\"\n",
    "    TCN condtioning Block that conditions a target timeseries to exogenous timeserieses.\n",
    "    The Block is obtained by stacking togeather the following:\n",
    "        - 1D Dilated Convolution for the main TS.\n",
    "        - 1D Dilated Convolution for the exog TSs.\n",
    "        - 1D Dilated skip layer for both to retain history.\n",
    "        - ReLu\n",
    "        - Spatial Dropout\n",
    "    And adding the input after trasnforming it with a 1x1 Conv\n",
    "    forked and extended from: https://github.com/albertogaspar/dts/blob/master/dts/models/TCN.py\n",
    "    \"\"\"\n",
    "\n",
    "    def __init__(\n",
    "        self,\n",
    "        filters=1,\n",
    "        kernel_size=2,\n",
    "        kernel_initializer=\"glorot_normal\",\n",
    "        bias_initializer=\"glorot_normal\",\n",
    "        kernel_regularizer=None,\n",
    "        bias_regularizer=None,\n",
    "        use_bias=False,\n",
    "        dropout_rate=0.01,\n",
    "        layer_id=None,\n",
    "        **kwargs,\n",
    "    ):\n",
    "        super(ConditionalBlock, self).__init__(**kwargs)\n",
    "\n",
    "        assert filters > 0 and kernel_size > 0\n",
    "\n",
    "        self.filters = filters\n",
    "        self.kernel_size = kernel_size\n",
    "        self.kernel_initializer = kernel_initializer\n",
    "        self.bias_initializer = bias_initializer\n",
    "        self.kernel_regularizer = kernel_regularizer\n",
    "        self.bias_regularizer = bias_regularizer\n",
    "        self.use_bias = use_bias\n",
    "        self.dropout_rate = dropout_rate\n",
    "        self.layer_id = str(layer_id)\n",
    "\n",
    "    def get_config(self):\n",
    "        config = super(ConditionalBlock, self).get_config()\n",
    "        config.update({\n",
    "            'filters': self.filters,\n",
    "            'kernel_size': self.kernel_size,\n",
    "            'kernel_initializer': self.kernel_initializer,\n",
    "            'bias_initializer': self.bias_initializer,\n",
    "            'kernel_regularizer': self.kernel_regularizer,\n",
    "            'bias_regularizer': self.bias_regularizer,\n",
    "            'use_bias': self.use_bias,\n",
    "            'dropout_rate': self.dropout_rate,\n",
    "            'id': self.layer_id\n",
    "        })\n",
    "        return config\n",
    "\n",
    "    def build(self, inputs):\n",
    "        self.main_conv = Conv1D(\n",
    "            filters=self.filters,\n",
    "            kernel_size=self.kernel_size,\n",
    "            use_bias=self.use_bias,\n",
    "            bias_initializer=self.bias_initializer,\n",
    "            bias_regularizer=self.bias_regularizer,\n",
    "            kernel_initializer=self.kernel_initializer,\n",
    "            kernel_regularizer=self.kernel_regularizer,\n",
    "            padding=\"causal\",\n",
    "            activation=NONLINEAR_ACTIVATION,\n",
    "            name=f\"Conv1D_Conditional_1\",\n",
    "        )\n",
    "        self.dropout1 = SpatialDropout1D(\n",
    "            self.dropout_rate, trainable=True, name=f\"SpatialDropout1D_1_{self.layer_id}\"\n",
    "        )\n",
    "        self.main_skip_conn = Conv1D(\n",
    "            filters=self.filters,\n",
    "            kernel_size=1,\n",
    "            activation=\"relu\",\n",
    "            name=f\"Skip_Conditional_1\",\n",
    "        )\n",
    "        self.cond_conv = Conv1D(\n",
    "            filters=self.filters,\n",
    "            kernel_size=self.kernel_size,\n",
    "            use_bias=self.use_bias,\n",
    "            bias_initializer=self.bias_initializer,\n",
    "            bias_regularizer=self.bias_regularizer,\n",
    "            kernel_initializer=self.kernel_initializer,\n",
    "            kernel_regularizer=self.kernel_regularizer,\n",
    "            padding=\"causal\",\n",
    "            activation=NONLINEAR_ACTIVATION,\n",
    "            name=f\"Conv1D_Conditional_2\",\n",
    "        )\n",
    "        self.cond_skip_conn = Conv1D(\n",
    "            filters=self.filters,\n",
    "            kernel_size=1,\n",
    "            activation=\"relu\",\n",
    "            name=f\"Skip_Conditional_2\",\n",
    "        )\n",
    "        self.dropout2 = SpatialDropout1D(\n",
    "            self.dropout_rate, trainable=True, name=f\"SpatialDropout1D_2_{self.layer_id}\"\n",
    "        )\n",
    "\n",
    "    def call(self, inputs):\n",
    "        \"\"\"\n",
    "        Will apply causal convolutions to every TS and concatenate the results.\n",
    "        :param inputs: Array\n",
    "            A list where inputs[0] is the main input and inputs[1] are the conditional inputs\n",
    "        :return: Array\n",
    "            Tensor of concatenated results.\n",
    "        \"\"\"\n",
    "        main_input, cond_input = inputs[0], inputs[1] if len(inputs) > 1 else None\n",
    "\n",
    "        x = self.main_conv(main_input)\n",
    "        x = self.dropout1(x)\n",
    "        skip_out_x = self.main_skip_conn(main_input)\n",
    "        x = Add()([x, skip_out_x])\n",
    "        if cond_input is not None:\n",
    "            cond_x = self.cond_conv(cond_input)\n",
    "            cond_x = self.dropout2(cond_x)\n",
    "            cond_skip_out_x = self.cond_skip_conn(cond_input)\n",
    "            cond_x = Add()([cond_x, cond_skip_out_x])\n",
    "\n",
    "            x = Concatenate(axis=-1)([x, cond_x])\n",
    "        return x\n",
    "\n",
    "\n",
    "def TCN(\n",
    "    input_shape,\n",
    "    dense_units=None,\n",
    "    conditioning_shapes=None,\n",
    "    output_horizon=1,\n",
    "    num_filters=32,\n",
    "    num_layers=1,\n",
    "    kernel_size=2,\n",
    "    dilation_rate=2,\n",
    "    kernel_initializer=\"glorot_normal\",\n",
    "    bias_initializer=\"glorot_normal\",\n",
    "    kernel_regularizer=None,\n",
    "    bias_regularizer=None,\n",
    "    use_bias=False,\n",
    "    dropout_rate=0.01,\n",
    "):\n",
    "    \"\"\"\n",
    "    Tensorflow TCN Model builder.\n",
    "    forked and extended from: https://github.com/albertogaspar/dts/blob/master/dts/models/TCN.py\n",
    "    see: https://www.tensorflow.org/api_docs/python/tf/keras/Model\n",
    "    see: https://www.tensorflow.org/guide/keras/making_new_layers_and_models_via_subclassing#the_model_class\n",
    "    see: https://www.tensorflow.org/api_docs/python/tf/keras/regularizers/L2\n",
    "\n",
    "    :param layers: int\n",
    "        Number of layers for the network. Defaults to 1 layer.\n",
    "    :param filters: int\n",
    "        the number of output filters in the convolution. Defaults to 32.\n",
    "    :param kernel_size: int or tuple\n",
    "        the length of the 1D convolution window\n",
    "    :param dilation_rate: int\n",
    "        the dilation rate to use for dilated convolution. Defaults to 1.\n",
    "    :param output_horizon: int\n",
    "        the output horizon.\n",
    "    \"\"\"\n",
    "    MAX_FILTER = 512\n",
    "\n",
    "    main_input = Input(shape=input_shape, name=\"main_input\")\n",
    "    cond_input = (\n",
    "        Input(shape=conditioning_shapes, name=\"exog_input\")\n",
    "        if conditioning_shapes is not None and len(conditioning_shapes) > 0\n",
    "        else None\n",
    "    )\n",
    "    x = main_input\n",
    "    if cond_input is not None:\n",
    "        x = ConditionalBlock(\n",
    "            filters=num_filters,\n",
    "            kernel_size=kernel_size,\n",
    "            kernel_initializer=kernel_initializer,\n",
    "            bias_initializer=bias_initializer,\n",
    "            kernel_regularizer=kernel_regularizer,\n",
    "            bias_regularizer=bias_regularizer,\n",
    "            use_bias=use_bias,\n",
    "            dropout_rate=dropout_rate,\n",
    "        )([main_input] + [cond_input])\n",
    "    skip_to_last = []\n",
    "    for i in range(num_layers):\n",
    "        x, x_skip = TCNBlock(\n",
    "            filters=num_filters,\n",
    "            kernel_size=kernel_size,\n",
    "            dilation_rate=dilation_rate ** (i + 1),\n",
    "            kernel_initializer=kernel_initializer,\n",
    "            bias_initializer=bias_initializer,\n",
    "            kernel_regularizer=kernel_regularizer,\n",
    "            bias_regularizer=bias_regularizer,\n",
    "            use_bias=use_bias,\n",
    "            dropout_rate=dropout_rate,\n",
    "            layer_id=i,\n",
    "        )(x)\n",
    "        # Last x can be dropped\n",
    "        skip_to_last.append(x_skip)\n",
    "    if len(skip_to_last) > 0:\n",
    "        x = relu(Add(name=\"residual_skip_to_last\")(skip_to_last))\n",
    "    x = Conv1D(num_filters, kernel_size=1, padding=\"causal\", activation=\"relu\", name=f\"PreConv_Classifier\")(x)\n",
    "    x = Conv1D(output_horizon, kernel_size=1, activation=\"sigmoid\", padding=\"causal\", name=f\"Conv_Classifier\")(x)\n",
    "\n",
    "    # Drop the channels, get last lag, 1 freature: direction.\n",
    "    # [batch_size, time_steps, features]\n",
    "    # x = Lambda(lambda x: x[:, :, 0])(x)\n",
    "\n",
    "    model = Model(\n",
    "        inputs=[main_input, cond_input] if cond_input is not None else [main_input],\n",
    "        outputs=x,\n",
    "        name=\"TCN_Conditional_Model\",\n",
    "    )\n",
    "\n",
    "    return model"
   ]
  },
  {
   "cell_type": "markdown",
   "id": "30e8329e",
   "metadata": {},
   "source": [
    "# Train Model\n",
    "Using tensorbards: `tensorboard --logdir logs/hparam_tuning`"
   ]
  },
  {
   "cell_type": "code",
   "execution_count": 15,
   "id": "3ba82142",
   "metadata": {},
   "outputs": [
    {
     "name": "stdout",
     "output_type": "stream",
     "text": [
      "Num GPUs Available:  1\n"
     ]
    }
   ],
   "source": [
    "import os\n",
    "import shutil\n",
    "from tensorflow.config.experimental import list_physical_devices, set_memory_growth\n",
    "\n",
    "tf.keras.backend.clear_session()\n",
    "\n",
    "# https://learn.microsoft.com/en-us/windows/ai/directml/gpu-tensorflow-plugin\n",
    "gpus = list_physical_devices(\"GPU\")\n",
    "print(\"Num GPUs Available: \", len(gpus))\n",
    "if gpus:\n",
    "    try:\n",
    "        for gpu in gpus:\n",
    "            set_memory_growth(gpu, True)\n",
    "    except RuntimeError as e:\n",
    "        print(e)\n",
    "\n",
    "MODEL_DIR = f\"./models/{datetime.now().strftime('%Y%m%d')}\"\n",
    "DELETE_OLD_LOGS = True\n",
    "\n",
    "LOG_BASEPATH = \"./logs\"\n",
    "if DELETE_OLD_LOGS and os.path.exists(LOG_BASEPATH):\n",
    "    assert os.path.isdir(LOG_BASEPATH)\n",
    "    shutil.rmtree(LOG_BASEPATH)"
   ]
  },
  {
   "cell_type": "markdown",
   "id": "5f8ff228",
   "metadata": {},
   "source": [
    "## Hyper Parameters"
   ]
  },
  {
   "cell_type": "code",
   "execution_count": 33,
   "id": "22d53654",
   "metadata": {},
   "outputs": [],
   "source": [
    "from tensorboard.plugins.hparams import api as hp\n",
    "from tensorflow.keras.losses import BinaryCrossentropy, BinaryFocalCrossentropy\n",
    "from tensorflow.keras.metrics import AUC, BinaryAccuracy\n",
    "from datetime import datetime\n",
    "from sklearn.model_selection import ParameterGrid, TimeSeriesSplit\n",
    "import json\n",
    "import pickle\n",
    "\n",
    "OOS_SPLIT = 0.1\n",
    "VAL_SPLIT = 0.15\n",
    "EPOCHS = 300\n",
    "PATIENCE_EPOCHS = 15\n",
    "BATCH_SIZE = 124\n",
    "FILTER = 128\n",
    "HIDDEN_DENSE = [124, 16]\n",
    "BIAS = True\n",
    "DROPRATE = 0.5\n",
    "POOL_SIZE = 8\n",
    "KERNEL_SIZE = 2\n",
    "DILATION_RATE = 1\n",
    "MAX_LAYERS = 2\n",
    "REG_WEIGHTS = 0.05\n",
    "LEARN_RATE = 0.01\n",
    "MODEL_LOG_DIR = f'{LOG_BASEPATH}/{datetime.now().strftime(\"%d%H%M%S\")}'\n",
    "TARGET_METRIC = \"auc\" if IS_CLASSIFICATION else \"mae\"\n",
    "LOSS = BinaryFocalCrossentropy(apply_class_balancing=True, from_logits=True) if IS_CLASSIFICATION else TARGET_METRIC\n",
    "METRICS = [AUC(name=TARGET_METRIC), BinaryCrossentropy(from_logits=True), BinaryAccuracy(), 'accuracy'] if IS_CLASSIFICATION else [\"mae\", \"mse\", \"mape\"]"
   ]
  },
  {
   "cell_type": "markdown",
   "id": "ea9a3ae9",
   "metadata": {},
   "source": [
    "## Tensorboard for profiling"
   ]
  },
  {
   "cell_type": "code",
   "execution_count": 34,
   "id": "06a2ca2c",
   "metadata": {},
   "outputs": [
    {
     "name": "stdout",
     "output_type": "stream",
     "text": [
      "TensorBoard started at http://DESKTOP-2E58CIV:6006/\n"
     ]
    }
   ],
   "source": [
    "from tensorboard import program\n",
    "\n",
    "tb = program.TensorBoard()\n",
    "tb.configure(argv=[None, '--logdir', LOG_BASEPATH, '--bind_all'])\n",
    "url = tb.launch()\n",
    "print(f\"TensorBoard started at {url}\")"
   ]
  },
  {
   "cell_type": "markdown",
   "id": "82617c46",
   "metadata": {},
   "source": [
    "## Model Training"
   ]
  },
  {
   "cell_type": "code",
   "execution_count": 35,
   "id": "f481f001",
   "metadata": {},
   "outputs": [],
   "source": [
    "from tensorflow.keras.regularizers import L2, L1L2\n",
    "from tensorflow.keras.callbacks import EarlyStopping, TensorBoard,ModelCheckpoint,ReduceLROnPlateau,LambdaCallback\n",
    "from tensorflow.keras.optimizers import Adam\n",
    "from tensorflow.summary import create_file_writer\n",
    "from tensorflow.debugging.experimental import enable_dump_debug_info\n",
    "from tensorflow.math import confusion_matrix\n",
    "import io\n",
    "\n",
    "def plot_confusion_matrix(cm, labels, cm2=None, labels2=None):\n",
    "        plt.figure(figsize=(8 if cm2 is not None else 4, 4))\n",
    "        if cm2 is not None:\n",
    "            plt.subplot(1, 2, 1)\n",
    "        plt.imshow(cm, interpolation='nearest', cmap=plt.cm.Accent)\n",
    "\n",
    "        df_cm = pd.DataFrame((cm / np.sum(cm, axis=1)[:, None])*100, index=[i for i in labels], columns=[i for i in labels])\n",
    "        cm_plot1 = sns.heatmap(df_cm, annot=True,  fmt=\".2f\", cmap='Blues', xticklabels=labels, yticklabels=labels).get_figure()\n",
    "        plt.xlabel('Predicted Labels')\n",
    "        plt.ylabel('True Labels')\n",
    "        plt.title('Confusion Matrix 1')\n",
    "        tick_marks = np.arange(len(labels))\n",
    "        plt.xticks(tick_marks, labels, rotation=45)\n",
    "        plt.yticks(tick_marks, labels)\n",
    "\n",
    "        cm_plot2=None\n",
    "        if cm2 is not None:\n",
    "            plt.subplot(1, 2, 2)\n",
    "            df_cm = pd.DataFrame((cm / np.sum(cm, axis=1)[:, None])*100, index=[i for i in labels2], columns=[i for i in labels2])\n",
    "            cm_plot12 = sns.heatmap(df_cm, annot=True,  fmt=\".2f\", cmap='Reds', xticklabels=labels, yticklabels=labels).get_figure()\n",
    "            plt.xlabel('Predicted Labels')\n",
    "            plt.title('Confusion Matrix 2')\n",
    "        plt.tight_layout()\n",
    "\n",
    "        return cm_plot1, cm_plot2\n",
    "\n",
    "# enable_dump_debug_info(LOG_BASEPATH, tensor_debug_mode=\"FULL_HEALTH\", circular_buffer_size=-1)\n",
    "\n",
    "# See: https://scikit-learn.org/stable/modules/generated/sklearn.model_selection.ParameterGrid.html\n",
    "# See paper: https://www.mdpi.com/2076-3417/10/7/2322\n",
    "HP_NUM_FILTERS = hp.HParam(\"num_filters\", hp.Discrete([FILTER * 3, FILTER * 2, FILTER]))\n",
    "HP_KERNEL_SIZE = hp.HParam(\"kernel_size\", hp.Discrete([KERNEL_SIZE * 2, KERNEL_SIZE]))\n",
    "HP_BATCH_SIZE = hp.HParam(\"batch_size\", hp.Discrete([BATCH_SIZE]))\n",
    "HP_EPOCHS = hp.HParam(\"epochs\", hp.Discrete([EPOCHS]))\n",
    "HP_DILATION_RATE = hp.HParam(\"dilation_rate\", hp.Discrete([DILATION_RATE]))\n",
    "HP_DROPOUT_RATE = hp.HParam(\"dropout_rate\", hp.Discrete([DROPRATE, 0.5]))\n",
    "HP_NUM_LAYERS = hp.HParam(\"num_layers\", hp.Discrete([MAX_LAYERS * 2, MAX_LAYERS, 1]))\n",
    "HP_REG_WEIGHTS = hp.HParam(\"reg_weight\", hp.Discrete([REG_WEIGHTS, 0.0005]))\n",
    "HP_LEARNING_RATE = hp.HParam(\"learning_rate\", hp.Discrete([LEARN_RATE]))\n",
    "HP_PATIENCE = hp.HParam(\"patience\", hp.Discrete([PATIENCE_EPOCHS]))\n",
    "HP_BIAS = hp.HParam(\"bias\", hp.Discrete([BIAS]))\n",
    "HP_HIDDEN_DENSE = hp.HParam(\"dense_units\", hp.Discrete([\n",
    "    \"0\",\n",
    "    \"8\",\n",
    "    \"128_32\",\n",
    "    \"64_32_16\",\n",
    "    \"128_128_64_32\",\n",
    "]))\n",
    "HPARAMS = [\n",
    "    HP_NUM_FILTERS,\n",
    "    HP_KERNEL_SIZE,\n",
    "    HP_BATCH_SIZE,\n",
    "    HP_EPOCHS,\n",
    "    HP_DILATION_RATE,\n",
    "    HP_DROPOUT_RATE,\n",
    "    HP_NUM_LAYERS,\n",
    "    HP_REG_WEIGHTS,\n",
    "    HP_LEARNING_RATE,\n",
    "    HP_PATIENCE,\n",
    "    HP_BIAS,\n",
    "    HP_HIDDEN_DENSE\n",
    "]\n",
    "\n",
    "\n",
    "def build_tcn(\n",
    "    input_shape, X, y, Xt=None, yt=None,\n",
    "    conditioning_shapes=None,\n",
    "    val_split=VAL_SPLIT,\n",
    "    output_horizon=PREDICTION_HORIZON,\n",
    "    num_filters=FILTER,\n",
    "    kernel_size=KERNEL_SIZE,\n",
    "    num_layers=MAX_LAYERS,\n",
    "    dilation_rate=DILATION_RATE,\n",
    "    kernel_regularizer=L1L2(l1=REG_WEIGHTS, l2=REG_WEIGHTS//10),\n",
    "    bias_regularizer=L1L2(l1=REG_WEIGHTS, l2=REG_WEIGHTS//10),\n",
    "    dropout_rate=DROPRATE,\n",
    "    dense_units=HIDDEN_DENSE,\n",
    "    lr=LEARN_RATE,\n",
    "    patience=PATIENCE_EPOCHS,\n",
    "    epochs=EPOCHS,\n",
    "    batch_size=BATCH_SIZE,\n",
    "    use_bias=BIAS,\n",
    "    loss=LOSS,\n",
    "    tb=True,\n",
    "):\n",
    "    def log_confusion_matrix(epoch, logs):\n",
    "        def _plot_to_image(figure):\n",
    "            \"\"\"Converts the matplotlib plot specified by 'figure' to a PNG image and\n",
    "            returns it. The supplied figure is closed and inaccessible after this call.\"\"\"\n",
    "            buf = io.BytesIO()\n",
    "            plt.savefig(buf, format='png')\n",
    "            plt.close(figure)\n",
    "            buf.seek(0)\n",
    "            image = tf.image.decode_png(buf.getvalue(), channels=4)\n",
    "            image = tf.expand_dims(image, 0)\n",
    "            return image\n",
    "        # model is global as is XT and yt\n",
    "        ypred = model.predict(Xt)\n",
    "        cm = confusion_matrix(yt.flatten(), ypred.flatten())\n",
    "        figure, _ = plot_confusion_matrix(cm, labels=[1,0])\n",
    "        cm_image = _plot_to_image(figure)\n",
    "\n",
    "        file_writer_cm = create_file_writer(LOG_BASEPATH)\n",
    "        with file_writer_cm.as_default():\n",
    "            tf.summary.image(\"Confusion Matrix\", cm_image, step=epoch)\n",
    "    global model\n",
    "\n",
    "    model = TCN(\n",
    "        input_shape=input_shape,\n",
    "        conditioning_shapes=conditioning_shapes,\n",
    "        dense_units=dense_units,\n",
    "        output_horizon=output_horizon,\n",
    "        num_filters=num_filters,\n",
    "        kernel_size=kernel_size,\n",
    "        num_layers=num_layers,\n",
    "        dilation_rate=dilation_rate,\n",
    "        kernel_regularizer=kernel_regularizer,\n",
    "        bias_regularizer=bias_regularizer,\n",
    "        use_bias=use_bias,\n",
    "        dropout_rate=dropout_rate,\n",
    "    )\n",
    "\n",
    "    model.compile(loss=loss, optimizer=Adam(lr), metrics=METRICS)\n",
    "    callbacks = [EarlyStopping(\n",
    "                    patience=patience,\n",
    "                    monitor=f\"val_{TARGET_METRIC}\",\n",
    "                    restore_best_weights=True,\n",
    "                ),\n",
    "                ReduceLROnPlateau(\n",
    "                    monitor=f\"val_{TARGET_METRIC}\",\n",
    "                    factor=0.3,\n",
    "                    patience=PATIENCE_EPOCHS//2,\n",
    "                    verbose=1,\n",
    "                    min_delta=0.00001,\n",
    "                )]\n",
    "    if tb:\n",
    "        callbacks.append(TensorBoard(log_dir=MODEL_LOG_DIR,\n",
    "                                    histogram_freq=1,\n",
    "                                    write_graph=True,\n",
    "                                    write_images=True,\n",
    "                                    update_freq='epoch',\n",
    "                                    profile_batch=2,\n",
    "                                    embeddings_freq=1))\n",
    "    if tb and IS_CLASSIFICATION:\n",
    "        callbacks.append(LambdaCallback(on_epoch_end=log_confusion_matrix))\n",
    "    if Xt is not None:\n",
    "        history = model.fit(\n",
    "            X,\n",
    "            y,\n",
    "            validation_data=(Xt, yt),\n",
    "            epochs=epochs,\n",
    "            batch_size=batch_size,\n",
    "            callbacks=callbacks,\n",
    "            verbose=0,\n",
    "        )\n",
    "    else:\n",
    "        history = model.fit(\n",
    "            X,\n",
    "            y,\n",
    "            validation_split=val_split,\n",
    "            epochs=epochs,\n",
    "            batch_size=batch_size,\n",
    "            callbacks=callbacks,\n",
    "            verbose=0,\n",
    "        )\n",
    "    return model, history"
   ]
  },
  {
   "cell_type": "markdown",
   "id": "f7485c67",
   "metadata": {},
   "source": [
    "### Constants"
   ]
  },
  {
   "cell_type": "code",
   "execution_count": 36,
   "id": "1d5eca9b",
   "metadata": {},
   "outputs": [
    {
     "name": "stdout",
     "output_type": "stream",
     "text": [
      "(606, 15)\n"
     ]
    }
   ],
   "source": [
    "LOAD_MODEL_CACHE = False\n",
    "GRID_SEARCH_TRAIN = False\n",
    "\n",
    "OOS_SIZE = round(len(data_df) * OOS_SPLIT)\n",
    "\n",
    "x_oos = data_df[-OOS_SIZE:]\n",
    "data_is_df = data_df[:-OOS_SIZE]\n",
    "\n",
    "VAL_SIZE = round(len(data_is_df) * VAL_SPLIT)\n",
    "\n",
    "data_x_df = data_is_df[:-VAL_SIZE]\n",
    "data_t_df = data_is_df[-VAL_SIZE:]\n",
    "\n",
    "print(f\"{x_oos.shape}\")"
   ]
  },
  {
   "cell_type": "markdown",
   "id": "01f5fc3c",
   "metadata": {},
   "source": [
    "### Data Encoding"
   ]
  },
  {
   "cell_type": "code",
   "execution_count": 37,
   "id": "54750ecd",
   "metadata": {},
   "outputs": [
    {
     "name": "stderr",
     "output_type": "stream",
     "text": [
      "Encoding Widows of 63: 100%|██████████| 4575/4575 [00:05<00:00, 881.50it/s]\n",
      "Encoding Widows of 63: 100%|██████████| 756/756 [00:00<00:00, 1050.02it/s]"
     ]
    },
    {
     "name": "stdout",
     "output_type": "stream",
     "text": [
      "Label shape encoded: (4575, 63)\n",
      "Data shapes for prime TS: (4575, 63, 8), exog TS: (4575, 63, 5)\n",
      "First window: [[ 0.00000000e+00  0.00000000e+00  0.00000000e+00  0.00000000e+00\n",
      "   0.00000000e+00]\n",
      " [-3.27864984e-09  2.32407987e-09 -3.95622462e-10  2.01514290e-09\n",
      "   0.00000000e+00]\n",
      " [ 2.94315312e-09  6.08742126e-10 -5.05973686e-09 -1.88813434e-09\n",
      "   0.00000000e+00]\n",
      " [ 1.00093201e-08 -1.13180459e-10 -2.20843572e-09 -3.08440536e-09\n",
      "   3.06695248e-09]\n",
      " [-7.46109518e-09  9.11164562e-10 -1.34647023e-09  1.51052880e-10\n",
      "  -1.13185502e-09]\n",
      " [-7.15566517e-09 -2.45746408e-10  2.87863385e-09 -9.03561533e-10\n",
      "   8.06212413e-09]\n",
      " [-2.25152929e-08 -1.33054569e-10  3.01504543e-09  4.75220494e-09\n",
      "   8.48218233e-09]\n",
      " [ 5.47926158e-10  1.22263726e-09 -8.54934065e-10  3.70620330e-09\n",
      "   1.47489415e-09]\n",
      " [ 7.04729590e-09  1.29412053e-09 -1.09705391e-09 -2.67674700e-09\n",
      "  -8.31478951e-09]\n",
      " [-2.69136160e-09  1.45567471e-10  1.02169456e-09 -1.01139173e-09\n",
      "  -4.97902587e-09]\n",
      " [-1.71547034e-08 -8.27241654e-10  3.11344378e-09  3.05934032e-09\n",
      "  -8.25189319e-10]\n",
      " [ 1.21243211e-08  1.93142337e-09 -4.30449346e-09  1.95881036e-09\n",
      "   2.89317435e-09]\n",
      " [ 5.76992700e-09  4.60106798e-10 -2.26734997e-10  1.88770354e-09\n",
      "  -1.86157642e-09]\n",
      " [-6.53838005e-09  1.43569460e-09  7.52158804e-10  2.20273149e-09\n",
      "   2.30390975e-09]\n",
      " [ 1.80346972e-09 -2.12542001e-10 -6.53660474e-10  2.23562320e-09\n",
      "   3.50696650e-09]\n",
      " [-7.05136966e-10 -2.61789706e-10  6.78731644e-10  1.59946417e-09\n",
      "   7.55562738e-10]\n",
      " [ 1.10762905e-08 -1.23527251e-09 -1.33843482e-09 -2.06829989e-09\n",
      "   1.17520902e-09]\n",
      " [-7.17131803e-09  1.45210321e-10  4.76521842e-10 -5.07879603e-10\n",
      "  -1.77724114e-09]\n",
      " [-2.15793257e-09 -1.23346714e-10  1.88679352e-10 -9.65477060e-11\n",
      "   1.59460214e-09]\n",
      " [ 5.17696273e-09  8.17683086e-10  5.31029606e-12 -6.47459695e-10\n",
      "   2.35704272e-09]\n",
      " [ 1.18472031e-08 -3.72218201e-10 -1.79708705e-09 -2.22716248e-09\n",
      "   0.00000000e+00]\n",
      " [-1.04219843e-08 -1.39849957e-09  1.90438234e-09 -1.97464828e-09\n",
      "   0.00000000e+00]\n",
      " [-9.30016856e-09 -3.15955140e-10  4.06606907e-09  2.44190861e-09\n",
      "   0.00000000e+00]\n",
      " [-1.62953366e-09 -1.56842465e-09  3.29570342e-09  1.52405310e-09\n",
      "   0.00000000e+00]\n",
      " [-1.74254714e-08 -3.07619926e-09  3.32683635e-09  4.67465670e-09\n",
      "   0.00000000e+00]\n",
      " [ 1.81193242e-08  3.88114692e-09 -1.35945128e-09  1.27568873e-09\n",
      "   0.00000000e+00]\n",
      " [-1.13767457e-08  1.13894199e-09  4.01151633e-09  2.64823682e-09\n",
      "   0.00000000e+00]\n",
      " [-7.58683702e-10 -4.08318922e-10 -7.17167644e-10  1.12988318e-09\n",
      "   0.00000000e+00]\n",
      " [ 1.26287548e-08 -9.74509376e-10 -1.52551155e-09 -4.17099469e-10\n",
      "   0.00000000e+00]\n",
      " [-1.82536243e-09  1.27060739e-09  8.61147326e-10  1.17433562e-09\n",
      "   0.00000000e+00]\n",
      " [ 8.84228755e-09 -3.88826680e-10 -9.13327208e-10 -1.10501805e-09\n",
      "   6.43689975e-09]\n",
      " [-2.15878729e-09 -7.09900955e-10 -1.11233316e-09  4.84021853e-10\n",
      "   7.46902813e-09]\n",
      " [-4.13150516e-09  8.61705037e-11  2.88923524e-10  5.44370427e-11\n",
      "  -4.14076229e-10]\n",
      " [-1.70500295e-09 -7.02945475e-10  1.71232625e-09  1.83536507e-09\n",
      "   4.13327611e-09]\n",
      " [ 2.18127695e-09  1.46476565e-10 -1.77104717e-09  2.06829789e-09\n",
      "  -6.76357558e-09]\n",
      " [ 6.62099636e-09 -9.22300162e-10 -1.22624317e-10 -1.38981397e-09\n",
      "  -6.60196088e-10]\n",
      " [-2.26111990e-09 -6.02205291e-10  5.62651660e-10 -7.15244507e-10\n",
      "  -3.93356862e-09]\n",
      " [-2.32956589e-09 -4.50142914e-11  3.11948150e-10  9.53288092e-10\n",
      "  -1.08528061e-09]\n",
      " [-1.95823062e-10 -3.11309725e-10  1.53342027e-09  7.11212144e-10\n",
      "   4.61643110e-09]\n",
      " [ 5.47498056e-09 -3.98574534e-10 -9.13003792e-10  3.63740060e-10\n",
      "   3.50686076e-10]\n",
      " [-1.00243203e-08  1.62836089e-09  1.82027200e-09  2.04841340e-10\n",
      "   7.07529214e-09]\n",
      " [-6.80215448e-09 -6.80603656e-10  1.20549808e-09  5.22957305e-09\n",
      "  -1.76952409e-09]\n",
      " [-5.98333735e-09  2.67764998e-10  2.32406965e-09  2.42328677e-09\n",
      "  -1.76123049e-09]\n",
      " [-5.94001286e-09 -6.11689486e-11  6.66701591e-10 -5.90944057e-10\n",
      "   9.45366792e-10]\n",
      " [ 1.67292004e-09  1.17587101e-10  4.30477600e-10  2.04359243e-09\n",
      "   1.07881026e-09]\n",
      " [ 4.54919653e-09  1.32296524e-10 -4.65264549e-10  2.85811577e-10\n",
      "  -2.66806696e-09]\n",
      " [ 8.87209931e-09 -3.95596425e-10 -4.33212950e-10 -8.65684904e-10\n",
      "   2.65117178e-09]\n",
      " [-2.88552623e-09 -1.33669123e-09  4.54164066e-10 -2.22852559e-10\n",
      "   4.81584482e-09]\n",
      " [-1.71696865e-08  3.38099888e-10  1.22013452e-09  2.41243592e-09\n",
      "   8.54567628e-10]\n",
      " [ 9.71883920e-09 -5.07017579e-10 -2.53048134e-09 -3.60008603e-10\n",
      "  -2.02269080e-09]\n",
      " [-1.47122837e-09  1.05174342e-09  4.06772338e-10 -2.73957137e-09\n",
      "  -2.30879889e-09]\n",
      " [ 8.15043853e-09 -1.23193680e-09 -2.14832943e-09 -2.82123150e-09\n",
      "  -2.57945641e-10]\n",
      " [-4.76770904e-09 -1.85944002e-10  6.75384466e-10 -9.61868744e-10\n",
      "  -5.45342017e-10]\n",
      " [-1.75352909e-09 -8.53615387e-10  6.36509091e-10  2.67534115e-09\n",
      "  -4.30070222e-09]\n",
      " [ 3.95035207e-09 -1.67252628e-10  4.90655977e-10  7.66072197e-11\n",
      "   2.67789212e-09]\n",
      " [ 3.75374444e-09 -3.90751782e-10 -5.42900496e-11 -3.27053978e-09\n",
      "   1.89899892e-09]\n",
      " [-7.95056643e-09 -1.23596550e-09 -7.30417964e-11  7.91370265e-10\n",
      "   8.92016867e-10]\n",
      " [-3.52457880e-10 -5.90003702e-10 -7.70307442e-10  2.85604202e-09\n",
      "   1.01967607e-09]\n",
      " [ 2.51879047e-09  5.89638423e-10  1.01741960e-09  3.97094772e-10\n",
      "   1.35237886e-09]\n",
      " [ 9.61885946e-09  2.19604196e-09  6.73318685e-10  4.35831682e-11\n",
      "  -1.35190747e-09]\n",
      " [ 4.14930255e-09 -4.31118812e-10  1.92198484e-09 -9.90056270e-11\n",
      "   5.44194616e-09]\n",
      " [-3.67689981e-09 -1.50399824e-09 -3.73206209e-10 -3.77451960e-09\n",
      "  -8.31757240e-11]\n",
      " [-1.81568569e-09 -7.20066086e-10 -2.26879299e-09 -3.02278841e-09\n",
      "  -1.06085903e-09]]\n",
      "First window: [[ 6.76667568e-53  1.52299797e-08  1.35335283e-01  1.17691094e-34\n",
      "   0.00000000e+00  0.00000000e+00  0.00000000e+00  0.00000000e+00]\n",
      " [ 6.52852801e-40  1.52299797e-08  1.35335283e-01  1.91547895e-29\n",
      "   0.00000000e+00  6.22802416e-10 -1.98906413e-09 -1.19878422e-09]\n",
      " [ 4.08733497e-34  1.52299797e-08  1.35335283e-01  1.91547895e-29\n",
      "   1.00000000e+00 -3.49158270e-09 -3.63802932e-09 -4.83400643e-09]\n",
      " [ 8.79701220e-29  1.52299797e-08  1.35335283e-01  1.91547895e-29\n",
      "   0.00000000e+00 -1.44281846e-09 -1.40581208e-09  1.46897968e-10]\n",
      " [ 6.50878852e-24  1.52299797e-08  1.35335283e-01  1.91547895e-29\n",
      "   1.00000000e+00 -3.54572349e-11  5.85012084e-10 -2.58084349e-09]\n",
      " [ 1.65552266e-19  1.52299797e-08  1.35335283e-01  1.91547895e-29\n",
      "   1.00000000e+00  3.72346565e-09  2.08115773e-09  7.19968078e-09]\n",
      " [ 4.49634946e-09  1.52299797e-08  1.35335283e-01  1.91547895e-29\n",
      "   0.00000000e+00  1.38166477e-09  6.17852453e-09  5.97476659e-10]\n",
      " [ 1.59725788e-06  1.52299797e-08  1.35335283e-01  1.91547895e-29\n",
      "   0.00000000e+00 -7.37068132e-10 -1.40704844e-09 -1.59465490e-09]\n",
      " [ 1.95056320e-04  1.52299797e-08  1.35335283e-01  1.91547895e-29\n",
      "   1.00000000e+00 -1.48636734e-09 -6.30513875e-10 -1.44014605e-09]\n",
      " [ 8.18870101e-03  1.52299797e-08  1.35335283e-01  1.91547895e-29\n",
      "   1.00000000e+00  1.55022818e-09  5.51227066e-10  2.62548357e-09]\n",
      " [ 1.18178917e-01  1.52299797e-08  1.35335283e-01  1.91547895e-29\n",
      "   0.00000000e+00  1.58558251e-09  2.52199262e-09  1.82560690e-09]\n",
      " [ 1.18178917e-01  1.52299797e-08  1.35335283e-01  1.91547895e-29\n",
      "   1.00000000e+00 -8.81798748e-10 -8.24870615e-10 -1.21250192e-09]\n",
      " [ 8.18870101e-03  1.52299797e-08  1.35335283e-01  1.91547895e-29\n",
      "   0.00000000e+00  4.15327426e-10 -2.09719789e-10  1.32253213e-09]\n",
      " [ 1.95056320e-04  1.52299797e-08  1.35335283e-01  1.91547895e-29\n",
      "   1.00000000e+00 -3.66519601e-11 -1.41198517e-09 -2.63894113e-09]\n",
      " [ 1.59725788e-06  1.52299797e-08  1.35335283e-01  1.91547895e-29\n",
      "   0.00000000e+00 -1.60031083e-09  2.78371544e-10 -3.45710775e-10]\n",
      " [ 1.44757176e-15  1.52299797e-08  1.35335283e-01  1.91547895e-29\n",
      "   1.00000000e+00  2.99173467e-10 -4.09287711e-09 -3.58909303e-09]\n",
      " [ 1.65552266e-19  1.52299797e-08  1.35335283e-01  1.91547895e-29\n",
      "   0.00000000e+00 -2.69386987e-09 -2.93099805e-10  1.14217203e-09]\n",
      " [ 6.50878852e-24  1.52299797e-08  1.35335283e-01  1.91547895e-29\n",
      "   1.00000000e+00 -5.33547545e-10  1.52550455e-09 -1.53661693e-09]\n",
      " [ 8.79701220e-29  1.52299797e-08  1.35335283e-01  1.91547895e-29\n",
      "   0.00000000e+00  4.34568447e-10 -1.28659484e-09 -3.65722190e-10]\n",
      " [ 4.08733497e-34  1.52299797e-08  1.35335283e-01  1.91547895e-29\n",
      "   1.00000000e+00 -1.27234378e-09 -1.57586148e-09 -2.61780567e-09]\n",
      " [ 6.76667568e-53  1.52299797e-08  1.35335283e-01  1.91547895e-29\n",
      "   1.00000000e+00 -2.58985162e-10 -3.63995673e-10  2.52016626e-09]\n",
      " [ 6.76667568e-53  5.84697119e-06  1.35335283e-01  1.91547895e-29\n",
      "   1.00000000e+00  1.71393299e-09  3.10661735e-09  1.17011090e-09]\n",
      " [ 3.58476190e-46  5.84697119e-06  1.35335283e-01  1.91547895e-29\n",
      "   1.00000000e+00  6.39714532e-10  2.14461583e-09  1.42915284e-10]\n",
      " [ 6.52852801e-40  5.84697119e-06  1.35335283e-01  1.91547895e-29\n",
      "   1.00000000e+00  8.79009313e-10 -3.34031366e-10  1.88361920e-09]\n",
      " [ 4.08733497e-34  5.84697119e-06  1.35335283e-01  1.91547895e-29\n",
      "   1.00000000e+00  1.06298008e-09  3.08169315e-09 -8.41893216e-10]\n",
      " [ 1.65552266e-19  5.84697119e-06  1.35335283e-01  1.91547895e-29\n",
      "   1.00000000e+00 -1.44779870e-09 -8.27481460e-10 -2.62424041e-10]\n",
      " [ 1.44757176e-15  5.84697119e-06  1.35335283e-01  1.91547895e-29\n",
      "   0.00000000e+00  2.52722177e-09  3.13309199e-09  2.75675157e-09]\n",
      " [ 4.35126044e-12  5.84697119e-06  1.35335283e-01  1.91547895e-29\n",
      "   1.00000000e+00 -7.61920262e-11 -1.93001564e-09 -2.46780990e-09]\n",
      " [ 4.49634946e-09  5.84697119e-06  1.35335283e-01  1.91547895e-29\n",
      "   0.00000000e+00 -1.97215423e-09 -4.13293403e-10  2.97538340e-10]\n",
      " [ 1.59725788e-06  5.84697119e-06  1.35335283e-01  1.91547895e-29\n",
      "   1.00000000e+00 -4.45089452e-10 -2.04941577e-09 -2.06187443e-09]\n",
      " [ 1.18178917e-01  5.84697119e-06  1.35335283e-01  1.91547895e-29\n",
      "   1.00000000e+00 -1.78120551e-09  2.38906068e-10  6.86907281e-10]\n",
      " [ 5.86320395e-01  5.84697119e-06  1.35335283e-01  1.91547895e-29\n",
      "   0.00000000e+00  9.28294574e-10 -3.36511115e-10  1.02116065e-09]\n",
      " [ 1.00000000e+00  5.84697119e-06  1.35335283e-01  1.91547895e-29\n",
      "   1.00000000e+00 -2.25155568e-10  8.20433064e-10 -1.66530778e-09]\n",
      " [ 5.86320395e-01  5.84697119e-06  1.35335283e-01  1.91547895e-29\n",
      "   0.00000000e+00 -4.67771398e-10 -5.49202221e-10 -6.81794165e-10]\n",
      " [ 1.18178917e-01  5.84697119e-06  1.35335283e-01  1.91547895e-29\n",
      "   1.00000000e+00 -1.18245395e-09 -2.76330104e-09 -2.28169521e-09]\n",
      " [ 4.49634946e-09  5.84697119e-06  1.35335283e-01  1.91547895e-29\n",
      "   1.00000000e+00 -1.11034898e-09 -4.94926696e-10 -1.54758075e-10]\n",
      " [ 4.35126044e-12  5.84697119e-06  1.35335283e-01  1.91547895e-29\n",
      "   0.00000000e+00  6.80848527e-10  5.98634877e-10  9.74361660e-10]\n",
      " [ 1.44757176e-15  5.84697119e-06  1.35335283e-01  1.91547895e-29\n",
      "   1.00000000e+00 -1.83167855e-10 -6.01749084e-10 -1.15898128e-09]\n",
      " [ 1.65552266e-19  5.84697119e-06  1.35335283e-01  1.91547895e-29\n",
      "   1.00000000e+00 -2.15958646e-10  2.22347655e-11 -3.42787700e-10]\n",
      " [ 4.08733497e-34  5.84697119e-06  1.35335283e-01  1.91547895e-29\n",
      "   1.00000000e+00 -1.70603703e-11 -2.27771962e-10  1.56573332e-09]\n",
      " [ 6.52852801e-40  5.84697119e-06  1.35335283e-01  1.91547895e-29\n",
      "   1.00000000e+00  6.65692260e-10  2.77096166e-09  1.16977534e-09]\n",
      " [ 6.76667568e-53  6.82835758e-04  1.35335283e-01  1.91547895e-29\n",
      "   1.00000000e+00  1.65532964e-09  1.57535253e-09  1.05941097e-09]\n",
      " [ 3.58476190e-46  6.82835758e-04  1.35335283e-01  1.91547895e-29\n",
      "   1.00000000e+00  1.18323278e-10  1.19859244e-10  8.91030371e-11]\n",
      " [ 6.52852801e-40  6.82835758e-04  1.35335283e-01  1.91547895e-29\n",
      "   0.00000000e+00  1.45989573e-09  1.35410896e-09  1.46615289e-09]\n",
      " [ 6.50878852e-24  6.82835758e-04  1.35335283e-01  1.91547895e-29\n",
      "   0.00000000e+00 -2.21113386e-10 -5.79386143e-10 -8.14160115e-10]\n",
      " [ 1.65552266e-19  6.82835758e-04  1.35335283e-01  1.91547895e-29\n",
      "   1.00000000e+00 -4.18776963e-10 -1.26858989e-09 -9.64139968e-10]\n",
      " [ 1.44757176e-15  6.82835758e-04  1.35335283e-01  1.91547895e-29\n",
      "   1.00000000e+00 -1.39725135e-09 -1.17427448e-10 -1.06205948e-10]\n",
      " [ 4.35126044e-12  6.82835758e-04  1.35335283e-01  1.91547895e-29\n",
      "   1.00000000e+00  3.99761464e-09  1.47248211e-09  5.31253873e-09]\n",
      " [ 4.49634946e-09  6.82835758e-04  1.35335283e-01  1.91547895e-29\n",
      "   0.00000000e+00  1.00772317e-09  3.15763027e-09 -6.71815445e-10]\n",
      " [ 8.18870101e-03  6.82835758e-04  1.35335283e-01  1.91547895e-29\n",
      "   0.00000000e+00 -1.02304926e-09 -2.61349959e-09 -1.03673859e-09]\n",
      " [ 1.18178917e-01  6.82835758e-04  1.35335283e-01  1.91547895e-29\n",
      "   1.00000000e+00 -3.23047584e-10  4.18038602e-10 -1.71894457e-09]\n",
      " [ 5.86320395e-01  6.82835758e-04  1.35335283e-01  1.91547895e-29\n",
      "   1.00000000e+00  2.38206162e-10 -6.68440476e-11  2.26490017e-09]\n",
      " [ 1.00000000e+00  6.82835758e-04  1.35335283e-01  1.91547895e-29\n",
      "   1.00000000e+00  1.78179230e-09  1.38155628e-09  1.82467949e-09]\n",
      " [ 5.86320395e-01  6.82835758e-04  1.35335283e-01  1.91547895e-29\n",
      "   1.00000000e+00  7.66484220e-10  3.15265094e-09  3.94944784e-10]\n",
      " [ 1.95056320e-04  6.82835758e-04  1.35335283e-01  1.91547895e-29\n",
      "   1.00000000e+00 -3.54664471e-10 -3.60913394e-10 -4.08261758e-10]\n",
      " [ 1.59725788e-06  6.82835758e-04  1.35335283e-01  1.91547895e-29\n",
      "   1.00000000e+00  1.19968698e-09 -1.42704979e-10  1.50754378e-09]\n",
      " [ 4.49634946e-09  6.82835758e-04  1.35335283e-01  1.91547895e-29\n",
      "   1.00000000e+00  8.84242098e-10  3.50838242e-09  7.35420168e-10]\n",
      " [ 4.35126044e-12  6.82835758e-04  1.35335283e-01  1.91547895e-29\n",
      "   1.00000000e+00  1.49316686e-09  2.70503678e-10  1.46489879e-09]\n",
      " [ 1.44757176e-15  6.82835758e-04  1.35335283e-01  1.91547895e-29\n",
      "   0.00000000e+00  1.29675647e-09  1.49874558e-09  5.17891671e-10]\n",
      " [ 8.79701220e-29  6.82835758e-04  1.35335283e-01  1.91547895e-29\n",
      "   1.00000000e+00 -1.43664327e-09  7.02293172e-11 -1.20269254e-09]\n",
      " [ 4.08733497e-34  6.82835758e-04  1.35335283e-01  1.91547895e-29\n",
      "   1.00000000e+00 -8.18052792e-10 -1.26736472e-09 -9.09154290e-10]\n",
      " [ 6.52852801e-40  6.82835758e-04  1.35335283e-01  1.91547895e-29\n",
      "   0.00000000e+00 -4.84373120e-10 -9.22616963e-10  1.53292344e-10]\n",
      " [ 3.58476190e-46  6.82835758e-04  1.35335283e-01  1.91547895e-29\n",
      "   1.00000000e+00 -3.88636896e-10 -1.78191518e-09 -1.76350316e-09]]\n",
      "First window targets: [0 0 1 0 1 1 0 0 1 1 0 1 0 1 0 1 0 1 0 1 1 1 1 1 1 1 0 1 0 1 1 0 1 0 1 1 0\n",
      " 1 1 1 1 1 1 0 0 1 1 1 0 0 1 1 1 1 1 1 1 1 0 1 1 0 1]\n",
      "Model logs for Tensorboard available here: ./logs/08001111\n",
      "Input Shape: (63, 8) and Condtioning shapes: (63, 5)\n"
     ]
    },
    {
     "name": "stderr",
     "output_type": "stream",
     "text": [
      "\n"
     ]
    }
   ],
   "source": [
    "def prepare_windows(\n",
    "    data_df,\n",
    "    target_df,\n",
    "    prime_ts=SELECTED_FEATURES,\n",
    "    exog_ts=SELECTED_EXOG,\n",
    "    window_size=WINDOW_SIZE,\n",
    "    horizon=PREDICTION_HORIZON,\n",
    "):\n",
    "    \"\"\"\n",
    "    Create input and target windows suitable for TCN model.\n",
    "    :param data: DataFrame with shape (n_samples, n_features)\n",
    "    :param features: List of strings, names of the feature columns\n",
    "    :param target_df: Optional the labels if this encoding is for training.\n",
    "    :param window_size: int, length of the input sequence.\n",
    "    :param horizon: int, forecasting horizon.\n",
    "    :return: 3 Arrays in the shape of (n_samples, n_steps, n_features) for the training data, the exogenous data, and the labels (this last is optional)\n",
    "    \"\"\"\n",
    "    X, Xexog, y = [], [], []\n",
    "    for i in tqdm(\n",
    "        range(len(data_df) - window_size - horizon + 1), desc=f\"Encoding Widows of {window_size}\"\n",
    "    ):\n",
    "        input_window = data_df[prime_ts].iloc[i : i + window_size].values\n",
    "        X.append(input_window)\n",
    "        input_window = data_df[exog_ts].iloc[i : i + window_size].values\n",
    "        Xexog.append(input_window)\n",
    "        if target_df is not None:\n",
    "            target_window = target_df.iloc[i  : i + window_size].values\n",
    "            y.append(target_window)\n",
    "    return np.array(X), np.array(Xexog), np.array(y)\n",
    "\n",
    "train_data, train_exog_data, ytrain_data = prepare_windows(data_x_df, data_x_df[TARGET_LABEL])\n",
    "test_data, test_exog_data, ytest_data = prepare_windows(data_t_df, data_t_df[TARGET_LABEL])\n",
    "\n",
    "assert not np.any(pd.isna(train_data)) and not np.any(pd.isna(train_exog_data))\n",
    "\n",
    "print(f\"Label shape encoded: {ytrain_data.shape}\")\n",
    "print(f\"Data shapes for prime TS: {train_data.shape}, exog TS: {train_exog_data.shape}\")\n",
    "print(f\"First window: {train_exog_data[:1][0]}\")\n",
    "print(f\"First window: {train_data[:1][0]}\")\n",
    "print(f\"First window targets: {ytrain_data[:1][0]}\")\n",
    "\n",
    "input_shape = (\n",
    "    WINDOW_SIZE,\n",
    "    1 if len(train_data.shape) < 3 else train_data.shape[2],\n",
    ")  # if we have no additonal features X.shape[1]\n",
    "conditioning_shapes = (WINDOW_SIZE, train_exog_data.shape[2])\n",
    "print(f\"Model logs for Tensorboard available here: {MODEL_LOG_DIR}\")\n",
    "print(f\"Input Shape: {input_shape} and Condtioning shapes: {conditioning_shapes}\")\n",
    "\n",
    "assert not np.any(np.isnan(train_data))\n",
    "assert not np.any(np.isnan(train_exog_data))\n",
    "assert not np.any(np.isnan(ytrain_data))"
   ]
  },
  {
   "cell_type": "code",
   "execution_count": 38,
   "id": "91b14747",
   "metadata": {},
   "outputs": [
    {
     "name": "stderr",
     "output_type": "stream",
     "text": [
      "Encoding Widows of 63:   0%|          | 0/543 [00:00<?, ?it/s]"
     ]
    },
    {
     "name": "stderr",
     "output_type": "stream",
     "text": [
      "Encoding Widows of 63: 100%|██████████| 543/543 [00:00<00:00, 1028.42it/s]\n"
     ]
    },
    {
     "data": {
      "text/plain": [
       "array([[[ 4.35126044e-12,  2.42580135e-02,  8.00737403e-01, ...,\n",
       "          3.43725703e-11, -5.37974409e-12, -7.38345264e-11],\n",
       "        [ 4.49634946e-09,  2.42580135e-02,  8.00737403e-01, ...,\n",
       "         -2.65309244e-11, -8.44864263e-11, -8.76566416e-11],\n",
       "        [ 8.18870101e-03,  2.42580135e-02,  8.00737403e-01, ...,\n",
       "         -6.79759651e-11, -3.21808509e-11,  3.05621494e-11],\n",
       "        ...,\n",
       "        [ 6.52852801e-40,  1.52299797e-08,  1.35335283e-01, ...,\n",
       "          1.95096202e-11, -2.24764528e-11, -6.33598742e-11],\n",
       "        [ 6.50878852e-24,  1.52299797e-08,  1.35335283e-01, ...,\n",
       "          1.07556591e-11,  1.04426578e-10,  1.19656618e-10],\n",
       "        [ 1.65552266e-19,  1.52299797e-08,  1.35335283e-01, ...,\n",
       "          1.83870257e-10,  1.17530055e-10,  2.16629714e-10]],\n",
       "\n",
       "       [[ 4.49634946e-09,  2.42580135e-02,  8.00737403e-01, ...,\n",
       "         -2.65309244e-11, -8.44864263e-11, -8.76566416e-11],\n",
       "        [ 8.18870101e-03,  2.42580135e-02,  8.00737403e-01, ...,\n",
       "         -6.79759651e-11, -3.21808509e-11,  3.05621494e-11],\n",
       "        [ 1.18178917e-01,  2.42580135e-02,  8.00737403e-01, ...,\n",
       "         -1.65227060e-11, -2.56271952e-11, -6.90116323e-11],\n",
       "        ...,\n",
       "        [ 6.50878852e-24,  1.52299797e-08,  1.35335283e-01, ...,\n",
       "          1.07556591e-11,  1.04426578e-10,  1.19656618e-10],\n",
       "        [ 1.65552266e-19,  1.52299797e-08,  1.35335283e-01, ...,\n",
       "          1.83870257e-10,  1.17530055e-10,  2.16629714e-10],\n",
       "        [ 1.44757176e-15,  1.52299797e-08,  1.35335283e-01, ...,\n",
       "          3.30661699e-11,  2.46888579e-10,  3.66557520e-11]],\n",
       "\n",
       "       [[ 8.18870101e-03,  2.42580135e-02,  8.00737403e-01, ...,\n",
       "         -6.79759651e-11, -3.21808509e-11,  3.05621494e-11],\n",
       "        [ 1.18178917e-01,  2.42580135e-02,  8.00737403e-01, ...,\n",
       "         -1.65227060e-11, -2.56271952e-11, -6.90116323e-11],\n",
       "        [ 5.86320395e-01,  2.42580135e-02,  8.00737403e-01, ...,\n",
       "          1.98176780e-12,  6.29973837e-12,  1.06008441e-10],\n",
       "        ...,\n",
       "        [ 1.65552266e-19,  1.52299797e-08,  1.35335283e-01, ...,\n",
       "          1.83870257e-10,  1.17530055e-10,  2.16629714e-10],\n",
       "        [ 1.44757176e-15,  1.52299797e-08,  1.35335283e-01, ...,\n",
       "          3.30661699e-11,  2.46888579e-10,  3.66557520e-11],\n",
       "        [ 4.35126044e-12,  1.52299797e-08,  1.35335283e-01, ...,\n",
       "         -1.28478905e-11, -2.41216141e-11, -1.10188564e-10]],\n",
       "\n",
       "       ...,\n",
       "\n",
       "       [[ 6.76667568e-53,  5.84697119e-06,  1.35335283e-01, ...,\n",
       "          1.21088289e-10,  1.09303703e-10,  1.08748237e-10],\n",
       "        [ 3.58476190e-46,  5.84697119e-06,  1.35335283e-01, ...,\n",
       "          1.84547039e-10,  1.99012979e-10,  2.01859874e-10],\n",
       "        [ 6.52852801e-40,  5.84697119e-06,  1.35335283e-01, ...,\n",
       "          1.24479058e-10,  1.51042609e-10,  9.11329505e-11],\n",
       "        ...,\n",
       "        [ 3.58476190e-46,  1.52299797e-08,  1.35335283e-01, ...,\n",
       "          6.94230090e-12,  1.02950551e-10, -1.31947177e-11],\n",
       "        [ 6.76667568e-53,  1.52299797e-08,  1.35335283e-01, ...,\n",
       "         -4.10012254e-11, -1.17391230e-10, -1.29491137e-10],\n",
       "        [ 6.76667568e-53,  5.84697119e-06,  1.35335283e-01, ...,\n",
       "          3.33815297e-12,  2.11851699e-11,  1.42430351e-10]],\n",
       "\n",
       "       [[ 3.58476190e-46,  5.84697119e-06,  1.35335283e-01, ...,\n",
       "          1.84547039e-10,  1.99012979e-10,  2.01859874e-10],\n",
       "        [ 6.52852801e-40,  5.84697119e-06,  1.35335283e-01, ...,\n",
       "          1.24479058e-10,  1.51042609e-10,  9.11329505e-11],\n",
       "        [ 6.50878852e-24,  5.84697119e-06,  1.35335283e-01, ...,\n",
       "         -4.73113680e-12,  2.28104098e-11,  3.39146740e-11],\n",
       "        ...,\n",
       "        [ 6.76667568e-53,  1.52299797e-08,  1.35335283e-01, ...,\n",
       "         -4.10012254e-11, -1.17391230e-10, -1.29491137e-10],\n",
       "        [ 6.76667568e-53,  5.84697119e-06,  1.35335283e-01, ...,\n",
       "          3.33815297e-12,  2.11851699e-11,  1.42430351e-10],\n",
       "        [ 3.58476190e-46,  5.84697119e-06,  1.35335283e-01, ...,\n",
       "          1.40600597e-10,  1.14660595e-10,  1.06178751e-10]],\n",
       "\n",
       "       [[ 6.52852801e-40,  5.84697119e-06,  1.35335283e-01, ...,\n",
       "          1.24479058e-10,  1.51042609e-10,  9.11329505e-11],\n",
       "        [ 6.50878852e-24,  5.84697119e-06,  1.35335283e-01, ...,\n",
       "         -4.73113680e-12,  2.28104098e-11,  3.39146740e-11],\n",
       "        [ 1.65552266e-19,  5.84697119e-06,  1.35335283e-01, ...,\n",
       "          5.13822355e-11,  2.97853896e-11,  4.42921037e-11],\n",
       "        ...,\n",
       "        [ 6.76667568e-53,  5.84697119e-06,  1.35335283e-01, ...,\n",
       "          3.33815297e-12,  2.11851699e-11,  1.42430351e-10],\n",
       "        [ 3.58476190e-46,  5.84697119e-06,  1.35335283e-01, ...,\n",
       "          1.40600597e-10,  1.14660595e-10,  1.06178751e-10],\n",
       "        [ 8.79701220e-29,  5.84697119e-06,  1.35335283e-01, ...,\n",
       "         -4.44388940e-11,  2.50896864e-11, -4.80639034e-11]]])"
      ]
     },
     "execution_count": 38,
     "metadata": {},
     "output_type": "execute_result"
    }
   ],
   "source": [
    "xtrain_oos, Xexog_oos, y_oos = prepare_windows(x_oos, x_oos[TARGET_LABEL])\n",
    "xtrain_oos"
   ]
  },
  {
   "cell_type": "markdown",
   "id": "a14dda81",
   "metadata": {},
   "source": [
    "### GridSearch and HyperParams"
   ]
  },
  {
   "cell_type": "code",
   "execution_count": 39,
   "id": "7d598dfa",
   "metadata": {},
   "outputs": [],
   "source": [
    "def grid_search_build_tcn(\n",
    "    input_shape, X, y, hparams=HPARAMS, file_name=\"best_params.json\"\n",
    "):\n",
    "    def decode_dense_units(config_str):\n",
    "        return [int(unit) for unit in config_str.split('_')]\n",
    "\n",
    "    def _save_best_params(best_params, best_loss, best_metric, file_name=\"best_params.json\"):\n",
    "        with open(f\"{MODEL_DIR}/file_name\", \"w\") as file:\n",
    "            json.dump({\"best_params\": best_params, \"best_loss\": best_loss, \"best_metric\": best_metric}, file)\n",
    "\n",
    "    with create_file_writer(f\"{MODEL_LOG_DIR}/hparam_tuning\").as_default():\n",
    "        hp.hparams_config(\n",
    "            hparams=hparams,\n",
    "            metrics=[hp.Metric(TARGET_METRIC, display_name=TARGET_METRIC)],\n",
    "        )\n",
    "    grid = list(ParameterGrid({h.name: h.domain.values for h in hparams}))\n",
    "    best_model = None\n",
    "    best_loss = np.inf\n",
    "    best_metric = np.inf if not IS_CLASSIFICATION else -np.inf\n",
    "    best_params = None\n",
    "    best_history = None\n",
    "    for hp_values in tqdm(grid, desc=\"Grid Search..\"):\n",
    "        try:\n",
    "            dense_units = decode_dense_units(hp_values[\"dense_units\"])\n",
    "            model, history = build_tcn(input_shape, X, y,\n",
    "                                        output_horizon=PREDICTION_HORIZON,\n",
    "                                        num_filters=hp_values[\"num_filters\"],\n",
    "                                        kernel_size=hp_values[\"kernel_size\"],\n",
    "                                        num_layers=hp_values[\"num_layers\"],\n",
    "                                        dilation_rate=hp_values[\"dilation_rate\"],\n",
    "                                        kernel_regularizer=L1L2(l1=hp_values[\"reg_weight\"], l2=hp_values[\"reg_weight\"]),\n",
    "                                        bias_regularizer=L1L2(l1=hp_values[\"reg_weight\"], l2=hp_values[\"reg_weight\"]),\n",
    "                                        dropout_rate=hp_values[\"dropout_rate\"],\n",
    "                                        epochs=hp_values[\"epochs\"],\n",
    "                                        lr=hp_values[\"learning_rate\"],\n",
    "                                        dense_units=dense_units,\n",
    "                                        use_bias=hp_values[\"bias\"],)\n",
    "            loss = np.min(history.history[f\"val_loss\"])\n",
    "            metric = np.min(history.history[f\"val_{TARGET_METRIC}\"])\n",
    "            if (loss < best_loss) or ((best_metric < metric and not IS_CLASSIFICATION) or (best_metric > metric and IS_CLASSIFICATION)):\n",
    "                print(f\"best metric: {metric}\")\n",
    "                print(f\"best loss: {loss}\")\n",
    "                print(f\"best params: {hp_values}\")\n",
    "                best_history = history\n",
    "                best_loss = loss\n",
    "                best_metric = metric\n",
    "                best_model = model\n",
    "                best_params = hp_values\n",
    "                _save_best_params(best_params, best_loss, best_metric, file_name)\n",
    "        except Exception as e:\n",
    "            print(f\"Grid Search ERROR on params: {hp_values}\\n\", e)\n",
    "\n",
    "    return best_model, best_history\n",
    "\n",
    "if GRID_SEARCH_TRAIN:\n",
    "    model, history = grid_search_build_tcn(input_shape, X, y)"
   ]
  },
  {
   "cell_type": "markdown",
   "id": "a8007549",
   "metadata": {},
   "source": [
    "## Load or Train"
   ]
  },
  {
   "cell_type": "code",
   "execution_count": 40,
   "id": "92eb87e9",
   "metadata": {},
   "outputs": [
    {
     "name": "stdout",
     "output_type": "stream",
     "text": [
      "24/24 [==============================] - 0s 5ms/step\n",
      "24/24 [==============================] - 0s 6ms/step\n",
      "24/24 [==============================] - 0s 6ms/step\n",
      "24/24 [==============================] - 0s 6ms/step\n",
      "24/24 [==============================] - 0s 5ms/step\n",
      "24/24 [==============================] - 0s 5ms/step\n",
      "24/24 [==============================] - 0s 6ms/step\n",
      "\n",
      "Epoch 8: ReduceLROnPlateau reducing learning rate to 0.0029999999329447745.\n",
      "24/24 [==============================] - 0s 6ms/step\n",
      "24/24 [==============================] - 0s 6ms/step\n",
      "24/24 [==============================] - 0s 5ms/step\n",
      "24/24 [==============================] - 0s 5ms/step\n",
      "24/24 [==============================] - 0s 5ms/step\n",
      "24/24 [==============================] - 0s 5ms/step\n",
      "24/24 [==============================] - 0s 6ms/step\n",
      "\n",
      "Epoch 15: ReduceLROnPlateau reducing learning rate to 0.0009000000078231095.\n",
      "24/24 [==============================] - 0s 6ms/step\n",
      "24/24 [==============================] - 0s 5ms/step\n",
      "Model: \"TCN_Conditional_Model\"\n",
      "__________________________________________________________________________________________________\n",
      " Layer (type)                   Output Shape         Param #     Connected to                     \n",
      "==================================================================================================\n",
      " main_input (InputLayer)        [(None, 63, 8)]      0           []                               \n",
      "                                                                                                  \n",
      " exog_input (InputLayer)        [(None, 63, 5)]      0           []                               \n",
      "                                                                                                  \n",
      " conditional_block_7 (Condition  (None, 63, 256)     5504        ['main_input[0][0]',             \n",
      " alBlock)                                                         'exog_input[0][0]']             \n",
      "                                                                                                  \n",
      " tcn_block_21 (TCNBlock)        ((None, 63, 128),    131456      ['conditional_block_7[0][0]']    \n",
      "                                 (None, 63, 128))                                                 \n",
      "                                                                                                  \n",
      " tcn_block_22 (TCNBlock)        ((None, 63, 128),    82304       ['tcn_block_21[0][0]']           \n",
      "                                 (None, 63, 128))                                                 \n",
      "                                                                                                  \n",
      " residual_skip_to_last (Add)    (None, 63, 128)      0           ['tcn_block_21[0][1]',           \n",
      "                                                                  'tcn_block_22[0][1]']           \n",
      "                                                                                                  \n",
      " tf.nn.relu_7 (TFOpLambda)      (None, 63, 128)      0           ['residual_skip_to_last[0][0]']  \n",
      "                                                                                                  \n",
      " PreConv_Classifier (Conv1D)    (None, 63, 128)      16512       ['tf.nn.relu_7[0][0]']           \n",
      "                                                                                                  \n",
      " Conv_Classifier (Conv1D)       (None, 63, 1)        129         ['PreConv_Classifier[0][0]']     \n",
      "                                                                                                  \n",
      "==================================================================================================\n",
      "Total params: 235,905\n",
      "Trainable params: 235,905\n",
      "Non-trainable params: 0\n",
      "__________________________________________________________________________________________________\n"
     ]
    }
   ],
   "source": [
    "from tensorflow.keras.models import load_model\n",
    "\n",
    "os.makedirs(MODEL_DIR, exist_ok=True)\n",
    "assert os.path.exists(MODEL_DIR)\n",
    "\n",
    "if LOAD_MODEL_CACHE:\n",
    "    model = load_model(f\"{MODEL_DIR}/tcn.h5\")\n",
    "    with open(f\"{MODEL_DIR}/history.pkl\", 'rb') as file:\n",
    "        loaded_history = pickle.load(file)\n",
    "elif not GRID_SEARCH_TRAIN:\n",
    "     model, history = build_tcn( # Xexog\n",
    "            input_shape, X=[train_data, train_exog_data], y=ytrain_data, Xt=[test_data, test_exog_data], yt=ytest_data, conditioning_shapes=conditioning_shapes\n",
    "        )\n",
    "model.save(f\"{MODEL_DIR}/tcn.h5\")\n",
    "model.summary()"
   ]
  },
  {
   "cell_type": "markdown",
   "id": "d34348cd",
   "metadata": {},
   "source": [
    "# Evaluation"
   ]
  },
  {
   "cell_type": "code",
   "execution_count": 41,
   "id": "b862085f",
   "metadata": {},
   "outputs": [
    {
     "name": "stdout",
     "output_type": "stream",
     "text": [
      "  1/143 [..............................] - ETA: 4s"
     ]
    },
    {
     "name": "stdout",
     "output_type": "stream",
     "text": [
      "143/143 [==============================] - 1s 6ms/step\n",
      "24/24 [==============================] - 0s 6ms/step\n",
      "Prediction shape: (756, 63, 1) vs test data shape: (756, 63)\n",
      "Test data 1 horizon sample: [1 1 1 1 1 1 1 1 1 1 0 1 0 1 1 1 1 1 1 1 1 0 1 1 1 1 1 1 1 1 1 1 1 0 1 1 1\n",
      " 1 1 1 1 1 1 0 1 1 0 1 1 1 1 1 1 1 1 1 1 1 1 1 1 1 1]\n",
      "Prediction data 1 horizon sample: [[1 1 1 1 1 1 1 1 1 1 0 1 0 1 1 1 1 1 1 1 1 0 1 1 1 1 1 1 1 1 1 1 1 0 1 1\n",
      "  1 1 1 1 1 1 1 0 1 1 0 1 1 1 1 1 1 1 1 1 1 1 1 1 1 1 1]]\n",
      "Prediction 1 horizon sample: 1 VS 1\n"
     ]
    }
   ],
   "source": [
    "if not IS_CLASSIFICATION and y_scaler is not None:\n",
    "    ytrain_data = y_scaler.inverse_transform(ytrain_data.reshape(-1, 1))\n",
    "    ytest_data = y_scaler.inverse_transform(ytest_data.reshape(-1, 1))\n",
    "\n",
    "assert not np.array_equal(train_data, test_data) and not np.array_equal(train_exog_data, test_exog_data), \"Training and test should not be identical.\"\n",
    "\n",
    "y_pred = model.predict([train_data, train_exog_data])\n",
    "yt_pred = model.predict([test_data, test_exog_data])\n",
    "if IS_CLASSIFICATION:\n",
    "    y_pred_orig = y_pred.copy()\n",
    "    yt_pred_orig = yt_pred.copy()\n",
    "    y_pred = (y_pred > 0.5).astype(int)\n",
    "    yt_pred = (yt_pred > 0.5).astype(int)\n",
    "else:\n",
    "    y_pred = y_scaler.inverse_transform(y_pred.reshape(-1, 1))\n",
    "    yt_pred = y_scaler.inverse_transform(yt_pred.reshape(-1, 1))\n",
    "print(f\"Prediction shape: {yt_pred.shape} vs test data shape: {ytest_data.shape}\")\n",
    "print(f\"Test data 1 horizon sample: {ytest_data[0]}\")\n",
    "print(f\"Prediction data 1 horizon sample: {yt_pred[0].T}\")\n",
    "print(f\"Prediction 1 horizon sample: {yt_pred.flatten()[0]} VS {ytest_data.flatten()[0]}\")"
   ]
  },
  {
   "cell_type": "markdown",
   "id": "5c9ee892",
   "metadata": {},
   "source": [
    "### Confusion Matrices"
   ]
  },
  {
   "cell_type": "code",
   "execution_count": 42,
   "id": "ffbb7061",
   "metadata": {},
   "outputs": [
    {
     "data": {
      "image/png": "[encoded data removed]",
      "text/plain": [
       "<Figure size 800x400 with 4 Axes>"
      ]
     },
     "metadata": {},
     "output_type": "display_data"
    }
   ],
   "source": [
    "if IS_CLASSIFICATION:\n",
    "\n",
    "    cm_train = confusion_matrix(ytrain_data.flatten(), y_pred.flatten())\n",
    "    cm_test = confusion_matrix(ytest_data.flatten(), yt_pred.flatten())\n",
    "\n",
    "    cm_train_np = cm_train.numpy()\n",
    "    cm_test_np = cm_test.numpy()\n",
    "\n",
    "    plot_confusion_matrix(cm_train_np, [0,1], cm_test_np, [0,1])\n",
    "    plt.show()"
   ]
  },
  {
   "cell_type": "code",
   "execution_count": 43,
   "id": "1cf9703b",
   "metadata": {},
   "outputs": [
    {
     "name": "stdout",
     "output_type": "stream",
     "text": [
      "shapes y_pred: (4575, 63, 1) and yt_pred: (756, 63, 1)\n"
     ]
    },
    {
     "data": {
      "image/png": "[encoded data removed]",
      "text/plain": [
       "<Figure size 1200x1000 with 3 Axes>"
      ]
     },
     "metadata": {},
     "output_type": "display_data"
    },
    {
     "data": {
      "text/html": [
       "<div>\n",
       "<style scoped>\n",
       "    .dataframe tbody tr th:only-of-type {\n",
       "        vertical-align: middle;\n",
       "    }\n",
       "\n",
       "    .dataframe tbody tr th {\n",
       "        vertical-align: top;\n",
       "    }\n",
       "\n",
       "    .dataframe thead th {\n",
       "        text-align: right;\n",
       "    }\n",
       "</style>\n",
       "<table border=\"1\" class=\"dataframe\">\n",
       "  <thead>\n",
       "    <tr style=\"text-align: right;\">\n",
       "      <th></th>\n",
       "      <th>Accuracy</th>\n",
       "      <th>Precision</th>\n",
       "      <th>Recall</th>\n",
       "      <th>F1 Score</th>\n",
       "      <th>ROC AUC</th>\n",
       "    </tr>\n",
       "  </thead>\n",
       "  <tbody>\n",
       "    <tr>\n",
       "      <th>Test</th>\n",
       "      <td>1.0</td>\n",
       "      <td>1.0</td>\n",
       "      <td>1.0</td>\n",
       "      <td>1.0</td>\n",
       "      <td>1.0</td>\n",
       "    </tr>\n",
       "  </tbody>\n",
       "</table>\n",
       "</div>"
      ],
      "text/plain": [
       "      Accuracy  Precision  Recall  F1 Score  ROC AUC\n",
       "Test       1.0        1.0     1.0       1.0      1.0"
      ]
     },
     "execution_count": 43,
     "metadata": {},
     "output_type": "execute_result"
    }
   ],
   "source": [
    "from sklearn.metrics import (\n",
    "    mean_squared_error,\n",
    "    r2_score,\n",
    "    mean_absolute_percentage_error,\n",
    "    mean_absolute_error,\n",
    "    accuracy_score, precision_score, recall_score,\n",
    "    f1_score, roc_auc_score, roc_curve, auc\n",
    ")\n",
    "\n",
    "def directional_accuracy(y, y_pred):\n",
    "    a = np.array(y).flatten()\n",
    "    p = np.array(y_pred).flatten()\n",
    "\n",
    "    a_dir = np.sign(np.diff(a))\n",
    "    p_dir = np.sign(np.diff(p))\n",
    "    correct_dirs = np.sum(a_dir == p_dir)\n",
    "    acc = correct_dirs / len(a_dir)\n",
    "\n",
    "    return acc\n",
    "\n",
    "\n",
    "print(f\"shapes y_pred: {y_pred.shape} and yt_pred: {yt_pred.shape}\")\n",
    "\n",
    "if not IS_CLASSIFICATION:\n",
    "    mae_train = mean_absolute_error(ytrain_data, y_pred)\n",
    "    mae_test = mean_absolute_error(ytest_data, yt_pred)\n",
    "    mse_train = mean_squared_error(ytrain_data, y_pred)\n",
    "    mse_test = mean_squared_error(ytest_data, yt_pred)\n",
    "    rmse_train = mean_squared_error(ytrain_data, y_pred, squared=False)\n",
    "    rmse_test = mean_squared_error(ytest_data, yt_pred, squared=False)\n",
    "    mape_train = mean_absolute_percentage_error(ytrain_data, y_pred) * 100\n",
    "    mape_test = mean_absolute_percentage_error(ytest_data, yt_pred) * 100\n",
    "    r2 = r2_score(\n",
    "        ytest_data,\n",
    "        yt_pred,\n",
    "    )\n",
    "    da_test = directional_accuracy(ytest_data, yt_pred)\n",
    "    metrics_df = pd.DataFrame(\n",
    "        {\n",
    "            \"MAE\": [mae_test],\n",
    "            \"MSE\": [mse_test],\n",
    "            \"RMSE\": [rmse_test],\n",
    "            \"MAPE\": [mape_test],\n",
    "            \"R2\": [r2],\n",
    "            \"DA\": [da_test],\n",
    "        }\n",
    "    )\n",
    "else:\n",
    "    accuracy_test = accuracy_score(ytest_data.flatten(), yt_pred.flatten())\n",
    "    precision_test = precision_score(ytest_data.flatten(), yt_pred.flatten())\n",
    "    recall_test = recall_score(ytest_data.flatten(), yt_pred.flatten())\n",
    "    f1_test = f1_score(ytest_data.flatten(), yt_pred.flatten())\n",
    "    roc_auc_test = roc_auc_score(ytest_data.flatten(), yt_pred_orig.flatten())\n",
    "    metrics_df = pd.DataFrame({\n",
    "        \"Accuracy\": [accuracy_test],\n",
    "        \"Precision\": [precision_test],\n",
    "        \"Recall\": [recall_test],\n",
    "        \"F1 Score\": [f1_test],\n",
    "        \"ROC AUC\": [roc_auc_test],\n",
    "    }, index=[\"Test\"])\n",
    "\n",
    "fig, axs = plt.subplots(3 if IS_CLASSIFICATION else 2, 1, figsize=(12, 10))\n",
    "axs[0].plot(history.history[\"loss\"], label=\"Train loss\")\n",
    "axs[0].plot(history.history[\"val_loss\"], label=\"Validation loss\")\n",
    "axs[0].set_xlabel(\"Epochs\")\n",
    "axs[0].set_ylabel(\"Loss\")\n",
    "axs[0].legend()\n",
    "axs[1].plot(\n",
    "    history.history[TARGET_METRIC],\n",
    "    label=f\"Train {TARGET_METRIC}\",\n",
    ")\n",
    "axs[1].plot(\n",
    "    history.history[f\"val_{TARGET_METRIC}\"],\n",
    "    label=f\"Test {TARGET_METRIC}\",\n",
    "    color=\"k\",\n",
    ")\n",
    "if not IS_CLASSIFICATION:\n",
    "    axs[1].axhline(mae_test, color=\"b\", linestyle=\"--\", label=\"Train Sample MAE\")\n",
    "    axs[1].axhline(mae_train, color=\"b\", linestyle=\"-\", label=\"Test Sample MAE\")\n",
    "    axs[1].axhline(rmse_train, color=\"r\", linestyle=\"--\", label=\"Train Sample RMSE\")\n",
    "    axs[1].axhline(rmse_test, color=\"r\", linestyle=\"-\", label=\"Test Sample RMSE\")\n",
    "else:\n",
    "    axs[1].axhline(accuracy_test, color=\"r\", linestyle=\"-\", label=\"Test Acc\")\n",
    "    axs[1].axhline(precision_test, color=\"g\", linestyle=\"--\", label=\"Test Prec\")\n",
    "    axs[1].axhline(recall_test, color=\"g\", linestyle=\"-\", label=\"Test Rec\")\n",
    "axs[1].set_xlabel(\"Epochs\")\n",
    "axs[1].set_ylabel(\"Score\")\n",
    "axs[1].legend()\n",
    "\n",
    "if IS_CLASSIFICATION:\n",
    "    fpr, tpr, _ = roc_curve(ytest_data.flatten(), yt_pred_orig.flatten())\n",
    "    roc_auc_test = auc(fpr, tpr)\n",
    "    axs[2].plot(fpr, tpr, color='darkorange', lw=2, label='ROC curve (area = %0.2f)' % roc_auc_test)\n",
    "    axs[2].plot([0, 1], [0, 1], color='navy', lw=2, linestyle='--', label='ROC Line')\n",
    "    axs[2].set_xlabel('False Positive Rate')\n",
    "    axs[2].set_ylabel('True Positive Rate')\n",
    "    axs[2].legend()\n",
    "\n",
    "plt.show()\n",
    "\n",
    "metrics_df"
   ]
  },
  {
   "cell_type": "markdown",
   "id": "7b4b4c45",
   "metadata": {},
   "source": [
    "# Walk Forwards"
   ]
  },
  {
   "cell_type": "code",
   "execution_count": 44,
   "id": "4bf8ad22",
   "metadata": {},
   "outputs": [
    {
     "name": "stdout",
     "output_type": "stream",
     "text": [
      " 1/17 [>.............................] - ETA: 0s"
     ]
    },
    {
     "name": "stdout",
     "output_type": "stream",
     "text": [
      "17/17 [==============================] - 0s 9ms/step\n",
      "Prediction shape: (543, 63, 1) vs test data shape: (543, 63)\n",
      "Test data 1 horizon sample: [0 1 1 1 1 0 0 1 1 1 1 1 0 1 0 1 0 1 1 1 1 0 1 1 1 1 1 1 1 1 1 1 1 1 1 1 1\n",
      " 1 1 1 1 1 1 0 1 1 1 1 1 1 1 1 1 1 0 1 0 0 1 0 1 1 1]\n",
      "Predicted data 1 horizon sample: [[0 1 1 1 1 0 0 1 1 1 1 1 0 1 0 1 0 1 1 1 1 0 1 1 1 1 1 1 1 1 1 1 1 1 1 1\n",
      "  1 1 1 1 1 1 1 0 1 1 1 1 1 1 1 1 1 1 0 1 0 0 1 0 1 1 1]]\n",
      "Prediction 1 horizon sample: 0 VS 0\n"
     ]
    },
    {
     "data": {
      "text/html": [
       "<div>\n",
       "<style scoped>\n",
       "    .dataframe tbody tr th:only-of-type {\n",
       "        vertical-align: middle;\n",
       "    }\n",
       "\n",
       "    .dataframe tbody tr th {\n",
       "        vertical-align: top;\n",
       "    }\n",
       "\n",
       "    .dataframe thead th {\n",
       "        text-align: right;\n",
       "    }\n",
       "</style>\n",
       "<table border=\"1\" class=\"dataframe\">\n",
       "  <thead>\n",
       "    <tr style=\"text-align: right;\">\n",
       "      <th></th>\n",
       "      <th>Accuracy</th>\n",
       "      <th>Precision</th>\n",
       "      <th>Recall</th>\n",
       "      <th>F1 Score</th>\n",
       "      <th>ROC AUC</th>\n",
       "    </tr>\n",
       "  </thead>\n",
       "  <tbody>\n",
       "    <tr>\n",
       "      <th>Test</th>\n",
       "      <td>1.0</td>\n",
       "      <td>1.0</td>\n",
       "      <td>1.0</td>\n",
       "      <td>1.0</td>\n",
       "      <td>1.0</td>\n",
       "    </tr>\n",
       "  </tbody>\n",
       "</table>\n",
       "</div>"
      ],
      "text/plain": [
       "      Accuracy  Precision  Recall  F1 Score  ROC AUC\n",
       "Test       1.0        1.0     1.0       1.0      1.0"
      ]
     },
     "execution_count": 44,
     "metadata": {},
     "output_type": "execute_result"
    }
   ],
   "source": [
    "y_oos_pred_raw = model.predict([xtrain_oos, Xexog_oos])\n",
    "y_oos_pred = (y_oos_pred_raw > 0.5).astype(int)\n",
    "\n",
    "print(f\"Prediction shape: {y_oos_pred.shape} vs test data shape: {y_oos.shape}\")\n",
    "print(f\"Test data 1 horizon sample: {y_oos[0]}\")\n",
    "print(f\"Predicted data 1 horizon sample: {y_oos_pred[0].T}\")\n",
    "print(f\"Prediction 1 horizon sample: {y_oos_pred.flatten()[0]} VS {y_oos.flatten()[0]}\")\n",
    "\n",
    "metrics_oos_df = None\n",
    "if IS_CLASSIFICATION:\n",
    "    accuracy_test = accuracy_score(y_oos.flatten(), y_oos_pred.flatten())\n",
    "    precision_test = precision_score(y_oos.flatten(), y_oos_pred.flatten())\n",
    "    recall_test = recall_score(y_oos.flatten(), y_oos_pred.flatten())\n",
    "    f1_test = f1_score(y_oos.flatten(), y_oos_pred.flatten())\n",
    "    roc_auc_test = roc_auc_score(y_oos.flatten(), y_oos_pred_raw.flatten())\n",
    "    metrics_oos_df = pd.DataFrame({\n",
    "        \"Accuracy\": [accuracy_test],\n",
    "        \"Precision\": [precision_test],\n",
    "        \"Recall\": [recall_test],\n",
    "        \"F1 Score\": [f1_test],\n",
    "        \"ROC AUC\": [roc_auc_test],\n",
    "    }, index=[\"Test\"])\n",
    "\n",
    "metrics_oos_df"
   ]
  },
  {
   "cell_type": "markdown",
   "id": "b8043ed7",
   "metadata": {},
   "source": [
    "## Cross Validation"
   ]
  },
  {
   "cell_type": "code",
   "execution_count": 45,
   "id": "2e08d321",
   "metadata": {},
   "outputs": [
    {
     "name": "stderr",
     "output_type": "stream",
     "text": [
      "Encoding Widows of 63: 100%|██████████| 950/950 [00:01<00:00, 803.76it/s]\n",
      "Encoding Widows of 63: 100%|██████████| 947/947 [00:01<00:00, 835.66it/s]\n"
     ]
    },
    {
     "name": "stdout",
     "output_type": "stream",
     "text": [
      "\n",
      "Epoch 8: ReduceLROnPlateau reducing learning rate to 0.0029999999329447745.\n",
      "\n",
      "Epoch 15: ReduceLROnPlateau reducing learning rate to 0.0009000000078231095.\n"
     ]
    },
    {
     "name": "stderr",
     "output_type": "stream",
     "text": [
      "Encoding Widows of 63: 100%|██████████| 1960/1960 [00:02<00:00, 848.68it/s]\n",
      "Encoding Widows of 63: 100%|██████████| 947/947 [00:01<00:00, 885.94it/s]\n"
     ]
    },
    {
     "name": "stdout",
     "output_type": "stream",
     "text": [
      "\n",
      "Epoch 8: ReduceLROnPlateau reducing learning rate to 0.0029999999329447745.\n",
      "\n",
      "Epoch 15: ReduceLROnPlateau reducing learning rate to 0.0009000000078231095.\n"
     ]
    },
    {
     "name": "stderr",
     "output_type": "stream",
     "text": [
      "Encoding Widows of 63: 100%|██████████| 2970/2970 [00:04<00:00, 736.59it/s]\n",
      "Encoding Widows of 63: 100%|██████████| 947/947 [00:01<00:00, 851.04it/s]\n"
     ]
    },
    {
     "name": "stdout",
     "output_type": "stream",
     "text": [
      "\n",
      "Epoch 8: ReduceLROnPlateau reducing learning rate to 0.0029999999329447745.\n",
      "\n",
      "Epoch 15: ReduceLROnPlateau reducing learning rate to 0.0009000000078231095.\n"
     ]
    },
    {
     "name": "stderr",
     "output_type": "stream",
     "text": [
      "Encoding Widows of 63: 100%|██████████| 3980/3980 [00:05<00:00, 733.29it/s]\n",
      "Encoding Widows of 63: 100%|██████████| 947/947 [00:01<00:00, 860.12it/s]\n"
     ]
    },
    {
     "name": "stdout",
     "output_type": "stream",
     "text": [
      "\n",
      "Epoch 8: ReduceLROnPlateau reducing learning rate to 0.0029999999329447745.\n",
      "\n",
      "Epoch 15: ReduceLROnPlateau reducing learning rate to 0.0009000000078231095.\n"
     ]
    },
    {
     "name": "stderr",
     "output_type": "stream",
     "text": [
      "Encoding Widows of 63: 100%|██████████| 4990/4990 [00:07<00:00, 689.37it/s]\n",
      "Encoding Widows of 63: 100%|██████████| 947/947 [00:01<00:00, 832.15it/s]\n"
     ]
    },
    {
     "name": "stdout",
     "output_type": "stream",
     "text": [
      "\n",
      "Epoch 8: ReduceLROnPlateau reducing learning rate to 0.0029999999329447745.\n",
      "\n",
      "Epoch 15: ReduceLROnPlateau reducing learning rate to 0.0009000000078231095.\n"
     ]
    },
    {
     "name": "stderr",
     "output_type": "stream",
     "text": [
      "CV Testing for n_splits: 5: 5it [02:19, 27.99s/it]"
     ]
    },
    {
     "name": "stdout",
     "output_type": "stream",
     "text": [
      "        loss  auc  binary_crossentropy  binary_accuracy  accuracy\n",
      "0  87.044289  0.5             0.693147         0.169876  0.169876\n",
      "1  58.385376  1.0             0.535407         0.810161  0.810161\n",
      "2  31.304258  0.5             0.693147         0.151841  0.151841\n",
      "3  20.915012  1.0             0.357636         1.000000  1.000000\n",
      "4  16.456896  1.0             0.402715         1.000000  1.000000\n"
     ]
    },
    {
     "name": "stderr",
     "output_type": "stream",
     "text": [
      "\n"
     ]
    }
   ],
   "source": [
    "from sklearn.model_selection import TimeSeriesSplit\n",
    "import json\n",
    "import os\n",
    "\n",
    "CV_MODEL = True\n",
    "CV_SPLITS = 3\n",
    "\n",
    "def train_cv_model(X, y, input_shape, conditioning_shapes=None, n_splits=5, perturb=True):\n",
    "    def _save_cv(results_df, file_name=\"cv_results.json\"):\n",
    "        os.makedirs(MODEL_DIR, exist_ok=True)\n",
    "        file_path = os.path.join(MODEL_DIR, file_name)\n",
    "        with open(file_path, \"w\") as file:\n",
    "            json.dump({\"CV results\": results_df.to_dict(orient=\"records\")}, file)\n",
    "\n",
    "    def _perturb_gaussiannoise(X, noise_level=0.1):\n",
    "        sigma = noise_level * np.std(X)\n",
    "        noise = np.random.normal(0, sigma, X.shape)\n",
    "        return X + noise\n",
    "\n",
    "    if perturb:\n",
    "        X = _perturb_gaussiannoise(X)\n",
    "\n",
    "    results = []\n",
    "    tscv = TimeSeriesSplit(n_splits=n_splits)\n",
    "\n",
    "    for train_index, test_index in tqdm(tscv.split(X), desc=f\"CV Testing for n_splits: {n_splits}\"):\n",
    "        X_train = X.iloc[train_index]\n",
    "        y_train = y.iloc[train_index]\n",
    "        X_test = X.iloc[test_index]\n",
    "        y_test = y.iloc[test_index]\n",
    "\n",
    "        X_train_windows, X_Exog_train, y_train_windows = prepare_windows(X_train, y_train)\n",
    "        X_test_windows, X_Exog_test, y_test_windows = prepare_windows(X_test, y_test)\n",
    "\n",
    "        try:\n",
    "            cv_model, _ = build_tcn(input_shape, [X_train_windows, X_Exog_train], y_train_windows, [X_test_windows, X_Exog_test], y_test_windows, conditioning_shapes=conditioning_shapes, tb=False)\n",
    "            result = cv_model.evaluate([X_test_windows, X_Exog_test], y_test_windows, verbose=0)\n",
    "            results.append(result)\n",
    "        except Exception as e:\n",
    "            print(f\"CV error on fold with exception: {e}\")\n",
    "\n",
    "    metrics_names = [metric.name for metric in cv_model.metrics]\n",
    "    results_df = pd.DataFrame(results, columns=metrics_names)\n",
    "    _save_cv(results_df)\n",
    "\n",
    "    return results_df\n",
    "\n",
    "\n",
    "if CV_MODEL:\n",
    "    results_df = train_cv_model(data_df, data_df[TARGET_LABEL], input_shape, conditioning_shapes=conditioning_shapes)\n",
    "    print(results_df)\n"
   ]
  },
  {
   "cell_type": "markdown",
   "id": "77790620",
   "metadata": {},
   "source": [
    "# Predict Today"
   ]
  },
  {
   "cell_type": "code",
   "execution_count": 46,
   "id": "66ac43c6",
   "metadata": {},
   "outputs": [
    {
     "name": "stdout",
     "output_type": "stream",
     "text": [
      "Date ranges 2023-11-03 00:14:28.442823 - 2024-02-07 00:14:28.442823\n",
      "Pred Data Shape (6063, 15)\n"
     ]
    },
    {
     "name": "stderr",
     "output_type": "stream",
     "text": [
      "Encoding Widows of 63:   0%|          | 0/6000 [00:00<?, ?it/s]"
     ]
    },
    {
     "name": "stderr",
     "output_type": "stream",
     "text": [
      "Encoding Widows of 63: 100%|██████████| 6000/6000 [00:06<00:00, 886.13it/s]\n"
     ]
    },
    {
     "name": "stdout",
     "output_type": "stream",
     "text": [
      "188/188 [==============================] - 1s 6ms/step\n",
      "today_pred Data Shape (6000, 63, 1)\n",
      "Predicting the 63th which was yesterday: [1.]\n",
      "Predicting the 64th which is today: [1.]\n"
     ]
    }
   ],
   "source": [
    "from datetime import datetime\n",
    "from pandas.tseries.offsets import BDay\n",
    "\n",
    "assert model is not None\n",
    "\n",
    "LAST_TRADING_DAY = pd.Timestamp(datetime.now() - BDay(1))\n",
    "FIRST_WINDOW_DAY = pd.Timestamp(LAST_TRADING_DAY - BDay(WINDOW_SIZE + 5))\n",
    "assert len( pd.bdate_range(start=FIRST_WINDOW_DAY, end=LAST_TRADING_DAY)) >= WINDOW_SIZE, f\"Expected larger than {WINDOW_SIZE} business days\"\n",
    "print(f\"Date ranges {FIRST_WINDOW_DAY} - {LAST_TRADING_DAY}\")\n",
    "\n",
    "pred_tickers = tickers.copy()\n",
    "for ticker in tickers_symbols:\n",
    "    df = tickers.get(ticker)\n",
    "    df = df[(df.index >= latest_start) & (df.index <= earliest_end)]\n",
    "    assert len(df) > 0 and not df.isna().any().any()\n",
    "    pred_tickers[ticker] = df\n",
    "assert len(pred_tickers) > 0 and len(pred_tickers[TARGET_ETF]) > 0\n",
    "\n",
    "preddata_df, _ = prepare_data(pred_tickers, to_normalize=True)\n",
    "print(f\"Pred Data Shape {preddata_df.shape}\")\n",
    "\n",
    "assert not np.any(pd.isna(preddata_df)) and not np.any(pd.isna(preddata_df))\n",
    "pred_X, pred_Xexog, _ = prepare_windows(preddata_df, None)\n",
    "\n",
    "today_pred = model.predict([pred_X, pred_Xexog])\n",
    "print(f\"today_pred Data Shape {today_pred.shape}\")\n",
    "# Remember shape: (Window, Days, features) - in label's case only 1 feature.\n",
    "print(f\"Predicting the {WINDOW_SIZE}th which was yesterday: {today_pred[-1][-2]}\")\n",
    "print(f\"Predicting the {WINDOW_SIZE+1}th which is today: {today_pred[-1][-1]}\")"
   ]
  },
  {
   "cell_type": "markdown",
   "id": "c8950717",
   "metadata": {},
   "source": [
    "# Unseen Securities Performance"
   ]
  },
  {
   "cell_type": "code",
   "execution_count": 52,
   "id": "f5f44935",
   "metadata": {},
   "outputs": [
    {
     "name": "stderr",
     "output_type": "stream",
     "text": [
      "Testing on Unseen TS:   0%|          | 0/7 [00:00<?, ?it/s]"
     ]
    },
    {
     "name": "stdout",
     "output_type": "stream",
     "text": [
      "SSO => min_date: 2006-06-21 00:00:00, max_date: 2024-02-06 00:00:00, kurt:-0.03, skewness:1.05, outliers_count:0,  nan_count: 0\n",
      "Date ranges for SSO are 2023-11-03 - 2024-02-06\n"
     ]
    },
    {
     "name": "stderr",
     "output_type": "stream",
     "text": [
      "Encoding Widows of 63: 100%|██████████| 1/1 [00:00<00:00, 1003.18it/s]"
     ]
    },
    {
     "name": "stdout",
     "output_type": "stream",
     "text": [
      "1/1 [==============================] - 0s 27ms/step\n"
     ]
    },
    {
     "name": "stderr",
     "output_type": "stream",
     "text": [
      "\n",
      "Testing on Unseen TS:  14%|█▍        | 1/7 [00:00<00:00,  7.09it/s]"
     ]
    },
    {
     "name": "stdout",
     "output_type": "stream",
     "text": [
      "SPXL => min_date: 2008-11-05 00:00:00, max_date: 2024-02-06 00:00:00, kurt:0.33, skewness:1.06, outliers_count:21,  nan_count: 0\n",
      "Date ranges for SPXL are 2023-11-03 - 2024-02-06\n"
     ]
    },
    {
     "name": "stderr",
     "output_type": "stream",
     "text": [
      "Encoding Widows of 63: 100%|██████████| 1/1 [00:00<00:00, 499.86it/s]\n"
     ]
    },
    {
     "name": "stdout",
     "output_type": "stream",
     "text": [
      "1/1 [==============================] - 0s 38ms/step\n"
     ]
    },
    {
     "name": "stderr",
     "output_type": "stream",
     "text": [
      "Testing on Unseen TS:  29%|██▊       | 2/7 [00:00<00:00,  5.99it/s]"
     ]
    },
    {
     "name": "stdout",
     "output_type": "stream",
     "text": [
      "BAC => min_date: 1999-01-04 00:00:00, max_date: 2024-02-06 00:00:00, kurt:-0.94, skewness:0.13, outliers_count:0,  nan_count: 0\n",
      "Date ranges for BAC are 2023-11-03 - 2024-02-06\n"
     ]
    },
    {
     "name": "stderr",
     "output_type": "stream",
     "text": [
      "Encoding Widows of 63: 100%|██████████| 1/1 [00:00<00:00, 71.42it/s]\n"
     ]
    },
    {
     "name": "stdout",
     "output_type": "stream",
     "text": [
      "1/1 [==============================] - 0s 29ms/step\n"
     ]
    },
    {
     "name": "stderr",
     "output_type": "stream",
     "text": [
      "Testing on Unseen TS:  43%|████▎     | 3/7 [00:00<00:00,  5.13it/s]"
     ]
    },
    {
     "name": "stdout",
     "output_type": "stream",
     "text": [
      "TQQQ => min_date: 2010-02-11 00:00:00, max_date: 2024-02-06 00:00:00, kurt:1.95, skewness:1.6, outliers_count:68,  nan_count: 0\n",
      "Date ranges for TQQQ are 2023-11-03 - 2024-02-06\n"
     ]
    },
    {
     "name": "stderr",
     "output_type": "stream",
     "text": [
      "Encoding Widows of 63: 100%|██████████| 1/1 [00:00<00:00, 500.27it/s]"
     ]
    },
    {
     "name": "stdout",
     "output_type": "stream",
     "text": [
      "1/1 [==============================] - 0s 25ms/step\n"
     ]
    },
    {
     "name": "stderr",
     "output_type": "stream",
     "text": [
      "\n",
      "Testing on Unseen TS:  57%|█████▋    | 4/7 [00:00<00:00,  5.87it/s]"
     ]
    },
    {
     "name": "stdout",
     "output_type": "stream",
     "text": [
      "AAPL => min_date: 1999-01-04 00:00:00, max_date: 2024-02-06 00:00:00, kurt:1.84, skewness:1.76, outliers_count:64,  nan_count: 0\n",
      "Date ranges for AAPL are 2023-11-03 - 2024-02-06\n"
     ]
    },
    {
     "name": "stderr",
     "output_type": "stream",
     "text": [
      "Encoding Widows of 63: 100%|██████████| 1/1 [00:00<00:00, 500.16it/s]\n"
     ]
    },
    {
     "name": "stdout",
     "output_type": "stream",
     "text": [
      "1/1 [==============================] - 0s 23ms/step\n"
     ]
    },
    {
     "name": "stderr",
     "output_type": "stream",
     "text": [
      "Testing on Unseen TS:  71%|███████▏  | 5/7 [00:00<00:00,  6.49it/s]"
     ]
    },
    {
     "name": "stdout",
     "output_type": "stream",
     "text": [
      "HSBC => min_date: 1999-07-16 00:00:00, max_date: 2024-02-06 00:00:00, kurt:-0.61, skewness:0.5, outliers_count:0,  nan_count: 0\n",
      "Date ranges for HSBC are 2023-11-03 - 2024-02-06\n"
     ]
    },
    {
     "name": "stderr",
     "output_type": "stream",
     "text": [
      "Encoding Widows of 63: 100%|██████████| 1/1 [00:00<00:00, 1000.31it/s]\n"
     ]
    },
    {
     "name": "stdout",
     "output_type": "stream",
     "text": [
      "1/1 [==============================] - 0s 25ms/step\n"
     ]
    },
    {
     "name": "stderr",
     "output_type": "stream",
     "text": [
      "Testing on Unseen TS:  86%|████████▌ | 6/7 [00:00<00:00,  6.90it/s]"
     ]
    },
    {
     "name": "stdout",
     "output_type": "stream",
     "text": [
      "TM => min_date: 1999-01-04 00:00:00, max_date: 2024-02-06 00:00:00, kurt:-0.39, skewness:0.44, outliers_count:3,  nan_count: 0\n",
      "Date ranges for TM are 2023-11-03 - 2024-02-06\n"
     ]
    },
    {
     "name": "stderr",
     "output_type": "stream",
     "text": [
      "Encoding Widows of 63: 100%|██████████| 1/1 [00:00<00:00, 1001.74it/s]\n"
     ]
    },
    {
     "name": "stdout",
     "output_type": "stream",
     "text": [
      "1/1 [==============================] - 0s 23ms/step\n"
     ]
    },
    {
     "name": "stderr",
     "output_type": "stream",
     "text": [
      "Testing on Unseen TS: 100%|██████████| 7/7 [00:01<00:00,  6.57it/s]\n"
     ]
    },
    {
     "data": {
      "text/html": [
       "<div>\n",
       "<style scoped>\n",
       "    .dataframe tbody tr th:only-of-type {\n",
       "        vertical-align: middle;\n",
       "    }\n",
       "\n",
       "    .dataframe tbody tr th {\n",
       "        vertical-align: top;\n",
       "    }\n",
       "\n",
       "    .dataframe thead th {\n",
       "        text-align: right;\n",
       "    }\n",
       "</style>\n",
       "<table border=\"1\" class=\"dataframe\">\n",
       "  <thead>\n",
       "    <tr style=\"text-align: right;\">\n",
       "      <th></th>\n",
       "      <th>Accuracy</th>\n",
       "      <th>Precision</th>\n",
       "      <th>Recall</th>\n",
       "      <th>F1 Score</th>\n",
       "      <th>ROC AUC</th>\n",
       "    </tr>\n",
       "  </thead>\n",
       "  <tbody>\n",
       "    <tr>\n",
       "      <th>SSO</th>\n",
       "      <td>0.174603</td>\n",
       "      <td>0.0</td>\n",
       "      <td>0.0</td>\n",
       "      <td>0.0</td>\n",
       "      <td>0.5</td>\n",
       "    </tr>\n",
       "    <tr>\n",
       "      <th>SPXL</th>\n",
       "      <td>0.206349</td>\n",
       "      <td>0.0</td>\n",
       "      <td>0.0</td>\n",
       "      <td>0.0</td>\n",
       "      <td>0.5</td>\n",
       "    </tr>\n",
       "    <tr>\n",
       "      <th>BAC</th>\n",
       "      <td>0.253968</td>\n",
       "      <td>0.0</td>\n",
       "      <td>0.0</td>\n",
       "      <td>0.0</td>\n",
       "      <td>0.5</td>\n",
       "    </tr>\n",
       "    <tr>\n",
       "      <th>TQQQ</th>\n",
       "      <td>0.238095</td>\n",
       "      <td>0.0</td>\n",
       "      <td>0.0</td>\n",
       "      <td>0.0</td>\n",
       "      <td>0.5</td>\n",
       "    </tr>\n",
       "    <tr>\n",
       "      <th>AAPL</th>\n",
       "      <td>0.206349</td>\n",
       "      <td>0.0</td>\n",
       "      <td>0.0</td>\n",
       "      <td>0.0</td>\n",
       "      <td>0.5</td>\n",
       "    </tr>\n",
       "    <tr>\n",
       "      <th>HSBC</th>\n",
       "      <td>0.206349</td>\n",
       "      <td>0.0</td>\n",
       "      <td>0.0</td>\n",
       "      <td>0.0</td>\n",
       "      <td>0.5</td>\n",
       "    </tr>\n",
       "    <tr>\n",
       "      <th>TM</th>\n",
       "      <td>0.269841</td>\n",
       "      <td>0.0</td>\n",
       "      <td>0.0</td>\n",
       "      <td>0.0</td>\n",
       "      <td>0.5</td>\n",
       "    </tr>\n",
       "  </tbody>\n",
       "</table>\n",
       "</div>"
      ],
      "text/plain": [
       "      Accuracy  Precision  Recall  F1 Score  ROC AUC\n",
       "SSO   0.174603        0.0     0.0       0.0      0.5\n",
       "SPXL  0.206349        0.0     0.0       0.0      0.5\n",
       "BAC   0.253968        0.0     0.0       0.0      0.5\n",
       "TQQQ  0.238095        0.0     0.0       0.0      0.5\n",
       "AAPL  0.206349        0.0     0.0       0.0      0.5\n",
       "HSBC  0.206349        0.0     0.0       0.0      0.5\n",
       "TM    0.269841        0.0     0.0       0.0      0.5"
      ]
     },
     "execution_count": 52,
     "metadata": {},
     "output_type": "execute_result"
    }
   ],
   "source": [
    "assert model is not None\n",
    "\n",
    "OHTER_ETFS = [\"SSO\", \"SPXL\", \"BAC\", \"TQQQ\", \"AAPL\", \"HSBC\", \"TM\"]  # These are leveraged & constituents\n",
    "LAST_TRADING_DAY_STR = LAST_TRADING_DAY.strftime('%Y-%m-%d')\n",
    "FIRST_WINDOW_DAY_STR = FIRST_WINDOW_DAY.strftime('%Y-%m-%d')\n",
    "\n",
    "def generalization_test(unseen_tickers_list, start, end, gen_model=None, input_shape=input_shape, conditioning_shapes=conditioning_shapes):\n",
    "    metrics_unseen = []\n",
    "    for ticker in tqdm(unseen_tickers_list, desc=\"Testing on Unseen TS\"):\n",
    "        # Create a fresh copy of the tickers dictionary for each iteration\n",
    "        current_tickers = tickers.copy()\n",
    "        other_etf, latest_start, earliest_end = get_tickerdata([ticker], start=start, end=end)\n",
    "        current_tickers[TARGET_ETF] = other_etf[ticker]\n",
    "        print(f\"Date ranges for {ticker} are {latest_start.strftime('%Y-%m-%d')} - {earliest_end.strftime('%Y-%m-%d')}\")\n",
    "\n",
    "        for ticker_symbol in tickers_symbols:\n",
    "            df = current_tickers.get(ticker_symbol)\n",
    "            df = df[(df.index >= latest_start) & (df.index <= earliest_end)]\n",
    "            assert not df.empty and not df.isna().any().any() and len(df) > WINDOW_SIZE//2, f\"Data validation failed for {ticker_symbol}\"\n",
    "            current_tickers[ticker_symbol] = df\n",
    "        unseendata_df, _ = prepare_data(current_tickers, to_normalize=True)\n",
    "        assert not np.any(pd.isna(unseendata_df)) and len(unseendata_df) > WINDOW_SIZE//2, \"Unseen data preparation failed\"\n",
    "        unseen_X, unseen_Xexog, unseen_y = prepare_windows(unseendata_df, unseendata_df[TARGET_LABEL])\n",
    "\n",
    "        unseen_ypred_raw = gen_model.predict([unseen_X, unseen_Xexog])\n",
    "        unseen_pred = (unseen_ypred_raw > 0.5).astype(int)\n",
    "        if IS_CLASSIFICATION:\n",
    "            metrics = {\n",
    "                \"Accuracy\": accuracy_score(unseen_y.flatten(), unseen_pred.flatten()),\n",
    "                \"Precision\": precision_score(unseen_y.flatten(), unseen_pred.flatten()),\n",
    "                \"Recall\": recall_score(unseen_y.flatten(), unseen_pred.flatten()),\n",
    "                \"F1 Score\": f1_score(unseen_y.flatten(), unseen_pred.flatten()),\n",
    "                \"ROC AUC\": roc_auc_score(unseen_y.flatten(), unseen_ypred_raw.flatten())\n",
    "            }\n",
    "        metrics_unseen.append({ticker: metrics})\n",
    "    metrics_unseen_df = pd.DataFrame.from_dict({list(d.keys())[0]: list(d.values())[0] for d in metrics_unseen}, orient='index')\n",
    "    return metrics_unseen_df\n",
    "\n",
    "metrics_unseen_df = generalization_test(OHTER_ETFS, FIRST_WINDOW_DAY_STR, LAST_TRADING_DAY_STR, gen_model=model)\n",
    "metrics_unseen_df"
   ]
  },
  {
   "cell_type": "markdown",
   "id": "940a6579",
   "metadata": {},
   "source": [
    "# Blackswan Performance"
   ]
  },
  {
   "cell_type": "code",
   "execution_count": 53,
   "id": "2f61177c",
   "metadata": {},
   "outputs": [
    {
     "name": "stdout",
     "output_type": "stream",
     "text": [
      "399001.SZ => min_date: 1999-01-04 00:00:00, max_date: 2024-02-06 00:00:00, kurt:-0.93, skewness:0.02, outliers_count:0,  nan_count: 0\n",
      "Date ranges for 399001.SZ are 1999-01-04 - 2021-01-01\n"
     ]
    },
    {
     "name": "stderr",
     "output_type": "stream",
     "text": [
      "Encoding Widows of 63:   0%|          | 0/5261 [00:00<?, ?it/s]"
     ]
    },
    {
     "name": "stderr",
     "output_type": "stream",
     "text": [
      "Encoding Widows of 63: 100%|██████████| 5261/5261 [00:06<00:00, 867.01it/s]\n"
     ]
    },
    {
     "name": "stdout",
     "output_type": "stream",
     "text": [
      "\n",
      "Epoch 8: ReduceLROnPlateau reducing learning rate to 0.0029999999329447745.\n",
      "\n",
      "Epoch 15: ReduceLROnPlateau reducing learning rate to 0.0009000000078231095.\n"
     ]
    },
    {
     "name": "stderr",
     "output_type": "stream",
     "text": [
      "Testing on Unseen TS:   0%|          | 0/7 [00:00<?, ?it/s]"
     ]
    },
    {
     "name": "stdout",
     "output_type": "stream",
     "text": [
      "SSO => min_date: 2006-06-21 00:00:00, max_date: 2024-02-05 00:00:00, kurt:-0.02, skewness:1.05, outliers_count:0,  nan_count: 0\n",
      "Date ranges for SSO are 2006-06-21 - 2021-01-01\n"
     ]
    },
    {
     "name": "stderr",
     "output_type": "stream",
     "text": [
      "Encoding Widows of 63: 100%|██████████| 3596/3596 [00:04<00:00, 875.12it/s]\n"
     ]
    },
    {
     "name": "stdout",
     "output_type": "stream",
     "text": [
      "113/113 [==============================] - 1s 7ms/step\n"
     ]
    },
    {
     "name": "stderr",
     "output_type": "stream",
     "text": [
      "Testing on Unseen TS:  14%|█▍        | 1/7 [00:05<00:33,  5.59s/it]"
     ]
    },
    {
     "name": "stdout",
     "output_type": "stream",
     "text": [
      "SPXL => min_date: 2008-11-05 00:00:00, max_date: 2024-02-05 00:00:00, kurt:0.33, skewness:1.07, outliers_count:23,  nan_count: 0\n",
      "Date ranges for SPXL are 2008-11-05 - 2021-01-01\n"
     ]
    },
    {
     "name": "stderr",
     "output_type": "stream",
     "text": [
      "Encoding Widows of 63: 100%|██████████| 2997/2997 [00:03<00:00, 901.89it/s]\n"
     ]
    },
    {
     "name": "stdout",
     "output_type": "stream",
     "text": [
      "94/94 [==============================] - 1s 8ms/step\n"
     ]
    },
    {
     "name": "stderr",
     "output_type": "stream",
     "text": [
      "Testing on Unseen TS:  29%|██▊       | 2/7 [00:10<00:24,  4.93s/it]"
     ]
    },
    {
     "name": "stdout",
     "output_type": "stream",
     "text": [
      "BAC => min_date: 1999-01-04 00:00:00, max_date: 2024-02-05 00:00:00, kurt:-0.94, skewness:0.13, outliers_count:0,  nan_count: 0\n",
      "Date ranges for BAC are 1999-01-04 - 2021-01-01\n"
     ]
    },
    {
     "name": "stderr",
     "output_type": "stream",
     "text": [
      "Encoding Widows of 63: 100%|██████████| 5473/5473 [00:07<00:00, 762.76it/s]\n"
     ]
    },
    {
     "name": "stdout",
     "output_type": "stream",
     "text": [
      "172/172 [==============================] - 1s 6ms/step\n"
     ]
    },
    {
     "name": "stderr",
     "output_type": "stream",
     "text": [
      "Testing on Unseen TS:  43%|████▎     | 3/7 [00:19<00:27,  6.86s/it]"
     ]
    },
    {
     "name": "stdout",
     "output_type": "stream",
     "text": [
      "TQQQ => min_date: 2010-02-11 00:00:00, max_date: 2024-02-05 00:00:00, kurt:1.96, skewness:1.6, outliers_count:69,  nan_count: 0\n",
      "Date ranges for TQQQ are 2010-02-11 - 2021-01-01\n"
     ]
    },
    {
     "name": "stderr",
     "output_type": "stream",
     "text": [
      "Encoding Widows of 63: 100%|██████████| 2679/2679 [00:03<00:00, 890.71it/s]\n"
     ]
    },
    {
     "name": "stdout",
     "output_type": "stream",
     "text": [
      "84/84 [==============================] - 1s 7ms/step\n"
     ]
    },
    {
     "name": "stderr",
     "output_type": "stream",
     "text": [
      "Testing on Unseen TS:  57%|█████▋    | 4/7 [00:23<00:17,  5.74s/it]"
     ]
    },
    {
     "name": "stdout",
     "output_type": "stream",
     "text": [
      "AAPL => min_date: 1999-01-04 00:00:00, max_date: 2024-02-05 00:00:00, kurt:1.85, skewness:1.76, outliers_count:63,  nan_count: 0\n",
      "Date ranges for AAPL are 1999-01-04 - 2021-01-01\n"
     ]
    },
    {
     "name": "stderr",
     "output_type": "stream",
     "text": [
      "Encoding Widows of 63: 100%|██████████| 5473/5473 [00:06<00:00, 848.75it/s]\n"
     ]
    },
    {
     "name": "stdout",
     "output_type": "stream",
     "text": [
      "172/172 [==============================] - 1s 7ms/step\n"
     ]
    },
    {
     "name": "stderr",
     "output_type": "stream",
     "text": [
      "Testing on Unseen TS:  71%|███████▏  | 5/7 [00:31<00:13,  6.73s/it]"
     ]
    },
    {
     "name": "stdout",
     "output_type": "stream",
     "text": [
      "HSBC => min_date: 1999-07-16 00:00:00, max_date: 2024-02-05 00:00:00, kurt:-0.61, skewness:0.5, outliers_count:0,  nan_count: 0\n",
      "Date ranges for HSBC are 1999-07-16 - 2021-01-01\n"
     ]
    },
    {
     "name": "stderr",
     "output_type": "stream",
     "text": [
      "Encoding Widows of 63: 100%|██████████| 5339/5339 [00:06<00:00, 809.16it/s]\n"
     ]
    },
    {
     "name": "stdout",
     "output_type": "stream",
     "text": [
      "167/167 [==============================] - 1s 6ms/step\n"
     ]
    },
    {
     "name": "stderr",
     "output_type": "stream",
     "text": [
      "Testing on Unseen TS:  86%|████████▌ | 6/7 [00:40<00:07,  7.35s/it]"
     ]
    },
    {
     "name": "stdout",
     "output_type": "stream",
     "text": [
      "TM => min_date: 1999-01-04 00:00:00, max_date: 2024-02-05 00:00:00, kurt:-0.4, skewness:0.43, outliers_count:2,  nan_count: 0\n",
      "Date ranges for TM are 1999-01-04 - 2021-01-01\n"
     ]
    },
    {
     "name": "stderr",
     "output_type": "stream",
     "text": [
      "Encoding Widows of 63: 100%|██████████| 5473/5473 [00:06<00:00, 819.64it/s]\n"
     ]
    },
    {
     "name": "stdout",
     "output_type": "stream",
     "text": [
      "172/172 [==============================] - 1s 7ms/step\n"
     ]
    },
    {
     "name": "stderr",
     "output_type": "stream",
     "text": [
      "Testing on Unseen TS: 100%|██████████| 7/7 [00:49<00:00,  7.01s/it]\n"
     ]
    },
    {
     "data": {
      "text/html": [
       "<div>\n",
       "<style scoped>\n",
       "    .dataframe tbody tr th:only-of-type {\n",
       "        vertical-align: middle;\n",
       "    }\n",
       "\n",
       "    .dataframe tbody tr th {\n",
       "        vertical-align: top;\n",
       "    }\n",
       "\n",
       "    .dataframe thead th {\n",
       "        text-align: right;\n",
       "    }\n",
       "</style>\n",
       "<table border=\"1\" class=\"dataframe\">\n",
       "  <thead>\n",
       "    <tr style=\"text-align: right;\">\n",
       "      <th></th>\n",
       "      <th>Accuracy</th>\n",
       "      <th>Precision</th>\n",
       "      <th>Recall</th>\n",
       "      <th>F1 Score</th>\n",
       "      <th>ROC AUC</th>\n",
       "    </tr>\n",
       "  </thead>\n",
       "  <tbody>\n",
       "    <tr>\n",
       "      <th>SSO</th>\n",
       "      <td>0.272834</td>\n",
       "      <td>0.0</td>\n",
       "      <td>0.0</td>\n",
       "      <td>0.0</td>\n",
       "      <td>0.717670</td>\n",
       "    </tr>\n",
       "    <tr>\n",
       "      <th>SPXL</th>\n",
       "      <td>0.310072</td>\n",
       "      <td>0.0</td>\n",
       "      <td>0.0</td>\n",
       "      <td>0.0</td>\n",
       "      <td>0.716073</td>\n",
       "    </tr>\n",
       "    <tr>\n",
       "      <th>BAC</th>\n",
       "      <td>0.317774</td>\n",
       "      <td>0.0</td>\n",
       "      <td>0.0</td>\n",
       "      <td>0.0</td>\n",
       "      <td>0.717969</td>\n",
       "    </tr>\n",
       "    <tr>\n",
       "      <th>TQQQ</th>\n",
       "      <td>0.325139</td>\n",
       "      <td>0.0</td>\n",
       "      <td>0.0</td>\n",
       "      <td>0.0</td>\n",
       "      <td>0.710358</td>\n",
       "    </tr>\n",
       "    <tr>\n",
       "      <th>AAPL</th>\n",
       "      <td>0.319844</td>\n",
       "      <td>0.0</td>\n",
       "      <td>0.0</td>\n",
       "      <td>0.0</td>\n",
       "      <td>0.713479</td>\n",
       "    </tr>\n",
       "    <tr>\n",
       "      <th>HSBC</th>\n",
       "      <td>0.273451</td>\n",
       "      <td>0.0</td>\n",
       "      <td>0.0</td>\n",
       "      <td>0.0</td>\n",
       "      <td>0.715206</td>\n",
       "    </tr>\n",
       "    <tr>\n",
       "      <th>TM</th>\n",
       "      <td>0.291277</td>\n",
       "      <td>0.0</td>\n",
       "      <td>0.0</td>\n",
       "      <td>0.0</td>\n",
       "      <td>0.714249</td>\n",
       "    </tr>\n",
       "  </tbody>\n",
       "</table>\n",
       "</div>"
      ],
      "text/plain": [
       "      Accuracy  Precision  Recall  F1 Score   ROC AUC\n",
       "SSO   0.272834        0.0     0.0       0.0  0.717670\n",
       "SPXL  0.310072        0.0     0.0       0.0  0.716073\n",
       "BAC   0.317774        0.0     0.0       0.0  0.717969\n",
       "TQQQ  0.325139        0.0     0.0       0.0  0.710358\n",
       "AAPL  0.319844        0.0     0.0       0.0  0.713479\n",
       "HSBC  0.273451        0.0     0.0       0.0  0.715206\n",
       "TM    0.291277        0.0     0.0       0.0  0.714249"
      ]
     },
     "execution_count": 53,
     "metadata": {},
     "output_type": "execute_result"
    }
   ],
   "source": [
    "assert model is not None\n",
    "\n",
    "COVID_REGIME_START = \"2019-10-01\"\n",
    "COVID_REGIME_END = \"2021-01-01\"\n",
    "\n",
    "current_tickers = tickers.copy()\n",
    "other_etf, latest_start, earliest_end = get_tickerdata([ticker], start=START_DATE, end=COVID_REGIME_END)\n",
    "current_tickers[TARGET_ETF] = other_etf[ticker]\n",
    "print(f\"Date ranges for {ticker} are {latest_start.strftime('%Y-%m-%d')} - {earliest_end.strftime('%Y-%m-%d')}\")\n",
    "\n",
    "for ticker_symbol in tickers_symbols:\n",
    "    df = current_tickers.get(ticker_symbol)\n",
    "    df = df[(df.index >= latest_start) & (df.index <= earliest_end)]\n",
    "    assert not df.empty and not df.isna().any().any() and len(df) > WINDOW_SIZE//2, f\"Data validation failed for {ticker_symbol}\"\n",
    "    current_tickers[ticker_symbol] = df\n",
    "\n",
    "unseendata_df, _ = prepare_data(current_tickers, to_normalize=True)\n",
    "unseen_X, unseen_Xexog, unseen_y = prepare_windows(unseendata_df, unseendata_df[TARGET_LABEL])\n",
    "gen_model, _ = build_tcn(input_shape, [unseen_X, unseen_Xexog], unseen_y, conditioning_shapes=conditioning_shapes, tb=False)\n",
    "\n",
    "metrics_unseen_df = generalization_test(OHTER_ETFS, START_DATE, COVID_REGIME_END, gen_model=gen_model)\n",
    "metrics_unseen_df"
   ]
  },
  {
   "cell_type": "code",
   "execution_count": 55,
   "id": "99943f7d",
   "metadata": {},
   "outputs": [
    {
     "name": "stderr",
     "output_type": "stream",
     "text": [
      "Testing on Unseen TS:   0%|          | 0/6 [00:00<?, ?it/s]"
     ]
    },
    {
     "name": "stdout",
     "output_type": "stream",
     "text": [
      "ZM => min_date: 2019-04-18 00:00:00, max_date: 2024-02-05 00:00:00, kurt:-0.2, skewness:1.06, outliers_count:2,  nan_count: 0\n",
      "Date ranges for ZM are 2019-10-01 - 2021-01-01\n"
     ]
    },
    {
     "name": "stderr",
     "output_type": "stream",
     "text": [
      "\n",
      "Encoding Widows of 63:   0%|          | 0/254 [00:00<?, ?it/s]"
     ]
    },
    {
     "name": "stderr",
     "output_type": "stream",
     "text": [
      "Encoding Widows of 63: 100%|██████████| 254/254 [00:00<00:00, 1011.95it/s]\n"
     ]
    },
    {
     "name": "stdout",
     "output_type": "stream",
     "text": [
      "8/8 [==============================] - 0s 11ms/step\n"
     ]
    },
    {
     "name": "stderr",
     "output_type": "stream",
     "text": [
      "Testing on Unseen TS:  17%|█▋        | 1/6 [00:00<00:02,  2.13it/s]"
     ]
    },
    {
     "name": "stdout",
     "output_type": "stream",
     "text": [
      "SHOP => min_date: 2015-05-20 00:00:00, max_date: 2024-02-05 00:00:00, kurt:0.1, skewness:1.09, outliers_count:0,  nan_count: 0\n",
      "Date ranges for SHOP are 2019-10-01 - 2021-01-01\n"
     ]
    },
    {
     "name": "stderr",
     "output_type": "stream",
     "text": [
      "Encoding Widows of 63: 100%|██████████| 254/254 [00:00<00:00, 791.29it/s]\n"
     ]
    },
    {
     "name": "stdout",
     "output_type": "stream",
     "text": [
      "8/8 [==============================] - 0s 10ms/step\n"
     ]
    },
    {
     "name": "stderr",
     "output_type": "stream",
     "text": [
      "Testing on Unseen TS:  33%|███▎      | 2/6 [00:01<00:02,  1.92it/s]"
     ]
    },
    {
     "name": "stdout",
     "output_type": "stream",
     "text": [
      "VIG => min_date: 2006-05-02 00:00:00, max_date: 2024-02-05 00:00:00, kurt:-0.81, skewness:0.68, outliers_count:0,  nan_count: 0\n",
      "Date ranges for VIG are 2019-10-01 - 2021-01-01\n"
     ]
    },
    {
     "name": "stderr",
     "output_type": "stream",
     "text": [
      "Encoding Widows of 63: 100%|██████████| 254/254 [00:00<00:00, 1071.74it/s]\n"
     ]
    },
    {
     "name": "stdout",
     "output_type": "stream",
     "text": [
      "8/8 [==============================] - 0s 10ms/step\n"
     ]
    },
    {
     "name": "stderr",
     "output_type": "stream",
     "text": [
      "Testing on Unseen TS:  50%|█████     | 3/6 [00:01<00:01,  2.03it/s]"
     ]
    },
    {
     "name": "stdout",
     "output_type": "stream",
     "text": [
      "VOO => min_date: 2010-09-09 00:00:00, max_date: 2024-02-05 00:00:00, kurt:-0.98, skewness:0.48, outliers_count:0,  nan_count: 0\n",
      "Date ranges for VOO are 2019-10-01 - 2021-01-01\n"
     ]
    },
    {
     "name": "stderr",
     "output_type": "stream",
     "text": [
      "Encoding Widows of 63: 100%|██████████| 254/254 [00:00<00:00, 1041.01it/s]\n"
     ]
    },
    {
     "name": "stdout",
     "output_type": "stream",
     "text": [
      "8/8 [==============================] - 0s 10ms/step\n"
     ]
    },
    {
     "name": "stderr",
     "output_type": "stream",
     "text": [
      "Testing on Unseen TS:  67%|██████▋   | 4/6 [00:01<00:00,  2.08it/s]"
     ]
    },
    {
     "name": "stdout",
     "output_type": "stream",
     "text": [
      "TSLA => min_date: 2010-06-29 00:00:00, max_date: 2024-02-05 00:00:00, kurt:0.4, skewness:1.38, outliers_count:13,  nan_count: 0\n",
      "Date ranges for TSLA are 2019-10-01 - 2021-01-01\n"
     ]
    },
    {
     "name": "stderr",
     "output_type": "stream",
     "text": [
      "Encoding Widows of 63: 100%|██████████| 254/254 [00:00<00:00, 1053.96it/s]\n"
     ]
    },
    {
     "name": "stdout",
     "output_type": "stream",
     "text": [
      "8/8 [==============================] - 0s 11ms/step\n"
     ]
    },
    {
     "name": "stderr",
     "output_type": "stream",
     "text": [
      "Testing on Unseen TS:  83%|████████▎ | 5/6 [00:02<00:00,  2.10it/s]"
     ]
    },
    {
     "name": "stdout",
     "output_type": "stream",
     "text": [
      "WDI.HM => min_date: 2002-11-11 00:00:00, max_date: 2024-02-05 00:00:00, kurt:3.0, skewness:1.96, outliers_count:96,  nan_count: 0\n",
      "Date ranges for WDI.HM are 2019-10-01 - 2021-01-01\n"
     ]
    },
    {
     "name": "stderr",
     "output_type": "stream",
     "text": [
      "Encoding Widows of 63: 100%|██████████| 252/252 [00:00<00:00, 1072.35it/s]"
     ]
    },
    {
     "name": "stdout",
     "output_type": "stream",
     "text": [
      "1/8 [==>...........................] - ETA: 0s"
     ]
    },
    {
     "name": "stderr",
     "output_type": "stream",
     "text": [
      "\n"
     ]
    },
    {
     "name": "stdout",
     "output_type": "stream",
     "text": [
      "8/8 [==============================] - 0s 10ms/step\n"
     ]
    },
    {
     "name": "stderr",
     "output_type": "stream",
     "text": [
      "Testing on Unseen TS: 100%|██████████| 6/6 [00:02<00:00,  2.08it/s]\n"
     ]
    },
    {
     "data": {
      "text/html": [
       "<div>\n",
       "<style scoped>\n",
       "    .dataframe tbody tr th:only-of-type {\n",
       "        vertical-align: middle;\n",
       "    }\n",
       "\n",
       "    .dataframe tbody tr th {\n",
       "        vertical-align: top;\n",
       "    }\n",
       "\n",
       "    .dataframe thead th {\n",
       "        text-align: right;\n",
       "    }\n",
       "</style>\n",
       "<table border=\"1\" class=\"dataframe\">\n",
       "  <thead>\n",
       "    <tr style=\"text-align: right;\">\n",
       "      <th></th>\n",
       "      <th>Accuracy</th>\n",
       "      <th>Precision</th>\n",
       "      <th>Recall</th>\n",
       "      <th>F1 Score</th>\n",
       "      <th>ROC AUC</th>\n",
       "    </tr>\n",
       "  </thead>\n",
       "  <tbody>\n",
       "    <tr>\n",
       "      <th>ZM</th>\n",
       "      <td>0.343707</td>\n",
       "      <td>0.0</td>\n",
       "      <td>0.0</td>\n",
       "      <td>0.0</td>\n",
       "      <td>0.5</td>\n",
       "    </tr>\n",
       "    <tr>\n",
       "      <th>SHOP</th>\n",
       "      <td>0.362517</td>\n",
       "      <td>0.0</td>\n",
       "      <td>0.0</td>\n",
       "      <td>0.0</td>\n",
       "      <td>0.5</td>\n",
       "    </tr>\n",
       "    <tr>\n",
       "      <th>VIG</th>\n",
       "      <td>0.209724</td>\n",
       "      <td>0.0</td>\n",
       "      <td>0.0</td>\n",
       "      <td>0.0</td>\n",
       "      <td>0.5</td>\n",
       "    </tr>\n",
       "    <tr>\n",
       "      <th>VOO</th>\n",
       "      <td>0.228846</td>\n",
       "      <td>0.0</td>\n",
       "      <td>0.0</td>\n",
       "      <td>0.0</td>\n",
       "      <td>0.5</td>\n",
       "    </tr>\n",
       "    <tr>\n",
       "      <th>TSLA</th>\n",
       "      <td>0.352581</td>\n",
       "      <td>0.0</td>\n",
       "      <td>0.0</td>\n",
       "      <td>0.0</td>\n",
       "      <td>0.5</td>\n",
       "    </tr>\n",
       "    <tr>\n",
       "      <th>WDI.HM</th>\n",
       "      <td>0.491371</td>\n",
       "      <td>0.0</td>\n",
       "      <td>0.0</td>\n",
       "      <td>0.0</td>\n",
       "      <td>0.5</td>\n",
       "    </tr>\n",
       "  </tbody>\n",
       "</table>\n",
       "</div>"
      ],
      "text/plain": [
       "        Accuracy  Precision  Recall  F1 Score  ROC AUC\n",
       "ZM      0.343707        0.0     0.0       0.0      0.5\n",
       "SHOP    0.362517        0.0     0.0       0.0      0.5\n",
       "VIG     0.209724        0.0     0.0       0.0      0.5\n",
       "VOO     0.228846        0.0     0.0       0.0      0.5\n",
       "TSLA    0.352581        0.0     0.0       0.0      0.5\n",
       "WDI.HM  0.491371        0.0     0.0       0.0      0.5"
      ]
     },
     "execution_count": 55,
     "metadata": {},
     "output_type": "execute_result"
    }
   ],
   "source": [
    "OHTER_ETFS = [\"ZM\", \"SHOP\", \"VIG\", \"VOO\", \"TSLA\", \"WDI.HM\"]  # Including meme stocks and frauds\n",
    "\n",
    "metrics_unseen_df = generalization_test(OHTER_ETFS, COVID_REGIME_START, COVID_REGIME_END, gen_model=gen_model)\n",
    "metrics_unseen_df"
   ]
  },
  {
   "cell_type": "markdown",
   "id": "78e9a9c5",
   "metadata": {
    "papermill": {
     "duration": 0.037345,
     "end_time": "2023-11-05T18:01:12.947046",
     "exception": false,
     "start_time": "2023-11-05T18:01:12.909701",
     "status": "completed"
    },
    "tags": []
   },
   "source": [
    "# Conclusion\n",
    "\n",
    "\n",
    "\n",
    "\n",
    "![]()\n",
    "\n",
    "## References\n",
    "\n",
    "- [YFinance Github](https://github.com/ranaroussi/yfinance)\n",
    "- [Vanguard All World excluding US](https://investor.vanguard.com/investment-products/etfs/profile/veu)\n",
    "\n",
    "\n",
    "## Github\n",
    "\n",
    "Article here is also available on [Github]()\n",
    "\n",
    "Kaggle notebook available [here]()\n",
    "\n",
    "\n",
    "## Media\n",
    "\n",
    "All media used (in the form of code or images) are either solely owned by me, acquired through licensing, or part of the Public Domain and granted use through Creative Commons License.\n",
    "\n",
    "## CC Licensing and Use\n",
    "\n",
    "<a rel=\"license\" href=\"http://creativecommons.org/licenses/by-nc/4.0/\"><img alt=\"Creative Commons License\" style=\"border-width:0\" src=\"https://i.creativecommons.org/l/by-nc/4.0/88x31.png\" /></a><br />This work is licensed under a <a rel=\"license\" href=\"http://creativecommons.org/licenses/by-nc/4.0/\">Creative Commons Attribution-NonCommercial 4.0 International License</a>."
   ]
  }
 ],
 "metadata": {
  "kernelspec": {
   "display_name": "Python 3",
   "language": "python",
   "name": "python3"
  },
  "language_info": {
   "codemirror_mode": {
    "name": "ipython",
    "version": 3
   },
   "file_extension": ".py",
   "mimetype": "text/x-python",
   "name": "python",
   "nbconvert_exporter": "python",
   "pygments_lexer": "ipython3",
   "version": "3.10.0"
  },
  "papermill": {
   "default_parameters": {},
   "duration": 98.905855,
   "end_time": "2023-11-05T18:01:13.607303",
   "environment_variables": {},
   "exception": null,
   "input_path": "__notebook__.ipynb",
   "output_path": "__notebook__.ipynb",
   "parameters": {},
   "start_time": "2023-11-05T17:59:34.701448",
   "version": "2.4.0"
  }
 },
 "nbformat": 4,
 "nbformat_minor": 5
}
