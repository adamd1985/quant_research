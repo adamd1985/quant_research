{
 "cells": [
  {
   "cell_type": "markdown",
   "id": "ff712001",
   "metadata": {
    "papermill": {
     "duration": 0.004296,
     "end_time": "2023-11-01T02:03:49.496988",
     "exception": false,
     "start_time": "2023-11-01T02:03:49.492692",
     "status": "completed"
    },
    "tags": []
   },
   "source": [
    "# Pairs Trading - No Stock is an Island\n",
    "\n",
    "\n",
    "## Prepare your Environment\n",
    "\n",
    "Have a jupyter environment ready, and `pip install` these libraries:\n",
    "- numpy\n",
    "- pandas\n",
    "- yfinance\n",
    "\n",
    "Refer to the previous article for basics on [momentum and reversion techniques](https://www.linkedin.com/pulse/momentum-reversion-poor-mans-trading-strategies-adam-darmanin-vhrif) and the utility functions used here.\n"
   ]
  },
  {
   "cell_type": "code",
   "execution_count": 5,
   "id": "c1f89e4a",
   "metadata": {
    "_cell_guid": "b1076dfc-b9ad-4769-8c92-a6c4dae69d19",
    "_uuid": "8f2839f25d086af736a60e9eeb907d3b93b6e0e5",
    "execution": {
     "iopub.execute_input": "2023-11-01T02:03:49.506158Z",
     "iopub.status.busy": "2023-11-01T02:03:49.505821Z",
     "iopub.status.idle": "2023-11-01T02:04:18.532590Z",
     "shell.execute_reply": "2023-11-01T02:04:18.531416Z"
    },
    "papermill": {
     "duration": 29.034008,
     "end_time": "2023-11-01T02:04:18.534845",
     "exception": false,
     "start_time": "2023-11-01T02:03:49.500837",
     "status": "completed"
    },
    "tags": []
   },
   "outputs": [
    {
     "name": "stdout",
     "output_type": "stream",
     "text": [
      "The dotenv extension is already loaded. To reload it, use:\n",
      "  %reload_ext dotenv\n",
      "Running Local...\n"
     ]
    }
   ],
   "source": [
    "import numpy as np \n",
    "import pandas as pd \n",
    "import os\n",
    "import matplotlib.pyplot as plt\n",
    "import os\n",
    "\n",
    "import dotenv\n",
    "%load_ext dotenv\n",
    "\n",
    "IS_KAGGLE = os.getenv('IS_KAGGLE', 'True') == 'True'\n",
    "\n",
    "if IS_KAGGLE:\n",
    "    # Kaggle confgs\n",
    "    print('Running in Kaggle...')\n",
    "    %pip install yfinance\n",
    "\n",
    "    for dirname, _, filenames in os.walk('/kaggle/input'):\n",
    "        for filename in filenames:\n",
    "            print(os.path.join(dirname, filename))\n",
    "else:\n",
    "    print('Running Local...')\n",
    "\n",
    "import yfinance as yf"
   ]
  },
  {
   "cell_type": "markdown",
   "id": "f448b94f",
   "metadata": {
    "papermill": {
     "duration": 0.004967,
     "end_time": "2023-11-01T02:04:18.545616",
     "exception": false,
     "start_time": "2023-11-01T02:04:18.540649",
     "status": "completed"
    },
    "tags": []
   },
   "source": [
    "# Pairs"
   ]
  },
  {
   "cell_type": "code",
   "execution_count": 6,
   "id": "3385dc9c",
   "metadata": {
    "execution": {
     "iopub.execute_input": "2023-11-01T02:04:18.590472Z",
     "iopub.status.busy": "2023-11-01T02:04:18.590141Z",
     "iopub.status.idle": "2023-11-01T02:04:18.603508Z",
     "shell.execute_reply": "2023-11-01T02:04:18.602776Z"
    },
    "papermill": {
     "duration": 0.022272,
     "end_time": "2023-11-01T02:04:18.605160",
     "exception": false,
     "start_time": "2023-11-01T02:04:18.582888",
     "status": "completed"
    },
    "tags": []
   },
   "outputs": [],
   "source": [
    "def load_ticker_ts_df(ticker, start_date, end_date):\n",
    "    \"\"\"\n",
    "    Load and cache time series financial data from Yahoo Finance API.\n",
    "    Parameters:\n",
    "    - ticker (str): The stock ticker symbol (e.g., 'AAPL' for Apple Inc.).\n",
    "    - start_date (str): The start date in 'YYYY-MM-DD' format for data retrieval.\n",
    "    - end_date (str): The end date in 'YYYY-MM-DD' format for data retrieval.\n",
    "    Returns:\n",
    "    - df (pandas.DataFrame): A DataFrame containing the financial time series data.\n",
    "\n",
    "    \"\"\"\n",
    "    dir_path = './data'\n",
    "    cached_file_path = f'{dir_path}/{ticker}_{start_date}_{end_date}.pkl'\n",
    "    try:\n",
    "        if os.path.exists(cached_file_path):\n",
    "            df = pd.read_pickle(cached_file_path)\n",
    "        else:\n",
    "            df = yf.download(ticker, start=start_date, end=end_date)\n",
    "            if not os.path.exists(dir_path):\n",
    "                os.makedirs(dir_path)\n",
    "            df.to_pickle(cached_file_path)\n",
    "    except FileNotFoundError:\n",
    "        print(\n",
    "            f'Error downloading and caching or loading file with ticker: {ticker}')\n",
    "\n",
    "    return df\n",
    "\n",
    "\n",
    "def calculate_profit(signals, prices):\n",
    "    \"\"\"\n",
    "    Calculate cumulative profit based on trading signals and stock prices.\n",
    "    Parameters:\n",
    "    - signals (pandas.DataFrame): A DataFrame containing trading signals (1 for buy, -1 for sell).\n",
    "    - prices (pandas.Series): A Series containing stock prices corresponding to the signal dates.\n",
    "    Returns:\n",
    "    - cum_profit (pandas.Series): A Series containing cumulative profit over time.\n",
    "    \"\"\"\n",
    "    profit = pd.DataFrame(index=prices.index)\n",
    "    profit['profit'] = 0.0\n",
    "\n",
    "    buys = signals[signals['orders'] == 1].index\n",
    "    sells = signals[signals['orders'] == -1].index\n",
    "    while sells[0] < buys[0]:\n",
    "        # These are long only strategies, we cannot start with sell\n",
    "        sells = sells[1:]\n",
    "\n",
    "    if len(buys) == 0 or len(sells) == 0:\n",
    "        # no actions taken\n",
    "        return profit\n",
    "    if len(sells) < len(buys):\n",
    "        # Assume we sell at the end\n",
    "        sells = sells.append(pd.Index(prices.tail(1).index))\n",
    "\n",
    "    buy_prices = prices.loc[buys]\n",
    "    sell_prices = prices.loc[sells]\n",
    "\n",
    "    profit.loc[sells, 'profit'] = sell_prices.values - buy_prices.values\n",
    "    profit['profit'] = profit['profit'].fillna(0)\n",
    "\n",
    "    # Make profit cumulative\n",
    "    profit['cum_profit'] = profit['profit'].cumsum()\n",
    "\n",
    "    return profit['cum_profit']\n",
    "\n",
    "\n",
    "def plot_strategy(prices_df, signal_df, profit):\n",
    "    \"\"\"\n",
    "    Plot a trading strategy with buy and sell signals and cumulative profit.\n",
    "    Parameters:\n",
    "    - prices (pandas.Series): A Series containing stock prices.\n",
    "    - signals (pandas.DataFrame): A DataFrame with buy (1) and sell (-1) signals.\n",
    "    - profit (pandas.Series): A Series containing cumulative profit over time.\n",
    "    Returns:\n",
    "    - ax1 (matplotlib.axes.Axes): The top subplot displaying stock prices and signals.\n",
    "    - ax2 (matplotlib.axes.Axes): The bottom subplot displaying cumulative profit.\n",
    "    \"\"\"\n",
    "    fig, (ax1, ax2) = plt.subplots(2, 1, gridspec_kw={'height_ratios': (3, 1)},\n",
    "                                   figsize=(18, 12))\n",
    "\n",
    "    ax1.set_xlabel('Date')\n",
    "    ax1.set_ylabel('Price in $')\n",
    "    ax1.plot(prices_df.index, prices_df, color='g', lw=0.25)\n",
    "\n",
    "    # Plot the Buy and Sell signals\n",
    "    ax1.plot(signal_df.loc[signal_df.orders == 1.0].index,\n",
    "             prices_df[signal_df.orders == 1.0],\n",
    "             '^', markersize=12, color='blue', label='Buy')\n",
    "    ax1.plot(signal_df.loc[signal_df.orders == -1.0].index,\n",
    "             prices_df[signal_df.orders == -1.0],\n",
    "             'v', markersize=12, color='red', label='Sell')\n",
    "\n",
    "    ax2.plot(profit.index, profit, color='b')\n",
    "    ax2.set_ylabel('Cumulative Profit (%)')\n",
    "    ax2.set_xlabel('Date')\n",
    "\n",
    "    return ax1, ax2"
   ]
  },
  {
   "cell_type": "markdown",
   "id": "535ac4e3",
   "metadata": {
    "papermill": {
     "duration": 0.009499,
     "end_time": "2023-11-01T02:04:20.858154",
     "exception": false,
     "start_time": "2023-11-01T02:04:20.848655",
     "status": "completed"
    },
    "tags": []
   },
   "source": [
    "# Conclusion\n",
    "\n",
    "\n",
    "\n",
    "## References\n",
    "\n",
    "- https://numpy.org/doc/stable/reference/\n",
    "- https://www.investopedia.com/terms/p/pairstrade.asp \n",
    "\n",
    "## Github\n",
    "\n",
    "Article here is also available on [Github](https://github.com/adamd1985/quant_research)\n",
    "\n",
    "Kaggle notebook available [here](https://www.kaggle.com/code/addarm/momentum-and-mean-reversion-quant)\n",
    "\n",
    "\n",
    "## Media\n",
    "\n",
    "All media used (in the form of code or images) are either solely owned by me, acquired through licensing, or part of the Public Domain and granted use through Creative Commons License.\n",
    "\n",
    "## CC Licensing and Use\n",
    "\n",
    "<a rel=\"license\" href=\"http://creativecommons.org/licenses/by-nc/4.0/\"><img alt=\"Creative Commons License\" style=\"border-width:0\" src=\"https://i.creativecommons.org/l/by-nc/4.0/88x31.png\" /></a><br />This work is licensed under a <a rel=\"license\" href=\"http://creativecommons.org/licenses/by-nc/4.0/\">Creative Commons Attribution-NonCommercial 4.0 International License</a>.\n",
    "\n",
    "#\n",
    "\n",
    "<div align=\"right\">Made with :heartpulse: by <b>Adam</b></div>"
   ]
  }
 ],
 "metadata": {
  "kernelspec": {
   "display_name": "Python 3",
   "language": "python",
   "name": "python3"
  },
  "language_info": {
   "codemirror_mode": {
    "name": "ipython",
    "version": 3
   },
   "file_extension": ".py",
   "mimetype": "text/x-python",
   "name": "python",
   "nbconvert_exporter": "python",
   "pygments_lexer": "ipython3",
   "version": "3.9.17"
  },
  "papermill": {
   "default_parameters": {},
   "duration": 34.659839,
   "end_time": "2023-11-01T02:04:21.309361",
   "environment_variables": {},
   "exception": null,
   "input_path": "__notebook__.ipynb",
   "output_path": "__notebook__.ipynb",
   "parameters": {},
   "start_time": "2023-11-01T02:03:46.649522",
   "version": "2.4.0"
  }
 },
 "nbformat": 4,
 "nbformat_minor": 5
}
