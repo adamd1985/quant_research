{
 "cells": [
  {
   "cell_type": "markdown",
   "id": "f4f2af90",
   "metadata": {
    "papermill": {
     "duration": 0.00682,
     "end_time": "2023-11-05T17:59:38.297125",
     "exception": false,
     "start_time": "2023-11-05T17:59:38.290305",
     "status": "completed"
    },
    "tags": []
   },
   "source": [
    "# Solving for the Efficient Frontier in Stock Portfolios"
   ]
  },
  {
   "cell_type": "markdown",
   "id": "eafa184f",
   "metadata": {
    "papermill": {
     "duration": 0.005778,
     "end_time": "2023-11-05T17:59:38.309438",
     "exception": false,
     "start_time": "2023-11-05T17:59:38.303660",
     "status": "completed"
    },
    "tags": []
   },
   "source": [
    "<a href=\"TODO\" target=\"_blank\"><img align=\"left\" alt=\"Kaggle\" title=\"Open in Kaggle\" src=\"https://kaggle.com/static/images/open-in-kaggle.svg\"></a>"
   ]
  },
  {
   "cell_type": "markdown",
   "id": "9fef99d6",
   "metadata": {
    "papermill": {
     "duration": 0.005624,
     "end_time": "2023-11-05T17:59:38.321019",
     "exception": false,
     "start_time": "2023-11-05T17:59:38.315395",
     "status": "completed"
    },
    "tags": []
   },
   "source": [
    "<!-- @import \"[TOC]\" {cmd=\"toc\" depthFrom=1 depthTo=6 orderedList=false} -->\n",
    "\n",
    "![Banner]()\n",
    "\n",
    "The Efficient Frontier, a core concept in Harry Markowitz's Modern Portfolio Theory (MPT), is used in quantitative finance to build optimal portfolios that offer the highest expected return for a given level of risk and/or the lowest risk for a given level of return. \n",
    "\n",
    "It is constructed by diversifying assets to find the best risk-return trade-off. Which in this article, through python and free financial data we will find the optimal portfolio weights, that maximize expected return while minimizing portfolio variance. The result universe of assets should lie on the efficient frontier.\n",
    "\n",
    "## Prepare your Environment\n",
    "\n",
    "Have a jupyter environment ready, and `pip install` these libraries:\n",
    "- numpy\n",
    "- pandas\n",
    "- yfinance\n"
   ]
  },
  {
   "cell_type": "code",
   "execution_count": 7,
   "id": "6a827e09",
   "metadata": {
    "_cell_guid": "b1076dfc-b9ad-4769-8c92-a6c4dae69d19",
    "_uuid": "8f2839f25d086af736a60e9eeb907d3b93b6e0e5",
    "execution": {
     "iopub.execute_input": "2023-11-05T17:59:38.335093Z",
     "iopub.status.busy": "2023-11-05T17:59:38.334737Z",
     "iopub.status.idle": "2023-11-05T18:01:02.444324Z",
     "shell.execute_reply": "2023-11-05T18:01:02.443308Z"
    },
    "papermill": {
     "duration": 84.119909,
     "end_time": "2023-11-05T18:01:02.447010",
     "exception": false,
     "start_time": "2023-11-05T17:59:38.327101",
     "status": "completed"
    },
    "tags": []
   },
   "outputs": [
    {
     "name": "stdout",
     "output_type": "stream",
     "text": [
      "The dotenv extension is already loaded. To reload it, use:\n",
      "  %reload_ext dotenv\n",
      "Running Local...\n"
     ]
    }
   ],
   "source": [
    "import numpy as np \n",
    "import pandas as pd \n",
    "import matplotlib.pyplot as plt\n",
    "import os\n",
    "\n",
    "import dotenv\n",
    "%load_ext dotenv\n",
    "\n",
    "import warnings\n",
    "warnings.filterwarnings(\"ignore\")\n",
    "\n",
    "IS_KAGGLE = os.getenv('IS_KAGGLE', 'True') == 'True'\n",
    "\n",
    "if IS_KAGGLE:\n",
    "    # Kaggle confgs\n",
    "    print('Running in Kaggle...')\n",
    "    %pip install yfinance\n",
    "    %pip install statsmodels\n",
    "    %pip install seaborn\n",
    "    %pip install itertools\n",
    "    %pip install scikit-learn\n",
    "\n",
    "    for dirname, _, filenames in os.walk('/kaggle/input'):\n",
    "        for filename in filenames:\n",
    "            print(os.path.join(dirname, filename))\n",
    "else:\n",
    "    print('Running Local...')\n",
    "\n",
    "import yfinance as yf\n",
    "from analysis_utils import calculate_profit, load_ticker_prices_ts_df, plot_strategy"
   ]
  },
  {
   "cell_type": "code",
   "execution_count": 8,
   "id": "38727fc7",
   "metadata": {
    "execution": {
     "iopub.execute_input": "2023-11-05T18:01:02.470424Z",
     "iopub.status.busy": "2023-11-05T18:01:02.469635Z",
     "iopub.status.idle": "2023-11-05T18:01:03.256388Z",
     "shell.execute_reply": "2023-11-05T18:01:03.255137Z"
    },
    "papermill": {
     "duration": 0.801372,
     "end_time": "2023-11-05T18:01:03.258937",
     "exception": false,
     "start_time": "2023-11-05T18:01:02.457565",
     "status": "completed"
    },
    "tags": []
   },
   "outputs": [
    {
     "data": {
      "text/plain": [
       "((710, 81),\n",
       "                          AAPL      MSFT      GOOG      AMZN      TSLA  \\\n",
       " 2021-01-05 00:00:00  0.012364  0.000965  0.007337  0.010004  0.007317   \n",
       " 2021-01-06 00:00:00 -0.033661 -0.025929 -0.003234 -0.024897  0.028390   \n",
       " \n",
       "                          NVDA      INTC      CSCO       IBM      ORCL  ...  \\\n",
       " 2021-01-05 00:00:00  0.022210  0.018925  0.000455  0.017751 -0.012392  ...   \n",
       " 2021-01-06 00:00:00 -0.058953  0.009682  0.009550  0.024972 -0.002392  ...   \n",
       " \n",
       "                          NFLX       DIS     CMCSA        EA      TTWO  \\\n",
       " 2021-01-05 00:00:00 -0.003940  0.004277 -0.005967  0.012974  0.014318   \n",
       " 2021-01-06 00:00:00 -0.038998  0.003811  0.011605 -0.031984 -0.015678   \n",
       " \n",
       "                          ROKU      WYNN      CHDN      PANW      TREE  \n",
       " 2021-01-05 00:00:00  0.054357  0.030776  0.042730 -0.004294  0.000658  \n",
       " 2021-01-06 00:00:00  0.023182  0.005990  0.046223 -0.013908 -0.056871  \n",
       " \n",
       " [2 rows x 81 columns])"
      ]
     },
     "execution_count": 8,
     "metadata": {},
     "output_type": "execute_result"
    }
   ],
   "source": [
    "tech = ['AAPL', 'MSFT', 'GOOG', 'AMZN', 'TSLA', 'NVDA',\n",
    "        'INTC', 'CSCO', 'IBM', 'ORCL', 'CRM', 'ADBE']\n",
    "oil = ['XOM', 'CVX', 'COP', 'OXY', 'SLB', 'HAL',\n",
    "       'PBR', 'PSX', 'EOG', 'VLO', 'MPC', 'APA']\n",
    "finance = ['JPM', 'BAC', 'WFC', 'C', 'GS', 'MS',\n",
    "           'BK', 'SCHW', 'AXP', 'USB', 'PNC', 'MET']\n",
    "healthcare = ['JNJ', 'PFE', 'MRK', 'UNH', 'TMO',\n",
    "              'ABBV', 'LLY', 'AMGN', 'MDT', 'BMY', 'ABT', 'DHR']\n",
    "transport = ['UNP', 'FDX', 'UPS', 'CSX', 'JBLU',\n",
    "             'LUV', 'DAL', 'AAL', 'UAL', 'ALK', 'SAVE', 'R']\n",
    "communication = ['T', 'VZ', 'CMCSA', 'CHTR', 'NFLX',\n",
    "                 'TMUS', 'LUMN', 'DISH', 'IRM', 'QRVO', 'CIEN']\n",
    "entertainment = ['NFLX', 'DIS', 'CMCSA', 'EA',\n",
    "                 'ATVI', 'TTWO', 'ROKU', 'WYNN', 'CHDN', 'PANW', 'TREE']\n",
    "\n",
    "tickers = tech + oil + finance + healthcare + \\\n",
    "    transport + communication + entertainment\n",
    "\n",
    "\n",
    "START_DATE = '2021-01-04'\n",
    "END_DATE = '2023-10-31'\n",
    "\n",
    "\n",
    "tickers_df = load_ticker_prices_ts_df(\n",
    "    tickers, START_DATE, END_DATE)\n",
    "tickers_df = tickers_df.dropna(axis=1).pct_change().dropna()  # first % is NaN\n",
    "\n",
    "tickers_df.shape, tickers_df.head(2)"
   ]
  },
  {
   "cell_type": "markdown",
   "metadata": {},
   "source": [
    "Calculate the return vector, which the is the average cummulative returns, annualized:\n",
    "\n",
    "$$ \\text{Annualized Return} = \\left( \\prod_{i=1}^{n} (1 + R_i) \\right)^{\\frac{N}{n}} - 1 $$\n",
    "- `n` represents the number of data points or periods in your time series.\n",
    "- `Ri` represents the returns for each period. we `+1` to get the absolute returns.\n",
    "- `N` is the total number of trading days in a year (usually 252 for daily returns).\n",
    "\n",
    "We annualized to scale up the returns to represent a full year of risk/return:\n",
    "- Daily return: `0.005` (0.5% return)\n",
    "- Annualized return: `0.005 * 252 = 1.26` (126% annualized return)"
   ]
  },
  {
   "cell_type": "code",
   "execution_count": 9,
   "metadata": {},
   "outputs": [
    {
     "data": {
      "text/plain": [
       "AAPL    10.869172\n",
       "MSFT    17.835692\n",
       "GOOG    14.243124\n",
       "AMZN    -6.282798\n",
       "dtype: float64"
      ]
     },
     "execution_count": 9,
     "metadata": {},
     "output_type": "execute_result"
    }
   ],
   "source": [
    "TRADING_DAYS_IN_YEAR = 252\n",
    "\n",
    "rets = ((\n",
    "    1 + tickers_df).prod() ** (TRADING_DAYS_IN_YEAR/len(tickers_df))) - 1\n",
    "cov_matrix = tickers_df.cov() * TRADING_DAYS_IN_YEAR\n",
    "rets[:4] * 100.0"
   ]
  },
  {
   "cell_type": "code",
   "execution_count": 10,
   "metadata": {},
   "outputs": [
    {
     "data": {
      "text/html": [
       "<div>\n",
       "<style scoped>\n",
       "    .dataframe tbody tr th:only-of-type {\n",
       "        vertical-align: middle;\n",
       "    }\n",
       "\n",
       "    .dataframe tbody tr th {\n",
       "        vertical-align: top;\n",
       "    }\n",
       "\n",
       "    .dataframe thead th {\n",
       "        text-align: right;\n",
       "    }\n",
       "</style>\n",
       "<table border=\"1\" class=\"dataframe\">\n",
       "  <thead>\n",
       "    <tr style=\"text-align: right;\">\n",
       "      <th></th>\n",
       "      <th>AAPL</th>\n",
       "      <th>MSFT</th>\n",
       "      <th>GOOG</th>\n",
       "      <th>AMZN</th>\n",
       "    </tr>\n",
       "  </thead>\n",
       "  <tbody>\n",
       "    <tr>\n",
       "      <th>AAPL</th>\n",
       "      <td>0.080485</td>\n",
       "      <td>0.058251</td>\n",
       "      <td>0.060955</td>\n",
       "      <td>0.065856</td>\n",
       "    </tr>\n",
       "    <tr>\n",
       "      <th>MSFT</th>\n",
       "      <td>0.058251</td>\n",
       "      <td>0.080334</td>\n",
       "      <td>0.066656</td>\n",
       "      <td>0.072414</td>\n",
       "    </tr>\n",
       "    <tr>\n",
       "      <th>GOOG</th>\n",
       "      <td>0.060955</td>\n",
       "      <td>0.066656</td>\n",
       "      <td>0.103657</td>\n",
       "      <td>0.082514</td>\n",
       "    </tr>\n",
       "    <tr>\n",
       "      <th>AMZN</th>\n",
       "      <td>0.065856</td>\n",
       "      <td>0.072414</td>\n",
       "      <td>0.082514</td>\n",
       "      <td>0.145744</td>\n",
       "    </tr>\n",
       "  </tbody>\n",
       "</table>\n",
       "</div>"
      ],
      "text/plain": [
       "          AAPL      MSFT      GOOG      AMZN\n",
       "AAPL  0.080485  0.058251  0.060955  0.065856\n",
       "MSFT  0.058251  0.080334  0.066656  0.072414\n",
       "GOOG  0.060955  0.066656  0.103657  0.082514\n",
       "AMZN  0.065856  0.072414  0.082514  0.145744"
      ]
     },
     "execution_count": 10,
     "metadata": {},
     "output_type": "execute_result"
    }
   ],
   "source": [
    "cov_matrix.iloc[:4, :4]"
   ]
  },
  {
   "cell_type": "markdown",
   "metadata": {},
   "source": [
    "Now we define the investable universe using the Merton Matrix Model.\n",
    "The Merton Model, is used to estimate the probability of default of a company:\n",
    "\n",
    "- Determine the inverse of the covariance matrix, denoted as `inv_cov_matrix`, which is essential for various risk and return calculations.\n",
    "- Calculate the risk vector, `risk_vect` - to evaluate risk and expected returns.\n",
    "- Calculate the expected return vector, `expect_ret_vect` - also to evaluate risk and expected returns.\n",
    "\n",
    "In additon, 3 metrics to evaluate the assets combinations:\n",
    "\n",
    "1. **Constant Return:** We found that the expected return of the portfolio is given by `rets_constant`. This represents the total expected return of the portfolio when each asset's weight is set to an equal amount.\n",
    "\n",
    "2. **Linear Return:** The linear expected return, denoted as `rets_linear`, quantifies the portfolio's expected return when assets are weighted proportionally to their individual expected returns.\n",
    "\n",
    "3. **Quadratic Return:** The quadratic expected return, `rets_quadratic`, represents the expected return of the portfolio when assets are allocated based on their risk levels.\n",
    "\n",
    "Finally, we assessed the scaling parameter, `scaling_param`, which indicates the trade-off between risk and return in the portfolio. This parameter is a crucial consideration in portfolio optimization and asset allocation."
   ]
  },
  {
   "cell_type": "code",
   "execution_count": 11,
   "metadata": {},
   "outputs": [
    {
     "data": {
      "text/plain": [
       "(['AAPL', 'MSFT', 'GOOG', 'AMZN'],\n",
       " array([-0.06031692,  0.0794481 , -0.00968459, -0.00953051]),\n",
       " array([-0.0693086 ,  0.84013112,  0.22805207, -0.30430458]))"
      ]
     },
     "execution_count": 11,
     "metadata": {},
     "output_type": "execute_result"
    }
   ],
   "source": [
    "ones = np.ones(len(rets))  # e\n",
    "inv_cov_matrix = np.linalg.inv(cov_matrix)\n",
    "\n",
    "risk_vect = np.matmul(ones, inv_cov_matrix)  # h\n",
    "expect_ret_vect = np.matmul(rets, inv_cov_matrix)  # g\n",
    "\n",
    "rets_constant = np.sum(ones * risk_vect)  # a\n",
    "rets_linear = np.sum(rets * risk_vect)  # b\n",
    "rets_quadratic = np.sum(rets * expect_ret_vect)  # c\n",
    "scaling_param = rets_quadratic * rets_constant - rets_linear ** 2\n",
    "\n",
    "\n",
    "mvp = risk_vect / rets_constant\n",
    "mvp_ret = rets_linear / rets_constant\n",
    "mvp_risk = (1 / rets_constant) ** (1 / 2)\n",
    "\n",
    "tan = expect_ret_vect / rets_linear\n",
    "tan_ret = rets_quadratic / rets_linear\n",
    "tan_risk = rets_quadratic ** (1 / 2) / rets_linear\n",
    "\n",
    "exp_rets = np.arange(-0.1, 5, 0.001)\n",
    "risk = ((rets_constant * exp_rets ** 2 - 2 * rets_linear *\n",
    "\n",
    "        exp_rets + rets_quadratic) / scaling_param) ** (1 / 2)\n",
    "\n",
    "\n",
    "tickers[:4], mvp[:4], tan[:4]"
   ]
  },
  {
   "cell_type": "markdown",
   "metadata": {},
   "source": [
    "Now lets build 2 portfolios that will set the boundaries:\n",
    "1. Minimum variance portfolio - he MVP the tip of the frontier.\n",
    "2. Tangency portfolio - Market portfolio in CAPM and is the hpoint of tageny and the secutiries markett line."
   ]
  },
  {
   "cell_type": "code",
   "execution_count": 12,
   "metadata": {},
   "outputs": [
    {
     "data": {
      "image/png": "[encoded data removed]",
      "text/plain": [
       "<Figure size 864x432 with 1 Axes>"
      ]
     },
     "metadata": {
      "needs_background": "light"
     },
     "output_type": "display_data"
    }
   ],
   "source": [
    "\n",
    "\n",
    "plt.figure(figsize=(12, 6))\n",
    "plt.title(f'Investible  Universe + Frontier', fontsize=18)\n",
    "plt.plot(risk,  exp_rets, linestyle='--', label='Frontier', color='blue', )\n",
    "plt.scatter(mvp_risk, mvp_ret, label='MVP', color='green')\n",
    "plt.scatter(tan_risk, tan_ret, label='TAN', color='red')\n",
    "plt.legend(loc='upper left', fontsize=10)\n",
    "plt.xlabel('Risk %')\n",
    "plt.ylabel('Returns %')\n",
    "plt.tight_layout()\n",
    "plt.show()"
   ]
  },
  {
   "cell_type": "markdown",
   "id": "78e9a9c5",
   "metadata": {
    "papermill": {
     "duration": 0.037345,
     "end_time": "2023-11-05T18:01:12.947046",
     "exception": false,
     "start_time": "2023-11-05T18:01:12.909701",
     "status": "completed"
    },
    "tags": []
   },
   "source": [
    "# Conclusion\n",
    "\n",
    "TODO\n",
    "\n",
    "![footer]()\n",
    "\n",
    "## References\n",
    "\n",
    "- https://www.investopedia.com/terms/m/mertonmodel.asp\n",
    "- https://mathworld.wolfram.com/MatrixInverse.html\n",
    "\n",
    "\n",
    "## Github\n",
    "\n",
    "Article here is also available on [Github](https://github.com/adamd1985/quant_research/blob/main/oscilators-quant.ipynb)\n",
    "\n",
    "Kaggle notebook available [here](https://www.kaggle.com/code/addarm/trading-oscillators-quant)\n",
    "\n",
    "\n",
    "## Media\n",
    "\n",
    "All media used (in the form of code or images) are either solely owned by me, acquired through licensing, or part of the Public Domain and granted use through Creative Commons License.\n",
    "\n",
    "## CC Licensing and Use\n",
    "\n",
    "<a rel=\"license\" href=\"http://creativecommons.org/licenses/by-nc/4.0/\"><img alt=\"Creative Commons License\" style=\"border-width:0\" src=\"https://i.creativecommons.org/l/by-nc/4.0/88x31.png\" /></a><br />This work is licensed under a <a rel=\"license\" href=\"http://creativecommons.org/licenses/by-nc/4.0/\">Creative Commons Attribution-NonCommercial 4.0 International License</a>."
   ]
  }
 ],
 "metadata": {
  "kernelspec": {
   "display_name": "Python 3",
   "language": "python",
   "name": "python3"
  },
  "language_info": {
   "codemirror_mode": {
    "name": "ipython",
    "version": 3
   },
   "file_extension": ".py",
   "mimetype": "text/x-python",
   "name": "python",
   "nbconvert_exporter": "python",
   "pygments_lexer": "ipython3",
   "version": "3.9.17"
  },
  "papermill": {
   "default_parameters": {},
   "duration": 98.905855,
   "end_time": "2023-11-05T18:01:13.607303",
   "environment_variables": {},
   "exception": null,
   "input_path": "__notebook__.ipynb",
   "output_path": "__notebook__.ipynb",
   "parameters": {},
   "start_time": "2023-11-05T17:59:34.701448",
   "version": "2.4.0"
  }
 },
 "nbformat": 4,
 "nbformat_minor": 5
}
